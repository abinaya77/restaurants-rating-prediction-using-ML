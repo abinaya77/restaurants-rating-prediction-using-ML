{
  "nbformat": 4,
  "nbformat_minor": 0,
  "metadata": {
    "colab": {
      "provenance": [],
      "collapsed_sections": []
    },
    "kernelspec": {
      "name": "python3",
      "display_name": "Python 3"
    },
    "language_info": {
      "name": "python"
    }
  },
  "cells": [
    {
      "cell_type": "code",
      "execution_count": null,
      "metadata": {
        "id": "0tOhJmAJoDqJ"
      },
      "outputs": [],
      "source": [
        "#IMPORT THE NECESSARY LIBRARIES\n",
        "\n",
        "import pandas as pd\n",
        "import numpy as np\n",
        "import matplotlib.pyplot as plt\n",
        "import plotly.graph_objs as go\n",
        "import plotly.offline as py\n",
        "import seaborn as sns\n",
        "\n",
        "import matplotlib.ticker as mtick\n",
        "plt.style.use('fivethirtyeight')\n",
        "from sklearn.linear_model import LogisticRegression\n",
        "from sklearn.linear_model import LinearRegression\n",
        "from sklearn.ensemble import  ExtraTreesRegressor\n",
        "from sklearn.model_selection import train_test_split\n",
        "\n",
        "import warnings\n",
        "warnings.filterwarnings('ignore')\n",
        "%matplotlib inline"
      ]
    },
    {
      "cell_type": "code",
      "source": [
        "#here reading using engine python as by normal method i get parse error on particular row so cant read data...\n",
        "infile = \"/zomato.csv\"\n",
        "#df = pd.read_csv(infile,error_bad_lines=False, engine=\"python\")\n",
        "df = pd.read_csv(infile)\n",
        "df"
      ],
      "metadata": {
        "colab": {
          "base_uri": "https://localhost:8080/",
          "height": 1000
        },
        "id": "NdReSeVIpcyc",
        "outputId": "7cdd057d-f314-436d-cfc5-4aa3768d7b44"
      },
      "execution_count": null,
      "outputs": [
        {
          "output_type": "execute_result",
          "data": {
            "text/plain": [
              "                                                     url  \\\n",
              "0      https://www.zomato.com/bangalore/jalsa-banasha...   \n",
              "1      https://www.zomato.com/bangalore/spice-elephan...   \n",
              "2      https://www.zomato.com/SanchurroBangalore?cont...   \n",
              "3      https://www.zomato.com/bangalore/addhuri-udupi...   \n",
              "4      https://www.zomato.com/bangalore/grand-village...   \n",
              "...                                                  ...   \n",
              "51712  https://www.zomato.com/bangalore/best-brews-fo...   \n",
              "51713  https://www.zomato.com/bangalore/vinod-bar-and...   \n",
              "51714  https://www.zomato.com/bangalore/plunge-sherat...   \n",
              "51715  https://www.zomato.com/bangalore/chime-sherato...   \n",
              "51716  https://www.zomato.com/bangalore/the-nest-the-...   \n",
              "\n",
              "                                                 address  \\\n",
              "0      942, 21st Main Road, 2nd Stage, Banashankari, ...   \n",
              "1      2nd Floor, 80 Feet Road, Near Big Bazaar, 6th ...   \n",
              "2      1112, Next to KIMS Medical College, 17th Cross...   \n",
              "3      1st Floor, Annakuteera, 3rd Stage, Banashankar...   \n",
              "4      10, 3rd Floor, Lakshmi Associates, Gandhi Baza...   \n",
              "...                                                  ...   \n",
              "51712  Four Points by Sheraton Bengaluru, 43/3, White...   \n",
              "51713  Number 10, Garudachar Palya, Mahadevapura, Whi...   \n",
              "51714  Sheraton Grand Bengaluru Whitefield Hotel & Co...   \n",
              "51715  Sheraton Grand Bengaluru Whitefield Hotel & Co...   \n",
              "51716  ITPL Main Road, KIADB Export Promotion Industr...   \n",
              "\n",
              "                                                    name online_order  \\\n",
              "0                                                  Jalsa          Yes   \n",
              "1                                         Spice Elephant          Yes   \n",
              "2                                        San Churro Cafe          Yes   \n",
              "3                                  Addhuri Udupi Bhojana           No   \n",
              "4                                          Grand Village           No   \n",
              "...                                                  ...          ...   \n",
              "51712  Best Brews - Four Points by Sheraton Bengaluru...           No   \n",
              "51713                           Vinod Bar And Restaurant           No   \n",
              "51714  Plunge - Sheraton Grand Bengaluru Whitefield H...           No   \n",
              "51715  Chime - Sheraton Grand Bengaluru Whitefield Ho...           No   \n",
              "51716                       The Nest - The Den Bengaluru           No   \n",
              "\n",
              "      book_table    rate  votes                             phone  \\\n",
              "0            Yes   4.1/5    775    080 42297555\\r\\n+91 9743772233   \n",
              "1             No   4.1/5    787                      080 41714161   \n",
              "2             No   3.8/5    918                    +91 9663487993   \n",
              "3             No   3.7/5     88                    +91 9620009302   \n",
              "4             No   3.8/5    166  +91 8026612447\\r\\n+91 9901210005   \n",
              "...          ...     ...    ...                               ...   \n",
              "51712         No  3.6 /5     27                      080 40301477   \n",
              "51713         No     NaN      0                    +91 8197675843   \n",
              "51714         No     NaN      0                               NaN   \n",
              "51715        Yes  4.3 /5    236                      080 49652769   \n",
              "51716         No  3.4 /5     13                    +91 8071117272   \n",
              "\n",
              "                         location            rest_type  \\\n",
              "0                    Banashankari        Casual Dining   \n",
              "1                    Banashankari        Casual Dining   \n",
              "2                    Banashankari  Cafe, Casual Dining   \n",
              "3                    Banashankari          Quick Bites   \n",
              "4                    Basavanagudi        Casual Dining   \n",
              "...                           ...                  ...   \n",
              "51712                  Whitefield                  Bar   \n",
              "51713                  Whitefield                  Bar   \n",
              "51714                  Whitefield                  Bar   \n",
              "51715  ITPL Main Road, Whitefield                  Bar   \n",
              "51716  ITPL Main Road, Whitefield   Bar, Casual Dining   \n",
              "\n",
              "                                              dish_liked  \\\n",
              "0      Pasta, Lunch Buffet, Masala Papad, Paneer Laja...   \n",
              "1      Momos, Lunch Buffet, Chocolate Nirvana, Thai G...   \n",
              "2      Churros, Cannelloni, Minestrone Soup, Hot Choc...   \n",
              "3                                            Masala Dosa   \n",
              "4                                    Panipuri, Gol Gappe   \n",
              "...                                                  ...   \n",
              "51712                                                NaN   \n",
              "51713                                                NaN   \n",
              "51714                                                NaN   \n",
              "51715                       Cocktails, Pizza, Buttermilk   \n",
              "51716                                                NaN   \n",
              "\n",
              "                                     cuisines approx_cost(for two people)  \\\n",
              "0              North Indian, Mughlai, Chinese                         800   \n",
              "1                 Chinese, North Indian, Thai                         800   \n",
              "2                      Cafe, Mexican, Italian                         800   \n",
              "3                  South Indian, North Indian                         300   \n",
              "4                    North Indian, Rajasthani                         600   \n",
              "...                                       ...                         ...   \n",
              "51712                             Continental                       1,500   \n",
              "51713                             Finger Food                         600   \n",
              "51714                             Finger Food                       2,000   \n",
              "51715                             Finger Food                       2,500   \n",
              "51716  Finger Food, North Indian, Continental                       1,500   \n",
              "\n",
              "                                            reviews_list menu_item  \\\n",
              "0      [('Rated 4.0', 'RATED\\n  A beautiful place to ...        []   \n",
              "1      [('Rated 4.0', 'RATED\\n  Had been here for din...        []   \n",
              "2      [('Rated 3.0', \"RATED\\n  Ambience is not that ...        []   \n",
              "3      [('Rated 4.0', \"RATED\\n  Great food and proper...        []   \n",
              "4      [('Rated 4.0', 'RATED\\n  Very good restaurant ...        []   \n",
              "...                                                  ...       ...   \n",
              "51712  [('Rated 5.0', \"RATED\\n  Food and service are ...        []   \n",
              "51713                                                 []        []   \n",
              "51714                                                 []        []   \n",
              "51715  [('Rated 4.0', 'RATED\\n  Nice and friendly pla...        []   \n",
              "51716  [('Rated 5.0', 'RATED\\n  Great ambience , look...        []   \n",
              "\n",
              "      listed_in(type) listed_in(city)  \n",
              "0              Buffet    Banashankari  \n",
              "1              Buffet    Banashankari  \n",
              "2              Buffet    Banashankari  \n",
              "3              Buffet    Banashankari  \n",
              "4              Buffet    Banashankari  \n",
              "...               ...             ...  \n",
              "51712   Pubs and bars      Whitefield  \n",
              "51713   Pubs and bars      Whitefield  \n",
              "51714   Pubs and bars      Whitefield  \n",
              "51715   Pubs and bars      Whitefield  \n",
              "51716   Pubs and bars      Whitefield  \n",
              "\n",
              "[51717 rows x 17 columns]"
            ],
            "text/html": [
              "\n",
              "  <div id=\"df-678ecdce-e711-4e73-8fa4-be0080b62925\">\n",
              "    <div class=\"colab-df-container\">\n",
              "      <div>\n",
              "<style scoped>\n",
              "    .dataframe tbody tr th:only-of-type {\n",
              "        vertical-align: middle;\n",
              "    }\n",
              "\n",
              "    .dataframe tbody tr th {\n",
              "        vertical-align: top;\n",
              "    }\n",
              "\n",
              "    .dataframe thead th {\n",
              "        text-align: right;\n",
              "    }\n",
              "</style>\n",
              "<table border=\"1\" class=\"dataframe\">\n",
              "  <thead>\n",
              "    <tr style=\"text-align: right;\">\n",
              "      <th></th>\n",
              "      <th>url</th>\n",
              "      <th>address</th>\n",
              "      <th>name</th>\n",
              "      <th>online_order</th>\n",
              "      <th>book_table</th>\n",
              "      <th>rate</th>\n",
              "      <th>votes</th>\n",
              "      <th>phone</th>\n",
              "      <th>location</th>\n",
              "      <th>rest_type</th>\n",
              "      <th>dish_liked</th>\n",
              "      <th>cuisines</th>\n",
              "      <th>approx_cost(for two people)</th>\n",
              "      <th>reviews_list</th>\n",
              "      <th>menu_item</th>\n",
              "      <th>listed_in(type)</th>\n",
              "      <th>listed_in(city)</th>\n",
              "    </tr>\n",
              "  </thead>\n",
              "  <tbody>\n",
              "    <tr>\n",
              "      <th>0</th>\n",
              "      <td>https://www.zomato.com/bangalore/jalsa-banasha...</td>\n",
              "      <td>942, 21st Main Road, 2nd Stage, Banashankari, ...</td>\n",
              "      <td>Jalsa</td>\n",
              "      <td>Yes</td>\n",
              "      <td>Yes</td>\n",
              "      <td>4.1/5</td>\n",
              "      <td>775</td>\n",
              "      <td>080 42297555\\r\\n+91 9743772233</td>\n",
              "      <td>Banashankari</td>\n",
              "      <td>Casual Dining</td>\n",
              "      <td>Pasta, Lunch Buffet, Masala Papad, Paneer Laja...</td>\n",
              "      <td>North Indian, Mughlai, Chinese</td>\n",
              "      <td>800</td>\n",
              "      <td>[('Rated 4.0', 'RATED\\n  A beautiful place to ...</td>\n",
              "      <td>[]</td>\n",
              "      <td>Buffet</td>\n",
              "      <td>Banashankari</td>\n",
              "    </tr>\n",
              "    <tr>\n",
              "      <th>1</th>\n",
              "      <td>https://www.zomato.com/bangalore/spice-elephan...</td>\n",
              "      <td>2nd Floor, 80 Feet Road, Near Big Bazaar, 6th ...</td>\n",
              "      <td>Spice Elephant</td>\n",
              "      <td>Yes</td>\n",
              "      <td>No</td>\n",
              "      <td>4.1/5</td>\n",
              "      <td>787</td>\n",
              "      <td>080 41714161</td>\n",
              "      <td>Banashankari</td>\n",
              "      <td>Casual Dining</td>\n",
              "      <td>Momos, Lunch Buffet, Chocolate Nirvana, Thai G...</td>\n",
              "      <td>Chinese, North Indian, Thai</td>\n",
              "      <td>800</td>\n",
              "      <td>[('Rated 4.0', 'RATED\\n  Had been here for din...</td>\n",
              "      <td>[]</td>\n",
              "      <td>Buffet</td>\n",
              "      <td>Banashankari</td>\n",
              "    </tr>\n",
              "    <tr>\n",
              "      <th>2</th>\n",
              "      <td>https://www.zomato.com/SanchurroBangalore?cont...</td>\n",
              "      <td>1112, Next to KIMS Medical College, 17th Cross...</td>\n",
              "      <td>San Churro Cafe</td>\n",
              "      <td>Yes</td>\n",
              "      <td>No</td>\n",
              "      <td>3.8/5</td>\n",
              "      <td>918</td>\n",
              "      <td>+91 9663487993</td>\n",
              "      <td>Banashankari</td>\n",
              "      <td>Cafe, Casual Dining</td>\n",
              "      <td>Churros, Cannelloni, Minestrone Soup, Hot Choc...</td>\n",
              "      <td>Cafe, Mexican, Italian</td>\n",
              "      <td>800</td>\n",
              "      <td>[('Rated 3.0', \"RATED\\n  Ambience is not that ...</td>\n",
              "      <td>[]</td>\n",
              "      <td>Buffet</td>\n",
              "      <td>Banashankari</td>\n",
              "    </tr>\n",
              "    <tr>\n",
              "      <th>3</th>\n",
              "      <td>https://www.zomato.com/bangalore/addhuri-udupi...</td>\n",
              "      <td>1st Floor, Annakuteera, 3rd Stage, Banashankar...</td>\n",
              "      <td>Addhuri Udupi Bhojana</td>\n",
              "      <td>No</td>\n",
              "      <td>No</td>\n",
              "      <td>3.7/5</td>\n",
              "      <td>88</td>\n",
              "      <td>+91 9620009302</td>\n",
              "      <td>Banashankari</td>\n",
              "      <td>Quick Bites</td>\n",
              "      <td>Masala Dosa</td>\n",
              "      <td>South Indian, North Indian</td>\n",
              "      <td>300</td>\n",
              "      <td>[('Rated 4.0', \"RATED\\n  Great food and proper...</td>\n",
              "      <td>[]</td>\n",
              "      <td>Buffet</td>\n",
              "      <td>Banashankari</td>\n",
              "    </tr>\n",
              "    <tr>\n",
              "      <th>4</th>\n",
              "      <td>https://www.zomato.com/bangalore/grand-village...</td>\n",
              "      <td>10, 3rd Floor, Lakshmi Associates, Gandhi Baza...</td>\n",
              "      <td>Grand Village</td>\n",
              "      <td>No</td>\n",
              "      <td>No</td>\n",
              "      <td>3.8/5</td>\n",
              "      <td>166</td>\n",
              "      <td>+91 8026612447\\r\\n+91 9901210005</td>\n",
              "      <td>Basavanagudi</td>\n",
              "      <td>Casual Dining</td>\n",
              "      <td>Panipuri, Gol Gappe</td>\n",
              "      <td>North Indian, Rajasthani</td>\n",
              "      <td>600</td>\n",
              "      <td>[('Rated 4.0', 'RATED\\n  Very good restaurant ...</td>\n",
              "      <td>[]</td>\n",
              "      <td>Buffet</td>\n",
              "      <td>Banashankari</td>\n",
              "    </tr>\n",
              "    <tr>\n",
              "      <th>...</th>\n",
              "      <td>...</td>\n",
              "      <td>...</td>\n",
              "      <td>...</td>\n",
              "      <td>...</td>\n",
              "      <td>...</td>\n",
              "      <td>...</td>\n",
              "      <td>...</td>\n",
              "      <td>...</td>\n",
              "      <td>...</td>\n",
              "      <td>...</td>\n",
              "      <td>...</td>\n",
              "      <td>...</td>\n",
              "      <td>...</td>\n",
              "      <td>...</td>\n",
              "      <td>...</td>\n",
              "      <td>...</td>\n",
              "      <td>...</td>\n",
              "    </tr>\n",
              "    <tr>\n",
              "      <th>51712</th>\n",
              "      <td>https://www.zomato.com/bangalore/best-brews-fo...</td>\n",
              "      <td>Four Points by Sheraton Bengaluru, 43/3, White...</td>\n",
              "      <td>Best Brews - Four Points by Sheraton Bengaluru...</td>\n",
              "      <td>No</td>\n",
              "      <td>No</td>\n",
              "      <td>3.6 /5</td>\n",
              "      <td>27</td>\n",
              "      <td>080 40301477</td>\n",
              "      <td>Whitefield</td>\n",
              "      <td>Bar</td>\n",
              "      <td>NaN</td>\n",
              "      <td>Continental</td>\n",
              "      <td>1,500</td>\n",
              "      <td>[('Rated 5.0', \"RATED\\n  Food and service are ...</td>\n",
              "      <td>[]</td>\n",
              "      <td>Pubs and bars</td>\n",
              "      <td>Whitefield</td>\n",
              "    </tr>\n",
              "    <tr>\n",
              "      <th>51713</th>\n",
              "      <td>https://www.zomato.com/bangalore/vinod-bar-and...</td>\n",
              "      <td>Number 10, Garudachar Palya, Mahadevapura, Whi...</td>\n",
              "      <td>Vinod Bar And Restaurant</td>\n",
              "      <td>No</td>\n",
              "      <td>No</td>\n",
              "      <td>NaN</td>\n",
              "      <td>0</td>\n",
              "      <td>+91 8197675843</td>\n",
              "      <td>Whitefield</td>\n",
              "      <td>Bar</td>\n",
              "      <td>NaN</td>\n",
              "      <td>Finger Food</td>\n",
              "      <td>600</td>\n",
              "      <td>[]</td>\n",
              "      <td>[]</td>\n",
              "      <td>Pubs and bars</td>\n",
              "      <td>Whitefield</td>\n",
              "    </tr>\n",
              "    <tr>\n",
              "      <th>51714</th>\n",
              "      <td>https://www.zomato.com/bangalore/plunge-sherat...</td>\n",
              "      <td>Sheraton Grand Bengaluru Whitefield Hotel &amp; Co...</td>\n",
              "      <td>Plunge - Sheraton Grand Bengaluru Whitefield H...</td>\n",
              "      <td>No</td>\n",
              "      <td>No</td>\n",
              "      <td>NaN</td>\n",
              "      <td>0</td>\n",
              "      <td>NaN</td>\n",
              "      <td>Whitefield</td>\n",
              "      <td>Bar</td>\n",
              "      <td>NaN</td>\n",
              "      <td>Finger Food</td>\n",
              "      <td>2,000</td>\n",
              "      <td>[]</td>\n",
              "      <td>[]</td>\n",
              "      <td>Pubs and bars</td>\n",
              "      <td>Whitefield</td>\n",
              "    </tr>\n",
              "    <tr>\n",
              "      <th>51715</th>\n",
              "      <td>https://www.zomato.com/bangalore/chime-sherato...</td>\n",
              "      <td>Sheraton Grand Bengaluru Whitefield Hotel &amp; Co...</td>\n",
              "      <td>Chime - Sheraton Grand Bengaluru Whitefield Ho...</td>\n",
              "      <td>No</td>\n",
              "      <td>Yes</td>\n",
              "      <td>4.3 /5</td>\n",
              "      <td>236</td>\n",
              "      <td>080 49652769</td>\n",
              "      <td>ITPL Main Road, Whitefield</td>\n",
              "      <td>Bar</td>\n",
              "      <td>Cocktails, Pizza, Buttermilk</td>\n",
              "      <td>Finger Food</td>\n",
              "      <td>2,500</td>\n",
              "      <td>[('Rated 4.0', 'RATED\\n  Nice and friendly pla...</td>\n",
              "      <td>[]</td>\n",
              "      <td>Pubs and bars</td>\n",
              "      <td>Whitefield</td>\n",
              "    </tr>\n",
              "    <tr>\n",
              "      <th>51716</th>\n",
              "      <td>https://www.zomato.com/bangalore/the-nest-the-...</td>\n",
              "      <td>ITPL Main Road, KIADB Export Promotion Industr...</td>\n",
              "      <td>The Nest - The Den Bengaluru</td>\n",
              "      <td>No</td>\n",
              "      <td>No</td>\n",
              "      <td>3.4 /5</td>\n",
              "      <td>13</td>\n",
              "      <td>+91 8071117272</td>\n",
              "      <td>ITPL Main Road, Whitefield</td>\n",
              "      <td>Bar, Casual Dining</td>\n",
              "      <td>NaN</td>\n",
              "      <td>Finger Food, North Indian, Continental</td>\n",
              "      <td>1,500</td>\n",
              "      <td>[('Rated 5.0', 'RATED\\n  Great ambience , look...</td>\n",
              "      <td>[]</td>\n",
              "      <td>Pubs and bars</td>\n",
              "      <td>Whitefield</td>\n",
              "    </tr>\n",
              "  </tbody>\n",
              "</table>\n",
              "<p>51717 rows × 17 columns</p>\n",
              "</div>\n",
              "      <button class=\"colab-df-convert\" onclick=\"convertToInteractive('df-678ecdce-e711-4e73-8fa4-be0080b62925')\"\n",
              "              title=\"Convert this dataframe to an interactive table.\"\n",
              "              style=\"display:none;\">\n",
              "        \n",
              "  <svg xmlns=\"http://www.w3.org/2000/svg\" height=\"24px\"viewBox=\"0 0 24 24\"\n",
              "       width=\"24px\">\n",
              "    <path d=\"M0 0h24v24H0V0z\" fill=\"none\"/>\n",
              "    <path d=\"M18.56 5.44l.94 2.06.94-2.06 2.06-.94-2.06-.94-.94-2.06-.94 2.06-2.06.94zm-11 1L8.5 8.5l.94-2.06 2.06-.94-2.06-.94L8.5 2.5l-.94 2.06-2.06.94zm10 10l.94 2.06.94-2.06 2.06-.94-2.06-.94-.94-2.06-.94 2.06-2.06.94z\"/><path d=\"M17.41 7.96l-1.37-1.37c-.4-.4-.92-.59-1.43-.59-.52 0-1.04.2-1.43.59L10.3 9.45l-7.72 7.72c-.78.78-.78 2.05 0 2.83L4 21.41c.39.39.9.59 1.41.59.51 0 1.02-.2 1.41-.59l7.78-7.78 2.81-2.81c.8-.78.8-2.07 0-2.86zM5.41 20L4 18.59l7.72-7.72 1.47 1.35L5.41 20z\"/>\n",
              "  </svg>\n",
              "      </button>\n",
              "      \n",
              "  <style>\n",
              "    .colab-df-container {\n",
              "      display:flex;\n",
              "      flex-wrap:wrap;\n",
              "      gap: 12px;\n",
              "    }\n",
              "\n",
              "    .colab-df-convert {\n",
              "      background-color: #E8F0FE;\n",
              "      border: none;\n",
              "      border-radius: 50%;\n",
              "      cursor: pointer;\n",
              "      display: none;\n",
              "      fill: #1967D2;\n",
              "      height: 32px;\n",
              "      padding: 0 0 0 0;\n",
              "      width: 32px;\n",
              "    }\n",
              "\n",
              "    .colab-df-convert:hover {\n",
              "      background-color: #E2EBFA;\n",
              "      box-shadow: 0px 1px 2px rgba(60, 64, 67, 0.3), 0px 1px 3px 1px rgba(60, 64, 67, 0.15);\n",
              "      fill: #174EA6;\n",
              "    }\n",
              "\n",
              "    [theme=dark] .colab-df-convert {\n",
              "      background-color: #3B4455;\n",
              "      fill: #D2E3FC;\n",
              "    }\n",
              "\n",
              "    [theme=dark] .colab-df-convert:hover {\n",
              "      background-color: #434B5C;\n",
              "      box-shadow: 0px 1px 3px 1px rgba(0, 0, 0, 0.15);\n",
              "      filter: drop-shadow(0px 1px 2px rgba(0, 0, 0, 0.3));\n",
              "      fill: #FFFFFF;\n",
              "    }\n",
              "  </style>\n",
              "\n",
              "      <script>\n",
              "        const buttonEl =\n",
              "          document.querySelector('#df-678ecdce-e711-4e73-8fa4-be0080b62925 button.colab-df-convert');\n",
              "        buttonEl.style.display =\n",
              "          google.colab.kernel.accessAllowed ? 'block' : 'none';\n",
              "\n",
              "        async function convertToInteractive(key) {\n",
              "          const element = document.querySelector('#df-678ecdce-e711-4e73-8fa4-be0080b62925');\n",
              "          const dataTable =\n",
              "            await google.colab.kernel.invokeFunction('convertToInteractive',\n",
              "                                                     [key], {});\n",
              "          if (!dataTable) return;\n",
              "\n",
              "          const docLinkHtml = 'Like what you see? Visit the ' +\n",
              "            '<a target=\"_blank\" href=https://colab.research.google.com/notebooks/data_table.ipynb>data table notebook</a>'\n",
              "            + ' to learn more about interactive tables.';\n",
              "          element.innerHTML = '';\n",
              "          dataTable['output_type'] = 'display_data';\n",
              "          await google.colab.output.renderOutput(dataTable, element);\n",
              "          const docLink = document.createElement('div');\n",
              "          docLink.innerHTML = docLinkHtml;\n",
              "          element.appendChild(docLink);\n",
              "        }\n",
              "      </script>\n",
              "    </div>\n",
              "  </div>\n",
              "  "
            ]
          },
          "metadata": {},
          "execution_count": 115
        }
      ]
    },
    {
      "cell_type": "code",
      "source": [
        "df.dtypes #checking the data types\n"
      ],
      "metadata": {
        "id": "KJsRKoCfpnLy",
        "colab": {
          "base_uri": "https://localhost:8080/"
        },
        "outputId": "28ebb237-9e4e-4be3-b8f6-f651dcd7f74b"
      },
      "execution_count": null,
      "outputs": [
        {
          "output_type": "execute_result",
          "data": {
            "text/plain": [
              "url                            object\n",
              "address                        object\n",
              "name                           object\n",
              "online_order                   object\n",
              "book_table                     object\n",
              "rate                           object\n",
              "votes                           int64\n",
              "phone                          object\n",
              "location                       object\n",
              "rest_type                      object\n",
              "dish_liked                     object\n",
              "cuisines                       object\n",
              "approx_cost(for two people)    object\n",
              "reviews_list                   object\n",
              "menu_item                      object\n",
              "listed_in(type)                object\n",
              "listed_in(city)                object\n",
              "dtype: object"
            ]
          },
          "metadata": {},
          "execution_count": 99
        }
      ]
    },
    {
      "cell_type": "code",
      "source": [
        "df.shape"
      ],
      "metadata": {
        "colab": {
          "base_uri": "https://localhost:8080/"
        },
        "id": "4fswjlQ6wUDX",
        "outputId": "52d421b1-f8df-4e2c-b8a5-696e6f3f1fc8"
      },
      "execution_count": null,
      "outputs": [
        {
          "output_type": "execute_result",
          "data": {
            "text/plain": [
              "(51717, 17)"
            ]
          },
          "metadata": {},
          "execution_count": 116
        }
      ]
    },
    {
      "cell_type": "code",
      "source": [
        "df.isna().sum() #Checking null values"
      ],
      "metadata": {
        "colab": {
          "base_uri": "https://localhost:8080/"
        },
        "id": "k2LtI2OVvLJu",
        "outputId": "f6feffb1-c815-4f00-f133-5fd23474e630"
      },
      "execution_count": null,
      "outputs": [
        {
          "output_type": "execute_result",
          "data": {
            "text/plain": [
              "url                                0\n",
              "address                            0\n",
              "name                               0\n",
              "online_order                       0\n",
              "book_table                         0\n",
              "rate                            7775\n",
              "votes                              0\n",
              "phone                           1208\n",
              "location                          21\n",
              "rest_type                        227\n",
              "dish_liked                     28078\n",
              "cuisines                          45\n",
              "approx_cost(for two people)      346\n",
              "reviews_list                       0\n",
              "menu_item                          0\n",
              "listed_in(type)                    0\n",
              "listed_in(city)                    0\n",
              "dtype: int64"
            ]
          },
          "metadata": {},
          "execution_count": 117
        }
      ]
    },
    {
      "cell_type": "code",
      "source": [
        "#Deleting Unnnecessary Columns\n",
        " #Dropping the column like \"phone\" and \"url\" \n",
        "df=df.drop(['url','phone'],axis=1)"
      ],
      "metadata": {
        "id": "4fgvIleMvTDU"
      },
      "execution_count": null,
      "outputs": []
    },
    {
      "cell_type": "code",
      "source": [
        "#Checking for duplicate values\n",
        "\n",
        "df.duplicated().sum() \n",
        "\n"
      ],
      "metadata": {
        "colab": {
          "base_uri": "https://localhost:8080/"
        },
        "id": "CHSEa7vovhyU",
        "outputId": "6ff7e5a6-e0f3-4cdf-c628-a5a8db430031"
      },
      "execution_count": null,
      "outputs": [
        {
          "output_type": "execute_result",
          "data": {
            "text/plain": [
              "43"
            ]
          },
          "metadata": {},
          "execution_count": 119
        }
      ]
    },
    {
      "cell_type": "code",
      "source": [
        "#incase dupicate found use below line to drop it \n",
        "df.drop_duplicates(inplace=True)\n",
        "df.duplicated().sum() "
      ],
      "metadata": {
        "colab": {
          "base_uri": "https://localhost:8080/"
        },
        "id": "FcWypR5bwkhV",
        "outputId": "8d895223-5eb5-44d7-a51b-be1af221d6ab"
      },
      "execution_count": null,
      "outputs": [
        {
          "output_type": "execute_result",
          "data": {
            "text/plain": [
              "0"
            ]
          },
          "metadata": {},
          "execution_count": 120
        }
      ]
    },
    {
      "cell_type": "code",
      "source": [
        "#Remove the NaN values from the dataset\n",
        "df.dropna(how='any',inplace=True)\n",
        "df.isnull().sum()"
      ],
      "metadata": {
        "colab": {
          "base_uri": "https://localhost:8080/"
        },
        "id": "W7eGb6H8v-mG",
        "outputId": "efac868e-a495-4a18-d84c-75e8e98f98e0"
      },
      "execution_count": null,
      "outputs": [
        {
          "output_type": "execute_result",
          "data": {
            "text/plain": [
              "address                        0\n",
              "name                           0\n",
              "online_order                   0\n",
              "book_table                     0\n",
              "rate                           0\n",
              "votes                          0\n",
              "location                       0\n",
              "rest_type                      0\n",
              "dish_liked                     0\n",
              "cuisines                       0\n",
              "approx_cost(for two people)    0\n",
              "reviews_list                   0\n",
              "menu_item                      0\n",
              "listed_in(type)                0\n",
              "listed_in(city)                0\n",
              "dtype: int64"
            ]
          },
          "metadata": {},
          "execution_count": 121
        }
      ]
    },
    {
      "cell_type": "code",
      "source": [
        "#Renaming columes appropriately\n",
        "df = df.rename(columns={'approx_cost(for two people)':'cost','listed_in(type)':'type',\n",
        "                                  'listed_in(city)':'city'})\n",
        "df.columns"
      ],
      "metadata": {
        "colab": {
          "base_uri": "https://localhost:8080/"
        },
        "id": "xDgfYlmTwa3f",
        "outputId": "f65e5283-0ce2-4a71-a7ba-5548621e30ed"
      },
      "execution_count": null,
      "outputs": [
        {
          "output_type": "execute_result",
          "data": {
            "text/plain": [
              "Index(['address', 'name', 'online_order', 'book_table', 'rate', 'votes',\n",
              "       'location', 'rest_type', 'dish_liked', 'cuisines', 'cost',\n",
              "       'reviews_list', 'menu_item', 'type', 'city'],\n",
              "      dtype='object')"
            ]
          },
          "metadata": {},
          "execution_count": 122
        }
      ]
    },
    {
      "cell_type": "code",
      "source": [
        "#cleaning dataset\n",
        "df['cost'].unique()"
      ],
      "metadata": {
        "colab": {
          "base_uri": "https://localhost:8080/"
        },
        "id": "X1_eNhaSwnEi",
        "outputId": "17e27443-2d72-4c4f-b6c6-eaa0e08cf3f3"
      },
      "execution_count": null,
      "outputs": [
        {
          "output_type": "execute_result",
          "data": {
            "text/plain": [
              "array(['800', '300', '600', '700', '550', '500', '450', '650', '400',\n",
              "       '750', '200', '850', '1,200', '150', '350', '250', '1,500',\n",
              "       '1,300', '1,000', '100', '900', '1,100', '1,600', '950', '230',\n",
              "       '1,700', '1,400', '1,350', '2,200', '2,000', '1,800', '1,900',\n",
              "       '180', '330', '2,500', '2,100', '3,000', '2,800', '3,400', '40',\n",
              "       '1,250', '3,500', '4,000', '2,400', '1,450', '3,200', '6,000',\n",
              "       '1,050', '4,100', '2,300', '120', '2,600', '5,000', '3,700',\n",
              "       '1,650', '2,700', '4,500'], dtype=object)"
            ]
          },
          "metadata": {},
          "execution_count": 123
        }
      ]
    },
    {
      "cell_type": "code",
      "source": [
        "#zomato['cost'] = zomato['cost'].astype(float) #Changing the cost to float\n",
        "df['cost'] = df['cost'].apply(lambda x: x.replace(',','')) #Using lambda function to replace ',' from cost\n",
        "\n",
        "df['cost'] = df['cost'].astype(float)"
      ],
      "metadata": {
        "id": "wexIa6I4wyTN"
      },
      "execution_count": null,
      "outputs": []
    },
    {
      "cell_type": "code",
      "source": [
        "print(df['cost'].unique())\n",
        "\n",
        "print('---'*10)\n",
        "\n",
        "df.dtypes"
      ],
      "metadata": {
        "colab": {
          "base_uri": "https://localhost:8080/"
        },
        "id": "cnTTodWFw5WW",
        "outputId": "5dc646cf-c2cd-48e4-b4df-200d400416fa"
      },
      "execution_count": null,
      "outputs": [
        {
          "output_type": "stream",
          "name": "stdout",
          "text": [
            "[ 800.  300.  600.  700.  550.  500.  450.  650.  400.  750.  200.  850.\n",
            " 1200.  150.  350.  250. 1500. 1300. 1000.  100.  900. 1100. 1600.  950.\n",
            "  230. 1700. 1400. 1350. 2200. 2000. 1800. 1900.  180.  330. 2500. 2100.\n",
            " 3000. 2800. 3400.   40. 1250. 3500. 4000. 2400. 1450. 3200. 6000. 1050.\n",
            " 4100. 2300.  120. 2600. 5000. 3700. 1650. 2700. 4500.]\n",
            "------------------------------\n"
          ]
        },
        {
          "output_type": "execute_result",
          "data": {
            "text/plain": [
              "address          object\n",
              "name             object\n",
              "online_order     object\n",
              "book_table       object\n",
              "rate             object\n",
              "votes             int64\n",
              "location         object\n",
              "rest_type        object\n",
              "dish_liked       object\n",
              "cuisines         object\n",
              "cost            float64\n",
              "reviews_list     object\n",
              "menu_item        object\n",
              "type             object\n",
              "city             object\n",
              "dtype: object"
            ]
          },
          "metadata": {},
          "execution_count": 125
        }
      ]
    },
    {
      "cell_type": "code",
      "source": [
        "#Reading uninque values from the Rate column\n",
        "df['rate'].unique()"
      ],
      "metadata": {
        "colab": {
          "base_uri": "https://localhost:8080/"
        },
        "id": "AH2wgk3jxAvi",
        "outputId": "a91ff0d1-0955-418e-b1eb-9bd32a43f797"
      },
      "execution_count": null,
      "outputs": [
        {
          "output_type": "execute_result",
          "data": {
            "text/plain": [
              "array(['4.1/5', '3.8/5', '3.7/5', '4.6/5', '4.0/5', '4.2/5', '3.9/5',\n",
              "       '3.0/5', '3.6/5', '2.8/5', '4.4/5', '3.1/5', '4.3/5', '2.6/5',\n",
              "       '3.3/5', '3.5/5', '3.8 /5', '3.2/5', '4.5/5', '2.5/5', '2.9/5',\n",
              "       '3.4/5', '2.7/5', '4.7/5', 'NEW', '2.4/5', '2.2/5', '2.3/5',\n",
              "       '4.8/5', '3.9 /5', '4.2 /5', '4.0 /5', '4.1 /5', '2.9 /5',\n",
              "       '2.7 /5', '2.5 /5', '2.6 /5', '4.5 /5', '4.3 /5', '3.7 /5',\n",
              "       '4.4 /5', '4.9/5', '2.1/5', '2.0/5', '1.8/5', '3.4 /5', '3.6 /5',\n",
              "       '3.3 /5', '4.6 /5', '4.9 /5', '3.2 /5', '3.0 /5', '2.8 /5',\n",
              "       '3.5 /5', '3.1 /5', '4.8 /5', '2.3 /5', '4.7 /5', '2.4 /5',\n",
              "       '2.1 /5', '2.2 /5', '2.0 /5', '1.8 /5'], dtype=object)"
            ]
          },
          "metadata": {},
          "execution_count": 126
        }
      ]
    },
    {
      "cell_type": "code",
      "source": [
        "#getting rid of \"NEW\"\n",
        "df = df.loc[df.rate !='NEW'] \n",
        "df['rate'].unique()\n"
      ],
      "metadata": {
        "colab": {
          "base_uri": "https://localhost:8080/"
        },
        "id": "V8zaLYw4xJIX",
        "outputId": "40ba603a-8927-4830-8ff6-6e07f91e0002"
      },
      "execution_count": null,
      "outputs": [
        {
          "output_type": "execute_result",
          "data": {
            "text/plain": [
              "array(['4.1/5', '3.8/5', '3.7/5', '4.6/5', '4.0/5', '4.2/5', '3.9/5',\n",
              "       '3.0/5', '3.6/5', '2.8/5', '4.4/5', '3.1/5', '4.3/5', '2.6/5',\n",
              "       '3.3/5', '3.5/5', '3.8 /5', '3.2/5', '4.5/5', '2.5/5', '2.9/5',\n",
              "       '3.4/5', '2.7/5', '4.7/5', '2.4/5', '2.2/5', '2.3/5', '4.8/5',\n",
              "       '3.9 /5', '4.2 /5', '4.0 /5', '4.1 /5', '2.9 /5', '2.7 /5',\n",
              "       '2.5 /5', '2.6 /5', '4.5 /5', '4.3 /5', '3.7 /5', '4.4 /5',\n",
              "       '4.9/5', '2.1/5', '2.0/5', '1.8/5', '3.4 /5', '3.6 /5', '3.3 /5',\n",
              "       '4.6 /5', '4.9 /5', '3.2 /5', '3.0 /5', '2.8 /5', '3.5 /5',\n",
              "       '3.1 /5', '4.8 /5', '2.3 /5', '4.7 /5', '2.4 /5', '2.1 /5',\n",
              "       '2.2 /5', '2.0 /5', '1.8 /5'], dtype=object)"
            ]
          },
          "metadata": {},
          "execution_count": 127
        }
      ]
    },
    {
      "cell_type": "code",
      "source": [
        "#Removing '/5' from Rates\n",
        "\n",
        "df['rate'] = df['rate'].apply(lambda x: x.replace('/5',''))"
      ],
      "metadata": {
        "id": "3Ye75SA4zTSO"
      },
      "execution_count": null,
      "outputs": []
    },
    {
      "cell_type": "code",
      "source": [
        "df['rate'] = df['rate'].astype(float)"
      ],
      "metadata": {
        "id": "-NPhzldvyDI5"
      },
      "execution_count": null,
      "outputs": []
    },
    {
      "cell_type": "code",
      "source": [
        "df.head()"
      ],
      "metadata": {
        "colab": {
          "base_uri": "https://localhost:8080/",
          "height": 635
        },
        "id": "CDO2F4ok2JLN",
        "outputId": "42602db0-4b1f-49a3-ca6c-7e40a339ebcb"
      },
      "execution_count": null,
      "outputs": [
        {
          "output_type": "execute_result",
          "data": {
            "text/plain": [
              "                                             address                   name  \\\n",
              "0  942, 21st Main Road, 2nd Stage, Banashankari, ...                  Jalsa   \n",
              "1  2nd Floor, 80 Feet Road, Near Big Bazaar, 6th ...         Spice Elephant   \n",
              "2  1112, Next to KIMS Medical College, 17th Cross...        San Churro Cafe   \n",
              "3  1st Floor, Annakuteera, 3rd Stage, Banashankar...  Addhuri Udupi Bhojana   \n",
              "4  10, 3rd Floor, Lakshmi Associates, Gandhi Baza...          Grand Village   \n",
              "\n",
              "  online_order book_table  rate  votes      location            rest_type  \\\n",
              "0          Yes        Yes   4.1    775  Banashankari        Casual Dining   \n",
              "1          Yes         No   4.1    787  Banashankari        Casual Dining   \n",
              "2          Yes         No   3.8    918  Banashankari  Cafe, Casual Dining   \n",
              "3           No         No   3.7     88  Banashankari          Quick Bites   \n",
              "4           No         No   3.8    166  Basavanagudi        Casual Dining   \n",
              "\n",
              "                                          dish_liked  \\\n",
              "0  Pasta, Lunch Buffet, Masala Papad, Paneer Laja...   \n",
              "1  Momos, Lunch Buffet, Chocolate Nirvana, Thai G...   \n",
              "2  Churros, Cannelloni, Minestrone Soup, Hot Choc...   \n",
              "3                                        Masala Dosa   \n",
              "4                                Panipuri, Gol Gappe   \n",
              "\n",
              "                         cuisines   cost  \\\n",
              "0  North Indian, Mughlai, Chinese  800.0   \n",
              "1     Chinese, North Indian, Thai  800.0   \n",
              "2          Cafe, Mexican, Italian  800.0   \n",
              "3      South Indian, North Indian  300.0   \n",
              "4        North Indian, Rajasthani  600.0   \n",
              "\n",
              "                                        reviews_list menu_item    type  \\\n",
              "0  [('Rated 4.0', 'RATED\\n  A beautiful place to ...        []  Buffet   \n",
              "1  [('Rated 4.0', 'RATED\\n  Had been here for din...        []  Buffet   \n",
              "2  [('Rated 3.0', \"RATED\\n  Ambience is not that ...        []  Buffet   \n",
              "3  [('Rated 4.0', \"RATED\\n  Great food and proper...        []  Buffet   \n",
              "4  [('Rated 4.0', 'RATED\\n  Very good restaurant ...        []  Buffet   \n",
              "\n",
              "           city  \n",
              "0  Banashankari  \n",
              "1  Banashankari  \n",
              "2  Banashankari  \n",
              "3  Banashankari  \n",
              "4  Banashankari  "
            ],
            "text/html": [
              "\n",
              "  <div id=\"df-be3290db-ece3-40a6-a21c-a1bb8b33005f\">\n",
              "    <div class=\"colab-df-container\">\n",
              "      <div>\n",
              "<style scoped>\n",
              "    .dataframe tbody tr th:only-of-type {\n",
              "        vertical-align: middle;\n",
              "    }\n",
              "\n",
              "    .dataframe tbody tr th {\n",
              "        vertical-align: top;\n",
              "    }\n",
              "\n",
              "    .dataframe thead th {\n",
              "        text-align: right;\n",
              "    }\n",
              "</style>\n",
              "<table border=\"1\" class=\"dataframe\">\n",
              "  <thead>\n",
              "    <tr style=\"text-align: right;\">\n",
              "      <th></th>\n",
              "      <th>address</th>\n",
              "      <th>name</th>\n",
              "      <th>online_order</th>\n",
              "      <th>book_table</th>\n",
              "      <th>rate</th>\n",
              "      <th>votes</th>\n",
              "      <th>location</th>\n",
              "      <th>rest_type</th>\n",
              "      <th>dish_liked</th>\n",
              "      <th>cuisines</th>\n",
              "      <th>cost</th>\n",
              "      <th>reviews_list</th>\n",
              "      <th>menu_item</th>\n",
              "      <th>type</th>\n",
              "      <th>city</th>\n",
              "    </tr>\n",
              "  </thead>\n",
              "  <tbody>\n",
              "    <tr>\n",
              "      <th>0</th>\n",
              "      <td>942, 21st Main Road, 2nd Stage, Banashankari, ...</td>\n",
              "      <td>Jalsa</td>\n",
              "      <td>Yes</td>\n",
              "      <td>Yes</td>\n",
              "      <td>4.1</td>\n",
              "      <td>775</td>\n",
              "      <td>Banashankari</td>\n",
              "      <td>Casual Dining</td>\n",
              "      <td>Pasta, Lunch Buffet, Masala Papad, Paneer Laja...</td>\n",
              "      <td>North Indian, Mughlai, Chinese</td>\n",
              "      <td>800.0</td>\n",
              "      <td>[('Rated 4.0', 'RATED\\n  A beautiful place to ...</td>\n",
              "      <td>[]</td>\n",
              "      <td>Buffet</td>\n",
              "      <td>Banashankari</td>\n",
              "    </tr>\n",
              "    <tr>\n",
              "      <th>1</th>\n",
              "      <td>2nd Floor, 80 Feet Road, Near Big Bazaar, 6th ...</td>\n",
              "      <td>Spice Elephant</td>\n",
              "      <td>Yes</td>\n",
              "      <td>No</td>\n",
              "      <td>4.1</td>\n",
              "      <td>787</td>\n",
              "      <td>Banashankari</td>\n",
              "      <td>Casual Dining</td>\n",
              "      <td>Momos, Lunch Buffet, Chocolate Nirvana, Thai G...</td>\n",
              "      <td>Chinese, North Indian, Thai</td>\n",
              "      <td>800.0</td>\n",
              "      <td>[('Rated 4.0', 'RATED\\n  Had been here for din...</td>\n",
              "      <td>[]</td>\n",
              "      <td>Buffet</td>\n",
              "      <td>Banashankari</td>\n",
              "    </tr>\n",
              "    <tr>\n",
              "      <th>2</th>\n",
              "      <td>1112, Next to KIMS Medical College, 17th Cross...</td>\n",
              "      <td>San Churro Cafe</td>\n",
              "      <td>Yes</td>\n",
              "      <td>No</td>\n",
              "      <td>3.8</td>\n",
              "      <td>918</td>\n",
              "      <td>Banashankari</td>\n",
              "      <td>Cafe, Casual Dining</td>\n",
              "      <td>Churros, Cannelloni, Minestrone Soup, Hot Choc...</td>\n",
              "      <td>Cafe, Mexican, Italian</td>\n",
              "      <td>800.0</td>\n",
              "      <td>[('Rated 3.0', \"RATED\\n  Ambience is not that ...</td>\n",
              "      <td>[]</td>\n",
              "      <td>Buffet</td>\n",
              "      <td>Banashankari</td>\n",
              "    </tr>\n",
              "    <tr>\n",
              "      <th>3</th>\n",
              "      <td>1st Floor, Annakuteera, 3rd Stage, Banashankar...</td>\n",
              "      <td>Addhuri Udupi Bhojana</td>\n",
              "      <td>No</td>\n",
              "      <td>No</td>\n",
              "      <td>3.7</td>\n",
              "      <td>88</td>\n",
              "      <td>Banashankari</td>\n",
              "      <td>Quick Bites</td>\n",
              "      <td>Masala Dosa</td>\n",
              "      <td>South Indian, North Indian</td>\n",
              "      <td>300.0</td>\n",
              "      <td>[('Rated 4.0', \"RATED\\n  Great food and proper...</td>\n",
              "      <td>[]</td>\n",
              "      <td>Buffet</td>\n",
              "      <td>Banashankari</td>\n",
              "    </tr>\n",
              "    <tr>\n",
              "      <th>4</th>\n",
              "      <td>10, 3rd Floor, Lakshmi Associates, Gandhi Baza...</td>\n",
              "      <td>Grand Village</td>\n",
              "      <td>No</td>\n",
              "      <td>No</td>\n",
              "      <td>3.8</td>\n",
              "      <td>166</td>\n",
              "      <td>Basavanagudi</td>\n",
              "      <td>Casual Dining</td>\n",
              "      <td>Panipuri, Gol Gappe</td>\n",
              "      <td>North Indian, Rajasthani</td>\n",
              "      <td>600.0</td>\n",
              "      <td>[('Rated 4.0', 'RATED\\n  Very good restaurant ...</td>\n",
              "      <td>[]</td>\n",
              "      <td>Buffet</td>\n",
              "      <td>Banashankari</td>\n",
              "    </tr>\n",
              "  </tbody>\n",
              "</table>\n",
              "</div>\n",
              "      <button class=\"colab-df-convert\" onclick=\"convertToInteractive('df-be3290db-ece3-40a6-a21c-a1bb8b33005f')\"\n",
              "              title=\"Convert this dataframe to an interactive table.\"\n",
              "              style=\"display:none;\">\n",
              "        \n",
              "  <svg xmlns=\"http://www.w3.org/2000/svg\" height=\"24px\"viewBox=\"0 0 24 24\"\n",
              "       width=\"24px\">\n",
              "    <path d=\"M0 0h24v24H0V0z\" fill=\"none\"/>\n",
              "    <path d=\"M18.56 5.44l.94 2.06.94-2.06 2.06-.94-2.06-.94-.94-2.06-.94 2.06-2.06.94zm-11 1L8.5 8.5l.94-2.06 2.06-.94-2.06-.94L8.5 2.5l-.94 2.06-2.06.94zm10 10l.94 2.06.94-2.06 2.06-.94-2.06-.94-.94-2.06-.94 2.06-2.06.94z\"/><path d=\"M17.41 7.96l-1.37-1.37c-.4-.4-.92-.59-1.43-.59-.52 0-1.04.2-1.43.59L10.3 9.45l-7.72 7.72c-.78.78-.78 2.05 0 2.83L4 21.41c.39.39.9.59 1.41.59.51 0 1.02-.2 1.41-.59l7.78-7.78 2.81-2.81c.8-.78.8-2.07 0-2.86zM5.41 20L4 18.59l7.72-7.72 1.47 1.35L5.41 20z\"/>\n",
              "  </svg>\n",
              "      </button>\n",
              "      \n",
              "  <style>\n",
              "    .colab-df-container {\n",
              "      display:flex;\n",
              "      flex-wrap:wrap;\n",
              "      gap: 12px;\n",
              "    }\n",
              "\n",
              "    .colab-df-convert {\n",
              "      background-color: #E8F0FE;\n",
              "      border: none;\n",
              "      border-radius: 50%;\n",
              "      cursor: pointer;\n",
              "      display: none;\n",
              "      fill: #1967D2;\n",
              "      height: 32px;\n",
              "      padding: 0 0 0 0;\n",
              "      width: 32px;\n",
              "    }\n",
              "\n",
              "    .colab-df-convert:hover {\n",
              "      background-color: #E2EBFA;\n",
              "      box-shadow: 0px 1px 2px rgba(60, 64, 67, 0.3), 0px 1px 3px 1px rgba(60, 64, 67, 0.15);\n",
              "      fill: #174EA6;\n",
              "    }\n",
              "\n",
              "    [theme=dark] .colab-df-convert {\n",
              "      background-color: #3B4455;\n",
              "      fill: #D2E3FC;\n",
              "    }\n",
              "\n",
              "    [theme=dark] .colab-df-convert:hover {\n",
              "      background-color: #434B5C;\n",
              "      box-shadow: 0px 1px 3px 1px rgba(0, 0, 0, 0.15);\n",
              "      filter: drop-shadow(0px 1px 2px rgba(0, 0, 0, 0.3));\n",
              "      fill: #FFFFFF;\n",
              "    }\n",
              "  </style>\n",
              "\n",
              "      <script>\n",
              "        const buttonEl =\n",
              "          document.querySelector('#df-be3290db-ece3-40a6-a21c-a1bb8b33005f button.colab-df-convert');\n",
              "        buttonEl.style.display =\n",
              "          google.colab.kernel.accessAllowed ? 'block' : 'none';\n",
              "\n",
              "        async function convertToInteractive(key) {\n",
              "          const element = document.querySelector('#df-be3290db-ece3-40a6-a21c-a1bb8b33005f');\n",
              "          const dataTable =\n",
              "            await google.colab.kernel.invokeFunction('convertToInteractive',\n",
              "                                                     [key], {});\n",
              "          if (!dataTable) return;\n",
              "\n",
              "          const docLinkHtml = 'Like what you see? Visit the ' +\n",
              "            '<a target=\"_blank\" href=https://colab.research.google.com/notebooks/data_table.ipynb>data table notebook</a>'\n",
              "            + ' to learn more about interactive tables.';\n",
              "          element.innerHTML = '';\n",
              "          dataTable['output_type'] = 'display_data';\n",
              "          await google.colab.output.renderOutput(dataTable, element);\n",
              "          const docLink = document.createElement('div');\n",
              "          docLink.innerHTML = docLinkHtml;\n",
              "          element.appendChild(docLink);\n",
              "        }\n",
              "      </script>\n",
              "    </div>\n",
              "  </div>\n",
              "  "
            ]
          },
          "metadata": {},
          "execution_count": 130
        }
      ]
    },
    {
      "cell_type": "code",
      "source": [
        "df['rest_type'].value_counts()"
      ],
      "metadata": {
        "colab": {
          "base_uri": "https://localhost:8080/"
        },
        "id": "m_upel-Bztlp",
        "outputId": "f9f2a107-093a-4186-abc9-ae4bf23e2101"
      },
      "execution_count": null,
      "outputs": [
        {
          "output_type": "execute_result",
          "data": {
            "text/plain": [
              "Casual Dining                7326\n",
              "Quick Bites                  5250\n",
              "Cafe                         2375\n",
              "Dessert Parlor               1083\n",
              "Casual Dining, Bar            985\n",
              "                             ... \n",
              "Bar, Pub                        5\n",
              "Club, Casual Dining             4\n",
              "Dessert Parlor, Kiosk           2\n",
              "Dhaba                           1\n",
              "Food Court, Casual Dining       1\n",
              "Name: rest_type, Length: 73, dtype: int64"
            ]
          },
          "metadata": {},
          "execution_count": 131
        }
      ]
    },
    {
      "cell_type": "code",
      "source": [
        "rest=df.groupby('name').agg({'votes':'sum','cost':'mean','rate':'mean'}).reset_index()\n",
        "rest"
      ],
      "metadata": {
        "colab": {
          "base_uri": "https://localhost:8080/",
          "height": 424
        },
        "id": "move81X_0QA7",
        "outputId": "d757f57c-795c-46a6-bf86-f830c75d9915"
      },
      "execution_count": null,
      "outputs": [
        {
          "output_type": "execute_result",
          "data": {
            "text/plain": [
              "                                                   name  votes         cost  \\\n",
              "0                                            #L-81 Cafe    432   400.000000   \n",
              "1                                               #refuel    111   400.000000   \n",
              "2                                              1000 B.C    294   300.000000   \n",
              "3                  100ÃÂÃÂÃÂÃÂÃÂÃÂÃÂÃÂ°C    123   450.000000   \n",
              "4                                    1131 Bar + Kitchen  16938  1500.000000   \n",
              "...                                                 ...    ...          ...   \n",
              "3152  b CafÃÂÃÂÃÂÃÂÃÂÃÂÃÂÃÂÃÂÃÂÃ...   1287  3400.000000   \n",
              "3153                                            eat.fit  30318   468.181818   \n",
              "3154                         i-Bar - The Park Bangalore   6817  3000.000000   \n",
              "3155                                            nu.tree   1443   400.000000   \n",
              "3156       re:cess - Hilton Bangalore Embassy GolfLinks    438  1200.000000   \n",
              "\n",
              "          rate  \n",
              "0     3.900000  \n",
              "1     3.700000  \n",
              "2     3.200000  \n",
              "3     3.700000  \n",
              "4     4.500000  \n",
              "...        ...  \n",
              "3152  4.300000  \n",
              "3153  4.418182  \n",
              "3154  3.800000  \n",
              "3155  4.314286  \n",
              "3156  4.100000  \n",
              "\n",
              "[3157 rows x 4 columns]"
            ],
            "text/html": [
              "\n",
              "  <div id=\"df-d2423dd5-0037-4b8d-9ee3-3d5982d76364\">\n",
              "    <div class=\"colab-df-container\">\n",
              "      <div>\n",
              "<style scoped>\n",
              "    .dataframe tbody tr th:only-of-type {\n",
              "        vertical-align: middle;\n",
              "    }\n",
              "\n",
              "    .dataframe tbody tr th {\n",
              "        vertical-align: top;\n",
              "    }\n",
              "\n",
              "    .dataframe thead th {\n",
              "        text-align: right;\n",
              "    }\n",
              "</style>\n",
              "<table border=\"1\" class=\"dataframe\">\n",
              "  <thead>\n",
              "    <tr style=\"text-align: right;\">\n",
              "      <th></th>\n",
              "      <th>name</th>\n",
              "      <th>votes</th>\n",
              "      <th>cost</th>\n",
              "      <th>rate</th>\n",
              "    </tr>\n",
              "  </thead>\n",
              "  <tbody>\n",
              "    <tr>\n",
              "      <th>0</th>\n",
              "      <td>#L-81 Cafe</td>\n",
              "      <td>432</td>\n",
              "      <td>400.000000</td>\n",
              "      <td>3.900000</td>\n",
              "    </tr>\n",
              "    <tr>\n",
              "      <th>1</th>\n",
              "      <td>#refuel</td>\n",
              "      <td>111</td>\n",
              "      <td>400.000000</td>\n",
              "      <td>3.700000</td>\n",
              "    </tr>\n",
              "    <tr>\n",
              "      <th>2</th>\n",
              "      <td>1000 B.C</td>\n",
              "      <td>294</td>\n",
              "      <td>300.000000</td>\n",
              "      <td>3.200000</td>\n",
              "    </tr>\n",
              "    <tr>\n",
              "      <th>3</th>\n",
              "      <td>100ÃÂÃÂÃÂÃÂÃÂÃÂÃÂÃÂ°C</td>\n",
              "      <td>123</td>\n",
              "      <td>450.000000</td>\n",
              "      <td>3.700000</td>\n",
              "    </tr>\n",
              "    <tr>\n",
              "      <th>4</th>\n",
              "      <td>1131 Bar + Kitchen</td>\n",
              "      <td>16938</td>\n",
              "      <td>1500.000000</td>\n",
              "      <td>4.500000</td>\n",
              "    </tr>\n",
              "    <tr>\n",
              "      <th>...</th>\n",
              "      <td>...</td>\n",
              "      <td>...</td>\n",
              "      <td>...</td>\n",
              "      <td>...</td>\n",
              "    </tr>\n",
              "    <tr>\n",
              "      <th>3152</th>\n",
              "      <td>b CafÃÂÃÂÃÂÃÂÃÂÃÂÃÂÃÂÃÂÃÂÃ...</td>\n",
              "      <td>1287</td>\n",
              "      <td>3400.000000</td>\n",
              "      <td>4.300000</td>\n",
              "    </tr>\n",
              "    <tr>\n",
              "      <th>3153</th>\n",
              "      <td>eat.fit</td>\n",
              "      <td>30318</td>\n",
              "      <td>468.181818</td>\n",
              "      <td>4.418182</td>\n",
              "    </tr>\n",
              "    <tr>\n",
              "      <th>3154</th>\n",
              "      <td>i-Bar - The Park Bangalore</td>\n",
              "      <td>6817</td>\n",
              "      <td>3000.000000</td>\n",
              "      <td>3.800000</td>\n",
              "    </tr>\n",
              "    <tr>\n",
              "      <th>3155</th>\n",
              "      <td>nu.tree</td>\n",
              "      <td>1443</td>\n",
              "      <td>400.000000</td>\n",
              "      <td>4.314286</td>\n",
              "    </tr>\n",
              "    <tr>\n",
              "      <th>3156</th>\n",
              "      <td>re:cess - Hilton Bangalore Embassy GolfLinks</td>\n",
              "      <td>438</td>\n",
              "      <td>1200.000000</td>\n",
              "      <td>4.100000</td>\n",
              "    </tr>\n",
              "  </tbody>\n",
              "</table>\n",
              "<p>3157 rows × 4 columns</p>\n",
              "</div>\n",
              "      <button class=\"colab-df-convert\" onclick=\"convertToInteractive('df-d2423dd5-0037-4b8d-9ee3-3d5982d76364')\"\n",
              "              title=\"Convert this dataframe to an interactive table.\"\n",
              "              style=\"display:none;\">\n",
              "        \n",
              "  <svg xmlns=\"http://www.w3.org/2000/svg\" height=\"24px\"viewBox=\"0 0 24 24\"\n",
              "       width=\"24px\">\n",
              "    <path d=\"M0 0h24v24H0V0z\" fill=\"none\"/>\n",
              "    <path d=\"M18.56 5.44l.94 2.06.94-2.06 2.06-.94-2.06-.94-.94-2.06-.94 2.06-2.06.94zm-11 1L8.5 8.5l.94-2.06 2.06-.94-2.06-.94L8.5 2.5l-.94 2.06-2.06.94zm10 10l.94 2.06.94-2.06 2.06-.94-2.06-.94-.94-2.06-.94 2.06-2.06.94z\"/><path d=\"M17.41 7.96l-1.37-1.37c-.4-.4-.92-.59-1.43-.59-.52 0-1.04.2-1.43.59L10.3 9.45l-7.72 7.72c-.78.78-.78 2.05 0 2.83L4 21.41c.39.39.9.59 1.41.59.51 0 1.02-.2 1.41-.59l7.78-7.78 2.81-2.81c.8-.78.8-2.07 0-2.86zM5.41 20L4 18.59l7.72-7.72 1.47 1.35L5.41 20z\"/>\n",
              "  </svg>\n",
              "      </button>\n",
              "      \n",
              "  <style>\n",
              "    .colab-df-container {\n",
              "      display:flex;\n",
              "      flex-wrap:wrap;\n",
              "      gap: 12px;\n",
              "    }\n",
              "\n",
              "    .colab-df-convert {\n",
              "      background-color: #E8F0FE;\n",
              "      border: none;\n",
              "      border-radius: 50%;\n",
              "      cursor: pointer;\n",
              "      display: none;\n",
              "      fill: #1967D2;\n",
              "      height: 32px;\n",
              "      padding: 0 0 0 0;\n",
              "      width: 32px;\n",
              "    }\n",
              "\n",
              "    .colab-df-convert:hover {\n",
              "      background-color: #E2EBFA;\n",
              "      box-shadow: 0px 1px 2px rgba(60, 64, 67, 0.3), 0px 1px 3px 1px rgba(60, 64, 67, 0.15);\n",
              "      fill: #174EA6;\n",
              "    }\n",
              "\n",
              "    [theme=dark] .colab-df-convert {\n",
              "      background-color: #3B4455;\n",
              "      fill: #D2E3FC;\n",
              "    }\n",
              "\n",
              "    [theme=dark] .colab-df-convert:hover {\n",
              "      background-color: #434B5C;\n",
              "      box-shadow: 0px 1px 3px 1px rgba(0, 0, 0, 0.15);\n",
              "      filter: drop-shadow(0px 1px 2px rgba(0, 0, 0, 0.3));\n",
              "      fill: #FFFFFF;\n",
              "    }\n",
              "  </style>\n",
              "\n",
              "      <script>\n",
              "        const buttonEl =\n",
              "          document.querySelector('#df-d2423dd5-0037-4b8d-9ee3-3d5982d76364 button.colab-df-convert');\n",
              "        buttonEl.style.display =\n",
              "          google.colab.kernel.accessAllowed ? 'block' : 'none';\n",
              "\n",
              "        async function convertToInteractive(key) {\n",
              "          const element = document.querySelector('#df-d2423dd5-0037-4b8d-9ee3-3d5982d76364');\n",
              "          const dataTable =\n",
              "            await google.colab.kernel.invokeFunction('convertToInteractive',\n",
              "                                                     [key], {});\n",
              "          if (!dataTable) return;\n",
              "\n",
              "          const docLinkHtml = 'Like what you see? Visit the ' +\n",
              "            '<a target=\"_blank\" href=https://colab.research.google.com/notebooks/data_table.ipynb>data table notebook</a>'\n",
              "            + ' to learn more about interactive tables.';\n",
              "          element.innerHTML = '';\n",
              "          dataTable['output_type'] = 'display_data';\n",
              "          await google.colab.output.renderOutput(dataTable, element);\n",
              "          const docLink = document.createElement('div');\n",
              "          docLink.innerHTML = docLinkHtml;\n",
              "          element.appendChild(docLink);\n",
              "        }\n",
              "      </script>\n",
              "    </div>\n",
              "  </div>\n",
              "  "
            ]
          },
          "metadata": {},
          "execution_count": 132
        }
      ]
    },
    {
      "cell_type": "code",
      "source": [
        "## ANALYSING BEST BUDGET RESTAURANTS...\n",
        "#1 Best budget restaurants in any location\n",
        "def return_budget(location,restaurant_type):\n",
        "    filter=(df['cost']<=400) & (df['location']==location) & (df['rate']>=4) & (df['rest_type']==restaurant_type)\n",
        "    budget=df[filter]\n",
        "    return (budget['name'].unique())"
      ],
      "metadata": {
        "id": "VyljEAit2VyQ"
      },
      "execution_count": null,
      "outputs": []
    },
    {
      "cell_type": "code",
      "source": [
        "return_budget('Brigade Road','Quick Bites')"
      ],
      "metadata": {
        "colab": {
          "base_uri": "https://localhost:8080/"
        },
        "id": "t8dzXXDJ2fqy",
        "outputId": "54eba2e9-05b3-4d60-af0f-b6d9bf760e83"
      },
      "execution_count": null,
      "outputs": [
        {
          "output_type": "execute_result",
          "data": {
            "text/plain": [
              "array(['Hotel Ramprasad', \"Yak's Kitchen\", 'Taste Of Tibet'], dtype=object)"
            ]
          },
          "metadata": {},
          "execution_count": 134
        }
      ]
    },
    {
      "cell_type": "code",
      "source": [
        "# there are total 93 unique locations\n",
        "locations=pd.DataFrame({'Name':df['location'].unique()})  # converting it into data frame specifically for location\n",
        "locations"
      ],
      "metadata": {
        "colab": {
          "base_uri": "https://localhost:8080/",
          "height": 424
        },
        "id": "dAarJITS2kpH",
        "outputId": "9c3401a5-5f27-45a0-85cb-38631fbad042"
      },
      "execution_count": null,
      "outputs": [
        {
          "output_type": "execute_result",
          "data": {
            "text/plain": [
              "                    Name\n",
              "0           Banashankari\n",
              "1           Basavanagudi\n",
              "2              Jayanagar\n",
              "3     Kumaraswamy Layout\n",
              "4   Rajarajeshwari Nagar\n",
              "..                   ...\n",
              "83        Sahakara Nagar\n",
              "84             Jalahalli\n",
              "85             Yelahanka\n",
              "86           Magadi Road\n",
              "87              KR Puram\n",
              "\n",
              "[88 rows x 1 columns]"
            ],
            "text/html": [
              "\n",
              "  <div id=\"df-da23b579-af49-4426-b2fa-2bf9211066f4\">\n",
              "    <div class=\"colab-df-container\">\n",
              "      <div>\n",
              "<style scoped>\n",
              "    .dataframe tbody tr th:only-of-type {\n",
              "        vertical-align: middle;\n",
              "    }\n",
              "\n",
              "    .dataframe tbody tr th {\n",
              "        vertical-align: top;\n",
              "    }\n",
              "\n",
              "    .dataframe thead th {\n",
              "        text-align: right;\n",
              "    }\n",
              "</style>\n",
              "<table border=\"1\" class=\"dataframe\">\n",
              "  <thead>\n",
              "    <tr style=\"text-align: right;\">\n",
              "      <th></th>\n",
              "      <th>Name</th>\n",
              "    </tr>\n",
              "  </thead>\n",
              "  <tbody>\n",
              "    <tr>\n",
              "      <th>0</th>\n",
              "      <td>Banashankari</td>\n",
              "    </tr>\n",
              "    <tr>\n",
              "      <th>1</th>\n",
              "      <td>Basavanagudi</td>\n",
              "    </tr>\n",
              "    <tr>\n",
              "      <th>2</th>\n",
              "      <td>Jayanagar</td>\n",
              "    </tr>\n",
              "    <tr>\n",
              "      <th>3</th>\n",
              "      <td>Kumaraswamy Layout</td>\n",
              "    </tr>\n",
              "    <tr>\n",
              "      <th>4</th>\n",
              "      <td>Rajarajeshwari Nagar</td>\n",
              "    </tr>\n",
              "    <tr>\n",
              "      <th>...</th>\n",
              "      <td>...</td>\n",
              "    </tr>\n",
              "    <tr>\n",
              "      <th>83</th>\n",
              "      <td>Sahakara Nagar</td>\n",
              "    </tr>\n",
              "    <tr>\n",
              "      <th>84</th>\n",
              "      <td>Jalahalli</td>\n",
              "    </tr>\n",
              "    <tr>\n",
              "      <th>85</th>\n",
              "      <td>Yelahanka</td>\n",
              "    </tr>\n",
              "    <tr>\n",
              "      <th>86</th>\n",
              "      <td>Magadi Road</td>\n",
              "    </tr>\n",
              "    <tr>\n",
              "      <th>87</th>\n",
              "      <td>KR Puram</td>\n",
              "    </tr>\n",
              "  </tbody>\n",
              "</table>\n",
              "<p>88 rows × 1 columns</p>\n",
              "</div>\n",
              "      <button class=\"colab-df-convert\" onclick=\"convertToInteractive('df-da23b579-af49-4426-b2fa-2bf9211066f4')\"\n",
              "              title=\"Convert this dataframe to an interactive table.\"\n",
              "              style=\"display:none;\">\n",
              "        \n",
              "  <svg xmlns=\"http://www.w3.org/2000/svg\" height=\"24px\"viewBox=\"0 0 24 24\"\n",
              "       width=\"24px\">\n",
              "    <path d=\"M0 0h24v24H0V0z\" fill=\"none\"/>\n",
              "    <path d=\"M18.56 5.44l.94 2.06.94-2.06 2.06-.94-2.06-.94-.94-2.06-.94 2.06-2.06.94zm-11 1L8.5 8.5l.94-2.06 2.06-.94-2.06-.94L8.5 2.5l-.94 2.06-2.06.94zm10 10l.94 2.06.94-2.06 2.06-.94-2.06-.94-.94-2.06-.94 2.06-2.06.94z\"/><path d=\"M17.41 7.96l-1.37-1.37c-.4-.4-.92-.59-1.43-.59-.52 0-1.04.2-1.43.59L10.3 9.45l-7.72 7.72c-.78.78-.78 2.05 0 2.83L4 21.41c.39.39.9.59 1.41.59.51 0 1.02-.2 1.41-.59l7.78-7.78 2.81-2.81c.8-.78.8-2.07 0-2.86zM5.41 20L4 18.59l7.72-7.72 1.47 1.35L5.41 20z\"/>\n",
              "  </svg>\n",
              "      </button>\n",
              "      \n",
              "  <style>\n",
              "    .colab-df-container {\n",
              "      display:flex;\n",
              "      flex-wrap:wrap;\n",
              "      gap: 12px;\n",
              "    }\n",
              "\n",
              "    .colab-df-convert {\n",
              "      background-color: #E8F0FE;\n",
              "      border: none;\n",
              "      border-radius: 50%;\n",
              "      cursor: pointer;\n",
              "      display: none;\n",
              "      fill: #1967D2;\n",
              "      height: 32px;\n",
              "      padding: 0 0 0 0;\n",
              "      width: 32px;\n",
              "    }\n",
              "\n",
              "    .colab-df-convert:hover {\n",
              "      background-color: #E2EBFA;\n",
              "      box-shadow: 0px 1px 2px rgba(60, 64, 67, 0.3), 0px 1px 3px 1px rgba(60, 64, 67, 0.15);\n",
              "      fill: #174EA6;\n",
              "    }\n",
              "\n",
              "    [theme=dark] .colab-df-convert {\n",
              "      background-color: #3B4455;\n",
              "      fill: #D2E3FC;\n",
              "    }\n",
              "\n",
              "    [theme=dark] .colab-df-convert:hover {\n",
              "      background-color: #434B5C;\n",
              "      box-shadow: 0px 1px 3px 1px rgba(0, 0, 0, 0.15);\n",
              "      filter: drop-shadow(0px 1px 2px rgba(0, 0, 0, 0.3));\n",
              "      fill: #FFFFFF;\n",
              "    }\n",
              "  </style>\n",
              "\n",
              "      <script>\n",
              "        const buttonEl =\n",
              "          document.querySelector('#df-da23b579-af49-4426-b2fa-2bf9211066f4 button.colab-df-convert');\n",
              "        buttonEl.style.display =\n",
              "          google.colab.kernel.accessAllowed ? 'block' : 'none';\n",
              "\n",
              "        async function convertToInteractive(key) {\n",
              "          const element = document.querySelector('#df-da23b579-af49-4426-b2fa-2bf9211066f4');\n",
              "          const dataTable =\n",
              "            await google.colab.kernel.invokeFunction('convertToInteractive',\n",
              "                                                     [key], {});\n",
              "          if (!dataTable) return;\n",
              "\n",
              "          const docLinkHtml = 'Like what you see? Visit the ' +\n",
              "            '<a target=\"_blank\" href=https://colab.research.google.com/notebooks/data_table.ipynb>data table notebook</a>'\n",
              "            + ' to learn more about interactive tables.';\n",
              "          element.innerHTML = '';\n",
              "          dataTable['output_type'] = 'display_data';\n",
              "          await google.colab.output.renderOutput(dataTable, element);\n",
              "          const docLink = document.createElement('div');\n",
              "          docLink.innerHTML = docLinkHtml;\n",
              "          element.appendChild(docLink);\n",
              "        }\n",
              "      </script>\n",
              "    </div>\n",
              "  </div>\n",
              "  "
            ]
          },
          "metadata": {},
          "execution_count": 135
        }
      ]
    },
    {
      "cell_type": "code",
      "source": [
        "#2 where exactly most of the restaurants are situated\n",
        "# for each location, there is count of the no. of restaurants\n",
        "\n",
        "Rest_locations=pd.DataFrame(df['location'].value_counts().reset_index())  #Rest_type data frame \n",
        "Rest_locations.columns=['Name','count']  # changing the column/feature name\n",
        "Rest_locations.head()\n",
        "\n"
      ],
      "metadata": {
        "colab": {
          "base_uri": "https://localhost:8080/",
          "height": 206
        },
        "id": "jUzj5SAi3nzk",
        "outputId": "a0b9d5b3-62bc-450f-8a9b-01ef79051025"
      },
      "execution_count": null,
      "outputs": [
        {
          "output_type": "execute_result",
          "data": {
            "text/plain": [
              "                    Name  count\n",
              "0  Koramangala 5th Block   1776\n",
              "1                    BTM   1472\n",
              "2            Indiranagar   1355\n",
              "3                    HSR   1170\n",
              "4              Jayanagar   1060"
            ],
            "text/html": [
              "\n",
              "  <div id=\"df-6101068a-7c11-4647-9fc4-de09e2e10061\">\n",
              "    <div class=\"colab-df-container\">\n",
              "      <div>\n",
              "<style scoped>\n",
              "    .dataframe tbody tr th:only-of-type {\n",
              "        vertical-align: middle;\n",
              "    }\n",
              "\n",
              "    .dataframe tbody tr th {\n",
              "        vertical-align: top;\n",
              "    }\n",
              "\n",
              "    .dataframe thead th {\n",
              "        text-align: right;\n",
              "    }\n",
              "</style>\n",
              "<table border=\"1\" class=\"dataframe\">\n",
              "  <thead>\n",
              "    <tr style=\"text-align: right;\">\n",
              "      <th></th>\n",
              "      <th>Name</th>\n",
              "      <th>count</th>\n",
              "    </tr>\n",
              "  </thead>\n",
              "  <tbody>\n",
              "    <tr>\n",
              "      <th>0</th>\n",
              "      <td>Koramangala 5th Block</td>\n",
              "      <td>1776</td>\n",
              "    </tr>\n",
              "    <tr>\n",
              "      <th>1</th>\n",
              "      <td>BTM</td>\n",
              "      <td>1472</td>\n",
              "    </tr>\n",
              "    <tr>\n",
              "      <th>2</th>\n",
              "      <td>Indiranagar</td>\n",
              "      <td>1355</td>\n",
              "    </tr>\n",
              "    <tr>\n",
              "      <th>3</th>\n",
              "      <td>HSR</td>\n",
              "      <td>1170</td>\n",
              "    </tr>\n",
              "    <tr>\n",
              "      <th>4</th>\n",
              "      <td>Jayanagar</td>\n",
              "      <td>1060</td>\n",
              "    </tr>\n",
              "  </tbody>\n",
              "</table>\n",
              "</div>\n",
              "      <button class=\"colab-df-convert\" onclick=\"convertToInteractive('df-6101068a-7c11-4647-9fc4-de09e2e10061')\"\n",
              "              title=\"Convert this dataframe to an interactive table.\"\n",
              "              style=\"display:none;\">\n",
              "        \n",
              "  <svg xmlns=\"http://www.w3.org/2000/svg\" height=\"24px\"viewBox=\"0 0 24 24\"\n",
              "       width=\"24px\">\n",
              "    <path d=\"M0 0h24v24H0V0z\" fill=\"none\"/>\n",
              "    <path d=\"M18.56 5.44l.94 2.06.94-2.06 2.06-.94-2.06-.94-.94-2.06-.94 2.06-2.06.94zm-11 1L8.5 8.5l.94-2.06 2.06-.94-2.06-.94L8.5 2.5l-.94 2.06-2.06.94zm10 10l.94 2.06.94-2.06 2.06-.94-2.06-.94-.94-2.06-.94 2.06-2.06.94z\"/><path d=\"M17.41 7.96l-1.37-1.37c-.4-.4-.92-.59-1.43-.59-.52 0-1.04.2-1.43.59L10.3 9.45l-7.72 7.72c-.78.78-.78 2.05 0 2.83L4 21.41c.39.39.9.59 1.41.59.51 0 1.02-.2 1.41-.59l7.78-7.78 2.81-2.81c.8-.78.8-2.07 0-2.86zM5.41 20L4 18.59l7.72-7.72 1.47 1.35L5.41 20z\"/>\n",
              "  </svg>\n",
              "      </button>\n",
              "      \n",
              "  <style>\n",
              "    .colab-df-container {\n",
              "      display:flex;\n",
              "      flex-wrap:wrap;\n",
              "      gap: 12px;\n",
              "    }\n",
              "\n",
              "    .colab-df-convert {\n",
              "      background-color: #E8F0FE;\n",
              "      border: none;\n",
              "      border-radius: 50%;\n",
              "      cursor: pointer;\n",
              "      display: none;\n",
              "      fill: #1967D2;\n",
              "      height: 32px;\n",
              "      padding: 0 0 0 0;\n",
              "      width: 32px;\n",
              "    }\n",
              "\n",
              "    .colab-df-convert:hover {\n",
              "      background-color: #E2EBFA;\n",
              "      box-shadow: 0px 1px 2px rgba(60, 64, 67, 0.3), 0px 1px 3px 1px rgba(60, 64, 67, 0.15);\n",
              "      fill: #174EA6;\n",
              "    }\n",
              "\n",
              "    [theme=dark] .colab-df-convert {\n",
              "      background-color: #3B4455;\n",
              "      fill: #D2E3FC;\n",
              "    }\n",
              "\n",
              "    [theme=dark] .colab-df-convert:hover {\n",
              "      background-color: #434B5C;\n",
              "      box-shadow: 0px 1px 3px 1px rgba(0, 0, 0, 0.15);\n",
              "      filter: drop-shadow(0px 1px 2px rgba(0, 0, 0, 0.3));\n",
              "      fill: #FFFFFF;\n",
              "    }\n",
              "  </style>\n",
              "\n",
              "      <script>\n",
              "        const buttonEl =\n",
              "          document.querySelector('#df-6101068a-7c11-4647-9fc4-de09e2e10061 button.colab-df-convert');\n",
              "        buttonEl.style.display =\n",
              "          google.colab.kernel.accessAllowed ? 'block' : 'none';\n",
              "\n",
              "        async function convertToInteractive(key) {\n",
              "          const element = document.querySelector('#df-6101068a-7c11-4647-9fc4-de09e2e10061');\n",
              "          const dataTable =\n",
              "            await google.colab.kernel.invokeFunction('convertToInteractive',\n",
              "                                                     [key], {});\n",
              "          if (!dataTable) return;\n",
              "\n",
              "          const docLinkHtml = 'Like what you see? Visit the ' +\n",
              "            '<a target=\"_blank\" href=https://colab.research.google.com/notebooks/data_table.ipynb>data table notebook</a>'\n",
              "            + ' to learn more about interactive tables.';\n",
              "          element.innerHTML = '';\n",
              "          dataTable['output_type'] = 'display_data';\n",
              "          await google.colab.output.renderOutput(dataTable, element);\n",
              "          const docLink = document.createElement('div');\n",
              "          docLink.innerHTML = docLinkHtml;\n",
              "          element.appendChild(docLink);\n",
              "        }\n",
              "      </script>\n",
              "    </div>\n",
              "  </div>\n",
              "  "
            ]
          },
          "metadata": {},
          "execution_count": 136
        }
      ]
    },
    {
      "cell_type": "code",
      "source": [
        "# merging both the data frames on the basis of common (feature i.e; name) to get the total no. of restaurants at each location\n",
        "Restaurant_locations=Rest_locations.merge(locations,on='Name',how=\"left\").dropna()  # used for spatial analysis\n",
        "Restaurant_locations.head()"
      ],
      "metadata": {
        "colab": {
          "base_uri": "https://localhost:8080/",
          "height": 206
        },
        "id": "1DlLqI173383",
        "outputId": "7a0836c3-47ca-4bca-f6fd-c3d15d0687e1"
      },
      "execution_count": null,
      "outputs": [
        {
          "output_type": "execute_result",
          "data": {
            "text/plain": [
              "                    Name  count\n",
              "0  Koramangala 5th Block   1776\n",
              "1                    BTM   1472\n",
              "2            Indiranagar   1355\n",
              "3                    HSR   1170\n",
              "4              Jayanagar   1060"
            ],
            "text/html": [
              "\n",
              "  <div id=\"df-4af1bfff-4ab5-4bae-ba3b-10b3900e6ccb\">\n",
              "    <div class=\"colab-df-container\">\n",
              "      <div>\n",
              "<style scoped>\n",
              "    .dataframe tbody tr th:only-of-type {\n",
              "        vertical-align: middle;\n",
              "    }\n",
              "\n",
              "    .dataframe tbody tr th {\n",
              "        vertical-align: top;\n",
              "    }\n",
              "\n",
              "    .dataframe thead th {\n",
              "        text-align: right;\n",
              "    }\n",
              "</style>\n",
              "<table border=\"1\" class=\"dataframe\">\n",
              "  <thead>\n",
              "    <tr style=\"text-align: right;\">\n",
              "      <th></th>\n",
              "      <th>Name</th>\n",
              "      <th>count</th>\n",
              "    </tr>\n",
              "  </thead>\n",
              "  <tbody>\n",
              "    <tr>\n",
              "      <th>0</th>\n",
              "      <td>Koramangala 5th Block</td>\n",
              "      <td>1776</td>\n",
              "    </tr>\n",
              "    <tr>\n",
              "      <th>1</th>\n",
              "      <td>BTM</td>\n",
              "      <td>1472</td>\n",
              "    </tr>\n",
              "    <tr>\n",
              "      <th>2</th>\n",
              "      <td>Indiranagar</td>\n",
              "      <td>1355</td>\n",
              "    </tr>\n",
              "    <tr>\n",
              "      <th>3</th>\n",
              "      <td>HSR</td>\n",
              "      <td>1170</td>\n",
              "    </tr>\n",
              "    <tr>\n",
              "      <th>4</th>\n",
              "      <td>Jayanagar</td>\n",
              "      <td>1060</td>\n",
              "    </tr>\n",
              "  </tbody>\n",
              "</table>\n",
              "</div>\n",
              "      <button class=\"colab-df-convert\" onclick=\"convertToInteractive('df-4af1bfff-4ab5-4bae-ba3b-10b3900e6ccb')\"\n",
              "              title=\"Convert this dataframe to an interactive table.\"\n",
              "              style=\"display:none;\">\n",
              "        \n",
              "  <svg xmlns=\"http://www.w3.org/2000/svg\" height=\"24px\"viewBox=\"0 0 24 24\"\n",
              "       width=\"24px\">\n",
              "    <path d=\"M0 0h24v24H0V0z\" fill=\"none\"/>\n",
              "    <path d=\"M18.56 5.44l.94 2.06.94-2.06 2.06-.94-2.06-.94-.94-2.06-.94 2.06-2.06.94zm-11 1L8.5 8.5l.94-2.06 2.06-.94-2.06-.94L8.5 2.5l-.94 2.06-2.06.94zm10 10l.94 2.06.94-2.06 2.06-.94-2.06-.94-.94-2.06-.94 2.06-2.06.94z\"/><path d=\"M17.41 7.96l-1.37-1.37c-.4-.4-.92-.59-1.43-.59-.52 0-1.04.2-1.43.59L10.3 9.45l-7.72 7.72c-.78.78-.78 2.05 0 2.83L4 21.41c.39.39.9.59 1.41.59.51 0 1.02-.2 1.41-.59l7.78-7.78 2.81-2.81c.8-.78.8-2.07 0-2.86zM5.41 20L4 18.59l7.72-7.72 1.47 1.35L5.41 20z\"/>\n",
              "  </svg>\n",
              "      </button>\n",
              "      \n",
              "  <style>\n",
              "    .colab-df-container {\n",
              "      display:flex;\n",
              "      flex-wrap:wrap;\n",
              "      gap: 12px;\n",
              "    }\n",
              "\n",
              "    .colab-df-convert {\n",
              "      background-color: #E8F0FE;\n",
              "      border: none;\n",
              "      border-radius: 50%;\n",
              "      cursor: pointer;\n",
              "      display: none;\n",
              "      fill: #1967D2;\n",
              "      height: 32px;\n",
              "      padding: 0 0 0 0;\n",
              "      width: 32px;\n",
              "    }\n",
              "\n",
              "    .colab-df-convert:hover {\n",
              "      background-color: #E2EBFA;\n",
              "      box-shadow: 0px 1px 2px rgba(60, 64, 67, 0.3), 0px 1px 3px 1px rgba(60, 64, 67, 0.15);\n",
              "      fill: #174EA6;\n",
              "    }\n",
              "\n",
              "    [theme=dark] .colab-df-convert {\n",
              "      background-color: #3B4455;\n",
              "      fill: #D2E3FC;\n",
              "    }\n",
              "\n",
              "    [theme=dark] .colab-df-convert:hover {\n",
              "      background-color: #434B5C;\n",
              "      box-shadow: 0px 1px 3px 1px rgba(0, 0, 0, 0.15);\n",
              "      filter: drop-shadow(0px 1px 2px rgba(0, 0, 0, 0.3));\n",
              "      fill: #FFFFFF;\n",
              "    }\n",
              "  </style>\n",
              "\n",
              "      <script>\n",
              "        const buttonEl =\n",
              "          document.querySelector('#df-4af1bfff-4ab5-4bae-ba3b-10b3900e6ccb button.colab-df-convert');\n",
              "        buttonEl.style.display =\n",
              "          google.colab.kernel.accessAllowed ? 'block' : 'none';\n",
              "\n",
              "        async function convertToInteractive(key) {\n",
              "          const element = document.querySelector('#df-4af1bfff-4ab5-4bae-ba3b-10b3900e6ccb');\n",
              "          const dataTable =\n",
              "            await google.colab.kernel.invokeFunction('convertToInteractive',\n",
              "                                                     [key], {});\n",
              "          if (!dataTable) return;\n",
              "\n",
              "          const docLinkHtml = 'Like what you see? Visit the ' +\n",
              "            '<a target=\"_blank\" href=https://colab.research.google.com/notebooks/data_table.ipynb>data table notebook</a>'\n",
              "            + ' to learn more about interactive tables.';\n",
              "          element.innerHTML = '';\n",
              "          dataTable['output_type'] = 'display_data';\n",
              "          await google.colab.output.renderOutput(dataTable, element);\n",
              "          const docLink = document.createElement('div');\n",
              "          docLink.innerHTML = docLinkHtml;\n",
              "          element.appendChild(docLink);\n",
              "        }\n",
              "      </script>\n",
              "    </div>\n",
              "  </div>\n",
              "  "
            ]
          },
          "metadata": {},
          "execution_count": 137
        }
      ]
    },
    {
      "cell_type": "code",
      "source": [
        "## ANALYSING REVIEW OF RESTAURANT\n",
        "#1 Analyze review of particular restaurant\n",
        "\n",
        "# fetch the data of review_list column\n",
        "# cleaning the data (removing special characters, extra spaces, repeated words)\n",
        "# store the data in a word cloud\n",
        "# display the wordcloud of reviews\n",
        "\n",
        "# fetch the data of review_list column\n",
        "df['reviews_list'][0]\n",
        "data=df['reviews_list'][0].lower()\n",
        "data\n",
        "\n"
      ],
      "metadata": {
        "colab": {
          "base_uri": "https://localhost:8080/",
          "height": 178
        },
        "id": "brHCUbWB4OBa",
        "outputId": "f9e7aa5e-09c4-432f-9749-02703957aa53"
      },
      "execution_count": null,
      "outputs": [
        {
          "output_type": "execute_result",
          "data": {
            "text/plain": [
              "'[(\\'rated 4.0\\', \\'rated\\\\n  a beautiful place to dine in.the interiors take you back to the mughal era. the lightings are just perfect.we went there on the occasion of christmas and so they had only limited items available. but the taste and service was not compromised at all.the only complaint is that the breads could have been better.would surely like to come here again.\\'), (\\'rated 4.0\\', \\'rated\\\\n  i was here for dinner with my family on a weekday. the restaurant was completely empty. ambience is good with some good old hindi music. seating arrangement are good too. we ordered masala papad, panner and baby corn starters, lemon and corrionder soup, butter roti, olive and chilli paratha. food was fresh and good, service is good too. good for family hangout.\\\\ncheers\\'), (\\'rated 2.0\\', \\'rated\\\\n  its a restaurant near to banashankari bda. me along with few of my office friends visited to have buffet but unfortunately they only provide veg buffet. on inquiring they said this place is mostly visited by vegetarians. anyways we ordered ala carte items which took ages to come. food was ok ok. definitely not visiting anymore.\\'), (\\'rated 4.0\\', \\'rated\\\\n  we went here on a weekend and one of us had the buffet while two of us took ala carte. firstly the ambience and service of this place is great! the buffet had a lot of items and the good was good. we had a pumpkin halwa intm the dessert which was amazing. must try! the kulchas are great here. cheers!\\'), (\\'rated 5.0\\', \\'rated\\\\n  the best thing about the place is itã\\x83\\\\x83ã\\x82\\\\x83ã\\x83\\\\x82ã\\x82\\\\x82ã\\x83\\\\x83ã\\x82\\\\x82ã\\x83\\\\x82ã\\x82\\\\x92s ambiance. second best thing was yummy ? food. we try buffet and buffet food was not disappointed us.\\\\ntest ?. ?? ?? ?? ?? ??\\\\nquality ?. ??????????.\\\\nservice: staff was very professional and friendly.\\\\n\\\\noverall experience was excellent.\\\\n\\\\nsubirmajumder85.wixsite.com\\'), (\\'rated 5.0\\', \\'rated\\\\n  great food and pleasant ambience. expensive but coll place to chill and relax......\\\\n\\\\nservice is really very very good and friendly staff...\\\\n\\\\nfood : 5/5\\\\nservice : 5/5\\\\nambience :5/5\\\\noverall :5/5\\'), (\\'rated 4.0\\', \\'rated\\\\n  good ambience with tasty food.\\\\ncheese chilli paratha with bhutta palak methi curry is a good combo.\\\\nlemon chicken in the starters is a must try item.\\\\negg fried rice was also quite tasty.\\\\nin the mocktails, recommend \"alice in junoon\". do not miss it.\\'), (\\'rated 4.0\\', \\'rated\\\\n  you canã\\x83\\\\x83ã\\x82\\\\x83ã\\x83\\\\x82ã\\x82\\\\x82ã\\x83\\\\x83ã\\x82\\\\x82ã\\x83\\\\x82ã\\x82\\\\x92t go wrong with jalsa. never been a fan of their buffet and thus always order alacarteã\\x83\\\\x83ã\\x82\\\\x83ã\\x83\\\\x82ã\\x82\\\\x82ã\\x83\\\\x83ã\\x82\\\\x82ã\\x83\\\\x82ã\\x82\\\\x92. service at times can be on the slower side but food is worth the wait.\\'), (\\'rated 5.0\\', \\'rated\\\\n  overdelighted by the service and food provided at this place. a royal and ethnic atmosphere builds a strong essence of being in india and also the quality and taste of food is truly authentic. i would totally recommend to visit this place once.\\'), (\\'rated 4.0\\', \\'rated\\\\n  the place is nice and comfortable. food wise all jalea outlets maintain a good standard. the soya chaap was a standout dish. clearly one of trademark dish as per me and a must try.\\\\n\\\\nthe only concern is the parking. it very congested and limited to just 5cars. the basement parking is very steep and makes it cumbersome\\'), (\\'rated 4.0\\', \\'rated\\\\n  the place is nice and comfortable. food wise all jalea outlets maintain a good standard. the soya chaap was a standout dish. clearly one of trademark dish as per me and a must try.\\\\n\\\\nthe only concern is the parking. it very congested and limited to just 5cars. the basement parking is very steep and makes it cumbersome\\'), (\\'rated 4.0\\', \\'rated\\\\n  the place is nice and comfortable. food wise all jalea outlets maintain a good standard. the soya chaap was a standout dish. clearly one of trademark dish as per me and a must try.\\\\n\\\\nthe only concern is the parking. it very congested and limited to just 5cars. the basement parking is very steep and makes it cumbersome\\')]'"
            ],
            "application/vnd.google.colaboratory.intrinsic+json": {
              "type": "string"
            }
          },
          "metadata": {},
          "execution_count": 138
        }
      ]
    },
    {
      "cell_type": "code",
      "source": [
        "# cleaning the data (removing special characters) using substitute function of regular expression module\n",
        "import re  \n",
        "data2=re.sub('[^a-zA-Z]', ' ',data)  # except words...replace other things with white space\n",
        "data2\n",
        "\n",
        "# cleaning the data (removing repeated words)\n",
        "data3=re.sub('repeat', ' ',data2)\n",
        "data3\n",
        "\n",
        "# cleaning the data (removing repeated characters)\n",
        "data4=re.sub('x', ' ', data3)\n",
        "data4\n",
        "\n",
        "# cleaning the data (removing extra white spaces)\n",
        "data5=re.sub(' +',' ',data4)\n",
        "data5"
      ],
      "metadata": {
        "colab": {
          "base_uri": "https://localhost:8080/",
          "height": 178
        },
        "id": "rfVvigVw4VrQ",
        "outputId": "4a576713-6d67-4645-f712-553e3269816d"
      },
      "execution_count": null,
      "outputs": [
        {
          "output_type": "execute_result",
          "data": {
            "text/plain": [
              "' rated rated n a beautiful place to dine in the interiors take you back to the mughal era the lightings are just perfect we went there on the occasion of christmas and so they had only limited items available but the taste and service was not compromised at all the only complaint is that the breads could have been better would surely like to come here again rated rated n i was here for dinner with my family on a weekday the restaurant was completely empty ambience is good with some good old hindi music seating arrangement are good too we ordered masala papad panner and baby corn starters lemon and corrionder soup butter roti olive and chilli paratha food was fresh and good service is good too good for family hangout ncheers rated rated n its a restaurant near to banashankari bda me along with few of my office friends visited to have buffet but unfortunately they only provide veg buffet on inquiring they said this place is mostly visited by vegetarians anyways we ordered ala carte items which took ages to come food was ok ok definitely not visiting anymore rated rated n we went here on a weekend and one of us had the buffet while two of us took ala carte firstly the ambience and service of this place is great the buffet had a lot of items and the good was good we had a pumpkin halwa intm the dessert which was amazing must try the kulchas are great here cheers rated rated n the best thing about the place is it s ambiance second best thing was yummy food we try buffet and buffet food was not disappointed us ntest nquality nservice staff was very professional and friendly n noverall e perience was e cellent n nsubirmajumder wi site com rated rated n great food and pleasant ambience e pensive but coll place to chill and rela n nservice is really very very good and friendly staff n nfood nservice nambience noverall rated rated n good ambience with tasty food ncheese chilli paratha with bhutta palak methi curry is a good combo nlemon chicken in the starters is a must try item negg fried rice was also quite tasty nin the mocktails recommend alice in junoon do not miss it rated rated n you can t go wrong with jalsa never been a fan of their buffet and thus always order alacarte service at times can be on the slower side but food is worth the wait rated rated n overdelighted by the service and food provided at this place a royal and ethnic atmosphere builds a strong essence of being in india and also the quality and taste of food is truly authentic i would totally recommend to visit this place once rated rated n the place is nice and comfortable food wise all jalea outlets maintain a good standard the soya chaap was a standout dish clearly one of trademark dish as per me and a must try n nthe only concern is the parking it very congested and limited to just cars the basement parking is very steep and makes it cumbersome rated rated n the place is nice and comfortable food wise all jalea outlets maintain a good standard the soya chaap was a standout dish clearly one of trademark dish as per me and a must try n nthe only concern is the parking it very congested and limited to just cars the basement parking is very steep and makes it cumbersome rated rated n the place is nice and comfortable food wise all jalea outlets maintain a good standard the soya chaap was a standout dish clearly one of trademark dish as per me and a must try n nthe only concern is the parking it very congested and limited to just cars the basement parking is very steep and makes it cumbersome '"
            ],
            "application/vnd.google.colaboratory.intrinsic+json": {
              "type": "string"
            }
          },
          "metadata": {},
          "execution_count": 139
        }
      ]
    },
    {
      "cell_type": "code",
      "source": [
        "#Most famous restaurants chains in Bangaluru\n",
        "\n",
        "plt.figure(figsize=(17,10))\n",
        "chains=df['name'].value_counts()[:20]\n",
        "sns.barplot(x=chains,y=chains.index,palette='deep')\n",
        "plt.title(\"Most famous restaurants chains in Bangaluru\")\n",
        "plt.xlabel(\"Number of outlets\")\n",
        "plt.show()\n",
        "\n"
      ],
      "metadata": {
        "colab": {
          "base_uri": "https://localhost:8080/",
          "height": 519
        },
        "id": "Mhqmslwox_dO",
        "outputId": "80e6067a-cc4d-4de6-a6f7-7a7e51a7a28f"
      },
      "execution_count": null,
      "outputs": [
        {
          "output_type": "display_data",
          "data": {
            "text/plain": [
              "<Figure size 1224x720 with 1 Axes>"
            ],
            "image/png": "[encoded data removed]"
          },
          "metadata": {
            "needs_background": "light"
          }
        }
      ]
    },
    {
      "cell_type": "code",
      "source": [
        "#Whether restaurant offer Table booking or not\n",
        "\n",
        "x=df['book_table'].value_counts()\n",
        "colors = ['#800080', '#0000A0']\n",
        "\n",
        "trace=go.Pie(labels=x.index,values=x,textinfo=\"value\",\n",
        "            marker=dict(colors=colors, \n",
        "                           line=dict(color='#001000', width=2)))\n",
        "layout=go.Layout(title=\"Table booking\",width=300,height=300)\n",
        "fig=go.Figure(data=[trace],layout=layout)\n",
        "py.iplot(fig, filename='pie_chart_subplots')\n",
        "\n"
      ],
      "metadata": {
        "colab": {
          "base_uri": "https://localhost:8080/",
          "height": 317
        },
        "id": "_xmcBF3uyMyF",
        "outputId": "0254ccd1-7a8c-49f5-fb9f-056adaee8211"
      },
      "execution_count": null,
      "outputs": [
        {
          "output_type": "display_data",
          "data": {
            "text/html": [
              "<html>\n",
              "<head><meta charset=\"utf-8\" /></head>\n",
              "<body>\n",
              "    <div>            <script src=\"https://cdnjs.cloudflare.com/ajax/libs/mathjax/2.7.5/MathJax.js?config=TeX-AMS-MML_SVG\"></script><script type=\"text/javascript\">if (window.MathJax) {MathJax.Hub.Config({SVG: {font: \"STIX-Web\"}});}</script>                <script type=\"text/javascript\">window.PlotlyConfig = {MathJaxConfig: 'local'};</script>\n",
              "        <script src=\"https://cdn.plot.ly/plotly-2.8.3.min.js\"></script>                <div id=\"d5d1b872-3a49-4fae-b773-33b01a7117ae\" class=\"plotly-graph-div\" style=\"height:300px; width:300px;\"></div>            <script type=\"text/javascript\">                                    window.PLOTLYENV=window.PLOTLYENV || {};                                    if (document.getElementById(\"d5d1b872-3a49-4fae-b773-33b01a7117ae\")) {                    Plotly.newPlot(                        \"d5d1b872-3a49-4fae-b773-33b01a7117ae\",                        [{\"labels\":[\"No\",\"Yes\"],\"marker\":{\"colors\":[\"#800080\",\"#0000A0\"],\"line\":{\"color\":\"#001000\",\"width\":2}},\"textinfo\":\"value\",\"values\":[17191,6057],\"type\":\"pie\"}],                        {\"height\":300,\"template\":{\"data\":{\"barpolar\":[{\"marker\":{\"line\":{\"color\":\"#E5ECF6\",\"width\":0.5},\"pattern\":{\"fillmode\":\"overlay\",\"size\":10,\"solidity\":0.2}},\"type\":\"barpolar\"}],\"bar\":[{\"error_x\":{\"color\":\"#2a3f5f\"},\"error_y\":{\"color\":\"#2a3f5f\"},\"marker\":{\"line\":{\"color\":\"#E5ECF6\",\"width\":0.5},\"pattern\":{\"fillmode\":\"overlay\",\"size\":10,\"solidity\":0.2}},\"type\":\"bar\"}],\"carpet\":[{\"aaxis\":{\"endlinecolor\":\"#2a3f5f\",\"gridcolor\":\"white\",\"linecolor\":\"white\",\"minorgridcolor\":\"white\",\"startlinecolor\":\"#2a3f5f\"},\"baxis\":{\"endlinecolor\":\"#2a3f5f\",\"gridcolor\":\"white\",\"linecolor\":\"white\",\"minorgridcolor\":\"white\",\"startlinecolor\":\"#2a3f5f\"},\"type\":\"carpet\"}],\"choropleth\":[{\"colorbar\":{\"outlinewidth\":0,\"ticks\":\"\"},\"type\":\"choropleth\"}],\"contourcarpet\":[{\"colorbar\":{\"outlinewidth\":0,\"ticks\":\"\"},\"type\":\"contourcarpet\"}],\"contour\":[{\"colorbar\":{\"outlinewidth\":0,\"ticks\":\"\"},\"colorscale\":[[0.0,\"#0d0887\"],[0.1111111111111111,\"#46039f\"],[0.2222222222222222,\"#7201a8\"],[0.3333333333333333,\"#9c179e\"],[0.4444444444444444,\"#bd3786\"],[0.5555555555555556,\"#d8576b\"],[0.6666666666666666,\"#ed7953\"],[0.7777777777777778,\"#fb9f3a\"],[0.8888888888888888,\"#fdca26\"],[1.0,\"#f0f921\"]],\"type\":\"contour\"}],\"heatmapgl\":[{\"colorbar\":{\"outlinewidth\":0,\"ticks\":\"\"},\"colorscale\":[[0.0,\"#0d0887\"],[0.1111111111111111,\"#46039f\"],[0.2222222222222222,\"#7201a8\"],[0.3333333333333333,\"#9c179e\"],[0.4444444444444444,\"#bd3786\"],[0.5555555555555556,\"#d8576b\"],[0.6666666666666666,\"#ed7953\"],[0.7777777777777778,\"#fb9f3a\"],[0.8888888888888888,\"#fdca26\"],[1.0,\"#f0f921\"]],\"type\":\"heatmapgl\"}],\"heatmap\":[{\"colorbar\":{\"outlinewidth\":0,\"ticks\":\"\"},\"colorscale\":[[0.0,\"#0d0887\"],[0.1111111111111111,\"#46039f\"],[0.2222222222222222,\"#7201a8\"],[0.3333333333333333,\"#9c179e\"],[0.4444444444444444,\"#bd3786\"],[0.5555555555555556,\"#d8576b\"],[0.6666666666666666,\"#ed7953\"],[0.7777777777777778,\"#fb9f3a\"],[0.8888888888888888,\"#fdca26\"],[1.0,\"#f0f921\"]],\"type\":\"heatmap\"}],\"histogram2dcontour\":[{\"colorbar\":{\"outlinewidth\":0,\"ticks\":\"\"},\"colorscale\":[[0.0,\"#0d0887\"],[0.1111111111111111,\"#46039f\"],[0.2222222222222222,\"#7201a8\"],[0.3333333333333333,\"#9c179e\"],[0.4444444444444444,\"#bd3786\"],[0.5555555555555556,\"#d8576b\"],[0.6666666666666666,\"#ed7953\"],[0.7777777777777778,\"#fb9f3a\"],[0.8888888888888888,\"#fdca26\"],[1.0,\"#f0f921\"]],\"type\":\"histogram2dcontour\"}],\"histogram2d\":[{\"colorbar\":{\"outlinewidth\":0,\"ticks\":\"\"},\"colorscale\":[[0.0,\"#0d0887\"],[0.1111111111111111,\"#46039f\"],[0.2222222222222222,\"#7201a8\"],[0.3333333333333333,\"#9c179e\"],[0.4444444444444444,\"#bd3786\"],[0.5555555555555556,\"#d8576b\"],[0.6666666666666666,\"#ed7953\"],[0.7777777777777778,\"#fb9f3a\"],[0.8888888888888888,\"#fdca26\"],[1.0,\"#f0f921\"]],\"type\":\"histogram2d\"}],\"histogram\":[{\"marker\":{\"pattern\":{\"fillmode\":\"overlay\",\"size\":10,\"solidity\":0.2}},\"type\":\"histogram\"}],\"mesh3d\":[{\"colorbar\":{\"outlinewidth\":0,\"ticks\":\"\"},\"type\":\"mesh3d\"}],\"parcoords\":[{\"line\":{\"colorbar\":{\"outlinewidth\":0,\"ticks\":\"\"}},\"type\":\"parcoords\"}],\"pie\":[{\"automargin\":true,\"type\":\"pie\"}],\"scatter3d\":[{\"line\":{\"colorbar\":{\"outlinewidth\":0,\"ticks\":\"\"}},\"marker\":{\"colorbar\":{\"outlinewidth\":0,\"ticks\":\"\"}},\"type\":\"scatter3d\"}],\"scattercarpet\":[{\"marker\":{\"colorbar\":{\"outlinewidth\":0,\"ticks\":\"\"}},\"type\":\"scattercarpet\"}],\"scattergeo\":[{\"marker\":{\"colorbar\":{\"outlinewidth\":0,\"ticks\":\"\"}},\"type\":\"scattergeo\"}],\"scattergl\":[{\"marker\":{\"colorbar\":{\"outlinewidth\":0,\"ticks\":\"\"}},\"type\":\"scattergl\"}],\"scattermapbox\":[{\"marker\":{\"colorbar\":{\"outlinewidth\":0,\"ticks\":\"\"}},\"type\":\"scattermapbox\"}],\"scatterpolargl\":[{\"marker\":{\"colorbar\":{\"outlinewidth\":0,\"ticks\":\"\"}},\"type\":\"scatterpolargl\"}],\"scatterpolar\":[{\"marker\":{\"colorbar\":{\"outlinewidth\":0,\"ticks\":\"\"}},\"type\":\"scatterpolar\"}],\"scatter\":[{\"marker\":{\"colorbar\":{\"outlinewidth\":0,\"ticks\":\"\"}},\"type\":\"scatter\"}],\"scatterternary\":[{\"marker\":{\"colorbar\":{\"outlinewidth\":0,\"ticks\":\"\"}},\"type\":\"scatterternary\"}],\"surface\":[{\"colorbar\":{\"outlinewidth\":0,\"ticks\":\"\"},\"colorscale\":[[0.0,\"#0d0887\"],[0.1111111111111111,\"#46039f\"],[0.2222222222222222,\"#7201a8\"],[0.3333333333333333,\"#9c179e\"],[0.4444444444444444,\"#bd3786\"],[0.5555555555555556,\"#d8576b\"],[0.6666666666666666,\"#ed7953\"],[0.7777777777777778,\"#fb9f3a\"],[0.8888888888888888,\"#fdca26\"],[1.0,\"#f0f921\"]],\"type\":\"surface\"}],\"table\":[{\"cells\":{\"fill\":{\"color\":\"#EBF0F8\"},\"line\":{\"color\":\"white\"}},\"header\":{\"fill\":{\"color\":\"#C8D4E3\"},\"line\":{\"color\":\"white\"}},\"type\":\"table\"}]},\"layout\":{\"annotationdefaults\":{\"arrowcolor\":\"#2a3f5f\",\"arrowhead\":0,\"arrowwidth\":1},\"autotypenumbers\":\"strict\",\"coloraxis\":{\"colorbar\":{\"outlinewidth\":0,\"ticks\":\"\"}},\"colorscale\":{\"diverging\":[[0,\"#8e0152\"],[0.1,\"#c51b7d\"],[0.2,\"#de77ae\"],[0.3,\"#f1b6da\"],[0.4,\"#fde0ef\"],[0.5,\"#f7f7f7\"],[0.6,\"#e6f5d0\"],[0.7,\"#b8e186\"],[0.8,\"#7fbc41\"],[0.9,\"#4d9221\"],[1,\"#276419\"]],\"sequential\":[[0.0,\"#0d0887\"],[0.1111111111111111,\"#46039f\"],[0.2222222222222222,\"#7201a8\"],[0.3333333333333333,\"#9c179e\"],[0.4444444444444444,\"#bd3786\"],[0.5555555555555556,\"#d8576b\"],[0.6666666666666666,\"#ed7953\"],[0.7777777777777778,\"#fb9f3a\"],[0.8888888888888888,\"#fdca26\"],[1.0,\"#f0f921\"]],\"sequentialminus\":[[0.0,\"#0d0887\"],[0.1111111111111111,\"#46039f\"],[0.2222222222222222,\"#7201a8\"],[0.3333333333333333,\"#9c179e\"],[0.4444444444444444,\"#bd3786\"],[0.5555555555555556,\"#d8576b\"],[0.6666666666666666,\"#ed7953\"],[0.7777777777777778,\"#fb9f3a\"],[0.8888888888888888,\"#fdca26\"],[1.0,\"#f0f921\"]]},\"colorway\":[\"#636efa\",\"#EF553B\",\"#00cc96\",\"#ab63fa\",\"#FFA15A\",\"#19d3f3\",\"#FF6692\",\"#B6E880\",\"#FF97FF\",\"#FECB52\"],\"font\":{\"color\":\"#2a3f5f\"},\"geo\":{\"bgcolor\":\"white\",\"lakecolor\":\"white\",\"landcolor\":\"#E5ECF6\",\"showlakes\":true,\"showland\":true,\"subunitcolor\":\"white\"},\"hoverlabel\":{\"align\":\"left\"},\"hovermode\":\"closest\",\"mapbox\":{\"style\":\"light\"},\"paper_bgcolor\":\"white\",\"plot_bgcolor\":\"#E5ECF6\",\"polar\":{\"angularaxis\":{\"gridcolor\":\"white\",\"linecolor\":\"white\",\"ticks\":\"\"},\"bgcolor\":\"#E5ECF6\",\"radialaxis\":{\"gridcolor\":\"white\",\"linecolor\":\"white\",\"ticks\":\"\"}},\"scene\":{\"xaxis\":{\"backgroundcolor\":\"#E5ECF6\",\"gridcolor\":\"white\",\"gridwidth\":2,\"linecolor\":\"white\",\"showbackground\":true,\"ticks\":\"\",\"zerolinecolor\":\"white\"},\"yaxis\":{\"backgroundcolor\":\"#E5ECF6\",\"gridcolor\":\"white\",\"gridwidth\":2,\"linecolor\":\"white\",\"showbackground\":true,\"ticks\":\"\",\"zerolinecolor\":\"white\"},\"zaxis\":{\"backgroundcolor\":\"#E5ECF6\",\"gridcolor\":\"white\",\"gridwidth\":2,\"linecolor\":\"white\",\"showbackground\":true,\"ticks\":\"\",\"zerolinecolor\":\"white\"}},\"shapedefaults\":{\"line\":{\"color\":\"#2a3f5f\"}},\"ternary\":{\"aaxis\":{\"gridcolor\":\"white\",\"linecolor\":\"white\",\"ticks\":\"\"},\"baxis\":{\"gridcolor\":\"white\",\"linecolor\":\"white\",\"ticks\":\"\"},\"bgcolor\":\"#E5ECF6\",\"caxis\":{\"gridcolor\":\"white\",\"linecolor\":\"white\",\"ticks\":\"\"}},\"title\":{\"x\":0.05},\"xaxis\":{\"automargin\":true,\"gridcolor\":\"white\",\"linecolor\":\"white\",\"ticks\":\"\",\"title\":{\"standoff\":15},\"zerolinecolor\":\"white\",\"zerolinewidth\":2},\"yaxis\":{\"automargin\":true,\"gridcolor\":\"white\",\"linecolor\":\"white\",\"ticks\":\"\",\"title\":{\"standoff\":15},\"zerolinecolor\":\"white\",\"zerolinewidth\":2}}},\"title\":{\"text\":\"Table booking\"},\"width\":300},                        {\"responsive\": true}                    ).then(function(){\n",
              "                            \n",
              "var gd = document.getElementById('d5d1b872-3a49-4fae-b773-33b01a7117ae');\n",
              "var x = new MutationObserver(function (mutations, observer) {{\n",
              "        var display = window.getComputedStyle(gd).display;\n",
              "        if (!display || display === 'none') {{\n",
              "            console.log([gd, 'removed!']);\n",
              "            Plotly.purge(gd);\n",
              "            observer.disconnect();\n",
              "        }}\n",
              "}});\n",
              "\n",
              "// Listen for the removal of the full notebook cells\n",
              "var notebookContainer = gd.closest('#notebook-container');\n",
              "if (notebookContainer) {{\n",
              "    x.observe(notebookContainer, {childList: true});\n",
              "}}\n",
              "\n",
              "// Listen for the clearing of the current output cell\n",
              "var outputEl = gd.closest('.output');\n",
              "if (outputEl) {{\n",
              "    x.observe(outputEl, {childList: true});\n",
              "}}\n",
              "\n",
              "                        })                };                            </script>        </div>\n",
              "</body>\n",
              "</html>"
            ]
          },
          "metadata": {}
        }
      ]
    },
    {
      "cell_type": "code",
      "source": [
        "\n",
        "#Restaurants delivering Online or not\n",
        "sns.countplot(df['online_order'])\n",
        "fig = plt.gcf()\n",
        "fig.set_size_inches(5,5)\n",
        "plt.title('Whether Restaurants deliver online or Not')\n",
        "plt.show()\n",
        "\n"
      ],
      "metadata": {
        "colab": {
          "base_uri": "https://localhost:8080/",
          "height": 350
        },
        "id": "5sAymzyhydVI",
        "outputId": "addd797c-ddce-4fc1-c58b-b3f61867c469"
      },
      "execution_count": null,
      "outputs": [
        {
          "output_type": "display_data",
          "data": {
            "text/plain": [
              "<Figure size 360x360 with 1 Axes>"
            ],
            "image/png": "[encoded data removed]"
          },
          "metadata": {
            "needs_background": "light"
          }
        }
      ]
    },
    {
      "cell_type": "code",
      "source": [
        "#How ratings are distributed\n",
        "plt.figure(figsize=(9,7))\n",
        "\n",
        "sns.distplot(df['rate'],bins=20)"
      ],
      "metadata": {
        "colab": {
          "base_uri": "https://localhost:8080/",
          "height": 460
        },
        "id": "sr4qUrx-yqkL",
        "outputId": "099a5981-b004-4fb3-a195-0f1d5b1f70e1"
      },
      "execution_count": null,
      "outputs": [
        {
          "output_type": "execute_result",
          "data": {
            "text/plain": [
              "<matplotlib.axes._subplots.AxesSubplot at 0x7f3166dc9a10>"
            ]
          },
          "metadata": {},
          "execution_count": 143
        },
        {
          "output_type": "display_data",
          "data": {
            "text/plain": [
              "<Figure size 648x504 with 1 Axes>"
            ],
            "image/png": "[encoded data removed]"
          },
          "metadata": {
            "needs_background": "light"
          }
        }
      ]
    },
    {
      "cell_type": "code",
      "source": [
        "#Count of ratings as between \"1 and 2\", \"2 and 3\", \"3 and 4\", and \"4 and 5\"\n",
        "\n",
        "df['rate'].unique()"
      ],
      "metadata": {
        "colab": {
          "base_uri": "https://localhost:8080/"
        },
        "id": "A4usUMrAy4ZR",
        "outputId": "4eb760ba-bdfc-41ab-ca51-0d3c32c12bd1"
      },
      "execution_count": null,
      "outputs": [
        {
          "output_type": "execute_result",
          "data": {
            "text/plain": [
              "array([4.1, 3.8, 3.7, 4.6, 4. , 4.2, 3.9, 3. , 3.6, 2.8, 4.4, 3.1, 4.3,\n",
              "       2.6, 3.3, 3.5, 3.2, 4.5, 2.5, 2.9, 3.4, 2.7, 4.7, 2.4, 2.2, 2.3,\n",
              "       4.8, 4.9, 2.1, 2. , 1.8])"
            ]
          },
          "metadata": {},
          "execution_count": 144
        }
      ]
    },
    {
      "cell_type": "code",
      "source": [
        "df['rate'].min()"
      ],
      "metadata": {
        "colab": {
          "base_uri": "https://localhost:8080/"
        },
        "id": "HUEDlfw13sZO",
        "outputId": "d01c5a09-5eb4-4c27-8996-fdbba36a24cc"
      },
      "execution_count": null,
      "outputs": [
        {
          "output_type": "execute_result",
          "data": {
            "text/plain": [
              "1.8"
            ]
          },
          "metadata": {},
          "execution_count": 145
        }
      ]
    },
    {
      "cell_type": "code",
      "source": [
        "((df['rate']>2) & (df['rate']<3)).sum()"
      ],
      "metadata": {
        "colab": {
          "base_uri": "https://localhost:8080/"
        },
        "id": "01BrwVzw399I",
        "outputId": "d776e030-edd4-4df0-a001-be16a1672502"
      },
      "execution_count": null,
      "outputs": [
        {
          "output_type": "execute_result",
          "data": {
            "text/plain": [
              "1168"
            ]
          },
          "metadata": {},
          "execution_count": 146
        }
      ]
    },
    {
      "cell_type": "code",
      "source": [
        "((df['rate']>=4) & (df['rate']<5)).sum()"
      ],
      "metadata": {
        "colab": {
          "base_uri": "https://localhost:8080/"
        },
        "id": "P77BOHik4Gi_",
        "outputId": "b115384d-d7d8-4c82-fbb2-9a594d0e2ca3"
      },
      "execution_count": null,
      "outputs": [
        {
          "output_type": "execute_result",
          "data": {
            "text/plain": [
              "11911"
            ]
          },
          "metadata": {},
          "execution_count": 147
        }
      ]
    },
    {
      "cell_type": "code",
      "source": [
        "#Types of Services\n",
        "\n",
        "sns.countplot(df['type']).set_xticklabels(sns.countplot(df['type']).get_xticklabels(), rotation=90, ha=\"right\")\n",
        "fig = plt.gcf()\n",
        "fig.set_size_inches(5,5)\n",
        "plt.title('Type of Service')"
      ],
      "metadata": {
        "colab": {
          "base_uri": "https://localhost:8080/",
          "height": 446
        },
        "id": "2TLS9CsS4LZU",
        "outputId": "0b4f79e0-379f-4305-e856-112fd2d7d606"
      },
      "execution_count": null,
      "outputs": [
        {
          "output_type": "execute_result",
          "data": {
            "text/plain": [
              "Text(0.5, 1.0, 'Type of Service')"
            ]
          },
          "metadata": {},
          "execution_count": 148
        },
        {
          "output_type": "display_data",
          "data": {
            "text/plain": [
              "<Figure size 360x360 with 1 Axes>"
            ],
            "image/png": "[encoded data removed]"
          },
          "metadata": {
            "needs_background": "light"
          }
        }
      ]
    },
    {
      "cell_type": "code",
      "source": [
        "\n",
        "#Distribution of Cost of Food for two People\n",
        "\n",
        "from plotly.offline import iplot\n",
        "\n",
        "trace0=go.Box(y=df['cost'], name=\"accepting online orders\", marker = dict( color = 'rgb(113, 10, 100)'))\n",
        "data=[trace0]\n",
        "layout=go.Layout(title=\"Box plot of approximate cost\",width=300,height=300,yaxis=dict(title=\"Price\"))\n",
        "fig=go.Figure(data=data,layout=layout)\n",
        "py.iplot(fig)\n",
        "\n"
      ],
      "metadata": {
        "colab": {
          "base_uri": "https://localhost:8080/",
          "height": 317
        },
        "id": "JJhEhW1S4csd",
        "outputId": "9800e9ff-69b5-4e7d-eb42-d7c881179f88"
      },
      "execution_count": null,
      "outputs": [
        {
          "output_type": "display_data",
          "data": {
            "text/html": [
              "<html>\n",
              "<head><meta charset=\"utf-8\" /></head>\n",
              "<body>\n",
              "    <div>            <script src=\"https://cdnjs.cloudflare.com/ajax/libs/mathjax/2.7.5/MathJax.js?config=TeX-AMS-MML_SVG\"></script><script type=\"text/javascript\">if (window.MathJax) {MathJax.Hub.Config({SVG: {font: \"STIX-Web\"}});}</script>                <script type=\"text/javascript\">window.PlotlyConfig = {MathJaxConfig: 'local'};</script>\n",
              "        <script src=\"https://cdn.plot.ly/plotly-2.8.3.min.js\"></script>                <div id=\"eb940238-87cb-499d-a305-1987291376cd\" class=\"plotly-graph-div\" style=\"height:300px; width:300px;\"></div>            <script type=\"text/javascript\">                                    window.PLOTLYENV=window.PLOTLYENV || {};                                    if (document.getElementById(\"eb940238-87cb-499d-a305-1987291376cd\")) {                    Plotly.newPlot(                        \"eb940238-87cb-499d-a305-1987291376cd\",                        [{\"marker\":{\"color\":\"rgb(113, 10, 100)\"},\"name\":\"accepting online orders\",\"y\":[800.0,800.0,800.0,300.0,600.0,600.0,600.0,700.0,550.0,500.0,600.0,500.0,450.0,800.0,650.0,800.0,700.0,300.0,400.0,500.0,600.0,550.0,600.0,500.0,750.0,500.0,650.0,600.0,750.0,200.0,500.0,800.0,600.0,400.0,300.0,450.0,850.0,300.0,400.0,750.0,450.0,450.0,800.0,800.0,800.0,850.0,400.0,1200.0,300.0,300.0,150.0,350.0,400.0,600.0,600.0,800.0,300.0,400.0,300.0,200.0,400.0,300.0,450.0,800.0,500.0,650.0,400.0,500.0,450.0,500.0,750.0,350.0,800.0,400.0,1200.0,150.0,300.0,500.0,450.0,200.0,250.0,650.0,300.0,700.0,150.0,400.0,200.0,300.0,350.0,500.0,750.0,550.0,200.0,400.0,750.0,650.0,500.0,250.0,150.0,500.0,1500.0,300.0,800.0,700.0,700.0,550.0,1300.0,500.0,700.0,1000.0,750.0,250.0,200.0,600.0,650.0,550.0,450.0,450.0,150.0,700.0,600.0,200.0,400.0,300.0,600.0,700.0,750.0,200.0,600.0,200.0,600.0,550.0,200.0,650.0,500.0,1200.0,650.0,600.0,100.0,850.0,400.0,450.0,300.0,500.0,100.0,400.0,900.0,550.0,800.0,250.0,1200.0,400.0,500.0,700.0,400.0,400.0,800.0,800.0,200.0,600.0,900.0,800.0,400.0,400.0,300.0,650.0,600.0,650.0,100.0,700.0,700.0,350.0,300.0,600.0,400.0,600.0,400.0,800.0,400.0,650.0,150.0,1200.0,250.0,400.0,700.0,1200.0,200.0,800.0,500.0,200.0,800.0,600.0,900.0,400.0,250.0,300.0,400.0,350.0,600.0,100.0,450.0,400.0,100.0,150.0,400.0,250.0,100.0,600.0,200.0,750.0,800.0,1000.0,600.0,750.0,800.0,800.0,800.0,450.0,1000.0,700.0,800.0,600.0,1500.0,300.0,300.0,200.0,400.0,700.0,300.0,550.0,750.0,500.0,500.0,500.0,400.0,150.0,150.0,400.0,800.0,700.0,500.0,400.0,400.0,400.0,600.0,300.0,400.0,750.0,1200.0,350.0,600.0,800.0,800.0,800.0,1300.0,1200.0,700.0,800.0,550.0,500.0,600.0,500.0,800.0,450.0,600.0,850.0,450.0,800.0,800.0,650.0,900.0,700.0,800.0,700.0,300.0,300.0,500.0,400.0,700.0,600.0,800.0,600.0,750.0,600.0,150.0,800.0,850.0,800.0,400.0,750.0,650.0,100.0,200.0,450.0,450.0,200.0,500.0,100.0,500.0,100.0,200.0,300.0,500.0,300.0,300.0,600.0,250.0,300.0,350.0,800.0,250.0,350.0,600.0,500.0,300.0,100.0,300.0,300.0,450.0,200.0,200.0,250.0,400.0,250.0,300.0,400.0,350.0,500.0,600.0,150.0,350.0,750.0,550.0,600.0,500.0,150.0,150.0,550.0,1100.0,450.0,300.0,100.0,650.0,600.0,250.0,600.0,400.0,800.0,750.0,600.0,800.0,200.0,300.0,100.0,150.0,100.0,200.0,300.0,700.0,300.0,300.0,450.0,700.0,200.0,250.0,200.0,150.0,300.0,1300.0,1200.0,800.0,800.0,1100.0,900.0,1000.0,750.0,550.0,1600.0,1200.0,800.0,1000.0,1000.0,1000.0,1000.0,950.0,600.0,700.0,450.0,300.0,400.0,400.0,500.0,600.0,700.0,350.0,650.0,600.0,600.0,800.0,550.0,650.0,600.0,400.0,450.0,550.0,700.0,500.0,500.0,800.0,800.0,300.0,400.0,250.0,400.0,300.0,300.0,500.0,400.0,150.0,500.0,300.0,700.0,400.0,400.0,450.0,300.0,250.0,600.0,250.0,400.0,200.0,350.0,300.0,450.0,400.0,350.0,300.0,400.0,1000.0,650.0,550.0,600.0,300.0,750.0,600.0,400.0,300.0,400.0,600.0,800.0,500.0,800.0,800.0,300.0,700.0,400.0,700.0,600.0,300.0,400.0,600.0,300.0,400.0,750.0,650.0,700.0,300.0,500.0,250.0,200.0,550.0,1000.0,900.0,700.0,650.0,500.0,900.0,600.0,1000.0,800.0,250.0,500.0,400.0,450.0,250.0,400.0,300.0,400.0,400.0,400.0,600.0,1200.0,400.0,1000.0,800.0,600.0,700.0,650.0,500.0,300.0,600.0,800.0,600.0,400.0,700.0,300.0,500.0,200.0,400.0,500.0,500.0,600.0,250.0,200.0,300.0,400.0,300.0,600.0,500.0,450.0,1500.0,750.0,600.0,1200.0,300.0,600.0,1000.0,1600.0,400.0,600.0,500.0,500.0,400.0,400.0,600.0,700.0,400.0,500.0,600.0,800.0,600.0,750.0,500.0,300.0,800.0,350.0,1000.0,250.0,400.0,500.0,250.0,400.0,650.0,600.0,800.0,450.0,450.0,600.0,600.0,750.0,350.0,1100.0,600.0,550.0,230.0,250.0,400.0,1000.0,600.0,500.0,1200.0,500.0,300.0,500.0,450.0,800.0,250.0,750.0,300.0,500.0,500.0,100.0,600.0,700.0,500.0,600.0,1200.0,400.0,400.0,500.0,400.0,800.0,300.0,1000.0,350.0,150.0,250.0,500.0,200.0,400.0,400.0,300.0,1300.0,400.0,800.0,600.0,250.0,400.0,150.0,700.0,1100.0,400.0,800.0,600.0,500.0,600.0,400.0,350.0,1300.0,300.0,400.0,400.0,400.0,1100.0,650.0,300.0,250.0,500.0,750.0,650.0,400.0,650.0,700.0,800.0,500.0,600.0,550.0,1000.0,550.0,500.0,700.0,1100.0,500.0,350.0,500.0,450.0,650.0,650.0,1000.0,450.0,800.0,450.0,250.0,800.0,250.0,500.0,300.0,750.0,500.0,500.0,800.0,450.0,250.0,250.0,1700.0,200.0,600.0,400.0,150.0,150.0,900.0,600.0,1200.0,1200.0,1200.0,550.0,400.0,600.0,500.0,700.0,350.0,400.0,250.0,500.0,1000.0,200.0,500.0,600.0,500.0,750.0,500.0,400.0,800.0,800.0,500.0,400.0,200.0,500.0,400.0,150.0,400.0,400.0,250.0,450.0,350.0,400.0,300.0,500.0,400.0,400.0,800.0,700.0,500.0,200.0,700.0,600.0,300.0,500.0,500.0,550.0,500.0,400.0,600.0,800.0,500.0,550.0,1000.0,800.0,700.0,800.0,700.0,650.0,1000.0,700.0,700.0,800.0,400.0,450.0,800.0,300.0,400.0,900.0,500.0,500.0,600.0,550.0,400.0,500.0,500.0,850.0,450.0,700.0,400.0,400.0,600.0,500.0,450.0,1000.0,600.0,650.0,600.0,800.0,500.0,800.0,750.0,500.0,400.0,250.0,300.0,1000.0,250.0,800.0,400.0,400.0,500.0,400.0,400.0,600.0,500.0,600.0,800.0,400.0,400.0,600.0,400.0,150.0,300.0,400.0,250.0,400.0,350.0,400.0,600.0,600.0,400.0,500.0,300.0,500.0,200.0,250.0,750.0,600.0,200.0,650.0,250.0,1100.0,350.0,400.0,250.0,250.0,300.0,400.0,600.0,300.0,800.0,250.0,1200.0,1600.0,1200.0,1600.0,1500.0,1300.0,1200.0,800.0,1300.0,1000.0,400.0,1200.0,750.0,1100.0,700.0,1200.0,550.0,1300.0,1000.0,1100.0,1200.0,1300.0,600.0,1000.0,750.0,1000.0,500.0,600.0,700.0,750.0,700.0,300.0,500.0,350.0,400.0,950.0,400.0,450.0,800.0,450.0,550.0,600.0,600.0,500.0,400.0,1000.0,1100.0,400.0,1000.0,500.0,450.0,950.0,600.0,600.0,550.0,450.0,750.0,750.0,800.0,800.0,650.0,700.0,400.0,300.0,200.0,600.0,350.0,800.0,300.0,1500.0,500.0,600.0,500.0,400.0,600.0,550.0,300.0,250.0,400.0,300.0,500.0,400.0,500.0,400.0,300.0,650.0,250.0,900.0,1200.0,1700.0,800.0,1200.0,1600.0,1300.0,1200.0,1200.0,1300.0,1100.0,1100.0,1500.0,1000.0,600.0,600.0,950.0,1500.0,750.0,800.0,800.0,1000.0,550.0,1350.0,1200.0,800.0,800.0,600.0,700.0,550.0,600.0,500.0,600.0,400.0,800.0,500.0,400.0,800.0,800.0,850.0,700.0,600.0,800.0,700.0,400.0,550.0,650.0,700.0,800.0,650.0,700.0,400.0,150.0,650.0,550.0,650.0,450.0,400.0,500.0,450.0,500.0,400.0,750.0,450.0,500.0,200.0,450.0,300.0,800.0,250.0,650.0,600.0,200.0,500.0,200.0,800.0,400.0,300.0,550.0,400.0,150.0,300.0,300.0,100.0,300.0,800.0,750.0,500.0,300.0,500.0,600.0,400.0,400.0,650.0,100.0,200.0,500.0,400.0,800.0,750.0,600.0,750.0,650.0,200.0,250.0,500.0,350.0,500.0,650.0,600.0,1200.0,100.0,250.0,200.0,400.0,400.0,550.0,400.0,400.0,400.0,600.0,800.0,200.0,350.0,250.0,1200.0,800.0,200.0,900.0,400.0,900.0,800.0,150.0,200.0,150.0,300.0,1600.0,500.0,650.0,800.0,500.0,300.0,500.0,350.0,300.0,250.0,500.0,500.0,200.0,500.0,800.0,1200.0,800.0,500.0,500.0,400.0,400.0,600.0,350.0,250.0,200.0,200.0,1000.0,800.0,500.0,800.0,400.0,800.0,450.0,700.0,700.0,800.0,300.0,300.0,250.0,150.0,650.0,600.0,700.0,700.0,400.0,600.0,450.0,400.0,300.0,1000.0,300.0,600.0,600.0,400.0,600.0,150.0,300.0,1300.0,200.0,800.0,600.0,1200.0,600.0,700.0,800.0,100.0,200.0,900.0,100.0,700.0,300.0,350.0,450.0,400.0,800.0,400.0,700.0,300.0,1500.0,800.0,600.0,1000.0,700.0,450.0,400.0,400.0,600.0,400.0,300.0,900.0,800.0,650.0,650.0,1200.0,300.0,200.0,200.0,750.0,400.0,650.0,500.0,400.0,100.0,400.0,450.0,900.0,400.0,1100.0,400.0,350.0,400.0,500.0,400.0,700.0,750.0,550.0,650.0,200.0,300.0,550.0,300.0,1000.0,700.0,900.0,600.0,1000.0,500.0,250.0,750.0,400.0,700.0,800.0,300.0,750.0,600.0,500.0,200.0,600.0,1200.0,600.0,1200.0,800.0,1000.0,150.0,800.0,800.0,500.0,450.0,1700.0,400.0,400.0,300.0,450.0,100.0,400.0,150.0,700.0,800.0,800.0,1200.0,750.0,100.0,400.0,900.0,700.0,150.0,1500.0,1200.0,400.0,300.0,800.0,900.0,200.0,1000.0,600.0,1000.0,300.0,1000.0,100.0,800.0,700.0,800.0,650.0,1350.0,550.0,600.0,950.0,650.0,600.0,400.0,1350.0,300.0,850.0,1200.0,1000.0,550.0,200.0,600.0,600.0,650.0,1200.0,1000.0,800.0,300.0,200.0,600.0,1200.0,800.0,400.0,800.0,800.0,450.0,200.0,800.0,300.0,350.0,150.0,550.0,400.0,300.0,400.0,400.0,500.0,400.0,750.0,500.0,150.0,400.0,400.0,400.0,400.0,300.0,600.0,400.0,500.0,400.0,400.0,800.0,400.0,200.0,200.0,150.0,800.0,250.0,150.0,400.0,200.0,400.0,500.0,350.0,500.0,700.0,500.0,400.0,400.0,800.0,300.0,400.0,150.0,700.0,300.0,200.0,400.0,400.0,300.0,500.0,1000.0,750.0,600.0,350.0,600.0,1000.0,750.0,700.0,500.0,550.0,1100.0,550.0,600.0,450.0,650.0,800.0,600.0,2200.0,500.0,600.0,600.0,400.0,800.0,650.0,400.0,450.0,600.0,700.0,600.0,300.0,250.0,150.0,100.0,150.0,400.0,150.0,500.0,100.0,400.0,300.0,500.0,250.0,100.0,200.0,100.0,600.0,200.0,300.0,300.0,400.0,150.0,250.0,200.0,500.0,300.0,100.0,750.0,400.0,300.0,500.0,150.0,150.0,200.0,600.0,200.0,200.0,300.0,150.0,600.0,600.0,1000.0,600.0,1200.0,950.0,800.0,1500.0,1000.0,800.0,700.0,1300.0,350.0,800.0,700.0,500.0,1000.0,1500.0,400.0,350.0,750.0,800.0,900.0,600.0,750.0,800.0,1200.0,800.0,800.0,1200.0,600.0,650.0,800.0,800.0,400.0,1200.0,250.0,800.0,450.0,700.0,1200.0,850.0,700.0,1300.0,600.0,800.0,650.0,700.0,400.0,550.0,1000.0,600.0,650.0,900.0,400.0,800.0,800.0,200.0,700.0,350.0,900.0,800.0,800.0,750.0,1200.0,800.0,700.0,450.0,150.0,650.0,500.0,550.0,1350.0,450.0,800.0,600.0,400.0,200.0,100.0,400.0,700.0,750.0,1000.0,400.0,900.0,500.0,100.0,400.0,400.0,1000.0,550.0,550.0,500.0,300.0,700.0,500.0,100.0,1000.0,400.0,1350.0,650.0,250.0,250.0,250.0,300.0,400.0,350.0,250.0,1200.0,650.0,450.0,150.0,450.0,700.0,800.0,300.0,250.0,400.0,200.0,350.0,500.0,150.0,600.0,350.0,100.0,300.0,650.0,800.0,850.0,250.0,300.0,300.0,800.0,300.0,400.0,850.0,1000.0,1100.0,2200.0,1500.0,1200.0,1200.0,1300.0,1350.0,1000.0,800.0,1500.0,1400.0,2000.0,1000.0,1400.0,1800.0,1200.0,1500.0,1500.0,1100.0,1500.0,1000.0,700.0,800.0,2000.0,1500.0,1400.0,1300.0,1600.0,1300.0,1000.0,1500.0,1100.0,1500.0,1300.0,500.0,700.0,1900.0,400.0,600.0,900.0,600.0,500.0,550.0,1000.0,500.0,600.0,800.0,700.0,500.0,400.0,650.0,500.0,450.0,200.0,450.0,400.0,400.0,400.0,300.0,300.0,400.0,500.0,300.0,400.0,200.0,600.0,700.0,600.0,500.0,800.0,900.0,750.0,550.0,400.0,400.0,800.0,400.0,400.0,300.0,300.0,550.0,600.0,250.0,600.0,300.0,400.0,300.0,600.0,750.0,650.0,750.0,450.0,450.0,600.0,400.0,950.0,400.0,650.0,400.0,500.0,200.0,450.0,400.0,500.0,600.0,800.0,500.0,450.0,300.0,800.0,600.0,600.0,1200.0,800.0,500.0,150.0,500.0,1500.0,1400.0,300.0,600.0,600.0,1200.0,500.0,800.0,400.0,800.0,1300.0,1600.0,700.0,1800.0,500.0,300.0,400.0,400.0,800.0,1100.0,400.0,600.0,600.0,1500.0,800.0,750.0,600.0,350.0,300.0,550.0,900.0,300.0,400.0,250.0,100.0,1500.0,800.0,600.0,500.0,1800.0,1000.0,500.0,250.0,400.0,850.0,500.0,1800.0,500.0,450.0,1200.0,600.0,700.0,1000.0,200.0,600.0,400.0,1100.0,500.0,900.0,150.0,250.0,1500.0,200.0,450.0,1000.0,450.0,1000.0,500.0,250.0,500.0,450.0,750.0,800.0,750.0,500.0,1400.0,600.0,600.0,300.0,500.0,200.0,500.0,400.0,250.0,900.0,1000.0,200.0,700.0,500.0,1200.0,600.0,200.0,400.0,1100.0,350.0,400.0,350.0,1200.0,450.0,600.0,600.0,1500.0,1700.0,400.0,250.0,400.0,600.0,1200.0,800.0,1400.0,650.0,180.0,400.0,650.0,300.0,300.0,400.0,1400.0,200.0,300.0,800.0,800.0,150.0,1700.0,500.0,500.0,1000.0,300.0,500.0,1300.0,1300.0,750.0,600.0,200.0,400.0,750.0,600.0,750.0,400.0,400.0,700.0,600.0,800.0,1500.0,500.0,330.0,250.0,550.0,600.0,1400.0,800.0,600.0,800.0,550.0,200.0,500.0,700.0,700.0,300.0,500.0,500.0,500.0,450.0,400.0,800.0,500.0,800.0,400.0,550.0,550.0,150.0,450.0,500.0,650.0,300.0,750.0,1500.0,600.0,300.0,300.0,100.0,150.0,400.0,1000.0,600.0,700.0,250.0,800.0,300.0,600.0,500.0,300.0,400.0,500.0,200.0,500.0,400.0,250.0,600.0,500.0,600.0,600.0,900.0,300.0,600.0,500.0,400.0,750.0,150.0,700.0,300.0,300.0,350.0,500.0,2000.0,1500.0,1100.0,1000.0,1800.0,1700.0,1800.0,1400.0,750.0,1200.0,800.0,1800.0,1200.0,950.0,600.0,400.0,700.0,600.0,750.0,1500.0,500.0,1500.0,1200.0,400.0,600.0,900.0,400.0,800.0,500.0,650.0,500.0,1500.0,800.0,1600.0,1400.0,600.0,500.0,800.0,550.0,500.0,1000.0,400.0,600.0,800.0,900.0,700.0,400.0,500.0,450.0,800.0,550.0,550.0,750.0,2000.0,400.0,550.0,1000.0,800.0,450.0,300.0,500.0,300.0,400.0,250.0,500.0,600.0,300.0,400.0,200.0,500.0,450.0,250.0,350.0,200.0,330.0,200.0,400.0,600.0,250.0,200.0,500.0,400.0,800.0,400.0,450.0,400.0,1500.0,1600.0,1400.0,1400.0,1500.0,1900.0,1300.0,1500.0,1500.0,1600.0,1400.0,1300.0,1000.0,1500.0,1400.0,1100.0,1500.0,1300.0,2000.0,2000.0,2500.0,600.0,700.0,700.0,800.0,500.0,500.0,850.0,800.0,1200.0,900.0,800.0,1000.0,550.0,800.0,300.0,750.0,600.0,600.0,150.0,700.0,400.0,500.0,700.0,150.0,600.0,600.0,250.0,2500.0,500.0,250.0,300.0,200.0,1900.0,400.0,550.0,250.0,600.0,400.0,400.0,400.0,500.0,300.0,800.0,300.0,1300.0,1600.0,1400.0,1000.0,1700.0,1500.0,1500.0,1400.0,2000.0,1600.0,1400.0,1500.0,1900.0,1500.0,1900.0,1500.0,1200.0,2500.0,1600.0,1400.0,1400.0,1700.0,1800.0,1500.0,1100.0,1500.0,1400.0,1400.0,1500.0,1900.0,1500.0,1500.0,1500.0,1200.0,1500.0,1200.0,1500.0,800.0,650.0,1000.0,1800.0,2200.0,2100.0,3000.0,1200.0,2800.0,1700.0,1400.0,1600.0,2500.0,750.0,3000.0,1500.0,500.0,1000.0,1500.0,3400.0,2000.0,1200.0,1700.0,1200.0,1600.0,2000.0,1300.0,2200.0,1300.0,1600.0,3000.0,1000.0,1200.0,1000.0,1400.0,1900.0,800.0,1000.0,500.0,1200.0,650.0,1300.0,1700.0,1800.0,1600.0,1100.0,750.0,1200.0,500.0,650.0,800.0,350.0,1100.0,800.0,900.0,1700.0,1000.0,600.0,600.0,2500.0,650.0,1400.0,750.0,400.0,900.0,700.0,700.0,500.0,700.0,800.0,800.0,750.0,650.0,750.0,500.0,1000.0,1000.0,400.0,1200.0,500.0,500.0,600.0,800.0,1000.0,500.0,600.0,700.0,900.0,1300.0,750.0,1000.0,750.0,300.0,300.0,300.0,500.0,450.0,150.0,600.0,800.0,550.0,350.0,250.0,500.0,500.0,350.0,500.0,650.0,500.0,600.0,650.0,400.0,250.0,750.0,200.0,750.0,400.0,1200.0,400.0,200.0,750.0,400.0,450.0,400.0,800.0,250.0,800.0,500.0,750.0,400.0,650.0,400.0,750.0,650.0,1300.0,1600.0,1200.0,1200.0,500.0,300.0,600.0,450.0,750.0,1300.0,600.0,350.0,600.0,500.0,500.0,700.0,1500.0,400.0,400.0,800.0,900.0,400.0,400.0,1600.0,800.0,300.0,400.0,1300.0,350.0,400.0,500.0,900.0,1600.0,250.0,1100.0,400.0,700.0,700.0,650.0,700.0,700.0,500.0,300.0,400.0,300.0,400.0,100.0,400.0,250.0,350.0,800.0,400.0,600.0,3000.0,700.0,500.0,700.0,1500.0,450.0,700.0,300.0,400.0,500.0,500.0,800.0,40.0,180.0,300.0,150.0,750.0,400.0,500.0,200.0,750.0,150.0,1300.0,1300.0,600.0,150.0,850.0,500.0,1000.0,1000.0,700.0,700.0,1000.0,300.0,800.0,950.0,300.0,900.0,800.0,500.0,1000.0,500.0,300.0,1400.0,1300.0,1500.0,500.0,550.0,600.0,750.0,550.0,2000.0,550.0,1000.0,700.0,600.0,250.0,1400.0,1500.0,200.0,700.0,400.0,400.0,600.0,400.0,200.0,450.0,450.0,500.0,500.0,500.0,1000.0,700.0,300.0,700.0,350.0,450.0,250.0,200.0,400.0,400.0,2000.0,400.0,400.0,700.0,600.0,750.0,700.0,300.0,700.0,1200.0,400.0,800.0,200.0,600.0,1000.0,500.0,700.0,1500.0,600.0,550.0,300.0,500.0,650.0,800.0,650.0,500.0,500.0,650.0,2000.0,300.0,600.0,750.0,650.0,1000.0,700.0,200.0,800.0,800.0,300.0,700.0,600.0,550.0,1000.0,1500.0,150.0,400.0,500.0,1200.0,700.0,750.0,1200.0,800.0,900.0,650.0,800.0,1700.0,1700.0,800.0,1900.0,1300.0,300.0,2100.0,600.0,1000.0,1700.0,2100.0,1500.0,500.0,1700.0,1100.0,1400.0,650.0,800.0,450.0,1000.0,600.0,600.0,700.0,1000.0,2000.0,750.0,1000.0,1400.0,1500.0,1200.0,850.0,1500.0,850.0,1000.0,600.0,1200.0,300.0,1000.0,1400.0,1400.0,1800.0,400.0,1400.0,350.0,800.0,300.0,1800.0,500.0,1300.0,800.0,2100.0,400.0,550.0,800.0,1000.0,300.0,800.0,550.0,600.0,1000.0,500.0,1300.0,1000.0,1200.0,1300.0,300.0,550.0,250.0,500.0,700.0,1200.0,1000.0,1200.0,1000.0,1500.0,550.0,800.0,900.0,1700.0,1400.0,550.0,400.0,750.0,400.0,900.0,500.0,800.0,500.0,800.0,400.0,800.0,150.0,750.0,600.0,1200.0,500.0,400.0,500.0,800.0,1100.0,500.0,150.0,300.0,350.0,100.0,300.0,250.0,300.0,550.0,500.0,600.0,1600.0,1800.0,1600.0,550.0,400.0,450.0,250.0,450.0,180.0,400.0,200.0,300.0,800.0,800.0,2000.0,1000.0,600.0,400.0,1250.0,1400.0,300.0,150.0,700.0,700.0,500.0,300.0,400.0,400.0,2000.0,700.0,1000.0,500.0,400.0,300.0,350.0,400.0,300.0,800.0,400.0,400.0,300.0,150.0,900.0,150.0,250.0,400.0,400.0,150.0,300.0,300.0,500.0,350.0,600.0,900.0,1300.0,200.0,750.0,300.0,700.0,1300.0,1100.0,2000.0,1500.0,1500.0,2000.0,750.0,1500.0,1500.0,1600.0,1500.0,1200.0,800.0,1100.0,1100.0,2000.0,500.0,750.0,1500.0,800.0,700.0,650.0,650.0,350.0,400.0,650.0,700.0,500.0,1300.0,1000.0,600.0,500.0,500.0,800.0,800.0,550.0,450.0,250.0,300.0,400.0,600.0,500.0,300.0,450.0,600.0,1700.0,1500.0,1800.0,1500.0,1500.0,2500.0,3000.0,2200.0,3000.0,800.0,2800.0,550.0,1100.0,2100.0,1500.0,3000.0,2500.0,3500.0,1700.0,1700.0,1500.0,1200.0,1200.0,1300.0,1500.0,1300.0,2800.0,2100.0,1200.0,800.0,1600.0,1700.0,1600.0,3000.0,1000.0,1500.0,800.0,2000.0,1500.0,700.0,1500.0,2500.0,1000.0,2100.0,1900.0,1700.0,2000.0,2200.0,1400.0,1500.0,600.0,800.0,900.0,1200.0,1700.0,2500.0,1600.0,1300.0,1400.0,1000.0,1000.0,600.0,2500.0,1400.0,200.0,1500.0,4000.0,550.0,3000.0,1500.0,3000.0,500.0,1000.0,1100.0,650.0,1200.0,2500.0,1500.0,2000.0,1500.0,1000.0,1400.0,1500.0,1100.0,600.0,1300.0,1000.0,1300.0,650.0,850.0,750.0,1800.0,500.0,1800.0,1000.0,1000.0,1200.0,3400.0,750.0,1800.0,2000.0,3000.0,1000.0,1400.0,3500.0,400.0,900.0,1200.0,800.0,1500.0,1200.0,4000.0,500.0,700.0,1300.0,4000.0,1200.0,1000.0,1200.0,1000.0,700.0,1700.0,2000.0,1200.0,1600.0,800.0,2000.0,3000.0,2000.0,2000.0,3500.0,1200.0,1000.0,700.0,1300.0,800.0,1000.0,500.0,750.0,800.0,1800.0,800.0,2800.0,800.0,1000.0,500.0,3000.0,750.0,800.0,2000.0,2200.0,650.0,1800.0,950.0,750.0,3000.0,1000.0,1500.0,500.0,400.0,550.0,1000.0,600.0,700.0,2000.0,550.0,1200.0,1000.0,300.0,1300.0,500.0,1000.0,500.0,1600.0,500.0,3000.0,1000.0,450.0,1000.0,400.0,650.0,550.0,1200.0,1200.0,1000.0,1000.0,2000.0,1500.0,400.0,300.0,1200.0,3000.0,500.0,500.0,1800.0,2500.0,800.0,2500.0,700.0,1400.0,600.0,600.0,800.0,550.0,850.0,2400.0,500.0,1400.0,1900.0,800.0,1000.0,1200.0,1500.0,250.0,600.0,700.0,500.0,3000.0,500.0,800.0,600.0,800.0,1200.0,550.0,800.0,800.0,1200.0,800.0,600.0,350.0,2000.0,700.0,600.0,2500.0,900.0,600.0,1000.0,600.0,400.0,250.0,700.0,400.0,300.0,500.0,200.0,150.0,150.0,150.0,500.0,300.0,500.0,300.0,300.0,150.0,300.0,250.0,500.0,150.0,300.0,400.0,250.0,350.0,800.0,200.0,400.0,350.0,400.0,500.0,500.0,200.0,400.0,500.0,350.0,250.0,400.0,500.0,250.0,300.0,300.0,300.0,300.0,100.0,500.0,1300.0,1100.0,1300.0,750.0,1300.0,1700.0,600.0,1000.0,750.0,550.0,850.0,200.0,700.0,700.0,750.0,1800.0,1600.0,400.0,300.0,150.0,400.0,400.0,1100.0,600.0,300.0,1300.0,2000.0,1200.0,2000.0,1500.0,1500.0,1500.0,1600.0,1100.0,1100.0,2000.0,1500.0,1700.0,1500.0,2500.0,3000.0,3000.0,1500.0,2500.0,1700.0,1700.0,1200.0,1300.0,1300.0,1700.0,1500.0,2000.0,1500.0,2500.0,1900.0,1300.0,1000.0,3000.0,1100.0,1200.0,1000.0,1400.0,1100.0,1000.0,1000.0,1200.0,1200.0,1500.0,1000.0,2000.0,1200.0,2800.0,3000.0,1500.0,600.0,1000.0,1000.0,1000.0,2000.0,1500.0,3000.0,1200.0,2500.0,2400.0,1400.0,1200.0,1500.0,1300.0,1300.0,800.0,700.0,350.0,150.0,200.0,200.0,400.0,500.0,250.0,1200.0,1300.0,2100.0,1700.0,1500.0,2500.0,1900.0,1700.0,1000.0,1000.0,1100.0,1200.0,1000.0,1400.0,1100.0,1300.0,1000.0,1000.0,1000.0,1200.0,1500.0,4000.0,1200.0,1000.0,1700.0,2000.0,2000.0,3500.0,1200.0,1300.0,1800.0,1000.0,1800.0,1500.0,600.0,1000.0,1000.0,1200.0,1000.0,3000.0,1200.0,1800.0,1400.0,1200.0,1500.0,800.0,1300.0,600.0,700.0,750.0,1600.0,1400.0,1100.0,1000.0,1800.0,1700.0,1500.0,1200.0,2500.0,1000.0,1500.0,2000.0,800.0,1500.0,2000.0,1900.0,1200.0,1200.0,1200.0,600.0,1100.0,400.0,600.0,300.0,600.0,500.0,500.0,650.0,900.0,600.0,900.0,1400.0,2000.0,1000.0,700.0,600.0,300.0,400.0,700.0,400.0,700.0,600.0,450.0,450.0,250.0,500.0,400.0,400.0,700.0,300.0,850.0,500.0,500.0,650.0,600.0,400.0,400.0,500.0,400.0,600.0,800.0,400.0,300.0,450.0,1000.0,800.0,800.0,500.0,500.0,300.0,350.0,500.0,400.0,400.0,300.0,300.0,700.0,150.0,600.0,500.0,250.0,650.0,250.0,750.0,800.0,500.0,350.0,500.0,500.0,400.0,500.0,350.0,400.0,1400.0,700.0,300.0,600.0,450.0,600.0,600.0,300.0,300.0,550.0,750.0,300.0,800.0,400.0,200.0,300.0,500.0,450.0,450.0,400.0,200.0,400.0,800.0,600.0,400.0,300.0,400.0,650.0,450.0,400.0,400.0,750.0,650.0,150.0,800.0,200.0,300.0,450.0,600.0,350.0,400.0,300.0,550.0,1400.0,300.0,300.0,1300.0,250.0,500.0,800.0,600.0,400.0,600.0,750.0,1000.0,600.0,1000.0,300.0,300.0,400.0,400.0,700.0,700.0,700.0,400.0,650.0,1400.0,900.0,350.0,750.0,900.0,400.0,750.0,900.0,500.0,600.0,500.0,750.0,800.0,600.0,300.0,1500.0,450.0,800.0,550.0,500.0,400.0,550.0,700.0,1000.0,450.0,250.0,500.0,2000.0,1000.0,1200.0,300.0,600.0,600.0,400.0,800.0,700.0,900.0,1000.0,350.0,800.0,300.0,2000.0,450.0,350.0,200.0,250.0,400.0,550.0,1100.0,250.0,400.0,1500.0,800.0,400.0,600.0,1500.0,500.0,800.0,1500.0,200.0,400.0,300.0,600.0,600.0,200.0,1100.0,500.0,600.0,300.0,800.0,900.0,1500.0,800.0,600.0,1100.0,200.0,200.0,350.0,500.0,400.0,450.0,1200.0,1000.0,700.0,700.0,650.0,500.0,300.0,600.0,400.0,400.0,350.0,1100.0,400.0,250.0,800.0,750.0,400.0,450.0,300.0,300.0,600.0,650.0,600.0,800.0,700.0,250.0,500.0,1000.0,350.0,700.0,200.0,400.0,350.0,500.0,800.0,2000.0,350.0,600.0,700.0,800.0,300.0,550.0,400.0,550.0,400.0,750.0,150.0,700.0,300.0,600.0,600.0,500.0,1000.0,250.0,1000.0,1100.0,300.0,1200.0,500.0,600.0,450.0,300.0,400.0,800.0,400.0,800.0,500.0,300.0,300.0,800.0,200.0,800.0,900.0,600.0,1600.0,800.0,650.0,750.0,500.0,750.0,750.0,500.0,500.0,350.0,1000.0,1200.0,550.0,200.0,750.0,900.0,400.0,700.0,550.0,500.0,500.0,700.0,200.0,200.0,250.0,800.0,1000.0,600.0,1500.0,150.0,750.0,150.0,500.0,450.0,400.0,300.0,900.0,1000.0,500.0,850.0,800.0,500.0,250.0,400.0,1000.0,1000.0,1100.0,700.0,1700.0,400.0,300.0,600.0,500.0,400.0,400.0,450.0,400.0,550.0,900.0,400.0,500.0,300.0,1000.0,200.0,600.0,400.0,350.0,250.0,400.0,450.0,1200.0,800.0,1000.0,600.0,700.0,600.0,300.0,750.0,1500.0,600.0,600.0,800.0,800.0,800.0,700.0,750.0,750.0,550.0,400.0,250.0,500.0,500.0,850.0,500.0,600.0,400.0,650.0,750.0,550.0,350.0,500.0,800.0,450.0,500.0,900.0,750.0,800.0,600.0,500.0,400.0,300.0,450.0,600.0,500.0,200.0,900.0,200.0,450.0,450.0,200.0,450.0,250.0,500.0,400.0,350.0,450.0,300.0,550.0,350.0,800.0,650.0,150.0,150.0,500.0,250.0,300.0,300.0,2400.0,2500.0,1600.0,1400.0,1700.0,1100.0,1000.0,1800.0,1300.0,1700.0,800.0,800.0,800.0,1500.0,800.0,900.0,700.0,1200.0,2500.0,500.0,850.0,900.0,700.0,1000.0,850.0,700.0,1500.0,1000.0,1400.0,1450.0,1400.0,800.0,3000.0,700.0,2000.0,1000.0,1000.0,450.0,1000.0,900.0,900.0,1500.0,800.0,2000.0,750.0,400.0,800.0,250.0,200.0,800.0,600.0,1000.0,1000.0,600.0,700.0,1100.0,800.0,150.0,700.0,300.0,200.0,1000.0,800.0,350.0,250.0,500.0,400.0,300.0,500.0,1500.0,300.0,2000.0,1000.0,750.0,300.0,350.0,600.0,400.0,600.0,600.0,300.0,250.0,1900.0,600.0,3000.0,1200.0,350.0,450.0,500.0,350.0,800.0,400.0,750.0,700.0,200.0,400.0,500.0,300.0,1200.0,1000.0,1000.0,700.0,700.0,650.0,1200.0,400.0,300.0,400.0,500.0,400.0,300.0,600.0,600.0,700.0,350.0,400.0,500.0,300.0,200.0,450.0,400.0,300.0,650.0,500.0,250.0,700.0,350.0,600.0,700.0,400.0,700.0,250.0,300.0,1100.0,300.0,600.0,1000.0,500.0,1200.0,1500.0,2400.0,2500.0,1000.0,1450.0,2000.0,1200.0,1600.0,1300.0,1600.0,1100.0,800.0,600.0,1100.0,1400.0,2000.0,1500.0,1200.0,900.0,1600.0,1300.0,1500.0,1300.0,1000.0,1500.0,1500.0,1500.0,1500.0,600.0,1100.0,750.0,700.0,1400.0,800.0,1000.0,900.0,2000.0,900.0,1000.0,400.0,950.0,1000.0,900.0,500.0,700.0,500.0,200.0,600.0,650.0,600.0,400.0,500.0,650.0,700.0,500.0,200.0,600.0,900.0,800.0,1300.0,600.0,600.0,800.0,900.0,500.0,800.0,900.0,800.0,550.0,800.0,900.0,600.0,1000.0,900.0,500.0,700.0,600.0,800.0,1200.0,600.0,1200.0,650.0,1000.0,600.0,900.0,600.0,450.0,750.0,650.0,600.0,400.0,600.0,500.0,700.0,400.0,350.0,700.0,700.0,300.0,400.0,800.0,600.0,400.0,400.0,500.0,500.0,500.0,450.0,450.0,300.0,400.0,400.0,200.0,400.0,400.0,250.0,300.0,200.0,250.0,600.0,600.0,100.0,250.0,400.0,500.0,150.0,500.0,400.0,450.0,550.0,400.0,400.0,650.0,600.0,250.0,150.0,600.0,400.0,600.0,250.0,250.0,400.0,600.0,600.0,200.0,200.0,300.0,250.0,400.0,300.0,400.0,300.0,250.0,300.0,600.0,350.0,300.0,400.0,400.0,800.0,300.0,500.0,500.0,350.0,400.0,300.0,500.0,600.0,400.0,500.0,350.0,300.0,400.0,500.0,800.0,800.0,700.0,500.0,650.0,300.0,300.0,450.0,600.0,600.0,250.0,750.0,650.0,550.0,500.0,400.0,100.0,400.0,800.0,500.0,600.0,200.0,400.0,600.0,1000.0,200.0,200.0,250.0,700.0,400.0,450.0,800.0,300.0,500.0,100.0,450.0,300.0,450.0,500.0,400.0,400.0,550.0,700.0,400.0,400.0,600.0,550.0,200.0,300.0,400.0,300.0,200.0,650.0,200.0,500.0,500.0,300.0,400.0,800.0,200.0,400.0,800.0,400.0,800.0,450.0,400.0,200.0,600.0,750.0,300.0,400.0,600.0,600.0,300.0,250.0,300.0,800.0,250.0,500.0,200.0,1200.0,300.0,100.0,400.0,400.0,350.0,400.0,700.0,350.0,1200.0,1000.0,300.0,1500.0,300.0,600.0,500.0,400.0,600.0,600.0,300.0,150.0,800.0,350.0,200.0,700.0,150.0,600.0,600.0,600.0,400.0,700.0,500.0,700.0,500.0,100.0,600.0,500.0,800.0,700.0,500.0,400.0,800.0,400.0,400.0,800.0,750.0,600.0,500.0,250.0,900.0,200.0,850.0,400.0,400.0,400.0,300.0,850.0,150.0,800.0,700.0,250.0,750.0,600.0,1000.0,300.0,600.0,500.0,400.0,600.0,500.0,500.0,500.0,700.0,200.0,200.0,600.0,400.0,500.0,800.0,200.0,250.0,150.0,300.0,500.0,900.0,1000.0,700.0,300.0,450.0,800.0,500.0,1000.0,1200.0,450.0,230.0,500.0,500.0,300.0,700.0,500.0,400.0,400.0,500.0,400.0,400.0,300.0,650.0,300.0,300.0,250.0,500.0,400.0,600.0,600.0,300.0,150.0,300.0,500.0,300.0,250.0,400.0,600.0,700.0,550.0,400.0,800.0,900.0,300.0,700.0,950.0,500.0,200.0,1200.0,900.0,150.0,800.0,300.0,750.0,400.0,350.0,200.0,400.0,800.0,600.0,450.0,500.0,500.0,500.0,400.0,300.0,1500.0,500.0,550.0,900.0,500.0,900.0,400.0,550.0,400.0,1300.0,300.0,400.0,300.0,400.0,400.0,700.0,1000.0,600.0,800.0,400.0,300.0,600.0,600.0,150.0,750.0,550.0,250.0,300.0,750.0,650.0,500.0,400.0,450.0,400.0,400.0,600.0,500.0,650.0,800.0,800.0,600.0,650.0,700.0,400.0,600.0,450.0,250.0,1200.0,1000.0,150.0,700.0,400.0,800.0,500.0,800.0,1100.0,1300.0,700.0,600.0,500.0,600.0,1200.0,500.0,400.0,600.0,1500.0,600.0,300.0,550.0,500.0,1000.0,600.0,500.0,1100.0,1000.0,300.0,500.0,1000.0,400.0,650.0,300.0,400.0,500.0,1200.0,300.0,500.0,800.0,250.0,500.0,800.0,450.0,600.0,400.0,500.0,350.0,250.0,600.0,200.0,550.0,600.0,450.0,400.0,750.0,750.0,400.0,600.0,700.0,500.0,450.0,400.0,550.0,300.0,750.0,1600.0,600.0,600.0,1000.0,800.0,1600.0,500.0,1000.0,800.0,700.0,800.0,650.0,300.0,600.0,400.0,1000.0,800.0,300.0,600.0,1300.0,200.0,400.0,1000.0,600.0,600.0,700.0,600.0,600.0,1500.0,400.0,1200.0,1200.0,600.0,500.0,1300.0,300.0,1100.0,800.0,500.0,1200.0,400.0,800.0,250.0,500.0,450.0,900.0,500.0,350.0,600.0,1000.0,300.0,1300.0,1000.0,800.0,1000.0,600.0,1200.0,350.0,1000.0,1000.0,2500.0,800.0,300.0,450.0,450.0,700.0,900.0,600.0,650.0,700.0,1500.0,500.0,900.0,350.0,1500.0,550.0,1100.0,700.0,500.0,600.0,700.0,1200.0,500.0,500.0,550.0,1200.0,750.0,650.0,300.0,400.0,300.0,300.0,800.0,1000.0,900.0,650.0,1400.0,700.0,1200.0,600.0,1500.0,1600.0,550.0,250.0,300.0,1400.0,500.0,1000.0,800.0,250.0,1200.0,700.0,600.0,1500.0,700.0,400.0,400.0,250.0,750.0,1500.0,1000.0,400.0,750.0,600.0,1500.0,450.0,1100.0,1000.0,200.0,400.0,700.0,350.0,1500.0,650.0,400.0,250.0,600.0,1000.0,1200.0,900.0,750.0,900.0,300.0,400.0,600.0,500.0,800.0,1000.0,900.0,400.0,300.0,300.0,1100.0,400.0,700.0,300.0,700.0,400.0,550.0,500.0,400.0,200.0,500.0,500.0,550.0,300.0,1700.0,1200.0,500.0,550.0,400.0,400.0,600.0,600.0,650.0,1000.0,400.0,400.0,600.0,500.0,200.0,650.0,600.0,250.0,350.0,750.0,400.0,1100.0,700.0,600.0,900.0,1100.0,500.0,500.0,200.0,450.0,800.0,500.0,800.0,650.0,350.0,200.0,600.0,600.0,600.0,600.0,450.0,1000.0,800.0,400.0,500.0,600.0,500.0,400.0,200.0,500.0,450.0,150.0,650.0,600.0,400.0,300.0,400.0,150.0,600.0,500.0,1300.0,500.0,300.0,100.0,400.0,600.0,1000.0,500.0,300.0,550.0,1200.0,900.0,400.0,400.0,800.0,1300.0,1200.0,450.0,1400.0,800.0,650.0,1100.0,350.0,1200.0,400.0,700.0,900.0,500.0,500.0,300.0,450.0,500.0,750.0,800.0,300.0,800.0,200.0,350.0,500.0,450.0,900.0,400.0,450.0,700.0,200.0,600.0,300.0,800.0,1000.0,350.0,1000.0,1400.0,700.0,600.0,400.0,400.0,500.0,550.0,800.0,600.0,900.0,650.0,800.0,650.0,150.0,500.0,650.0,350.0,200.0,400.0,800.0,150.0,200.0,800.0,700.0,150.0,500.0,600.0,200.0,400.0,900.0,700.0,600.0,800.0,150.0,400.0,1500.0,500.0,400.0,900.0,400.0,300.0,400.0,300.0,500.0,300.0,200.0,200.0,200.0,150.0,300.0,500.0,250.0,400.0,800.0,400.0,500.0,500.0,200.0,200.0,400.0,100.0,600.0,1100.0,400.0,1300.0,600.0,700.0,500.0,800.0,550.0,400.0,450.0,500.0,600.0,300.0,400.0,1200.0,400.0,650.0,500.0,900.0,350.0,600.0,400.0,400.0,400.0,400.0,250.0,300.0,200.0,450.0,500.0,300.0,500.0,200.0,500.0,500.0,350.0,400.0,400.0,400.0,400.0,800.0,700.0,350.0,150.0,400.0,200.0,800.0,700.0,400.0,150.0,400.0,500.0,600.0,400.0,250.0,200.0,500.0,400.0,400.0,200.0,1600.0,1300.0,1600.0,1100.0,800.0,900.0,800.0,1500.0,900.0,500.0,850.0,550.0,550.0,300.0,800.0,800.0,300.0,800.0,600.0,1100.0,500.0,550.0,500.0,400.0,500.0,700.0,600.0,400.0,600.0,700.0,900.0,1000.0,600.0,500.0,600.0,400.0,350.0,700.0,350.0,600.0,600.0,500.0,200.0,600.0,600.0,650.0,600.0,400.0,800.0,500.0,600.0,600.0,500.0,550.0,600.0,1000.0,600.0,500.0,650.0,450.0,500.0,650.0,700.0,500.0,250.0,500.0,300.0,1000.0,300.0,500.0,250.0,400.0,300.0,200.0,300.0,400.0,250.0,300.0,400.0,400.0,500.0,300.0,300.0,400.0,500.0,400.0,150.0,250.0,500.0,150.0,200.0,250.0,300.0,200.0,300.0,700.0,500.0,300.0,200.0,300.0,300.0,400.0,600.0,500.0,400.0,500.0,300.0,500.0,300.0,200.0,400.0,400.0,250.0,300.0,300.0,400.0,350.0,450.0,250.0,450.0,400.0,300.0,550.0,600.0,400.0,400.0,500.0,400.0,650.0,250.0,400.0,350.0,400.0,300.0,300.0,250.0,1100.0,200.0,600.0,900.0,1400.0,1500.0,2000.0,1000.0,1100.0,1500.0,1200.0,900.0,1600.0,1300.0,1300.0,1400.0,800.0,1600.0,1600.0,700.0,1500.0,1600.0,750.0,1300.0,1500.0,1000.0,1000.0,1300.0,1500.0,1500.0,1400.0,1800.0,600.0,1400.0,1300.0,600.0,1200.0,1500.0,1400.0,1200.0,1300.0,1500.0,1500.0,1000.0,1000.0,1000.0,600.0,650.0,1400.0,800.0,1200.0,800.0,1000.0,1100.0,1500.0,1200.0,1400.0,650.0,550.0,600.0,1100.0,700.0,1000.0,800.0,600.0,900.0,750.0,500.0,1500.0,800.0,1200.0,550.0,900.0,800.0,550.0,1200.0,800.0,600.0,900.0,600.0,800.0,750.0,650.0,1200.0,800.0,550.0,1200.0,1000.0,1000.0,900.0,500.0,1200.0,750.0,900.0,500.0,800.0,700.0,800.0,1200.0,600.0,800.0,650.0,600.0,800.0,750.0,500.0,1200.0,600.0,1500.0,700.0,1200.0,700.0,750.0,1400.0,1000.0,700.0,650.0,750.0,1300.0,1300.0,500.0,1000.0,1000.0,800.0,650.0,600.0,1100.0,800.0,600.0,450.0,500.0,1000.0,800.0,1300.0,550.0,300.0,650.0,700.0,400.0,500.0,800.0,1400.0,600.0,350.0,750.0,650.0,700.0,750.0,700.0,400.0,1300.0,650.0,600.0,500.0,400.0,300.0,300.0,600.0,800.0,450.0,350.0,700.0,500.0,800.0,300.0,200.0,600.0,1000.0,400.0,600.0,900.0,450.0,250.0,600.0,700.0,2000.0,500.0,550.0,150.0,450.0,600.0,600.0,1500.0,200.0,700.0,400.0,350.0,900.0,350.0,800.0,600.0,1000.0,400.0,500.0,900.0,400.0,400.0,500.0,650.0,650.0,800.0,1100.0,700.0,900.0,200.0,600.0,500.0,400.0,250.0,200.0,400.0,300.0,600.0,450.0,200.0,700.0,1000.0,800.0,200.0,600.0,600.0,300.0,400.0,700.0,600.0,300.0,400.0,250.0,400.0,400.0,200.0,300.0,400.0,1300.0,200.0,400.0,200.0,950.0,400.0,400.0,750.0,500.0,400.0,700.0,650.0,200.0,300.0,200.0,100.0,800.0,600.0,1000.0,400.0,400.0,600.0,700.0,400.0,450.0,600.0,500.0,500.0,650.0,900.0,350.0,400.0,200.0,400.0,400.0,350.0,300.0,200.0,400.0,450.0,300.0,300.0,300.0,450.0,500.0,600.0,300.0,800.0,300.0,300.0,600.0,550.0,200.0,750.0,300.0,400.0,200.0,500.0,400.0,900.0,250.0,400.0,550.0,350.0,800.0,450.0,500.0,1000.0,1100.0,1500.0,1100.0,1500.0,2000.0,1100.0,900.0,1600.0,1600.0,1600.0,1000.0,1500.0,1400.0,1800.0,1400.0,1200.0,1300.0,1000.0,1200.0,1400.0,1200.0,1200.0,1200.0,1200.0,1500.0,1400.0,1000.0,1300.0,1300.0,1400.0,1500.0,1100.0,1300.0,1100.0,1600.0,1500.0,1100.0,1400.0,1000.0,1100.0,1500.0,900.0,1400.0,1600.0,1500.0,1000.0,1500.0,1800.0,1500.0,1200.0,1300.0,1000.0,1200.0,1400.0,1000.0,1500.0,1200.0,800.0,1200.0,1200.0,1200.0,1200.0,1400.0,1000.0,1300.0,1000.0,1300.0,1300.0,1500.0,1100.0,1300.0,1200.0,1500.0,1200.0,1700.0,750.0,1800.0,1500.0,2200.0,3000.0,2100.0,2800.0,1400.0,1600.0,2500.0,3000.0,500.0,1500.0,1000.0,3400.0,2000.0,1500.0,1300.0,1700.0,1200.0,1600.0,800.0,2200.0,2000.0,1200.0,1000.0,1900.0,650.0,1400.0,1000.0,800.0,1000.0,1300.0,1600.0,3000.0,500.0,1000.0,1200.0,650.0,2500.0,1300.0,1200.0,1700.0,1800.0,1600.0,1100.0,750.0,1200.0,500.0,1100.0,1000.0,600.0,650.0,900.0,700.0,500.0,700.0,800.0,1700.0,900.0,600.0,2500.0,1400.0,400.0,750.0,700.0,700.0,500.0,1100.0,800.0,750.0,500.0,650.0,500.0,1000.0,650.0,1200.0,800.0,800.0,400.0,800.0,600.0,400.0,1000.0,500.0,600.0,1000.0,800.0,900.0,700.0,350.0,1300.0,750.0,300.0,1000.0,750.0,750.0,1100.0,500.0,650.0,400.0,750.0,750.0,500.0,750.0,600.0,750.0,300.0,600.0,400.0,650.0,400.0,500.0,550.0,150.0,500.0,1500.0,800.0,400.0,400.0,200.0,600.0,800.0,300.0,850.0,400.0,400.0,300.0,450.0,650.0,250.0,450.0,600.0,1600.0,400.0,1300.0,1200.0,1200.0,450.0,600.0,700.0,500.0,400.0,700.0,350.0,200.0,400.0,500.0,400.0,550.0,500.0,400.0,900.0,800.0,400.0,200.0,1300.0,1200.0,600.0,550.0,1100.0,500.0,600.0,400.0,800.0,1300.0,200.0,1700.0,150.0,2100.0,1700.0,1500.0,750.0,500.0,300.0,150.0,2000.0,250.0,750.0,400.0,600.0,650.0,500.0,800.0,1400.0,2100.0,1500.0,1200.0,450.0,1000.0,400.0,1500.0,600.0,1400.0,200.0,2000.0,1000.0,500.0,300.0,250.0,300.0,400.0,800.0,700.0,700.0,900.0,200.0,1700.0,500.0,1200.0,650.0,500.0,300.0,1500.0,950.0,1600.0,1500.0,1000.0,300.0,300.0,500.0,900.0,700.0,1000.0,1200.0,700.0,1000.0,800.0,1500.0,1400.0,900.0,700.0,250.0,700.0,1000.0,750.0,600.0,1300.0,400.0,250.0,350.0,800.0,300.0,1400.0,500.0,180.0,500.0,800.0,750.0,250.0,500.0,700.0,200.0,600.0,800.0,550.0,2100.0,900.0,1100.0,550.0,1400.0,600.0,400.0,400.0,400.0,750.0,800.0,500.0,150.0,600.0,750.0,600.0,1200.0,500.0,600.0,500.0,550.0,400.0,400.0,200.0,800.0,800.0,500.0,800.0,1000.0,500.0,300.0,500.0,500.0,500.0,550.0,300.0,450.0,350.0,150.0,100.0,300.0,600.0,800.0,350.0,1600.0,650.0,750.0,300.0,400.0,450.0,500.0,200.0,700.0,500.0,1000.0,200.0,300.0,850.0,800.0,1000.0,1000.0,850.0,800.0,800.0,800.0,700.0,1000.0,600.0,300.0,600.0,300.0,250.0,400.0,600.0,700.0,450.0,500.0,700.0,800.0,1000.0,600.0,400.0,500.0,900.0,700.0,650.0,500.0,800.0,500.0,350.0,1800.0,1300.0,500.0,300.0,550.0,200.0,1200.0,1200.0,1300.0,1600.0,600.0,1400.0,550.0,1200.0,1000.0,600.0,400.0,1000.0,500.0,1200.0,600.0,40.0,250.0,250.0,500.0,600.0,400.0,700.0,350.0,600.0,1700.0,550.0,600.0,1100.0,1000.0,150.0,250.0,700.0,400.0,300.0,400.0,400.0,700.0,700.0,1800.0,750.0,1900.0,1300.0,1000.0,500.0,1600.0,700.0,300.0,800.0,300.0,1000.0,600.0,650.0,750.0,500.0,1300.0,800.0,1400.0,650.0,1000.0,2000.0,150.0,2000.0,750.0,700.0,1500.0,1700.0,1100.0,1800.0,1000.0,150.0,400.0,250.0,400.0,2000.0,800.0,400.0,600.0,550.0,400.0,1400.0,700.0,300.0,1250.0,700.0,500.0,400.0,450.0,2000.0,1000.0,700.0,500.0,400.0,300.0,300.0,350.0,400.0,800.0,400.0,250.0,900.0,400.0,300.0,400.0,150.0,300.0,180.0,150.0,450.0,400.0,400.0,900.0,300.0,150.0,300.0,600.0,300.0,500.0,350.0,1300.0,800.0,200.0,750.0,300.0,500.0,1500.0,300.0,1100.0,1500.0,1200.0,1000.0,1000.0,1700.0,1000.0,600.0,650.0,1300.0,1100.0,1100.0,750.0,750.0,1400.0,650.0,1300.0,1200.0,900.0,600.0,800.0,700.0,1000.0,800.0,1500.0,950.0,500.0,800.0,1200.0,600.0,600.0,500.0,200.0,150.0,500.0,250.0,400.0,250.0,350.0,1700.0,2500.0,1500.0,1800.0,1500.0,2000.0,3000.0,2200.0,3000.0,800.0,550.0,2800.0,2500.0,1500.0,2000.0,1500.0,1500.0,3000.0,2100.0,3500.0,1700.0,1700.0,1300.0,1600.0,2800.0,1700.0,1500.0,1200.0,1500.0,1600.0,1300.0,1200.0,2000.0,3000.0,800.0,700.0,2100.0,1500.0,2500.0,1900.0,2200.0,1500.0,1400.0,2000.0,1200.0,1400.0,1500.0,600.0,1300.0,2100.0,1700.0,900.0,1100.0,1600.0,2500.0,1500.0,2500.0,550.0,1000.0,3000.0,1200.0,1300.0,1400.0,4000.0,500.0,1800.0,1300.0,1500.0,200.0,1000.0,2000.0,1500.0,1000.0,1800.0,1000.0,500.0,1000.0,1500.0,1200.0,2500.0,400.0,3400.0,3000.0,2000.0,850.0,2000.0,750.0,700.0,3500.0,600.0,1800.0,1500.0,3000.0,1300.0,1500.0,700.0,1600.0,1200.0,1300.0,1500.0,1200.0,1100.0,1700.0,2000.0,500.0,800.0,4000.0,3000.0,1100.0,1000.0,1500.0,700.0,2800.0,1000.0,1200.0,1000.0,1200.0,4000.0,2000.0,3500.0,1200.0,550.0,1000.0,1600.0,500.0,300.0,2000.0,650.0,1800.0,3000.0,800.0,2200.0,1100.0,800.0,2000.0,500.0,800.0,750.0,1500.0,1000.0,800.0,1000.0,650.0,750.0,500.0,1800.0,1000.0,400.0,550.0,600.0,700.0,700.0,2000.0,1000.0,1000.0,3000.0,2000.0,800.0,550.0,400.0,650.0,800.0,450.0,650.0,550.0,1200.0,1800.0,800.0,800.0,1200.0,1000.0,1000.0,700.0,2000.0,500.0,1500.0,300.0,350.0,600.0,3000.0,400.0,1900.0,500.0,2500.0,650.0,800.0,2500.0,1400.0,800.0,1200.0,800.0,600.0,3000.0,1000.0,550.0,400.0,800.0,800.0,400.0,850.0,800.0,1000.0,500.0,1300.0,1600.0,3000.0,600.0,1000.0,1400.0,700.0,3000.0,500.0,1000.0,2400.0,600.0,1500.0,500.0,1000.0,500.0,800.0,1300.0,800.0,1200.0,800.0,250.0,600.0,350.0,500.0,500.0,900.0,2000.0,700.0,2500.0,600.0,400.0,600.0,550.0,400.0,300.0,250.0,150.0,700.0,150.0,500.0,150.0,300.0,500.0,250.0,300.0,450.0,400.0,400.0,500.0,150.0,300.0,400.0,300.0,200.0,350.0,500.0,400.0,400.0,250.0,350.0,300.0,500.0,200.0,600.0,600.0,500.0,300.0,300.0,500.0,300.0,450.0,300.0,100.0,300.0,500.0,1300.0,800.0,1100.0,1100.0,1400.0,1300.0,600.0,3200.0,750.0,2500.0,1500.0,1300.0,1200.0,300.0,4000.0,1700.0,1000.0,2500.0,750.0,600.0,850.0,550.0,600.0,400.0,700.0,1000.0,200.0,700.0,750.0,500.0,700.0,750.0,1800.0,1200.0,900.0,1600.0,700.0,400.0,150.0,550.0,700.0,300.0,500.0,600.0,400.0,400.0,1100.0,500.0,400.0,500.0,250.0,250.0,550.0,500.0,1100.0,600.0,300.0,1200.0,1500.0,2000.0,1300.0,1100.0,1100.0,1200.0,1000.0,1500.0,1700.0,2500.0,1500.0,2000.0,3000.0,3000.0,2500.0,1500.0,1500.0,1700.0,1700.0,1300.0,1700.0,1500.0,1300.0,1200.0,2000.0,1500.0,2500.0,1900.0,1300.0,1500.0,1000.0,1200.0,1400.0,1300.0,1000.0,3000.0,1600.0,1500.0,1100.0,1100.0,1000.0,2800.0,1000.0,2000.0,1200.0,2000.0,3000.0,1500.0,600.0,1000.0,1000.0,1000.0,2000.0,1500.0,2500.0,3000.0,1400.0,2400.0,1500.0,1300.0,1300.0,1200.0,2500.0,1200.0,1200.0,1200.0,1100.0,1100.0,1200.0,1000.0,1500.0,2000.0,2500.0,1500.0,1700.0,1300.0,1700.0,1500.0,1200.0,2100.0,2500.0,1900.0,1300.0,1500.0,1000.0,1200.0,1300.0,1400.0,1300.0,1000.0,1000.0,1000.0,1600.0,1200.0,1300.0,1500.0,1100.0,1700.0,2000.0,1100.0,1000.0,1000.0,1000.0,1200.0,4000.0,2000.0,3500.0,1200.0,2000.0,1800.0,1800.0,600.0,1000.0,1000.0,1800.0,1200.0,1000.0,3000.0,800.0,1400.0,1500.0,1300.0,1300.0,1200.0,1200.0,1500.0,1200.0,1600.0,600.0,1100.0,3000.0,2200.0,1200.0,1400.0,800.0,2000.0,900.0,850.0,800.0,1500.0,600.0,700.0,650.0,500.0,400.0,600.0,600.0,700.0,400.0,400.0,700.0,200.0,450.0,200.0,250.0,300.0,400.0,500.0,500.0,500.0,500.0,200.0,700.0,600.0,600.0,300.0,500.0,800.0,800.0,300.0,250.0,500.0,700.0,300.0,650.0,400.0,450.0,500.0,400.0,600.0,200.0,400.0,500.0,400.0,400.0,400.0,750.0,500.0,400.0,450.0,400.0,150.0,400.0,450.0,400.0,650.0,800.0,250.0,450.0,600.0,550.0,250.0,250.0,900.0,750.0,700.0,400.0,500.0,300.0,500.0,150.0,800.0,500.0,700.0,800.0,750.0,350.0,400.0,900.0,300.0,400.0,700.0,900.0,350.0,400.0,700.0,500.0,400.0,300.0,600.0,600.0,450.0,750.0,400.0,600.0,250.0,650.0,600.0,500.0,450.0,400.0,600.0,600.0,1500.0,1200.0,400.0,400.0,500.0,400.0,400.0,650.0,400.0,500.0,1000.0,1200.0,700.0,900.0,200.0,500.0,1100.0,1000.0,700.0,600.0,1500.0,400.0,500.0,700.0,500.0,350.0,450.0,400.0,400.0,500.0,500.0,600.0,2000.0,600.0,200.0,250.0,400.0,450.0,400.0,500.0,600.0,400.0,250.0,400.0,400.0,700.0,500.0,500.0,1500.0,1200.0,1200.0,1200.0,1600.0,600.0,1100.0,1500.0,900.0,800.0,1400.0,600.0,650.0,700.0,800.0,3000.0,1500.0,1300.0,2200.0,450.0,500.0,500.0,800.0,600.0,1200.0,1400.0,400.0,700.0,800.0,400.0,450.0,2000.0,400.0,600.0,1200.0,700.0,600.0,400.0,500.0,600.0,900.0,750.0,700.0,2500.0,2200.0,700.0,900.0,1500.0,650.0,750.0,400.0,1000.0,700.0,850.0,1200.0,450.0,2500.0,850.0,500.0,500.0,1000.0,700.0,400.0,600.0,1500.0,800.0,700.0,600.0,550.0,1500.0,400.0,800.0,500.0,700.0,500.0,500.0,500.0,300.0,450.0,500.0,550.0,400.0,500.0,400.0,400.0,350.0,400.0,650.0,400.0,250.0,300.0,400.0,250.0,400.0,250.0,400.0,500.0,450.0,400.0,500.0,300.0,200.0,350.0,400.0,400.0,300.0,450.0,150.0,600.0,400.0,400.0,300.0,400.0,300.0,600.0,400.0,600.0,750.0,400.0,500.0,500.0,250.0,350.0,400.0,500.0,400.0,350.0,500.0,250.0,300.0,1200.0,1200.0,1200.0,1500.0,1400.0,1300.0,1200.0,2500.0,900.0,1500.0,1500.0,1200.0,1200.0,1200.0,1500.0,1400.0,1300.0,1200.0,1200.0,900.0,1500.0,1500.0,750.0,1300.0,2800.0,1300.0,1700.0,2200.0,1800.0,1600.0,1100.0,1100.0,700.0,700.0,350.0,600.0,1300.0,1200.0,750.0,750.0,700.0,300.0,1000.0,750.0,800.0,650.0,800.0,650.0,750.0,800.0,700.0,1000.0,500.0,500.0,800.0,400.0,1100.0,600.0,450.0,500.0,450.0,500.0,600.0,750.0,300.0,300.0,600.0,300.0,600.0,650.0,600.0,200.0,400.0,350.0,400.0,800.0,750.0,250.0,500.0,750.0,800.0,1000.0,500.0,750.0,400.0,550.0,400.0,950.0,400.0,600.0,400.0,300.0,800.0,150.0,200.0,750.0,250.0,300.0,750.0,400.0,500.0,400.0,700.0,600.0,800.0,550.0,650.0,400.0,500.0,1200.0,900.0,1500.0,800.0,1100.0,500.0,1400.0,650.0,450.0,400.0,1300.0,800.0,700.0,750.0,1500.0,600.0,600.0,400.0,1600.0,500.0,500.0,600.0,650.0,300.0,800.0,600.0,1700.0,1200.0,1300.0,500.0,400.0,700.0,400.0,600.0,1600.0,650.0,700.0,400.0,400.0,500.0,300.0,1000.0,1500.0,650.0,1300.0,600.0,1200.0,550.0,300.0,600.0,1100.0,500.0,800.0,400.0,700.0,900.0,400.0,450.0,500.0,900.0,450.0,400.0,450.0,40.0,550.0,300.0,3000.0,350.0,700.0,250.0,650.0,700.0,200.0,800.0,300.0,550.0,750.0,600.0,450.0,100.0,500.0,350.0,600.0,1300.0,1700.0,180.0,1700.0,600.0,2100.0,600.0,700.0,300.0,500.0,1000.0,550.0,2000.0,500.0,1500.0,450.0,1500.0,700.0,400.0,750.0,1300.0,1000.0,400.0,1000.0,700.0,500.0,800.0,1300.0,500.0,750.0,500.0,1300.0,700.0,500.0,700.0,750.0,800.0,1000.0,2100.0,1000.0,500.0,1900.0,450.0,150.0,150.0,700.0,300.0,2000.0,400.0,1000.0,650.0,950.0,150.0,500.0,300.0,1400.0,800.0,1200.0,1000.0,1000.0,150.0,700.0,750.0,1500.0,300.0,200.0,700.0,800.0,250.0,1800.0,500.0,350.0,1500.0,800.0,1000.0,200.0,550.0,400.0,500.0,400.0,250.0,1000.0,1400.0,400.0,800.0,700.0,600.0,550.0,600.0,350.0,1500.0,1500.0,500.0,200.0,550.0,300.0,1100.0,850.0,400.0,150.0,850.0,700.0,300.0,1800.0,800.0,1800.0,600.0,1000.0,800.0,2000.0,400.0,300.0,600.0,1500.0,750.0,1000.0,1500.0,700.0,400.0,700.0,300.0,600.0,300.0,900.0,400.0,450.0,650.0,500.0,800.0,800.0,2000.0,750.0,1700.0,700.0,850.0,1000.0,650.0,500.0,600.0,500.0,250.0,200.0,250.0,500.0,200.0,350.0,100.0,1200.0,550.0,600.0,500.0,300.0,700.0,300.0,300.0,800.0,700.0,300.0,800.0,1200.0,400.0,600.0,300.0,1700.0,550.0,1300.0,250.0,1100.0,750.0,800.0,750.0,700.0,400.0,200.0,1100.0,300.0,300.0,300.0,400.0,500.0,600.0,1600.0,600.0,200.0,150.0,400.0,150.0,700.0,500.0,100.0,500.0,300.0,250.0,250.0,350.0,500.0,500.0,300.0,300.0,350.0,300.0,400.0,150.0,1300.0,400.0,750.0,700.0,700.0,400.0,500.0,400.0,300.0,300.0,300.0,700.0,600.0,750.0,800.0,700.0,700.0,700.0,600.0,1100.0,550.0,600.0,1100.0,1500.0,800.0,850.0,700.0,600.0,750.0,500.0,1000.0,500.0,500.0,700.0,700.0,600.0,700.0,1000.0,300.0,500.0,1000.0,750.0,600.0,1000.0,200.0,300.0,500.0,300.0,600.0,400.0,400.0,150.0,700.0,400.0,400.0,200.0,250.0,500.0,300.0,600.0,500.0,500.0,1300.0,800.0,550.0,550.0,450.0,800.0,650.0,700.0,300.0,600.0,800.0,300.0,150.0,600.0,350.0,400.0,500.0,300.0,300.0,1300.0,2800.0,1200.0,1600.0,1000.0,2500.0,2500.0,1100.0,1100.0,1300.0,1300.0,600.0,1000.0,1300.0,750.0,1800.0,750.0,700.0,1800.0,3000.0,1300.0,1700.0,300.0,600.0,1200.0,1000.0,750.0,650.0,2000.0,3000.0,2000.0,750.0,800.0,650.0,800.0,2200.0,650.0,850.0,800.0,700.0,700.0,1000.0,1000.0,700.0,750.0,1800.0,500.0,400.0,500.0,1600.0,500.0,150.0,500.0,400.0,1500.0,400.0,250.0,500.0,550.0,800.0,800.0,400.0,300.0,400.0,1100.0,600.0,200.0,450.0,1100.0,250.0,300.0,800.0,400.0,400.0,1500.0,1300.0,2500.0,1300.0,1300.0,1000.0,1500.0,1500.0,1000.0,1300.0,1300.0,2500.0,1300.0,1000.0,1200.0,2000.0,1000.0,1400.0,1500.0,1800.0,600.0,1200.0,1000.0,850.0,750.0,600.0,800.0,400.0,1000.0,1600.0,1500.0,1500.0,900.0,1200.0,1500.0,1900.0,700.0,800.0,600.0,750.0,500.0,700.0,800.0,1200.0,800.0,950.0,650.0,750.0,300.0,600.0,700.0,700.0,600.0,300.0,700.0,600.0,500.0,450.0,650.0,1300.0,350.0,550.0,600.0,1000.0,250.0,500.0,600.0,1000.0,400.0,700.0,500.0,600.0,500.0,600.0,400.0,500.0,500.0,600.0,500.0,500.0,450.0,350.0,500.0,400.0,250.0,250.0,400.0,750.0,800.0,650.0,450.0,400.0,600.0,450.0,450.0,300.0,500.0,500.0,500.0,400.0,800.0,250.0,600.0,300.0,500.0,600.0,750.0,400.0,400.0,300.0,650.0,400.0,400.0,400.0,900.0,200.0,400.0,450.0,600.0,750.0,400.0,800.0,800.0,800.0,750.0,400.0,150.0,500.0,600.0,500.0,200.0,750.0,600.0,600.0,500.0,550.0,400.0,400.0,300.0,900.0,400.0,250.0,600.0,650.0,300.0,800.0,600.0,450.0,700.0,200.0,400.0,650.0,300.0,500.0,350.0,550.0,300.0,150.0,400.0,500.0,100.0,300.0,500.0,400.0,500.0,600.0,200.0,350.0,450.0,500.0,600.0,600.0,650.0,200.0,400.0,400.0,400.0,300.0,750.0,800.0,200.0,300.0,800.0,500.0,1500.0,1400.0,300.0,500.0,400.0,550.0,300.0,550.0,1400.0,200.0,600.0,450.0,800.0,600.0,400.0,700.0,400.0,400.0,1700.0,1900.0,500.0,350.0,180.0,200.0,1000.0,900.0,400.0,400.0,400.0,550.0,300.0,800.0,150.0,600.0,400.0,700.0,1400.0,250.0,200.0,400.0,350.0,250.0,1200.0,700.0,1000.0,400.0,650.0,500.0,500.0,1000.0,450.0,600.0,400.0,1000.0,800.0,600.0,1000.0,600.0,150.0,200.0,600.0,550.0,350.0,400.0,350.0,550.0,250.0,200.0,400.0,550.0,500.0,450.0,1000.0,600.0,400.0,700.0,1000.0,300.0,600.0,700.0,550.0,300.0,300.0,800.0,300.0,900.0,500.0,1200.0,500.0,750.0,350.0,1400.0,1700.0,400.0,300.0,800.0,400.0,950.0,450.0,300.0,1200.0,1500.0,300.0,250.0,200.0,700.0,600.0,200.0,600.0,800.0,300.0,700.0,300.0,900.0,850.0,500.0,750.0,650.0,350.0,500.0,500.0,300.0,800.0,400.0,600.0,400.0,650.0,100.0,500.0,800.0,200.0,1800.0,500.0,250.0,1500.0,300.0,400.0,150.0,250.0,400.0,450.0,450.0,800.0,450.0,700.0,600.0,650.0,400.0,400.0,300.0,350.0,800.0,500.0,250.0,600.0,400.0,900.0,400.0,100.0,250.0,400.0,150.0,1300.0,700.0,800.0,300.0,450.0,500.0,500.0,400.0,700.0,350.0,500.0,400.0,600.0,450.0,400.0,300.0,400.0,600.0,800.0,500.0,700.0,800.0,250.0,600.0,500.0,1100.0,900.0,200.0,1400.0,400.0,400.0,200.0,500.0,250.0,550.0,800.0,500.0,300.0,550.0,500.0,400.0,400.0,500.0,300.0,800.0,500.0,500.0,550.0,400.0,550.0,600.0,400.0,1300.0,400.0,1200.0,1200.0,300.0,400.0,250.0,600.0,300.0,800.0,1000.0,500.0,1100.0,250.0,1200.0,300.0,1300.0,600.0,1000.0,400.0,450.0,1200.0,200.0,600.0,400.0,700.0,750.0,800.0,700.0,600.0,600.0,400.0,850.0,300.0,700.0,1000.0,400.0,700.0,400.0,500.0,600.0,800.0,600.0,950.0,1300.0,700.0,1200.0,150.0,600.0,1000.0,1500.0,1500.0,550.0,1100.0,500.0,800.0,600.0,500.0,500.0,400.0,800.0,400.0,950.0,200.0,350.0,400.0,400.0,300.0,300.0,400.0,500.0,600.0,400.0,300.0,400.0,450.0,200.0,100.0,300.0,600.0,350.0,180.0,500.0,500.0,400.0,500.0,350.0,500.0,100.0,150.0,400.0,450.0,350.0,300.0,1000.0,500.0,150.0,500.0,300.0,400.0,600.0,650.0,500.0,500.0,1200.0,500.0,800.0,1000.0,700.0,1500.0,1500.0,1000.0,1800.0,600.0,1200.0,850.0,1400.0,1200.0,1000.0,550.0,750.0,1100.0,800.0,1200.0,700.0,900.0,1000.0,600.0,750.0,1200.0,800.0,800.0,850.0,700.0,1200.0,600.0,800.0,850.0,200.0,800.0,750.0,800.0,950.0,700.0,1200.0,600.0,800.0,900.0,600.0,650.0,1000.0,1000.0,400.0,550.0,750.0,400.0,800.0,500.0,500.0,800.0,800.0,600.0,800.0,1400.0,700.0,800.0,900.0,700.0,750.0,450.0,300.0,700.0,650.0,1300.0,600.0,500.0,800.0,500.0,600.0,700.0,400.0,500.0,500.0,550.0,800.0,1000.0,450.0,400.0,250.0,650.0,550.0,700.0,800.0,550.0,800.0,400.0,400.0,500.0,700.0,650.0,1300.0,550.0,550.0,750.0,600.0,700.0,500.0,750.0,900.0,1000.0,250.0,600.0,300.0,600.0,450.0,600.0,450.0,900.0,500.0,1000.0,600.0,500.0,600.0,400.0,400.0,450.0,500.0,400.0,300.0,250.0,400.0,500.0,150.0,400.0,300.0,400.0,400.0,500.0,300.0,400.0,300.0,350.0,350.0,400.0,500.0,400.0,300.0,150.0,400.0,600.0,400.0,500.0,600.0,400.0,200.0,400.0,400.0,300.0,200.0,500.0,450.0,500.0,400.0,450.0,400.0,400.0,250.0,250.0,600.0,300.0,500.0,400.0,600.0,200.0,250.0,300.0,400.0,400.0,400.0,400.0,300.0,300.0,750.0,300.0,300.0,700.0,200.0,400.0,800.0,200.0,150.0,350.0,250.0,500.0,500.0,300.0,500.0,400.0,200.0,400.0,250.0,1400.0,1900.0,1000.0,1600.0,1500.0,600.0,1500.0,1000.0,2000.0,700.0,750.0,1200.0,800.0,550.0,550.0,900.0,250.0,550.0,1200.0,400.0,1500.0,450.0,300.0,500.0,1900.0,350.0,300.0,250.0,600.0,300.0,350.0,100.0,450.0,1000.0,1000.0,1500.0,1500.0,850.0,1400.0,1100.0,900.0,1900.0,1000.0,1200.0,1500.0,1000.0,850.0,1000.0,1500.0,1400.0,1100.0,900.0,1200.0,1200.0,1400.0,1300.0,1400.0,1900.0,1500.0,1200.0,1500.0,1000.0,1200.0,1800.0,1600.0,2100.0,1200.0,1700.0,1400.0,1100.0,1300.0,800.0,1000.0,1300.0,750.0,1600.0,900.0,1700.0,1100.0,1200.0,1200.0,400.0,850.0,1200.0,1500.0,1700.0,1000.0,1100.0,3500.0,3000.0,2100.0,2800.0,2200.0,3000.0,1400.0,1500.0,3000.0,1000.0,900.0,800.0,600.0,800.0,900.0,600.0,1000.0,600.0,1300.0,600.0,200.0,500.0,550.0,700.0,800.0,600.0,900.0,1000.0,700.0,400.0,600.0,800.0,400.0,700.0,650.0,500.0,700.0,450.0,800.0,500.0,650.0,800.0,850.0,800.0,750.0,500.0,450.0,500.0,500.0,700.0,500.0,1100.0,900.0,200.0,500.0,700.0,600.0,500.0,600.0,500.0,1600.0,500.0,1700.0,2500.0,700.0,700.0,700.0,500.0,300.0,300.0,300.0,200.0,800.0,500.0,600.0,300.0,600.0,400.0,400.0,450.0,150.0,400.0,350.0,350.0,400.0,500.0,200.0,400.0,650.0,500.0,400.0,300.0,1000.0,350.0,150.0,200.0,800.0,650.0,800.0,400.0,800.0,400.0,850.0,600.0,300.0,500.0,500.0,550.0,250.0,550.0,750.0,400.0,800.0,600.0,250.0,300.0,150.0,1000.0,950.0,250.0,200.0,600.0,1200.0,800.0,650.0,600.0,800.0,700.0,500.0,900.0,700.0,600.0,500.0,500.0,450.0,600.0,1200.0,300.0,400.0,750.0,700.0,600.0,400.0,1600.0,600.0,400.0,1200.0,650.0,400.0,500.0,600.0,300.0,800.0,150.0,300.0,1200.0,800.0,600.0,900.0,40.0,300.0,750.0,400.0,250.0,500.0,700.0,650.0,500.0,350.0,600.0,750.0,200.0,600.0,400.0,1500.0,450.0,650.0,100.0,500.0,500.0,350.0,800.0,250.0,500.0,500.0,1300.0,850.0,1400.0,700.0,800.0,550.0,600.0,1000.0,1100.0,1200.0,1500.0,600.0,500.0,1000.0,1200.0,900.0,1600.0,500.0,300.0,300.0,300.0,500.0,1800.0,900.0,250.0,450.0,700.0,800.0,850.0,800.0,450.0,700.0,550.0,500.0,600.0,800.0,200.0,300.0,1100.0,450.0,400.0,350.0,800.0,500.0,400.0,750.0,500.0,900.0,650.0,400.0,1100.0,1600.0,600.0,900.0,350.0,800.0,1300.0,800.0,300.0,400.0,400.0,500.0,800.0,400.0,550.0,1500.0,250.0,150.0,400.0,600.0,650.0,750.0,800.0,1000.0,1500.0,450.0,350.0,700.0,300.0,500.0,300.0,2100.0,1300.0,180.0,400.0,200.0,450.0,300.0,500.0,400.0,750.0,700.0,700.0,800.0,700.0,1000.0,200.0,500.0,300.0,2000.0,1000.0,700.0,1000.0,700.0,250.0,200.0,600.0,950.0,1000.0,550.0,400.0,500.0,650.0,800.0,1200.0,2000.0,250.0,550.0,250.0,1400.0,200.0,900.0,850.0,1500.0,700.0,400.0,700.0,200.0,1000.0,1600.0,1500.0,2100.0,350.0,450.0,1000.0,300.0,300.0,1200.0,300.0,400.0,550.0,900.0,150.0,700.0,800.0,2000.0,500.0,350.0,300.0,800.0,1400.0,700.0,450.0,500.0,1200.0,700.0,600.0,350.0,500.0,800.0,1200.0,300.0,500.0,450.0,600.0,600.0,600.0,400.0,400.0,350.0,800.0,900.0,200.0,2000.0,1700.0,650.0,450.0,500.0,500.0,200.0,400.0,500.0,700.0,600.0,500.0,1500.0,350.0,300.0,1000.0,500.0,650.0,1400.0,1400.0,700.0,200.0,400.0,700.0,300.0,400.0,450.0,300.0,500.0,750.0,500.0,450.0,750.0,1200.0,200.0,1800.0,800.0,200.0,200.0,400.0,1000.0,700.0,400.0,200.0,1100.0,1500.0,800.0,300.0,650.0,400.0,400.0,300.0,350.0,450.0,600.0,1000.0,600.0,1200.0,400.0,800.0,300.0,1000.0,500.0,1500.0,400.0,700.0,150.0,350.0,1400.0,600.0,400.0,500.0,1900.0,400.0,500.0,1700.0,1400.0,650.0,450.0,500.0,600.0,1600.0,250.0,300.0,800.0,1700.0,500.0,450.0,400.0,150.0,500.0,450.0,700.0,500.0,250.0,1100.0,400.0,150.0,200.0,500.0,500.0,500.0,500.0,850.0,500.0,1600.0,600.0,600.0,200.0,1200.0,800.0,400.0,600.0,800.0,900.0,400.0,1000.0,500.0,550.0,500.0,150.0,500.0,800.0,700.0,300.0,400.0,800.0,400.0,300.0,400.0,300.0,400.0,300.0,200.0,800.0,400.0,400.0,300.0,300.0,400.0,800.0,800.0,500.0,300.0,500.0,750.0,150.0,500.0,450.0,500.0,400.0,300.0,400.0,200.0,1100.0,200.0,200.0,200.0,650.0,300.0,250.0,500.0,600.0,400.0,300.0,500.0,200.0,250.0,300.0,200.0,400.0,450.0,300.0,2000.0,700.0,400.0,800.0,1200.0,700.0,200.0,200.0,2500.0,1600.0,1500.0,1000.0,800.0,1500.0,2000.0,1400.0,1800.0,1200.0,1200.0,1500.0,1500.0,1600.0,1200.0,1300.0,900.0,2100.0,2500.0,1500.0,1400.0,1000.0,1300.0,800.0,1300.0,900.0,1200.0,1700.0,800.0,1500.0,1400.0,1400.0,1100.0,1100.0,1600.0,1000.0,1200.0,600.0,800.0,1000.0,1500.0,1000.0,850.0,1300.0,1200.0,600.0,1200.0,800.0,750.0,1500.0,1000.0,1000.0,1300.0,1500.0,800.0,1200.0,1000.0,600.0,1200.0,800.0,200.0,1000.0,1200.0,750.0,1600.0,1100.0,500.0,1500.0,1200.0,900.0,1000.0,800.0,1500.0,900.0,1200.0,1700.0,650.0,1400.0,700.0,1300.0,1500.0,1100.0,900.0,800.0,800.0,600.0,900.0,1000.0,1100.0,1500.0,1100.0,900.0,1000.0,700.0,700.0,500.0,600.0,1500.0,800.0,700.0,650.0,650.0,500.0,500.0,950.0,1400.0,750.0,800.0,800.0,400.0,1200.0,800.0,450.0,500.0,1200.0,500.0,750.0,1700.0,850.0,800.0,1600.0,500.0,1800.0,1200.0,600.0,800.0,850.0,800.0,350.0,800.0,1500.0,800.0,650.0,850.0,700.0,1000.0,1100.0,650.0,450.0,800.0,250.0,600.0,650.0,650.0,550.0,500.0,1100.0,500.0,650.0,700.0,1200.0,1500.0,700.0,400.0,1100.0,500.0,600.0,700.0,650.0,600.0,600.0,700.0,650.0,600.0,450.0,500.0,1000.0,700.0,550.0,600.0,300.0,500.0,150.0,450.0,350.0,300.0,400.0,600.0,150.0,800.0,200.0,300.0,200.0,600.0,300.0,300.0,400.0,500.0,650.0,800.0,150.0,200.0,350.0,350.0,500.0,200.0,500.0,200.0,600.0,40.0,400.0,500.0,600.0,500.0,400.0,200.0,400.0,350.0,400.0,700.0,400.0,200.0,350.0,250.0,250.0,400.0,600.0,200.0,400.0,200.0,400.0,500.0,500.0,350.0,300.0,300.0,1600.0,600.0,1700.0,1500.0,750.0,600.0,600.0,1800.0,850.0,1700.0,750.0,600.0,1000.0,800.0,500.0,500.0,500.0,700.0,500.0,550.0,600.0,600.0,500.0,1800.0,1300.0,400.0,450.0,700.0,250.0,1100.0,600.0,500.0,500.0,500.0,450.0,300.0,150.0,400.0,350.0,150.0,300.0,250.0,200.0,150.0,450.0,350.0,450.0,300.0,250.0,200.0,450.0,500.0,500.0,150.0,500.0,350.0,450.0,300.0,250.0,350.0,400.0,200.0,400.0,500.0,600.0,1800.0,2800.0,3500.0,3000.0,2100.0,2800.0,4000.0,1000.0,1000.0,1700.0,2200.0,2500.0,3000.0,1000.0,1400.0,1000.0,2500.0,3500.0,2000.0,550.0,600.0,3000.0,2400.0,1500.0,6000.0,3000.0,2800.0,1200.0,1000.0,1500.0,1800.0,3000.0,2000.0,700.0,2000.0,700.0,450.0,400.0,150.0,3000.0,2500.0,3000.0,250.0,3000.0,400.0,550.0,150.0,1200.0,3000.0,400.0,1400.0,2400.0,700.0,1900.0,1000.0,450.0,500.0,500.0,400.0,300.0,700.0,2500.0,800.0,1300.0,1500.0,1400.0,1500.0,2000.0,1500.0,2100.0,1400.0,1300.0,1300.0,1400.0,1000.0,1500.0,1500.0,1400.0,1200.0,1100.0,1000.0,1200.0,1400.0,1300.0,1500.0,1100.0,1500.0,1400.0,750.0,1700.0,1600.0,1800.0,1500.0,1000.0,1200.0,1000.0,1600.0,1700.0,1300.0,1800.0,1000.0,1000.0,1800.0,2400.0,1500.0,2800.0,3000.0,3000.0,3000.0,1200.0,1400.0,2400.0,1400.0,1300.0,1000.0,2000.0,1200.0,1500.0,1500.0,2500.0,1400.0,1300.0,1300.0,1400.0,1100.0,1500.0,1500.0,800.0,1200.0,1100.0,1000.0,1200.0,1300.0,1500.0,1100.0,900.0,1500.0,1400.0,750.0,1700.0,1000.0,1200.0,1000.0,1700.0,1700.0,1300.0,1800.0,1000.0,1000.0,1400.0,1000.0,1800.0,1500.0,1200.0,1800.0,3000.0,1200.0,1400.0,1100.0,1000.0,950.0,1000.0,1500.0,750.0,600.0,550.0,1350.0,1200.0,1600.0,900.0,1600.0,1200.0,1000.0,800.0,1100.0,1000.0,800.0,600.0,800.0,900.0,1000.0,950.0,800.0,800.0,800.0,800.0,500.0,400.0,800.0,800.0,850.0,700.0,800.0,400.0,650.0,700.0,750.0,400.0,300.0,150.0,400.0,650.0,550.0,650.0,400.0,450.0,400.0,600.0,600.0,600.0,1000.0,600.0,600.0,500.0,600.0,600.0,650.0,400.0,550.0,400.0,700.0,500.0,600.0,700.0,600.0,650.0,600.0,400.0,500.0,500.0,700.0,500.0,500.0,250.0,300.0,200.0,300.0,400.0,400.0,450.0,900.0,400.0,450.0,400.0,400.0,150.0,500.0,300.0,500.0,150.0,800.0,600.0,600.0,200.0,500.0,550.0,250.0,300.0,400.0,400.0,200.0,300.0,500.0,200.0,450.0,600.0,800.0,250.0,500.0,400.0,400.0,200.0,400.0,250.0,300.0,700.0,400.0,400.0,200.0,600.0,600.0,800.0,600.0,500.0,300.0,400.0,700.0,150.0,550.0,150.0,300.0,100.0,300.0,800.0,300.0,300.0,350.0,400.0,400.0,500.0,800.0,750.0,600.0,500.0,350.0,400.0,300.0,400.0,700.0,500.0,100.0,200.0,600.0,500.0,450.0,250.0,800.0,300.0,300.0,750.0,650.0,200.0,800.0,1000.0,300.0,250.0,500.0,500.0,300.0,600.0,350.0,650.0,600.0,200.0,650.0,400.0,1200.0,300.0,700.0,200.0,250.0,400.0,400.0,300.0,400.0,1000.0,100.0,600.0,800.0,1000.0,400.0,1200.0,600.0,500.0,800.0,500.0,400.0,200.0,500.0,600.0,900.0,400.0,450.0,650.0,400.0,450.0,800.0,600.0,200.0,400.0,300.0,1600.0,500.0,400.0,650.0,800.0,500.0,600.0,300.0,600.0,500.0,800.0,800.0,250.0,500.0,1500.0,800.0,350.0,300.0,1600.0,400.0,500.0,600.0,250.0,500.0,250.0,300.0,400.0,400.0,200.0,600.0,250.0,200.0,500.0,350.0,800.0,300.0,1200.0,1200.0,450.0,300.0,600.0,800.0,500.0,400.0,400.0,400.0,600.0,1000.0,600.0,700.0,600.0,600.0,400.0,350.0,450.0,200.0,500.0,200.0,1000.0,600.0,500.0,500.0,800.0,900.0,400.0,150.0,400.0,500.0,800.0,800.0,200.0,750.0,500.0,450.0,700.0,230.0,600.0,650.0,1500.0,1500.0,200.0,700.0,800.0,500.0,500.0,200.0,500.0,300.0,250.0,1600.0,200.0,600.0,700.0,300.0,300.0,450.0,200.0,300.0,200.0,900.0,400.0,600.0,450.0,1100.0,500.0,400.0,300.0,1000.0,700.0,300.0,600.0,400.0,150.0,500.0,1200.0,200.0,1200.0,300.0,400.0,200.0,750.0,650.0,300.0,550.0,400.0,800.0,650.0,600.0,700.0,500.0,1200.0,600.0,700.0,800.0,600.0,700.0,300.0,500.0,800.0,150.0,250.0,250.0,100.0,1200.0,200.0,500.0,900.0,350.0,100.0,1200.0,800.0,1500.0,300.0,300.0,500.0,350.0,500.0,250.0,600.0,450.0,400.0,1500.0,500.0,300.0,800.0,1000.0,500.0,750.0,200.0,200.0,800.0,1300.0,700.0,300.0,1500.0,400.0,200.0,600.0,1000.0,400.0,600.0,450.0,450.0,1100.0,300.0,500.0,300.0,700.0,1000.0,400.0,400.0,650.0,800.0,500.0,400.0,400.0,600.0,1300.0,300.0,700.0,600.0,300.0,300.0,400.0,600.0,800.0,650.0,650.0,600.0,1200.0,300.0,200.0,800.0,500.0,500.0,750.0,1000.0,1100.0,400.0,400.0,200.0,800.0,300.0,600.0,650.0,600.0,100.0,400.0,300.0,400.0,800.0,450.0,400.0,900.0,400.0,350.0,400.0,1200.0,1100.0,600.0,800.0,400.0,600.0,750.0,400.0,700.0,250.0,350.0,400.0,400.0,700.0,400.0,500.0,750.0,800.0,400.0,300.0,600.0,950.0,550.0,900.0,400.0,1400.0,500.0,300.0,750.0,700.0,300.0,550.0,450.0,300.0,1000.0,700.0,600.0,900.0,600.0,600.0,500.0,600.0,1000.0,500.0,600.0,300.0,600.0,1500.0,650.0,250.0,1100.0,750.0,400.0,600.0,800.0,500.0,600.0,150.0,700.0,1500.0,300.0,750.0,750.0,600.0,500.0,800.0,500.0,150.0,700.0,1000.0,1200.0,350.0,600.0,150.0,350.0,400.0,800.0,800.0,350.0,300.0,400.0,1000.0,400.0,550.0,600.0,300.0,700.0,900.0,600.0,800.0,850.0,100.0,400.0,700.0,600.0,300.0,550.0,400.0,700.0,1500.0,1400.0,800.0,1350.0,800.0,1200.0,1350.0,550.0,650.0,750.0,800.0,600.0,600.0,400.0,1100.0,1300.0,900.0,250.0,500.0,900.0,700.0,150.0,700.0,1500.0,400.0,300.0,800.0,1300.0,700.0,900.0,1000.0,1000.0,300.0,300.0,1000.0,500.0,600.0,1000.0,800.0,450.0,800.0,400.0,600.0,600.0,650.0,550.0,1200.0,600.0,1200.0,800.0,550.0,700.0,450.0,900.0,500.0,300.0,500.0,500.0,450.0,550.0,550.0,600.0,600.0,450.0,1000.0,600.0,1000.0,1300.0,600.0,200.0,300.0,550.0,900.0,100.0,700.0,200.0,350.0,400.0,600.0,600.0,650.0,1200.0,800.0,650.0,1200.0,800.0,300.0,400.0,200.0,600.0,800.0,800.0,450.0,200.0,650.0,700.0,350.0,250.0,600.0,650.0,200.0,300.0,300.0,150.0,450.0,400.0,600.0,650.0,500.0,900.0,400.0,350.0,500.0,400.0,750.0,400.0,800.0,400.0,800.0,200.0,200.0,200.0,400.0,500.0,800.0,400.0,250.0,400.0,400.0,400.0,200.0,600.0,400.0,350.0,500.0,700.0,400.0,400.0,300.0,400.0,300.0,150.0,300.0,250.0,300.0,200.0,400.0,400.0,400.0,400.0,300.0,700.0,600.0,150.0,600.0,500.0,150.0,500.0,150.0,500.0,600.0,400.0,400.0,230.0,550.0,400.0,100.0,400.0,700.0,500.0,500.0,700.0,200.0,400.0,250.0,600.0,300.0,200.0,200.0,800.0,500.0,400.0,300.0,800.0,1100.0,700.0,1000.0,600.0,1200.0,950.0,800.0,1000.0,1500.0,800.0,650.0,350.0,800.0,800.0,1000.0,1700.0,700.0,1000.0,500.0,1500.0,400.0,750.0,550.0,900.0,600.0,750.0,1200.0,800.0,800.0,800.0,600.0,650.0,1200.0,1200.0,250.0,600.0,850.0,700.0,1000.0,800.0,400.0,1000.0,900.0,600.0,800.0,800.0,500.0,700.0,350.0,900.0,700.0,750.0,400.0,800.0,600.0,450.0,800.0,400.0,550.0,750.0,1350.0,600.0,450.0,750.0,750.0,1000.0,400.0,900.0,500.0,300.0,550.0,550.0,700.0,600.0,500.0,400.0,100.0,1350.0,650.0,400.0,1200.0,650.0,450.0,700.0,300.0,800.0,900.0,850.0,400.0,400.0,200.0,200.0,500.0,1200.0,400.0,150.0,200.0,100.0,400.0,600.0,400.0,200.0,500.0,600.0,400.0,100.0,400.0,500.0,200.0,200.0,400.0,300.0,400.0,200.0,400.0,250.0,300.0,200.0,400.0,150.0,250.0,500.0,350.0,200.0,350.0,650.0,300.0,600.0,400.0,550.0,1500.0,1600.0,1600.0,1200.0,1600.0,1200.0,1500.0,1500.0,1300.0,800.0,600.0,1000.0,800.0,800.0,1200.0,800.0,600.0,1000.0,800.0,800.0,1000.0,800.0,1000.0,800.0,1200.0,1100.0,1500.0,800.0,900.0,600.0,600.0,600.0,1000.0,700.0,700.0,800.0,300.0,1300.0,1300.0,600.0,1000.0,1000.0,800.0,600.0,500.0,500.0,600.0,500.0,300.0,650.0,1100.0,750.0,150.0,400.0,300.0,650.0,650.0,400.0,300.0,650.0,200.0,1000.0,550.0,600.0,250.0,450.0,800.0,900.0,900.0,400.0,400.0,350.0,1000.0,850.0,300.0,100.0,500.0,500.0,700.0,650.0,750.0,400.0,1100.0,400.0,300.0,600.0,300.0,600.0,450.0,450.0,500.0,150.0,150.0,700.0,400.0,1100.0,250.0,200.0,600.0,600.0,700.0,400.0,500.0,400.0,500.0,600.0,600.0,400.0,650.0,600.0,400.0,950.0,400.0,300.0,300.0,400.0,500.0,600.0,600.0,100.0,300.0,300.0,350.0,650.0,300.0,200.0,400.0,500.0,250.0,650.0,600.0,600.0,400.0,600.0,600.0,350.0,300.0,300.0,150.0,200.0,550.0,400.0,450.0,450.0,250.0,300.0,800.0,500.0,600.0,300.0,800.0,400.0,300.0,300.0,300.0,300.0,300.0,150.0,450.0,400.0,400.0,200.0,400.0,650.0,500.0,500.0,400.0,500.0,300.0,700.0,250.0,250.0,500.0,1000.0,1300.0,1200.0,1500.0,1200.0,1350.0,1000.0,1500.0,1500.0,900.0,1600.0,1200.0,1100.0,1200.0,1100.0,1500.0,1000.0,1300.0,1100.0,1100.0,800.0,1100.0,1600.0,1200.0,1000.0,800.0,1000.0,600.0,1000.0,800.0,900.0,1000.0,950.0,900.0,1000.0,1600.0,1000.0,1100.0,600.0,1200.0,1350.0,800.0,600.0,600.0,1000.0,600.0,600.0,700.0,800.0,550.0,650.0,600.0,400.0,600.0,450.0,550.0,700.0,400.0,500.0,500.0,400.0,500.0,600.0,800.0,500.0,850.0,500.0,650.0,500.0,300.0,400.0,750.0,400.0,550.0,650.0,600.0,400.0,400.0,700.0,500.0,250.0,300.0,450.0,600.0,900.0,800.0,400.0,300.0,500.0,400.0,500.0,400.0,200.0,200.0,400.0,600.0,300.0,700.0,400.0,250.0,400.0,600.0,250.0,300.0,400.0,450.0,300.0,250.0,300.0,200.0,400.0,350.0,800.0,250.0,200.0,300.0,150.0,400.0,600.0,350.0,300.0,600.0,300.0,550.0,100.0,750.0,300.0,300.0,500.0,200.0,300.0,700.0,500.0,400.0,400.0,400.0,650.0,800.0,300.0,500.0,400.0,500.0,600.0,750.0,800.0,400.0,250.0,350.0,600.0,500.0,200.0,400.0,200.0,300.0,250.0,600.0,500.0,250.0,1000.0,500.0,700.0,600.0,1200.0,300.0,400.0,400.0,650.0,700.0,400.0,400.0,200.0,400.0,600.0,400.0,400.0,100.0,750.0,400.0,250.0,1200.0,1000.0,900.0,400.0,600.0,800.0,900.0,400.0,400.0,450.0,400.0,700.0,300.0,650.0,350.0,300.0,400.0,300.0,800.0,600.0,300.0,500.0,300.0,300.0,500.0,700.0,400.0,500.0,1600.0,600.0,500.0,600.0,200.0,250.0,1500.0,500.0,300.0,600.0,400.0,400.0,350.0,500.0,1200.0,650.0,600.0,500.0,400.0,500.0,600.0,350.0,1200.0,200.0,200.0,500.0,450.0,600.0,400.0,800.0,400.0,600.0,750.0,1000.0,800.0,450.0,500.0,400.0,450.0,250.0,250.0,700.0,750.0,230.0,500.0,100.0,250.0,500.0,750.0,300.0,250.0,300.0,600.0,300.0,400.0,600.0,400.0,1100.0,700.0,1200.0,1200.0,750.0,400.0,500.0,1000.0,800.0,600.0,200.0,800.0,200.0,600.0,700.0,800.0,100.0,150.0,500.0,450.0,300.0,600.0,400.0,1000.0,200.0,350.0,600.0,700.0,500.0,400.0,250.0,400.0,800.0,500.0,250.0,1500.0,400.0,500.0,300.0,700.0,500.0,1300.0,300.0,300.0,300.0,300.0,450.0,650.0,800.0,400.0,800.0,500.0,600.0,1200.0,300.0,650.0,400.0,400.0,800.0,700.0,1100.0,400.0,400.0,650.0,900.0,1200.0,650.0,300.0,650.0,800.0,350.0,300.0,400.0,1300.0,400.0,1200.0,700.0,350.0,650.0,800.0,1100.0,550.0,400.0,500.0,750.0,400.0,900.0,300.0,700.0,450.0,650.0,500.0,300.0,1200.0,400.0,400.0,300.0,1000.0,200.0,200.0,400.0,500.0,200.0,800.0,750.0,500.0,900.0,300.0,700.0,700.0,500.0,600.0,350.0,150.0,800.0,750.0,1000.0,500.0,600.0,800.0,600.0,600.0,800.0,700.0,250.0,700.0,400.0,800.0,350.0,600.0,1700.0,300.0,400.0,600.0,400.0,700.0,500.0,200.0,700.0,600.0,600.0,1000.0,450.0,650.0,600.0,600.0,550.0,900.0,300.0,300.0,500.0,400.0,1200.0,450.0,650.0,800.0,800.0,400.0,600.0,1100.0,750.0,500.0,800.0,500.0,600.0,150.0,700.0,100.0,500.0,900.0,1000.0,800.0,400.0,1000.0,1700.0,1000.0,800.0,550.0,500.0,600.0,1200.0,600.0,600.0,450.0,350.0,800.0,550.0,500.0,650.0,800.0,450.0,1350.0,1000.0,600.0,550.0,500.0,600.0,1000.0,300.0,550.0,600.0,450.0,650.0,500.0,600.0,1350.0,300.0,500.0,200.0,800.0,500.0,400.0,200.0,500.0,450.0,400.0,550.0,300.0,750.0,900.0,250.0,400.0,500.0,500.0,900.0,700.0,600.0,500.0,300.0,400.0,600.0,500.0,400.0,500.0,400.0,550.0,200.0,200.0,200.0,250.0,600.0,500.0,500.0,400.0,600.0,250.0,800.0,400.0,100.0,500.0,300.0,400.0,200.0,400.0,400.0,400.0,800.0,400.0,500.0,400.0,600.0,300.0,400.0,700.0,150.0,300.0,500.0,400.0,300.0,250.0,200.0,400.0,400.0,300.0,230.0,300.0,1200.0,1500.0,1200.0,1600.0,1200.0,1600.0,1000.0,1500.0,1300.0,1200.0,1200.0,800.0,1300.0,800.0,1000.0,800.0,1500.0,800.0,600.0,750.0,1200.0,700.0,800.0,1100.0,900.0,800.0,550.0,1300.0,1100.0,600.0,1000.0,800.0,1200.0,1300.0,1100.0,600.0,1000.0,600.0,750.0,1000.0,1000.0,800.0,500.0,600.0,750.0,700.0,700.0,600.0,300.0,400.0,700.0,700.0,500.0,350.0,500.0,950.0,400.0,450.0,300.0,800.0,650.0,450.0,400.0,650.0,900.0,550.0,600.0,850.0,600.0,500.0,400.0,400.0,1000.0,400.0,600.0,1100.0,650.0,1000.0,500.0,450.0,950.0,600.0,650.0,500.0,700.0,550.0,750.0,450.0,400.0,750.0,750.0,500.0,800.0,650.0,800.0,600.0,700.0,750.0,300.0,500.0,500.0,300.0,300.0,400.0,700.0,300.0,400.0,300.0,400.0,100.0,450.0,500.0,500.0,400.0,400.0,500.0,200.0,500.0,450.0,100.0,250.0,400.0,250.0,200.0,400.0,600.0,300.0,300.0,200.0,600.0,350.0,200.0,150.0,300.0,800.0,300.0,200.0,400.0,300.0,900.0,1200.0,1500.0,1200.0,1000.0,800.0,1000.0,1000.0,550.0,800.0,1000.0,800.0,800.0,500.0,600.0,400.0,500.0,500.0,600.0,500.0,450.0,1000.0,600.0,650.0,600.0,800.0,800.0,750.0,250.0,400.0,400.0,250.0,350.0,600.0,400.0,600.0,600.0,1100.0,400.0,300.0,300.0,250.0,1600.0,450.0,1100.0,800.0,1000.0,1100.0,1000.0,800.0,800.0,500.0,800.0,650.0,1000.0,1700.0,250.0,1200.0,550.0,800.0,850.0,600.0,600.0,350.0,500.0,500.0,600.0,900.0,400.0,500.0,500.0,650.0,600.0,700.0,550.0,400.0,1350.0,1200.0,500.0,300.0,250.0,750.0,300.0,400.0,750.0,1000.0,200.0,100.0,300.0,400.0,700.0,500.0,200.0,300.0,400.0,150.0,500.0,450.0,700.0,300.0,300.0,500.0,600.0,200.0,400.0,500.0,500.0,500.0,400.0,400.0,800.0,300.0,350.0,300.0,200.0,500.0,400.0,550.0,550.0,650.0,600.0,400.0,500.0,400.0,350.0,250.0,450.0,550.0,250.0,300.0,300.0,300.0,1350.0,900.0,400.0,400.0,400.0,300.0,700.0,650.0,250.0,1000.0,1300.0,1500.0,1200.0,1600.0,1200.0,1500.0,1200.0,1200.0,1300.0,1100.0,1100.0,1000.0,1100.0,900.0,1200.0,1100.0,1350.0,1400.0,1400.0,1600.0,800.0,600.0,750.0,1500.0,800.0,1000.0,1400.0,750.0,800.0,900.0,1200.0,700.0,700.0,500.0,700.0,600.0,700.0,900.0,700.0,500.0,650.0,650.0,350.0,600.0,700.0,800.0,1000.0,800.0,650.0,500.0,500.0,500.0,550.0,500.0,400.0,450.0,350.0,300.0,400.0,800.0,400.0,800.0,600.0,400.0,300.0,350.0,450.0,600.0,200.0,300.0,300.0,400.0,600.0,600.0,650.0,100.0,400.0,450.0,600.0,300.0,500.0,400.0,500.0,750.0,650.0,400.0,400.0,450.0,400.0,300.0,600.0,500.0,600.0,550.0,400.0,500.0,700.0,1500.0,600.0,550.0,300.0,500.0,500.0,450.0,700.0,500.0,700.0,600.0,600.0,500.0,400.0,150.0,600.0,400.0,500.0,400.0,400.0,800.0,1300.0,750.0,400.0,250.0,900.0,1400.0,500.0,450.0,500.0,400.0,450.0,300.0,800.0,500.0,500.0,650.0,400.0,450.0,500.0,1200.0,600.0,650.0,500.0,200.0,350.0,1200.0,400.0,500.0,350.0,800.0,300.0,400.0,400.0,700.0,500.0,600.0,1050.0,500.0,750.0,600.0,800.0,750.0,500.0,600.0,1400.0,200.0,800.0,400.0,400.0,900.0,300.0,700.0,1500.0,300.0,700.0,550.0,300.0,500.0,650.0,800.0,300.0,750.0,500.0,500.0,350.0,400.0,1000.0,400.0,600.0,600.0,400.0,600.0,750.0,1400.0,250.0,250.0,800.0,150.0,800.0,250.0,1100.0,200.0,550.0,500.0,600.0,900.0,450.0,400.0,700.0,500.0,750.0,600.0,750.0,700.0,150.0,700.0,750.0,500.0,300.0,550.0,500.0,300.0,1400.0,800.0,800.0,650.0,750.0,1200.0,600.0,1800.0,700.0,500.0,400.0,600.0,400.0,900.0,400.0,700.0,1100.0,550.0,650.0,1000.0,1500.0,500.0,1000.0,600.0,1000.0,700.0,400.0,600.0,350.0,500.0,700.0,1000.0,500.0,600.0,500.0,800.0,1400.0,700.0,800.0,500.0,1300.0,650.0,600.0,400.0,1500.0,450.0,400.0,650.0,1000.0,550.0,800.0,500.0,700.0,600.0,800.0,1000.0,600.0,300.0,600.0,800.0,450.0,600.0,450.0,300.0,1200.0,500.0,250.0,300.0,650.0,600.0,700.0,350.0,500.0,250.0,300.0,300.0,400.0,300.0,1200.0,250.0,700.0,250.0,400.0,700.0,400.0,300.0,200.0,400.0,500.0,500.0,600.0,700.0,500.0,300.0,300.0,600.0,650.0,1000.0,400.0,400.0,800.0,350.0,400.0,300.0,150.0,500.0,650.0,450.0,150.0,1400.0,1800.0,1200.0,1400.0,1400.0,1400.0,1600.0,900.0,1100.0,800.0,800.0,600.0,800.0,1200.0,800.0,750.0,1000.0,700.0,800.0,1400.0,1300.0,1500.0,700.0,600.0,750.0,750.0,1500.0,1300.0,650.0,1400.0,800.0,1200.0,600.0,600.0,800.0,1100.0,700.0,500.0,700.0,1200.0,900.0,1000.0,1300.0,700.0,600.0,700.0,500.0,600.0,1000.0,400.0,600.0,400.0,800.0,600.0,900.0,600.0,700.0,800.0,400.0,500.0,750.0,650.0,500.0,650.0,500.0,750.0,800.0,700.0,600.0,600.0,1000.0,350.0,500.0,750.0,700.0,250.0,500.0,500.0,350.0,400.0,400.0,250.0,300.0,500.0,300.0,600.0,450.0,300.0,200.0,500.0,650.0,350.0,200.0,150.0,200.0,400.0,600.0,800.0,600.0,1500.0,450.0,800.0,1200.0,1500.0,600.0,600.0,1400.0,800.0,700.0,300.0,450.0,650.0,550.0,400.0,650.0,800.0,1400.0,700.0,750.0,700.0,650.0,750.0,600.0,1000.0,800.0,600.0,700.0,700.0,500.0,700.0,550.0,450.0,300.0,400.0,400.0,600.0,250.0,300.0,600.0,450.0,500.0,350.0,300.0,450.0,500.0,550.0,400.0,300.0,250.0,300.0,550.0,400.0,300.0,500.0,450.0,350.0,750.0,450.0,650.0,1100.0,700.0,1000.0,600.0,500.0,500.0,300.0,300.0,600.0,1050.0,200.0,250.0,600.0,500.0,600.0,600.0,500.0,200.0,600.0,400.0,400.0,1200.0,500.0,400.0,250.0,600.0,550.0,500.0,500.0,300.0,300.0,400.0,400.0,400.0,1400.0,1800.0,1400.0,1200.0,1300.0,1500.0,1200.0,1200.0,1300.0,1500.0,500.0,1100.0,1200.0,800.0,600.0,800.0,1000.0,800.0,900.0,1200.0,700.0,700.0,500.0,700.0,700.0,500.0,600.0,700.0,500.0,900.0,700.0,500.0,650.0,450.0,550.0,350.0,650.0,700.0,500.0,400.0,450.0,350.0,350.0,600.0,500.0,400.0,300.0,750.0,300.0,250.0,400.0,600.0,300.0,800.0,800.0,450.0,300.0,400.0,400.0,500.0,650.0,500.0,400.0,600.0,300.0,400.0,450.0,300.0,750.0,100.0,600.0,200.0,600.0,300.0,400.0,400.0,450.0,400.0,400.0,400.0,500.0,750.0,650.0,750.0,500.0,400.0,700.0,300.0,1500.0,1400.0,500.0,400.0,150.0,350.0,700.0,700.0,500.0,450.0,400.0,700.0,500.0,600.0,200.0,400.0,600.0,800.0,450.0,500.0,500.0,400.0,600.0,300.0,600.0,500.0,600.0,1300.0,300.0,800.0,150.0,650.0,400.0,250.0,650.0,750.0,500.0,600.0,1200.0,650.0,500.0,550.0,300.0,450.0,600.0,400.0,1400.0,350.0,600.0,700.0,400.0,1400.0,700.0,700.0,500.0,450.0,1000.0,500.0,400.0,550.0,500.0,200.0,600.0,800.0,750.0,400.0,450.0,400.0,650.0,1000.0,800.0,700.0,500.0,500.0,300.0,600.0,500.0,300.0,400.0,1300.0,300.0,600.0,700.0,450.0,200.0,750.0,650.0,500.0,1500.0,500.0,350.0,450.0,500.0,750.0,800.0,600.0,300.0,400.0,400.0,900.0,900.0,450.0,600.0,1000.0,150.0,1000.0,550.0,600.0,750.0,500.0,350.0,600.0,500.0,550.0,800.0,600.0,300.0,400.0,800.0,600.0,250.0,400.0,600.0,700.0,350.0,800.0,600.0,450.0,500.0,500.0,250.0,600.0,300.0,1100.0,500.0,500.0,700.0,550.0,250.0,400.0,700.0,800.0,500.0,600.0,600.0,500.0,400.0,900.0,500.0,800.0,1050.0,650.0,700.0,400.0,750.0,1500.0,400.0,1000.0,400.0,400.0,600.0,800.0,700.0,700.0,800.0,450.0,1200.0,1100.0,800.0,300.0,500.0,800.0,1400.0,850.0,800.0,300.0,1400.0,500.0,500.0,400.0,550.0,1000.0,200.0,1200.0,300.0,600.0,200.0,1800.0,800.0,900.0,1200.0,750.0,500.0,600.0,500.0,200.0,500.0,700.0,400.0,100.0,350.0,300.0,650.0,700.0,300.0,600.0,400.0,650.0,1000.0,300.0,250.0,700.0,1200.0,800.0,400.0,350.0,400.0,150.0,400.0,700.0,400.0,400.0,300.0,200.0,400.0,500.0,500.0,600.0,700.0,400.0,450.0,300.0,500.0,300.0,300.0,300.0,150.0,600.0,650.0,1000.0,650.0,500.0,100.0,500.0,600.0,800.0,600.0,1500.0,450.0,800.0,1200.0,600.0,800.0,1400.0,300.0,450.0,650.0,550.0,400.0,800.0,550.0,1400.0,700.0,750.0,700.0,750.0,800.0,600.0,700.0,700.0,500.0,700.0,600.0,550.0,450.0,300.0,250.0,400.0,400.0,600.0,250.0,300.0,450.0,600.0,500.0,350.0,450.0,500.0,600.0,400.0,300.0,300.0,550.0,400.0,300.0,500.0,450.0,1400.0,1400.0,1800.0,2000.0,1600.0,900.0,1100.0,800.0,800.0,800.0,1200.0,800.0,1200.0,350.0,800.0,750.0,1000.0,700.0,400.0,800.0,1400.0,1400.0,750.0,1500.0,1300.0,700.0,600.0,450.0,750.0,750.0,1500.0,1500.0,600.0,1300.0,200.0,650.0,700.0,1400.0,800.0,1100.0,1200.0,700.0,1000.0,600.0,600.0,800.0,800.0,1100.0,650.0,700.0,500.0,600.0,700.0,1200.0,500.0,900.0,650.0,500.0,1000.0,1300.0,600.0,600.0,600.0,500.0,600.0,1000.0,600.0,400.0,600.0,800.0,500.0,600.0,900.0,600.0,700.0,1050.0,800.0,1300.0,400.0,500.0,600.0,600.0,600.0,750.0,500.0,600.0,650.0,1200.0,500.0,400.0,500.0,450.0,650.0,500.0,750.0,800.0,600.0,700.0,500.0,550.0,600.0,1000.0,350.0,500.0,750.0,700.0,250.0,500.0,300.0,500.0,400.0,200.0,250.0,400.0,250.0,200.0,300.0,500.0,450.0,300.0,300.0,500.0,200.0,600.0,300.0,400.0,450.0,300.0,200.0,400.0,250.0,500.0,650.0,500.0,500.0,400.0,300.0,200.0,300.0,400.0,150.0,400.0,400.0,500.0,300.0,700.0,400.0,1400.0,1800.0,2000.0,500.0,1200.0,1500.0,1300.0,1500.0,1100.0,1200.0,1200.0,1300.0,1200.0,1300.0,1500.0,1400.0,600.0,1000.0,1700.0,1500.0,2000.0,1200.0,1000.0,1500.0,1600.0,1500.0,1300.0,1500.0,1500.0,2000.0,1500.0,750.0,900.0,1100.0,1100.0,600.0,1000.0,1400.0,700.0,800.0,2000.0,1000.0,900.0,1000.0,3000.0,1000.0,1200.0,1500.0,800.0,400.0,600.0,800.0,1100.0,1000.0,800.0,600.0,600.0,800.0,600.0,850.0,700.0,700.0,700.0,650.0,650.0,500.0,300.0,450.0,900.0,800.0,1300.0,500.0,400.0,600.0,600.0,600.0,900.0,500.0,1000.0,600.0,900.0,800.0,800.0,900.0,1000.0,800.0,700.0,550.0,700.0,600.0,800.0,700.0,800.0,300.0,700.0,900.0,600.0,1200.0,600.0,650.0,800.0,200.0,1200.0,900.0,650.0,700.0,600.0,700.0,450.0,350.0,500.0,400.0,800.0,600.0,600.0,600.0,600.0,600.0,800.0,500.0,450.0,600.0,250.0,700.0,600.0,1600.0,750.0,900.0,700.0,800.0,450.0,600.0,600.0,500.0,500.0,300.0,250.0,800.0,450.0,400.0,900.0,500.0,800.0,100.0,600.0,800.0,200.0,400.0,450.0,500.0,300.0,250.0,400.0,500.0,500.0,200.0,600.0,200.0,650.0,600.0,400.0,250.0,150.0,600.0,300.0,400.0,400.0,300.0,400.0,250.0,250.0,300.0,550.0,400.0,300.0,600.0,400.0,750.0,250.0,450.0,600.0,400.0,500.0,600.0,400.0,700.0,400.0,150.0,750.0,300.0,250.0,400.0,350.0,300.0,400.0,400.0,650.0,300.0,800.0,600.0,200.0,550.0,500.0,500.0,400.0,300.0,450.0,650.0,300.0,400.0,150.0,800.0,500.0,500.0,150.0,200.0,750.0,250.0,350.0,500.0,350.0,600.0,500.0,600.0,200.0,650.0,300.0,300.0,300.0,500.0,800.0,500.0,300.0,100.0,750.0,600.0,500.0,300.0,300.0,300.0,500.0,600.0,800.0,400.0,400.0,250.0,200.0,300.0,300.0,700.0,700.0,1000.0,400.0,400.0,500.0,450.0,300.0,400.0,700.0,400.0,450.0,550.0,400.0,600.0,600.0,600.0,400.0,400.0,300.0,600.0,450.0,300.0,450.0,300.0,400.0,650.0,400.0,300.0,1000.0,450.0,600.0,200.0,700.0,300.0,600.0,800.0,600.0,400.0,800.0,400.0,1200.0,700.0,800.0,500.0,200.0,500.0,500.0,1200.0,750.0,400.0,350.0,300.0,550.0,750.0,300.0,800.0,250.0,1500.0,500.0,400.0,350.0,250.0,400.0,400.0,600.0,200.0,600.0,800.0,1000.0,600.0,650.0,600.0,1000.0,250.0,750.0,400.0,400.0,600.0,150.0,800.0,350.0,600.0,600.0,500.0,600.0,800.0,300.0,450.0,500.0,450.0,600.0,400.0,400.0,450.0,1000.0,600.0,900.0,1200.0,300.0,800.0,750.0,400.0,550.0,550.0,200.0,300.0,600.0,600.0,750.0,500.0,500.0,600.0,400.0,400.0,350.0,500.0,600.0,450.0,400.0,400.0,250.0,800.0,300.0,1300.0,150.0,500.0,600.0,900.0,500.0,200.0,500.0,1500.0,300.0,500.0,200.0,500.0,500.0,230.0,400.0,500.0,300.0,250.0,1500.0,300.0,750.0,300.0,200.0,700.0,900.0,400.0,1600.0,300.0,900.0,500.0,200.0,500.0,500.0,600.0,1200.0,300.0,600.0,400.0,500.0,700.0,150.0,300.0,1000.0,700.0,200.0,700.0,180.0,450.0,400.0,40.0,200.0,200.0,600.0,700.0,600.0,650.0,650.0,700.0,1000.0,300.0,600.0,200.0,550.0,1800.0,250.0,800.0,950.0,850.0,750.0,250.0,900.0,650.0,1000.0,1500.0,1500.0,300.0,500.0,600.0,300.0,250.0,1000.0,1400.0,400.0,1200.0,800.0,600.0,1200.0,700.0,1400.0,300.0,1000.0,500.0,700.0,250.0,750.0,800.0,350.0,800.0,400.0,500.0,200.0,300.0,400.0,300.0,650.0,1500.0,350.0,700.0,1300.0,1500.0,500.0,700.0,500.0,500.0,800.0,650.0,300.0,600.0,1000.0,500.0,300.0,350.0,850.0,300.0,1300.0,500.0,700.0,600.0,600.0,1100.0,450.0,600.0,600.0,600.0,600.0,700.0,600.0,250.0,700.0,800.0,600.0,400.0,400.0,700.0,450.0,1200.0,500.0,150.0,1000.0,900.0,600.0,800.0,500.0,800.0,700.0,350.0,1000.0,1400.0,400.0,700.0,800.0,400.0,1100.0,350.0,250.0,400.0,400.0,900.0,650.0,250.0,400.0,400.0,200.0,500.0,700.0,600.0,500.0,1000.0,200.0,1500.0,900.0,1200.0,450.0,450.0,600.0,400.0,450.0,400.0,300.0,750.0,400.0,600.0,250.0,600.0,1200.0,800.0,600.0,400.0,500.0,500.0,400.0,600.0,750.0,500.0,600.0,400.0,1200.0,400.0,400.0,700.0,300.0,600.0,1000.0,550.0,800.0,400.0,350.0,350.0,1500.0,600.0,1000.0,400.0,400.0,400.0,450.0,800.0,800.0,500.0,1200.0,650.0,500.0,750.0,900.0,300.0,600.0,600.0,1000.0,900.0,300.0,700.0,1000.0,800.0,300.0,900.0,250.0,600.0,250.0,1000.0,600.0,600.0,550.0,900.0,600.0,1500.0,300.0,800.0,350.0,250.0,650.0,500.0,800.0,1400.0,450.0,700.0,750.0,600.0,700.0,400.0,400.0,400.0,800.0,450.0,1300.0,400.0,800.0,350.0,700.0,1300.0,700.0,550.0,500.0,500.0,500.0,1100.0,300.0,500.0,800.0,600.0,900.0,2500.0,500.0,400.0,1700.0,350.0,700.0,150.0,300.0,600.0,400.0,900.0,400.0,400.0,500.0,600.0,450.0,350.0,800.0,650.0,1100.0,150.0,500.0,300.0,500.0,450.0,600.0,800.0,400.0,600.0,600.0,500.0,400.0,300.0,700.0,600.0,800.0,300.0,1100.0,200.0,1300.0,500.0,1000.0,1200.0,1000.0,800.0,600.0,650.0,1000.0,1600.0,2000.0,1400.0,900.0,600.0,400.0,800.0,1300.0,600.0,200.0,1400.0,400.0,500.0,350.0,800.0,900.0,700.0,400.0,650.0,150.0,650.0,1200.0,300.0,200.0,350.0,200.0,200.0,400.0,500.0,250.0,200.0,150.0,500.0,250.0,350.0,150.0,1000.0,1100.0,200.0,400.0,500.0,600.0,550.0,500.0,300.0,200.0,400.0,650.0,300.0,800.0,350.0,500.0,250.0,900.0,200.0,350.0,800.0,900.0,400.0,500.0,550.0,1500.0,700.0,450.0,450.0,2000.0,350.0,1300.0,600.0,500.0,600.0,600.0,400.0,500.0,800.0,1100.0,550.0,1100.0,400.0,400.0,400.0,450.0,650.0,500.0,300.0,400.0,500.0,650.0,200.0,400.0,900.0,400.0,400.0,250.0,400.0,1200.0,500.0,350.0,200.0,250.0,500.0,700.0,200.0,400.0,500.0,300.0,700.0,800.0,150.0,350.0,200.0,200.0,400.0,500.0,200.0,400.0,250.0,400.0,500.0,600.0,450.0,500.0,150.0,200.0,350.0,250.0,500.0,200.0,300.0,400.0,300.0,400.0,500.0,800.0,200.0,400.0,400.0,200.0,350.0,500.0,150.0,350.0,1000.0,1200.0,2100.0,600.0,1800.0,600.0,1400.0,1200.0,800.0,1200.0,1400.0,1300.0,1300.0,600.0,1000.0,800.0,850.0,650.0,1500.0,750.0,800.0,800.0,700.0,1700.0,750.0,1000.0,700.0,750.0,700.0,1500.0,800.0,1200.0,600.0,650.0,1500.0,650.0,500.0,450.0,1300.0,1000.0,250.0,250.0,800.0,450.0,600.0,450.0,400.0,500.0,400.0,400.0,400.0,600.0,600.0,400.0,1400.0,900.0,2000.0,1500.0,2000.0,1000.0,1100.0,1500.0,1200.0,1300.0,1400.0,900.0,1300.0,1600.0,1600.0,700.0,750.0,800.0,1000.0,1000.0,1500.0,1600.0,1500.0,1500.0,1200.0,1800.0,600.0,1300.0,600.0,1500.0,1400.0,1300.0,1500.0,1000.0,600.0,1500.0,1200.0,800.0,500.0,1000.0,1000.0,1400.0,400.0,600.0,1400.0,1200.0,1400.0,600.0,2500.0,650.0,2000.0,1100.0,1500.0,600.0,900.0,750.0,1200.0,1000.0,500.0,1000.0,1000.0,900.0,600.0,1200.0,1500.0,800.0,600.0,1200.0,800.0,800.0,800.0,900.0,1000.0,1000.0,750.0,700.0,550.0,1100.0,550.0,900.0,1100.0,700.0,500.0,1100.0,650.0,650.0,600.0,600.0,1200.0,600.0,800.0,1000.0,500.0,700.0,650.0,750.0,1200.0,800.0,800.0,850.0,800.0,1400.0,1000.0,700.0,700.0,900.0,600.0,650.0,600.0,750.0,1200.0,800.0,600.0,900.0,650.0,1500.0,800.0,1000.0,750.0,1000.0,800.0,500.0,500.0,800.0,200.0,1100.0,1000.0,750.0,1200.0,650.0,700.0,600.0,1400.0,1400.0,700.0,1300.0,750.0,500.0,800.0,700.0,650.0,700.0,1200.0,600.0,750.0,650.0,1700.0,2000.0,700.0,600.0,450.0,150.0,250.0,1000.0,700.0,350.0,800.0,500.0,900.0,250.0,800.0,550.0,600.0,600.0,500.0,800.0,1000.0,500.0,1300.0,250.0,600.0,1000.0,600.0,600.0,750.0,600.0,600.0,500.0,600.0,500.0,400.0,800.0,600.0,1000.0,250.0,500.0,500.0,800.0,700.0,450.0,800.0,700.0,650.0,600.0,400.0,1500.0,600.0,500.0,800.0,500.0,350.0,500.0,900.0,700.0,700.0,500.0,750.0,1200.0,600.0,600.0,400.0,600.0,400.0,500.0,400.0,200.0,350.0,350.0,550.0,300.0,450.0,250.0,400.0,300.0,400.0,200.0,200.0,450.0,250.0,500.0,600.0,500.0,200.0,400.0,600.0,500.0,450.0,300.0,250.0,300.0,250.0,200.0,900.0,250.0,300.0,400.0,600.0,500.0,500.0,400.0,300.0,500.0,400.0,300.0,200.0,500.0,200.0,400.0,300.0,200.0,500.0,350.0,400.0,300.0,300.0,200.0,200.0,600.0,600.0,500.0,600.0,500.0,300.0,200.0,250.0,400.0,300.0,400.0,300.0,600.0,400.0,350.0,300.0,300.0,500.0,550.0,200.0,150.0,450.0,300.0,300.0,400.0,450.0,550.0,300.0,200.0,400.0,350.0,300.0,250.0,400.0,250.0,200.0,800.0,100.0,1200.0,850.0,800.0,1200.0,1600.0,3000.0,1000.0,750.0,1200.0,1200.0,900.0,1700.0,1250.0,700.0,800.0,800.0,800.0,600.0,1500.0,800.0,550.0,650.0,300.0,700.0,1800.0,600.0,900.0,2000.0,800.0,800.0,800.0,800.0,450.0,1300.0,700.0,150.0,400.0,700.0,600.0,1000.0,200.0,900.0,3000.0,600.0,550.0,650.0,1000.0,450.0,400.0,350.0,300.0,600.0,150.0,1200.0,550.0,350.0,800.0,500.0,400.0,400.0,400.0,900.0,800.0,200.0,500.0,600.0,500.0,600.0,600.0,300.0,1800.0,1000.0,500.0,600.0,350.0,600.0,350.0,500.0,300.0,400.0,300.0,1000.0,1100.0,300.0,600.0,500.0,250.0,300.0,400.0,650.0,350.0,300.0,500.0,250.0,400.0,400.0,600.0,300.0,700.0,1400.0,1200.0,1200.0,1800.0,1200.0,1400.0,1300.0,1500.0,1200.0,1500.0,1300.0,2000.0,1500.0,2000.0,1000.0,1100.0,1600.0,2100.0,1600.0,1000.0,1000.0,1500.0,1800.0,1400.0,1000.0,1200.0,1000.0,1200.0,1400.0,2000.0,1200.0,1200.0,1000.0,1400.0,1000.0,1500.0,1000.0,1400.0,1400.0,1300.0,1200.0,1700.0,1300.0,1500.0,1200.0,1200.0,850.0,1600.0,1200.0,1700.0,1400.0,1200.0,1300.0,2000.0,1500.0,1300.0,1500.0,750.0,1100.0,1400.0,700.0,1000.0,1000.0,600.0,1600.0,1500.0,1500.0,1500.0,2000.0,1500.0,1000.0,900.0,1100.0,600.0,1700.0,1500.0,1000.0,800.0,2000.0,1000.0,900.0,1300.0,800.0,900.0,800.0,1300.0,600.0,600.0,900.0,500.0,900.0,800.0,800.0,900.0,800.0,600.0,800.0,300.0,1200.0,650.0,1200.0,450.0,800.0,600.0,300.0,600.0,800.0,650.0,700.0,600.0,600.0,800.0,500.0,400.0,600.0,1000.0,600.0,600.0,1000.0,850.0,1000.0,700.0,500.0,450.0,800.0,800.0,250.0,300.0,200.0,450.0,400.0,900.0,500.0,250.0,400.0,800.0,400.0,600.0,400.0,500.0,600.0,300.0,600.0,400.0,650.0,500.0,250.0,450.0,300.0,250.0,200.0,450.0,400.0,500.0,300.0,300.0,650.0,150.0,400.0,400.0,200.0,250.0,150.0,250.0,250.0,550.0,400.0,600.0,400.0,400.0,300.0,600.0,400.0,750.0,600.0,300.0,300.0,350.0,400.0,900.0,600.0,700.0,600.0,400.0,400.0,600.0,650.0,250.0,400.0,250.0,150.0,800.0,650.0,300.0,500.0,300.0,400.0,500.0,800.0,300.0,500.0,750.0,300.0,500.0,800.0,600.0,500.0,600.0,400.0,350.0,400.0,650.0,300.0,550.0,500.0,450.0,300.0,600.0,150.0,750.0,300.0,500.0,500.0,650.0,400.0,750.0,200.0,600.0,200.0,600.0,500.0,400.0,200.0,450.0,250.0,400.0,700.0,400.0,600.0,800.0,250.0,400.0,450.0,400.0,800.0,300.0,700.0,100.0,600.0,650.0,600.0,600.0,400.0,600.0,400.0,450.0,400.0,550.0,700.0,500.0,400.0,300.0,400.0,800.0,200.0,600.0,300.0,500.0,500.0,600.0,1500.0,300.0,550.0,350.0,800.0,600.0,200.0,600.0,600.0,500.0,600.0,1000.0,600.0,300.0,300.0,200.0,800.0,400.0,1000.0,450.0,300.0,800.0,400.0,650.0,400.0,300.0,750.0,300.0,600.0,400.0,300.0,300.0,1200.0,250.0,500.0,300.0,400.0,250.0,400.0,800.0,450.0,800.0,600.0,500.0,600.0,300.0,300.0,250.0,450.0,350.0,500.0,1200.0,1300.0,800.0,600.0,500.0,1000.0,400.0,750.0,300.0,450.0,550.0,900.0,200.0,500.0,1500.0,400.0,600.0,400.0,600.0,400.0,300.0,450.0,1200.0,500.0,700.0,200.0,700.0,200.0,1000.0,1000.0,300.0,600.0,400.0,600.0,600.0,500.0,300.0,600.0,700.0,500.0,1000.0,500.0,600.0,350.0,500.0,650.0,700.0,350.0,400.0,400.0,800.0,400.0,600.0,800.0,700.0,800.0,600.0,800.0,1300.0,700.0,500.0,250.0,1000.0,1000.0,500.0,300.0,500.0,400.0,300.0,200.0,750.0,700.0,750.0,600.0,300.0,400.0,900.0,1400.0,500.0,600.0,200.0,1000.0,500.0,1300.0,600.0,450.0,300.0,40.0,900.0,300.0,500.0,650.0,1200.0,150.0,250.0,1000.0,450.0,900.0,1000.0,500.0,600.0,1000.0,650.0,800.0,600.0,600.0,500.0,300.0,400.0,700.0,450.0,450.0,800.0,700.0,400.0,500.0,500.0,700.0,300.0,200.0,1000.0,200.0,200.0,300.0,400.0,700.0,1000.0,500.0,600.0,1000.0,600.0,900.0,500.0,500.0,350.0,230.0,1500.0,500.0,1200.0,1200.0,1100.0,650.0,900.0,900.0,250.0,700.0,650.0,2500.0,300.0,1500.0,200.0,1000.0,500.0,1000.0,450.0,500.0,500.0,400.0,1300.0,400.0,750.0,800.0,300.0,500.0,1000.0,700.0,800.0,300.0,400.0,1100.0,300.0,300.0,700.0,900.0,550.0,600.0,500.0,400.0,400.0,800.0,150.0,300.0,350.0,700.0,650.0,700.0,1600.0,600.0,1500.0,400.0,1500.0,750.0,250.0,400.0,650.0,150.0,750.0,750.0,200.0,250.0,750.0,250.0,1400.0,900.0,1200.0,200.0,300.0,600.0,800.0,700.0,600.0,450.0,400.0,900.0,600.0,300.0,1500.0,500.0,750.0,1000.0,1200.0,600.0,400.0,1000.0,1000.0,400.0,350.0,350.0,900.0,650.0,1500.0,600.0,400.0,900.0,1500.0,600.0,1200.0,400.0,1100.0,300.0,1500.0,400.0,800.0,1000.0,250.0,600.0,250.0,700.0,450.0,700.0,500.0,150.0,500.0,700.0,400.0,500.0,650.0,600.0,800.0,1300.0,300.0,300.0,700.0,900.0,1100.0,250.0,200.0,750.0,750.0,500.0,550.0,1700.0,500.0,200.0,350.0,800.0,1400.0,300.0,400.0,150.0,350.0,350.0,1200.0,1000.0,400.0,150.0,1200.0,400.0,900.0,600.0,600.0,500.0,400.0,1400.0,1000.0,250.0,300.0,600.0,600.0,250.0,400.0,400.0,1200.0,400.0,700.0,300.0,350.0,1100.0,600.0,200.0,500.0,650.0,400.0,500.0,400.0,400.0,500.0,400.0,600.0,600.0,600.0,800.0,800.0,500.0,200.0,350.0,400.0,300.0,500.0,600.0,800.0,650.0,300.0,150.0,450.0,300.0,400.0,200.0,300.0,600.0,400.0,600.0,300.0,500.0,700.0,400.0,800.0,300.0,500.0,800.0,500.0,700.0,200.0,700.0,600.0,1300.0,500.0,400.0,300.0,550.0,250.0,600.0,350.0,1400.0,2000.0,1100.0,550.0,700.0,600.0,800.0,850.0,650.0,700.0,800.0,800.0,650.0,300.0,200.0,350.0,800.0,600.0,200.0,500.0,500.0,200.0,400.0,500.0,250.0,400.0,200.0,700.0,600.0,450.0,250.0,150.0,500.0,350.0,400.0,600.0,550.0,1000.0,400.0,400.0,400.0,500.0,600.0,550.0,500.0,300.0,200.0,200.0,650.0,300.0,250.0,800.0,500.0,500.0,200.0,800.0,350.0,900.0,400.0,450.0,1500.0,200.0,900.0,500.0,400.0,1300.0,600.0,500.0,400.0,800.0,400.0,400.0,400.0,450.0,500.0,300.0,400.0,650.0,400.0,250.0,400.0,1200.0,500.0,350.0,500.0,200.0,400.0,350.0,400.0,200.0,200.0,400.0,400.0,200.0,350.0,250.0,200.0,400.0,800.0,2000.0,600.0,800.0,600.0,500.0,600.0,400.0,550.0,1100.0,500.0,1100.0,650.0,450.0,500.0,200.0,300.0,400.0,400.0,900.0,200.0,300.0,300.0,250.0,700.0,500.0,300.0,700.0,800.0,150.0,300.0,500.0,200.0,400.0,250.0,400.0,500.0,600.0,450.0,500.0,150.0,500.0,600.0,450.0,300.0,300.0,400.0,500.0,450.0,200.0,250.0,200.0,700.0,700.0,500.0,400.0,1200.0,1300.0,1200.0,1400.0,900.0,2000.0,1000.0,1500.0,1300.0,1400.0,1300.0,900.0,2100.0,1600.0,700.0,750.0,800.0,1000.0,1500.0,1500.0,1500.0,1800.0,1300.0,600.0,1400.0,1000.0,600.0,1200.0,800.0,1400.0,600.0,1400.0,600.0,650.0,900.0,750.0,1200.0,500.0,1000.0,900.0,1200.0,1500.0,800.0,800.0,1200.0,600.0,800.0,900.0,800.0,750.0,550.0,1100.0,650.0,600.0,600.0,500.0,750.0,1200.0,800.0,850.0,800.0,1000.0,700.0,600.0,750.0,1200.0,800.0,650.0,1500.0,1000.0,800.0,500.0,500.0,800.0,1200.0,700.0,1400.0,700.0,750.0,1300.0,750.0,700.0,450.0,150.0,350.0,800.0,550.0,800.0,1000.0,600.0,600.0,500.0,600.0,800.0,600.0,1000.0,500.0,600.0,650.0,500.0,900.0,700.0,500.0,400.0,200.0,350.0,400.0,200.0,500.0,600.0,200.0,600.0,750.0,500.0,250.0,500.0,300.0,250.0,600.0,200.0,300.0,300.0,450.0,250.0,800.0,2000.0,1500.0,1100.0,600.0,1600.0,1800.0,1200.0,1000.0,600.0,1600.0,1200.0,600.0,1400.0,1500.0,1000.0,1200.0,800.0,1500.0,1200.0,1500.0,1400.0,500.0,1000.0,400.0,1200.0,1400.0,1300.0,2500.0,2000.0,1100.0,1500.0,600.0,1300.0,1000.0,1000.0,600.0,1000.0,600.0,800.0,850.0,1000.0,650.0,1000.0,700.0,1500.0,550.0,750.0,800.0,1100.0,900.0,700.0,800.0,500.0,700.0,650.0,1100.0,600.0,1200.0,800.0,1000.0,700.0,650.0,800.0,1700.0,1400.0,750.0,1000.0,900.0,900.0,650.0,600.0,600.0,700.0,750.0,700.0,900.0,1500.0,800.0,1000.0,800.0,200.0,1200.0,1100.0,1000.0,750.0,600.0,650.0,600.0,1400.0,500.0,500.0,800.0,650.0,650.0,700.0,1200.0,750.0,600.0,650.0,1700.0,2000.0,700.0,600.0,250.0,1000.0,1500.0,700.0,500.0,900.0,250.0,600.0,600.0,800.0,500.0,1000.0,500.0,500.0,1300.0,250.0,600.0,600.0,750.0,600.0,450.0,1300.0,500.0,400.0,1000.0,500.0,250.0,250.0,800.0,800.0,700.0,450.0,800.0,700.0,650.0,400.0,1500.0,600.0,500.0,800.0,500.0,350.0,700.0,500.0,1200.0,600.0,450.0,600.0,400.0,600.0,400.0,350.0,550.0,600.0,300.0,450.0,250.0,400.0,300.0,450.0,200.0,450.0,250.0,500.0,400.0,450.0,300.0,250.0,500.0,300.0,200.0,400.0,900.0,300.0,400.0,250.0,600.0,500.0,400.0,500.0,400.0,400.0,300.0,200.0,500.0,200.0,400.0,300.0,200.0,500.0,300.0,350.0,400.0,300.0,300.0,400.0,200.0,600.0,500.0,600.0,500.0,200.0,400.0,400.0,300.0,300.0,400.0,600.0,350.0,300.0,600.0,500.0,550.0,200.0,150.0,600.0,300.0,300.0,400.0,450.0,550.0,300.0,200.0,350.0,300.0,400.0,400.0,250.0,200.0,100.0,1300.0,800.0,900.0,900.0,800.0,800.0,300.0,700.0,1100.0,650.0,900.0,800.0,800.0,1300.0,400.0,600.0,400.0,500.0,800.0,600.0,1000.0,200.0,500.0,600.0,900.0,1000.0,400.0,350.0,700.0,150.0,700.0,900.0,800.0,600.0,300.0,200.0,600.0,400.0,500.0,600.0,300.0,200.0,500.0,600.0,250.0,200.0,350.0,500.0,300.0,400.0,300.0,1000.0,300.0,600.0,500.0,600.0,250.0,300.0,550.0,350.0,400.0,400.0,650.0,300.0,500.0,250.0,400.0,400.0,200.0,500.0,300.0,700.0,200.0,1500.0,1800.0,1000.0,2000.0,2100.0,1600.0,1000.0,1400.0,1000.0,1200.0,1200.0,1000.0,1500.0,1000.0,1400.0,1300.0,2000.0,1500.0,1100.0,1600.0,1800.0,1200.0,1000.0,1400.0,1200.0,1200.0,1400.0,1000.0,1200.0,1400.0,2000.0,1300.0,1200.0,1000.0,1400.0,1500.0,1200.0,1400.0,1200.0,1700.0,1500.0,1300.0,1300.0,1500.0,1200.0,1100.0,2100.0,1000.0,1000.0,1400.0,1000.0,1500.0,1300.0,1400.0,1500.0,1800.0,1200.0,1500.0,1200.0,1000.0,1200.0,1000.0,1300.0,1100.0,1600.0,1800.0,1200.0,1200.0,1500.0,1200.0,1200.0,1400.0,1000.0,1200.0,1400.0,1300.0,800.0,1200.0,1000.0,1400.0,1500.0,1000.0,1200.0,1400.0,1200.0,1700.0,1500.0,1300.0,1300.0,1500.0,1100.0,1300.0,1300.0,2000.0,1400.0,2000.0,600.0,1000.0,900.0,1500.0,1200.0,1500.0,1300.0,1000.0,600.0,1500.0,1500.0,1500.0,1500.0,1100.0,750.0,900.0,1700.0,1000.0,700.0,1500.0,1400.0,800.0,1000.0,2000.0,1000.0,1500.0,800.0,1100.0,1000.0,500.0,600.0,600.0,800.0,700.0,700.0,400.0,600.0,600.0,450.0,250.0,900.0,600.0,800.0,600.0,1300.0,800.0,400.0,600.0,600.0,600.0,1000.0,800.0,1000.0,900.0,600.0,500.0,800.0,900.0,800.0,550.0,800.0,900.0,850.0,900.0,300.0,700.0,700.0,600.0,700.0,800.0,800.0,1200.0,600.0,1200.0,650.0,700.0,900.0,450.0,200.0,700.0,650.0,600.0,600.0,600.0,800.0,700.0,650.0,350.0,500.0,700.0,300.0,600.0,500.0,700.0,500.0,800.0,600.0,600.0,450.0,900.0,1600.0,600.0,500.0,500.0,450.0,500.0,450.0,800.0,400.0,800.0,300.0,900.0,200.0,250.0,400.0,250.0,300.0,600.0,400.0,400.0,650.0,500.0,600.0,500.0,600.0,600.0,400.0,800.0,500.0,400.0,300.0,300.0,600.0,200.0,500.0,300.0,150.0,300.0,400.0,600.0,400.0,550.0,750.0,150.0,450.0,650.0,500.0,400.0,400.0,300.0,500.0,400.0,400.0,600.0,600.0,800.0,700.0,250.0,400.0,700.0,250.0,800.0,250.0,250.0,750.0,350.0,600.0,600.0,600.0,200.0,350.0,600.0,1000.0,400.0,700.0,400.0,300.0,500.0,400.0,500.0,650.0,500.0,300.0,500.0,300.0,500.0,1000.0,200.0,750.0,400.0,350.0,800.0,400.0,450.0,300.0,500.0,400.0,600.0,550.0,600.0,650.0,300.0,500.0,150.0,300.0,600.0,250.0,500.0,600.0,500.0,800.0,250.0,600.0,600.0,800.0,750.0,300.0,600.0,600.0,450.0,750.0,450.0,500.0,400.0,200.0,250.0,700.0,500.0,300.0,400.0,800.0,600.0,400.0,300.0,400.0,200.0,800.0,1500.0,800.0,300.0,200.0,450.0,300.0,450.0,500.0,500.0,400.0,400.0,550.0,450.0,1000.0,600.0,300.0,550.0,300.0,650.0,500.0,500.0,1200.0,650.0,400.0,200.0,450.0,300.0,500.0,400.0,600.0,500.0,1600.0,600.0,300.0,800.0,300.0,400.0,40.0,500.0,500.0,600.0,400.0,400.0,300.0,800.0,900.0,600.0,1800.0,300.0,400.0,800.0,500.0,650.0,300.0,700.0,450.0,300.0,500.0,200.0,800.0,500.0,500.0,300.0,300.0,350.0,600.0,800.0,400.0,350.0,600.0,350.0,200.0,700.0,1000.0,1200.0,1500.0,350.0,1300.0,600.0,450.0,1200.0,650.0,400.0,500.0,400.0,400.0,1000.0,600.0,600.0,400.0,250.0,1000.0,250.0,300.0,500.0,500.0,600.0,450.0,600.0,1300.0,400.0,600.0,300.0,800.0,300.0,1000.0,500.0,300.0,400.0,800.0,600.0,300.0,500.0,1000.0,600.0,450.0,1600.0,600.0,400.0,800.0,400.0,1300.0,650.0,800.0,200.0,300.0,700.0,250.0,600.0,700.0,600.0,500.0,500.0,600.0,700.0,600.0,400.0,1100.0,750.0,1500.0,400.0,230.0,800.0,500.0,700.0,1500.0,400.0,300.0,300.0,2500.0,600.0,300.0,500.0,1500.0,900.0,700.0,200.0,600.0,600.0,500.0,900.0,900.0,500.0,400.0,600.0,200.0,500.0,1000.0,1200.0,200.0,400.0,500.0,250.0,700.0,500.0,300.0,250.0,600.0,650.0,650.0,500.0,250.0,1200.0,1200.0,800.0,400.0,500.0,1500.0,150.0,700.0,1000.0,350.0,1000.0,700.0,900.0,750.0,700.0,300.0,650.0,500.0,700.0,400.0,400.0,500.0,800.0,400.0,1000.0,1500.0,300.0,600.0,100.0,1000.0,800.0,700.0,700.0,400.0,350.0,350.0,450.0,200.0,400.0,900.0,450.0,300.0,300.0,300.0,600.0,1000.0,1000.0,550.0,200.0,500.0,1500.0,1000.0,400.0,600.0,900.0,150.0,1400.0,750.0,400.0,900.0,300.0,1200.0,600.0,400.0,500.0,1500.0,450.0,450.0,200.0,1100.0,500.0,1700.0,600.0,400.0,350.0,250.0,600.0,700.0,600.0,400.0,400.0,600.0,750.0,600.0,250.0,2000.0,500.0,1500.0,700.0,1000.0,700.0,1300.0,500.0,500.0,800.0,800.0,500.0,600.0,300.0,700.0,450.0,750.0,350.0,150.0,300.0,1200.0,600.0,1200.0,400.0,300.0,1100.0,700.0,300.0,650.0,700.0,300.0,650.0,400.0,1100.0,900.0,450.0,550.0,400.0,750.0,250.0,1200.0,350.0,400.0,800.0,1000.0,400.0,700.0,1200.0,500.0,1000.0,750.0,550.0,600.0,150.0,1400.0,350.0,700.0,300.0,250.0,400.0,250.0,250.0,450.0,200.0,600.0,600.0,1000.0,200.0,300.0,750.0,250.0,250.0,200.0,600.0,600.0,600.0,600.0,600.0,500.0,150.0,600.0,1000.0,600.0,200.0,800.0,350.0,350.0,650.0,500.0,400.0,400.0,500.0,550.0,300.0,300.0,500.0,1300.0,250.0,500.0,600.0,650.0,150.0,900.0,200.0,700.0,550.0,400.0,800.0,450.0,1400.0,800.0,600.0,150.0,300.0,400.0,200.0,800.0,600.0,300.0,600.0,700.0,250.0,300.0,1000.0,1000.0,1000.0,1400.0,1600.0,300.0,700.0,450.0,900.0,1400.0,800.0,900.0,900.0,1300.0,800.0,1400.0,800.0,650.0,1100.0,400.0,650.0,500.0,800.0,900.0,800.0,850.0,800.0,350.0,1200.0,400.0,650.0,300.0,650.0,200.0,350.0,400.0,150.0,200.0,500.0,400.0,400.0,500.0,600.0,450.0,250.0,150.0,500.0,600.0,300.0,200.0,1000.0,1100.0,400.0,400.0,600.0,500.0,200.0,400.0,650.0,800.0,350.0,700.0,500.0,500.0,250.0,200.0,800.0,350.0,500.0,1500.0,200.0,400.0,600.0,2000.0,500.0,600.0,1100.0,400.0,500.0,250.0,500.0,250.0,300.0,300.0,250.0,400.0,1300.0,600.0,800.0,600.0,600.0,400.0,500.0,800.0,550.0,450.0,450.0,400.0,400.0,300.0,500.0,500.0,400.0,650.0,400.0,1200.0,400.0,1100.0,650.0,300.0,500.0,900.0,350.0,400.0,400.0,300.0,200.0,400.0,250.0,200.0,450.0,300.0,500.0,350.0,200.0,500.0,500.0,200.0,500.0,400.0,400.0,400.0,800.0,700.0,350.0,150.0,200.0,200.0,300.0,400.0,400.0,500.0,400.0,600.0,150.0,700.0,500.0,600.0,200.0,450.0,400.0,400.0,200.0,800.0,450.0,200.0,400.0,200.0,500.0,2000.0,1000.0,500.0,2500.0,1100.0,2000.0,600.0,1100.0,700.0,1000.0,600.0,650.0,800.0,700.0,1000.0,600.0,700.0,1000.0,1400.0,750.0,1000.0,250.0,900.0,1700.0,250.0,250.0,600.0,700.0,800.0,500.0,600.0,250.0,800.0,1500.0,450.0,1300.0,400.0,500.0,1200.0,500.0,750.0,600.0,400.0,600.0,400.0,250.0,300.0,400.0,400.0,200.0,550.0,450.0,400.0,300.0,200.0,400.0,400.0,200.0,600.0,600.0,350.0,200.0,550.0,300.0,400.0,1400.0,900.0,1500.0,2000.0,1000.0,1100.0,1500.0,2100.0,1200.0,600.0,1300.0,1300.0,1400.0,800.0,1800.0,1600.0,1200.0,1600.0,700.0,900.0,1500.0,750.0,1300.0,1500.0,1000.0,1000.0,600.0,1300.0,1500.0,1500.0,1400.0,1800.0,600.0,1200.0,1600.0,1400.0,600.0,1400.0,1000.0,1200.0,800.0,1500.0,1500.0,1200.0,400.0,1000.0,1000.0,1400.0,600.0,1400.0,800.0,1200.0,600.0,1300.0,1200.0,600.0,1300.0,1500.0,1400.0,1200.0,650.0,600.0,550.0,1000.0,1100.0,1000.0,800.0,1000.0,650.0,900.0,600.0,750.0,500.0,1500.0,1500.0,1200.0,800.0,900.0,800.0,550.0,800.0,900.0,800.0,900.0,1700.0,600.0,800.0,750.0,850.0,750.0,800.0,1200.0,1000.0,1200.0,900.0,1000.0,500.0,900.0,750.0,500.0,800.0,700.0,600.0,700.0,1200.0,800.0,600.0,700.0,800.0,650.0,600.0,800.0,800.0,850.0,750.0,1200.0,500.0,600.0,1500.0,750.0,1100.0,1200.0,750.0,1000.0,650.0,1000.0,700.0,700.0,750.0,1200.0,800.0,650.0,800.0,1100.0,650.0,500.0,1500.0,1000.0,450.0,500.0,800.0,1300.0,200.0,750.0,1200.0,600.0,1400.0,800.0,600.0,1000.0,750.0,650.0,700.0,700.0,600.0,650.0,500.0,600.0,600.0,800.0,500.0,1000.0,600.0,600.0,700.0,2000.0,600.0,150.0,250.0,500.0,600.0,800.0,1500.0,700.0,350.0,500.0,800.0,650.0,600.0,550.0,650.0,650.0,700.0,900.0,500.0,600.0,1000.0,800.0,400.0,450.0,1000.0,1300.0,500.0,750.0,700.0,500.0,500.0,700.0,650.0,800.0,1000.0,600.0,700.0,250.0,800.0,500.0,600.0,500.0,600.0,700.0,350.0,450.0,400.0,500.0,600.0,200.0,450.0,250.0,350.0,300.0,450.0,350.0,500.0,300.0,200.0,600.0,400.0,250.0,450.0,600.0,200.0,500.0,500.0,900.0,500.0,250.0,200.0,500.0,300.0,400.0,400.0,600.0,300.0,300.0,400.0,500.0,400.0,400.0,450.0,200.0,200.0,500.0,400.0,500.0,300.0,500.0,300.0,200.0,300.0,600.0,400.0,500.0,400.0,500.0,350.0,300.0,200.0,400.0,300.0,300.0,600.0,150.0,500.0,300.0,400.0,300.0,450.0,250.0,600.0,300.0,600.0,400.0,550.0,200.0,300.0,300.0,350.0,400.0,250.0,800.0,300.0,250.0,350.0,200.0,100.0,1200.0,800.0,1700.0,900.0,1600.0,800.0,700.0,1500.0,1800.0,300.0,800.0,800.0,1000.0,1300.0,900.0,400.0,200.0,1000.0,600.0,600.0,800.0,400.0,500.0,200.0,250.0,400.0,500.0,600.0,200.0,300.0,300.0,300.0,600.0,600.0,1800.0,400.0,250.0,900.0,350.0,300.0,1000.0,1100.0,350.0,600.0,500.0,300.0,400.0,400.0,650.0,500.0,400.0,700.0,400.0,500.0,200.0,300.0,2100.0,1100.0,1300.0,2000.0,1000.0,2000.0,1000.0,1400.0,1700.0,1500.0,1200.0,1500.0,2000.0,1000.0,1800.0,1600.0,1200.0,1600.0,1000.0,1000.0,1500.0,1400.0,1800.0,1400.0,1200.0,1200.0,1000.0,1400.0,1200.0,1200.0,1300.0,1400.0,1200.0,1200.0,1500.0,1000.0,1000.0,1200.0,1500.0,1300.0,1200.0,1400.0,1500.0,1300.0,1200.0,1700.0,1600.0,1400.0,1200.0,2000.0,1500.0,1500.0,1500.0,800.0,1000.0,1500.0,1300.0,1500.0,1300.0,1000.0,600.0,1500.0,2000.0,600.0,1100.0,750.0,900.0,1700.0,1000.0,700.0,1100.0,1500.0,1000.0,1400.0,2000.0,900.0,1000.0,1300.0,1100.0,800.0,1000.0,800.0,1000.0,550.0,700.0,600.0,900.0,650.0,700.0,350.0,600.0,650.0,900.0,600.0,800.0,600.0,1300.0,800.0,500.0,400.0,600.0,600.0,600.0,800.0,1000.0,900.0,600.0,500.0,800.0,900.0,800.0,900.0,850.0,600.0,900.0,300.0,700.0,800.0,600.0,700.0,800.0,800.0,700.0,1200.0,1200.0,650.0,700.0,450.0,200.0,700.0,600.0,600.0,600.0,800.0,650.0,500.0,700.0,400.0,300.0,500.0,600.0,600.0,700.0,500.0,800.0,450.0,250.0,450.0,600.0,900.0,1000.0,700.0,700.0,600.0,600.0,500.0,600.0,500.0,450.0,500.0,450.0,250.0,800.0,300.0,400.0,400.0,400.0,800.0,900.0,200.0,250.0,300.0,600.0,400.0,400.0,650.0,500.0,250.0,600.0,500.0,600.0,600.0,400.0,800.0,450.0,500.0,400.0,300.0,200.0,500.0,300.0,150.0,300.0,600.0,400.0,550.0,150.0,450.0,500.0,400.0,400.0,500.0,400.0,400.0,400.0,600.0,600.0,800.0,250.0,700.0,250.0,300.0,400.0,900.0,700.0,250.0,450.0,300.0,800.0,250.0,250.0,750.0,350.0,600.0,600.0,600.0,200.0,350.0,600.0,400.0,700.0,500.0,600.0,200.0,400.0,300.0,500.0,650.0,500.0,300.0,500.0,350.0,500.0,600.0,200.0,300.0,750.0,800.0,400.0,350.0,800.0,400.0,450.0,400.0,300.0,300.0,500.0,400.0,600.0,550.0,600.0,650.0,300.0,500.0,150.0,300.0,600.0,250.0,650.0,400.0,800.0,200.0,1000.0,250.0,600.0,1200.0,700.0,600.0,800.0,400.0,750.0,400.0,300.0,600.0,450.0,750.0,450.0,500.0,400.0,200.0,100.0,250.0,650.0,500.0,300.0,400.0,500.0,1200.0,400.0,400.0,200.0,800.0,400.0,1500.0,800.0,400.0,300.0,200.0,450.0,400.0,400.0,450.0,1000.0,600.0,700.0,250.0,300.0,200.0,600.0,400.0,650.0,500.0,650.0,650.0,400.0,200.0,450.0,500.0,400.0,600.0,500.0,600.0,300.0,800.0,300.0,400.0,500.0,400.0,600.0,800.0,900.0,600.0,300.0,400.0,800.0,500.0,650.0,300.0,700.0,450.0,300.0,500.0,500.0,200.0,800.0,500.0,300.0,500.0,300.0,600.0,800.0,400.0,350.0,200.0,300.0,700.0,1000.0,1200.0,1500.0,350.0,200.0,1300.0,600.0,1000.0,450.0,1200.0,300.0,350.0,650.0,500.0,400.0,600.0,300.0,600.0,250.0,500.0,800.0,1000.0,600.0,250.0,300.0,500.0,500.0,500.0,600.0,450.0,600.0,1300.0,400.0,300.0,400.0,300.0,1000.0,500.0,800.0,300.0,500.0,200.0,800.0,600.0,300.0,500.0,600.0,450.0,1600.0,600.0,400.0,400.0,1300.0,1000.0,400.0,750.0,700.0,650.0,800.0,1000.0,300.0,700.0,600.0,600.0,1500.0,500.0,700.0,400.0,1100.0,750.0,1500.0,400.0,230.0,500.0,700.0,400.0,300.0,2500.0,1200.0,300.0,250.0,600.0,300.0,900.0,350.0,1500.0,200.0,900.0,700.0,200.0,600.0,600.0,900.0,900.0,500.0,500.0,400.0,600.0,500.0,500.0,1200.0,1000.0,200.0,400.0,500.0,700.0,500.0,180.0,300.0,550.0,400.0,250.0,600.0,650.0,500.0,250.0,300.0,450.0,600.0,1200.0,800.0,800.0,400.0,500.0,1500.0,150.0,700.0,1000.0,1000.0,700.0,900.0,750.0,700.0,500.0,650.0,500.0,700.0,400.0,150.0,400.0,400.0,400.0,400.0,1500.0,300.0,600.0,400.0,400.0,100.0,1200.0,300.0,1000.0,800.0,700.0,350.0,350.0,450.0,200.0,200.0,400.0,400.0,600.0,300.0,300.0,200.0,300.0,500.0,600.0,1000.0,1000.0,550.0,200.0,300.0,500.0,1500.0,1000.0,250.0,400.0,600.0,900.0,150.0,1400.0,750.0,400.0,1000.0,900.0,300.0,1200.0,300.0,600.0,400.0,300.0,1500.0,450.0,450.0,200.0,1100.0,400.0,800.0,1700.0,1500.0,600.0,400.0,600.0,800.0,600.0,400.0,700.0,400.0,1000.0,600.0,700.0,700.0,750.0,600.0,250.0,400.0,150.0,1200.0,400.0,700.0,100.0,1000.0,900.0,700.0,1300.0,500.0,500.0,800.0,550.0,800.0,500.0,600.0,300.0,700.0,750.0,500.0,350.0,300.0,650.0,600.0,1200.0,200.0,400.0,1100.0,700.0,300.0,650.0,700.0,400.0,300.0,650.0,400.0,1100.0,600.0,900.0,450.0,550.0,350.0,400.0,750.0,250.0,1200.0,200.0,500.0,350.0,400.0,800.0,500.0,650.0,1000.0,750.0,400.0,700.0,1200.0,500.0,500.0,1000.0,750.0,550.0,600.0,1400.0,400.0,300.0,1000.0,350.0,700.0,750.0,200.0,400.0,250.0,250.0,600.0,600.0,650.0,1000.0,200.0,800.0,300.0,750.0,600.0,600.0,600.0,600.0,600.0,250.0,550.0,400.0,500.0,400.0,150.0,600.0,1000.0,250.0,600.0,100.0,800.0,450.0,500.0,400.0,650.0,500.0,1300.0,400.0,600.0,650.0,350.0,150.0,200.0,700.0,550.0,400.0,800.0,600.0,450.0,500.0,800.0,600.0,300.0,400.0,900.0,200.0,200.0,800.0,900.0,600.0,300.0,600.0,700.0,250.0,1000.0,1000.0,1000.0,1400.0,2000.0,300.0,450.0,700.0,1100.0,900.0,1400.0,1000.0,800.0,900.0,900.0,1300.0,800.0,600.0,1400.0,800.0,650.0,1100.0,400.0,650.0,500.0,550.0,800.0,900.0,800.0,850.0,800.0,350.0,1200.0,400.0,650.0,600.0,150.0,700.0,300.0,200.0,800.0,150.0,500.0,200.0,500.0,200.0,500.0,400.0,400.0,500.0,250.0,200.0,700.0,450.0,250.0,350.0,400.0,600.0,500.0,300.0,200.0,550.0,1000.0,400.0,400.0,400.0,500.0,600.0,550.0,500.0,300.0,200.0,200.0,400.0,650.0,300.0,250.0,800.0,500.0,700.0,500.0,250.0,800.0,500.0,350.0,400.0,500.0,1500.0,500.0,400.0,550.0,400.0,900.0,400.0,300.0,200.0,450.0,250.0,500.0,500.0,800.0,700.0,150.0,600.0,150.0,400.0,2000.0,400.0,1300.0,600.0,800.0,500.0,600.0,600.0,400.0,500.0,800.0,1100.0,450.0,450.0,400.0,400.0,300.0,500.0,500.0,400.0,400.0,1200.0,400.0,1100.0,650.0,500.0,300.0,500.0,350.0,400.0,300.0,400.0,250.0,300.0,500.0,350.0,200.0,200.0,400.0,400.0,350.0,200.0,200.0,300.0,400.0,400.0,500.0,400.0,250.0,500.0,250.0,700.0,500.0,600.0,200.0,450.0,300.0,400.0,300.0,200.0,800.0,450.0,600.0,200.0,200.0,200.0,700.0,400.0,1600.0,2100.0,1500.0,1500.0,1100.0,1500.0,600.0,1500.0,1400.0,550.0,900.0,500.0,600.0,750.0,650.0,1100.0,1000.0,600.0,650.0,650.0,500.0,800.0,1000.0,750.0,700.0,800.0,650.0,750.0,800.0,400.0,750.0,700.0,650.0,700.0,650.0,500.0,700.0,450.0,350.0,300.0,450.0,600.0,900.0,200.0,400.0,400.0,200.0,500.0,200.0,450.0,600.0,400.0,500.0,200.0,250.0,400.0,500.0,300.0,400.0,550.0,200.0,300.0,400.0,300.0,600.0,1400.0,900.0,2000.0,2000.0,1000.0,1500.0,1200.0,600.0,1300.0,1300.0,1400.0,800.0,1200.0,1800.0,1600.0,700.0,900.0,1500.0,750.0,1300.0,1500.0,1000.0,1000.0,600.0,1300.0,1500.0,1400.0,1800.0,1400.0,600.0,1400.0,1000.0,1200.0,800.0,1000.0,1500.0,500.0,1200.0,400.0,1000.0,1000.0,1400.0,600.0,1400.0,800.0,1200.0,1300.0,2500.0,600.0,1300.0,1100.0,1200.0,650.0,550.0,600.0,2000.0,600.0,1100.0,1000.0,800.0,1000.0,650.0,900.0,600.0,500.0,1500.0,1500.0,800.0,1200.0,900.0,800.0,800.0,900.0,1100.0,800.0,900.0,700.0,1700.0,800.0,1000.0,600.0,750.0,850.0,750.0,1200.0,800.0,1000.0,600.0,1200.0,900.0,1000.0,650.0,500.0,750.0,800.0,700.0,700.0,1200.0,800.0,600.0,700.0,800.0,650.0,600.0,800.0,700.0,800.0,1000.0,750.0,600.0,1200.0,500.0,1500.0,750.0,1100.0,1200.0,1000.0,1000.0,650.0,700.0,750.0,700.0,1200.0,800.0,800.0,1300.0,1500.0,450.0,500.0,800.0,200.0,750.0,600.0,1000.0,1400.0,1400.0,800.0,1000.0,750.0,750.0,700.0,700.0,1000.0,600.0,500.0,250.0,600.0,600.0,700.0,2000.0,600.0,150.0,250.0,500.0,600.0,800.0,1500.0,350.0,900.0,600.0,550.0,650.0,1700.0,250.0,700.0,900.0,250.0,600.0,600.0,1000.0,700.0,800.0,450.0,500.0,1000.0,1300.0,600.0,500.0,250.0,700.0,500.0,500.0,800.0,1000.0,600.0,250.0,800.0,1500.0,800.0,450.0,1300.0,500.0,400.0,500.0,1200.0,500.0,350.0,450.0,600.0,400.0,600.0,400.0,400.0,500.0,600.0,200.0,200.0,450.0,250.0,350.0,300.0,400.0,500.0,400.0,200.0,600.0,400.0,250.0,200.0,550.0,200.0,500.0,500.0,400.0,250.0,500.0,300.0,400.0,400.0,600.0,300.0,300.0,200.0,200.0,500.0,200.0,300.0,400.0,500.0,400.0,300.0,200.0,600.0,400.0,600.0,300.0,600.0,350.0,300.0,450.0,200.0,600.0,300.0,600.0,550.0,300.0,250.0,800.0,400.0,350.0,200.0,1600.0,1300.0,1200.0,1100.0,800.0,600.0,1200.0,900.0,1000.0,550.0,800.0,900.0,600.0,800.0,600.0,700.0,300.0,800.0,700.0,400.0,800.0,1100.0,650.0,500.0,1000.0,550.0,650.0,700.0,600.0,250.0,1300.0,300.0,600.0,600.0,1000.0,500.0,900.0,600.0,900.0,800.0,400.0,200.0,1000.0,400.0,600.0,450.0,600.0,350.0,500.0,1000.0,500.0,350.0,200.0,400.0,500.0,500.0,1000.0,700.0,300.0,250.0,500.0,150.0,600.0,500.0,600.0,500.0,300.0,600.0,200.0,300.0,400.0,500.0,300.0,200.0,300.0,300.0,600.0,600.0,600.0,450.0,200.0,400.0,250.0,900.0,500.0,600.0,350.0,300.0,200.0,150.0,250.0,1000.0,400.0,350.0,600.0,600.0,500.0,300.0,400.0,150.0,300.0,550.0,400.0,300.0,400.0,400.0,650.0,500.0,400.0,700.0,400.0,600.0,500.0,250.0,200.0,300.0,1000.0,2000.0,2100.0,1500.0,1100.0,1600.0,1400.0,2000.0,1800.0,1200.0,1600.0,1000.0,1000.0,1500.0,1400.0,1800.0,1400.0,1200.0,1000.0,1200.0,1000.0,1400.0,1200.0,1300.0,1100.0,2000.0,1200.0,1200.0,1000.0,1500.0,1000.0,1000.0,1200.0,1500.0,1300.0,1400.0,1400.0,1500.0,1700.0,1300.0,1500.0,1300.0,1200.0,1100.0,1200.0,1100.0,1000.0,1000.0,1600.0,1100.0,1000.0,1500.0,1400.0,1000.0,1400.0,1500.0,2100.0,1300.0,1400.0,1800.0,1200.0,1500.0,1000.0,1800.0,1200.0,1000.0,1200.0,1400.0,1200.0,1300.0,1100.0,1000.0,1500.0,800.0,1200.0,1200.0,1000.0,1200.0,1000.0,1000.0,1200.0,1500.0,1300.0,1400.0,1500.0,1800.0,1300.0,1500.0,1300.0,1200.0,1100.0,1200.0,1100.0,1300.0,1000.0,1000.0,1600.0,2200.0,1200.0,1400.0,1000.0,1500.0,1600.0,1200.0,1800.0,1500.0,1500.0,2100.0,3000.0,1200.0,1700.0,750.0,3000.0,1500.0,500.0,2500.0,1500.0,3400.0,2000.0,1200.0,800.0,1700.0,1200.0,2000.0,1300.0,1300.0,1600.0,3000.0,1000.0,1000.0,650.0,1400.0,1900.0,800.0,1000.0,1000.0,500.0,1200.0,650.0,2800.0,1600.0,4100.0,3400.0,1300.0,1700.0,1800.0,1100.0,750.0,1200.0,750.0,600.0,1400.0,1100.0,1000.0,1200.0,1100.0,800.0,900.0,1700.0,1000.0,600.0,2500.0,650.0,400.0,900.0,700.0,450.0,700.0,800.0,750.0,650.0,500.0,500.0,400.0,650.0,500.0,600.0,800.0,1000.0,500.0,700.0,800.0,900.0,350.0,1300.0,1100.0,750.0,750.0,300.0,1000.0,750.0,1000.0,500.0,1100.0,600.0,2000.0,500.0,500.0,450.0,400.0,500.0,200.0,550.0,300.0,250.0,500.0,500.0,350.0,650.0,500.0,200.0,750.0,650.0,750.0,400.0,400.0,200.0,800.0,600.0,450.0,400.0,800.0,250.0,500.0,500.0,600.0,400.0,250.0,650.0,1300.0,1600.0,1200.0,500.0,300.0,450.0,750.0,1300.0,500.0,150.0,200.0,350.0,600.0,500.0,500.0,1500.0,400.0,400.0,250.0,800.0,900.0,1600.0,300.0,550.0,1300.0,400.0,900.0,1100.0,400.0,400.0,700.0,700.0,200.0,700.0,500.0,300.0,300.0,400.0,600.0,250.0,350.0,400.0,400.0,500.0,3000.0,700.0,700.0,400.0,1500.0,450.0,300.0,500.0,800.0,180.0,150.0,500.0,750.0,400.0,700.0,500.0,750.0,1200.0,1300.0,1300.0,300.0,850.0,500.0,600.0,1000.0,700.0,1000.0,300.0,800.0,950.0,300.0,800.0,900.0,600.0,800.0,350.0,500.0,1000.0,500.0,300.0,1400.0,1500.0,750.0,550.0,2000.0,550.0,1000.0,600.0,250.0,1400.0,200.0,1500.0,700.0,400.0,400.0,350.0,200.0,450.0,1000.0,700.0,300.0,350.0,400.0,250.0,400.0,2000.0,400.0,750.0,700.0,300.0,700.0,1200.0,800.0,600.0,1000.0,500.0,700.0,300.0,600.0,1200.0,800.0,600.0,650.0,500.0,400.0,2100.0,400.0,2000.0,300.0,600.0,600.0,1000.0,200.0,800.0,600.0,1000.0,1500.0,150.0,400.0,400.0,1200.0,700.0,1200.0,800.0,650.0,400.0,1700.0,600.0,1700.0,800.0,700.0,1500.0,1300.0,300.0,2100.0,600.0,600.0,1700.0,750.0,2100.0,700.0,1500.0,700.0,1700.0,1400.0,650.0,800.0,1000.0,600.0,1000.0,2000.0,750.0,1000.0,1000.0,1400.0,1200.0,850.0,1500.0,300.0,850.0,1000.0,1800.0,550.0,800.0,300.0,500.0,1800.0,1300.0,800.0,700.0,400.0,550.0,800.0,1000.0,550.0,600.0,1000.0,450.0,500.0,1300.0,1000.0,1200.0,1300.0,700.0,250.0,500.0,1300.0,1000.0,1000.0,1500.0,800.0,900.0,1700.0,1100.0,1400.0,550.0,400.0,600.0,750.0,400.0,900.0,500.0,800.0,450.0,800.0,500.0,800.0,150.0,1200.0,500.0,500.0,650.0,400.0,450.0,500.0,200.0,800.0,500.0,1100.0,500.0,200.0,500.0,300.0,450.0,350.0,100.0,300.0,250.0,550.0,500.0,400.0,600.0,1800.0,1600.0,1600.0,600.0,1400.0,300.0,400.0,300.0,400.0,550.0,800.0,800.0,2000.0,1000.0,550.0,400.0,1250.0,400.0,300.0,300.0,700.0,450.0,500.0,1000.0,500.0,450.0,300.0,350.0,400.0,800.0,400.0,400.0,250.0,450.0,300.0,150.0,150.0,250.0,180.0,400.0,500.0,200.0,300.0,200.0,300.0,300.0,500.0,350.0,600.0,900.0,1300.0,1100.0,750.0,700.0,500.0,200.0,300.0,400.0,2200.0,3000.0,1800.0,2500.0,3000.0,3000.0,1500.0,1200.0,1300.0,2100.0,1700.0,1600.0,1500.0,2200.0,1400.0,1500.0,1000.0,1000.0,1500.0,1500.0,1500.0,1300.0,1200.0,1600.0,1000.0,1100.0,600.0,1000.0,1200.0,1200.0,1800.0,2500.0,2000.0,600.0,400.0,350.0,500.0,1700.0,1800.0,1500.0,1500.0,1500.0,2000.0,800.0,2800.0,700.0,1100.0,1500.0,2100.0,1500.0,2000.0,3000.0,2500.0,3500.0,1700.0,1700.0,1500.0,1200.0,1500.0,1300.0,1200.0,700.0,800.0,1600.0,1000.0,1500.0,800.0,2000.0,1500.0,2500.0,2100.0,1000.0,1900.0,1700.0,2000.0,1100.0,1300.0,600.0,900.0,1200.0,1700.0,1400.0,1300.0,1000.0,600.0,2500.0,1400.0,200.0,1500.0,550.0,750.0,1000.0,1500.0,3000.0,1500.0,3000.0,1100.0,650.0,1200.0,2500.0,2000.0,600.0,1400.0,1100.0,3200.0,650.0,750.0,850.0,1800.0,500.0,2500.0,1000.0,1500.0,1000.0,1200.0,3400.0,2000.0,1000.0,1400.0,3500.0,700.0,1600.0,1200.0,400.0,900.0,1500.0,1200.0,800.0,1500.0,1200.0,4000.0,500.0,1300.0,700.0,4000.0,4000.0,1200.0,800.0,600.0,1100.0,1100.0,1000.0,1700.0,2000.0,1200.0,800.0,2000.0,3000.0,2000.0,800.0,2000.0,3500.0,1000.0,1300.0,700.0,1000.0,500.0,800.0,2800.0,2500.0,800.0,500.0,3000.0,750.0,800.0,650.0,1800.0,950.0,1500.0,3000.0,750.0,750.0,1500.0,1000.0,1500.0,550.0,500.0,700.0,500.0,600.0,700.0,800.0,700.0,1200.0,1000.0,300.0,700.0,1300.0,1000.0,500.0,1600.0,500.0,1600.0,3000.0,900.0,450.0,1000.0,650.0,550.0,650.0,1000.0,1000.0,2000.0,350.0,400.0,300.0,3000.0,1200.0,3000.0,400.0,500.0,650.0,800.0,2500.0,700.0,1400.0,500.0,600.0,500.0,800.0,600.0,850.0,700.0,500.0,1900.0,800.0,1000.0,500.0,1300.0,1500.0,250.0,1000.0,1000.0,700.0,500.0,3000.0,600.0,500.0,800.0,600.0,500.0,800.0,1200.0,500.0,550.0,800.0,800.0,1200.0,800.0,600.0,350.0,800.0,700.0,600.0,2500.0,800.0,600.0,1000.0,550.0,250.0,700.0,400.0,300.0,500.0,200.0,300.0,150.0,450.0,300.0,500.0,300.0,300.0,150.0,300.0,450.0,500.0,150.0,300.0,600.0,400.0,250.0,350.0,400.0,200.0,400.0,250.0,400.0,500.0,300.0,400.0,500.0,500.0,400.0,200.0,400.0,350.0,250.0,400.0,500.0,250.0,300.0,300.0,300.0,450.0,300.0,100.0,500.0,1300.0,2800.0,3000.0,2500.0,1600.0,1100.0,1100.0,4100.0,1300.0,3000.0,600.0,2000.0,2000.0,1000.0,1300.0,1100.0,750.0,3400.0,750.0,1800.0,3000.0,1300.0,700.0,1500.0,1700.0,300.0,600.0,1200.0,2300.0,1000.0,750.0,3000.0,2000.0,1000.0,500.0,3000.0,1300.0,750.0,850.0,450.0,700.0,1000.0,600.0,750.0,1800.0,400.0,650.0,500.0,750.0,400.0,500.0,400.0,450.0,150.0,200.0,2200.0,200.0,150.0,700.0,2400.0,350.0,400.0,400.0,1100.0,600.0,200.0,2000.0,1100.0,450.0,600.0,300.0,150.0,750.0,600.0,350.0,1200.0,1300.0,1800.0,1200.0,2100.0,1700.0,1000.0,1000.0,1300.0,1200.0,1800.0,1200.0,2000.0,1500.0,2500.0,1700.0,1200.0,1300.0,1500.0,2500.0,1900.0,1700.0,1000.0,1500.0,1100.0,1200.0,1400.0,1100.0,1000.0,1000.0,1600.0,1200.0,1200.0,1500.0,4000.0,1100.0,1100.0,1000.0,1700.0,2000.0,2000.0,2000.0,3500.0,1300.0,1800.0,1500.0,1500.0,600.0,1000.0,1000.0,1000.0,3000.0,1200.0,1300.0,1500.0,800.0,1300.0,3000.0,3000.0,2000.0,1000.0,3400.0,1200.0,1300.0,2200.0,1100.0,1200.0,2000.0,1700.0,1500.0,950.0,1000.0,1200.0,2400.0,800.0,4100.0,1500.0,1400.0,3000.0,1200.0,600.0,800.0,600.0,900.0,500.0,600.0,500.0,700.0,700.0,400.0,350.0,500.0,400.0,800.0,1000.0,400.0,800.0,600.0,650.0,500.0,500.0,650.0,200.0,120.0,350.0,400.0,450.0,400.0,600.0,400.0,750.0,300.0,250.0,500.0,400.0,600.0,500.0,400.0,600.0,400.0,250.0,400.0,450.0,250.0,300.0,300.0,300.0,300.0,700.0,750.0,500.0,400.0,500.0,400.0,300.0,200.0,350.0,600.0,500.0,150.0,250.0,800.0,400.0,500.0,700.0,350.0,150.0,450.0,700.0,750.0,500.0,600.0,300.0,500.0,250.0,100.0,450.0,800.0,600.0,650.0,300.0,550.0,450.0,1400.0,300.0,250.0,600.0,800.0,500.0,1200.0,2000.0,1100.0,1200.0,150.0,900.0,700.0,500.0,150.0,500.0,200.0,300.0,800.0,250.0,350.0,650.0,1000.0,1300.0,450.0,800.0,900.0,200.0,300.0,700.0,150.0,150.0,300.0,500.0,800.0,300.0,400.0,100.0,300.0,450.0,500.0,400.0,300.0,450.0,500.0,400.0,500.0,500.0,600.0,1100.0,1000.0,300.0,400.0,1500.0,500.0,600.0,400.0,750.0,400.0,800.0,400.0,600.0,300.0,300.0,600.0,300.0,1000.0,350.0,700.0,300.0,750.0,400.0,800.0,150.0,750.0,400.0,600.0,400.0,500.0,400.0,400.0,400.0,700.0,900.0,300.0,650.0,600.0,200.0,500.0,700.0,400.0,150.0,450.0,600.0,800.0,400.0,1000.0,1100.0,1200.0,200.0,550.0,200.0,500.0,500.0,500.0,350.0,800.0,500.0,650.0,200.0,600.0,300.0,400.0,700.0,500.0,350.0,600.0,450.0,1700.0,650.0,950.0,400.0,500.0,1100.0,600.0,600.0,650.0,400.0,150.0,600.0,1000.0,600.0,450.0,500.0,1700.0,1500.0,600.0,100.0,600.0,800.0,1200.0,500.0,750.0,800.0,900.0,500.0,500.0,1000.0,700.0,1000.0,850.0,900.0,300.0,1100.0,900.0,1200.0,1200.0,800.0,1400.0,600.0,1000.0,900.0,750.0,750.0,800.0,800.0,1000.0,300.0,500.0,700.0,1500.0,1400.0,650.0,1800.0,600.0,400.0,400.0,250.0,700.0,200.0,250.0,250.0,300.0,500.0,300.0,400.0,400.0,400.0,100.0,250.0,200.0,450.0,400.0,800.0,400.0,400.0,1250.0,800.0,200.0,600.0,450.0,500.0,500.0,1100.0,2600.0,2000.0,1800.0,2000.0,1300.0,2500.0,1200.0,1700.0,1400.0,700.0,1000.0,1400.0,1500.0,800.0,1000.0,1400.0,950.0,500.0,600.0,1100.0,1000.0,1500.0,500.0,600.0,1200.0,100.0,1500.0,650.0,700.0,500.0,500.0,2500.0,1500.0,700.0,1500.0,600.0,400.0,1100.0,750.0,1100.0,600.0,150.0,2000.0,400.0,500.0,600.0,800.0,600.0,250.0,150.0,250.0,300.0,250.0,300.0,200.0,200.0,350.0,150.0,300.0,400.0,800.0,400.0,300.0,350.0,250.0,600.0,400.0,600.0,200.0,500.0,200.0,250.0,200.0,300.0,500.0,300.0,400.0,300.0,500.0,300.0,100.0,300.0,300.0,550.0,400.0,500.0,800.0,500.0,150.0,500.0,1200.0,1200.0,1200.0,2400.0,1000.0,800.0,4100.0,1500.0,2000.0,900.0,5000.0,800.0,1400.0,3000.0,3000.0,1500.0,1000.0,1000.0,4000.0,2200.0,1800.0,4000.0,1200.0,700.0,800.0,700.0,600.0,2200.0,2500.0,450.0,650.0,3700.0,700.0,600.0,750.0,600.0,800.0,300.0,200.0,300.0,200.0,200.0,250.0,1650.0,1100.0,1300.0,400.0,1200.0,1200.0,600.0,600.0,800.0,700.0,1400.0,850.0,300.0,900.0,650.0,1100.0,800.0,450.0,700.0,400.0,600.0,300.0,600.0,400.0,600.0,900.0,500.0,450.0,450.0,600.0,750.0,300.0,450.0,1200.0,2600.0,1800.0,1200.0,1400.0,1400.0,1100.0,1500.0,1500.0,1100.0,2000.0,2000.0,3000.0,1500.0,2200.0,1650.0,1200.0,1100.0,1200.0,1400.0,1400.0,1100.0,1500.0,1100.0,2000.0,3000.0,2500.0,1650.0,1300.0,1400.0,2500.0,1400.0,1500.0,1500.0,1600.0,1300.0,1400.0,1100.0,1300.0,1200.0,2700.0,1000.0,1600.0,1500.0,1500.0,1700.0,1300.0,750.0,1000.0,1000.0,1200.0,600.0,700.0,750.0,1200.0,600.0,400.0,600.0,700.0,300.0,700.0,400.0,650.0,300.0,600.0,500.0,500.0,600.0,300.0,400.0,700.0,600.0,450.0,450.0,250.0,500.0,700.0,300.0,600.0,850.0,500.0,500.0,650.0,400.0,400.0,500.0,650.0,400.0,800.0,300.0,400.0,400.0,450.0,1000.0,800.0,500.0,400.0,300.0,250.0,350.0,400.0,400.0,300.0,700.0,150.0,600.0,800.0,250.0,650.0,250.0,500.0,350.0,800.0,200.0,1400.0,500.0,1100.0,350.0,650.0,400.0,1400.0,700.0,300.0,800.0,600.0,900.0,600.0,300.0,450.0,300.0,300.0,800.0,600.0,800.0,400.0,200.0,300.0,1100.0,450.0,400.0,450.0,400.0,200.0,500.0,200.0,700.0,650.0,600.0,400.0,1000.0,300.0,400.0,800.0,600.0,800.0,400.0,150.0,200.0,1000.0,1000.0,500.0,300.0,600.0,600.0,400.0,500.0,550.0,1400.0,300.0,300.0,500.0,300.0,350.0,1300.0,250.0,450.0,400.0,600.0,600.0,400.0,1000.0,600.0,1000.0,300.0,300.0,800.0,600.0,400.0,700.0,700.0,400.0,1400.0,900.0,750.0,750.0,400.0,500.0,500.0,750.0,200.0,800.0,300.0,600.0,300.0,1500.0,1500.0,450.0,700.0,1000.0,500.0,350.0,1000.0,1200.0,300.0,600.0,200.0,600.0,400.0,800.0,250.0,150.0,1000.0,800.0,350.0,250.0,550.0,800.0,400.0,650.0,200.0,400.0,300.0,600.0,600.0,200.0,300.0,1100.0,500.0,600.0,500.0,400.0,550.0,500.0,400.0,400.0,450.0,300.0,650.0,450.0,800.0,600.0,450.0,800.0,750.0,400.0,750.0,300.0,600.0,650.0,600.0,250.0,800.0,250.0,700.0,250.0,400.0,500.0,1000.0,350.0,700.0,900.0,300.0,200.0,400.0,350.0,500.0,800.0,500.0,800.0,300.0,700.0,650.0,750.0,150.0,750.0,600.0,500.0,700.0,300.0,300.0,250.0,450.0,1000.0,300.0,700.0,300.0,400.0,500.0,700.0,800.0,500.0,300.0,750.0,300.0,800.0,200.0,450.0,900.0,600.0,300.0,450.0,650.0,600.0,750.0,500.0,750.0,750.0,500.0,1200.0,600.0,350.0,400.0,750.0,400.0,600.0,650.0,800.0,500.0,600.0,500.0,200.0,750.0,200.0,250.0,800.0,600.0,1500.0,150.0,750.0,150.0,500.0,450.0,400.0,750.0,500.0,300.0,450.0,1000.0,500.0,850.0,800.0,400.0,500.0,250.0,400.0,600.0,1700.0,400.0,1000.0,1000.0,1100.0,500.0,400.0,1400.0,400.0,200.0,250.0,500.0,500.0,500.0,300.0,350.0,300.0,300.0,700.0,300.0,400.0,600.0,500.0,400.0,400.0,400.0,550.0,400.0,1100.0,1400.0,2500.0,1500.0,1600.0,1300.0,1400.0,1100.0,1500.0,1300.0,1300.0,1500.0,1800.0,650.0,1200.0,2700.0,800.0,1600.0,1000.0,600.0,1000.0,600.0,1600.0,1100.0,900.0,1000.0,800.0,750.0,800.0,800.0,1500.0,1500.0,1000.0,600.0,2500.0,1300.0,500.0,1400.0,800.0,2000.0,1100.0,700.0,1100.0,850.0,1700.0,650.0,1500.0,800.0,750.0,750.0,800.0,800.0,800.0,850.0,800.0,1000.0,600.0,800.0,650.0,1300.0,1000.0,900.0,750.0,400.0,900.0,700.0,700.0,4500.0,800.0,600.0,1000.0,800.0,600.0,800.0,400.0,1100.0,650.0,750.0,450.0,500.0,300.0,500.0,1000.0,750.0,1200.0,650.0,650.0,700.0,500.0,500.0,400.0,1000.0,1000.0,450.0,750.0,2500.0,600.0,600.0,800.0,800.0,1000.0,400.0,550.0,1000.0,1200.0,500.0,600.0,400.0,650.0,800.0,700.0,750.0,600.0,700.0,250.0,600.0,1000.0,800.0,600.0,200.0,450.0,150.0,400.0,450.0,200.0,300.0,300.0,250.0,400.0,300.0,500.0,600.0,400.0,350.0,350.0,600.0,350.0,400.0,300.0,250.0,400.0,300.0,300.0,200.0,500.0,400.0,350.0,400.0,200.0,200.0,250.0,150.0,400.0,450.0,250.0,300.0,700.0,400.0,400.0,500.0,300.0,400.0,150.0,500.0,300.0,500.0,300.0,250.0,200.0,200.0,600.0,500.0,350.0,450.0,400.0,400.0,300.0,300.0,600.0,450.0,1200.0,1000.0,700.0,600.0,300.0,750.0,1500.0,600.0,600.0,800.0,800.0,800.0,700.0,750.0,750.0,800.0,500.0,250.0,300.0,550.0,400.0,600.0,500.0,500.0,400.0,400.0,500.0,500.0,850.0,300.0,600.0,500.0,500.0,600.0,900.0,600.0,400.0,450.0,350.0,400.0,450.0,1200.0,250.0,750.0,600.0,150.0,350.0,500.0,500.0,500.0,350.0,450.0,550.0,350.0,650.0,300.0,450.0,600.0,500.0,150.0,500.0,250.0,300.0,750.0,300.0,800.0,600.0,1400.0,1800.0,4500.0,1100.0,1500.0,1300.0,1500.0,1200.0,1600.0,1000.0,1500.0,1300.0,1100.0,1200.0,2500.0,1000.0,1200.0,1200.0,1500.0,1500.0,1500.0,2200.0,2100.0,3000.0,3000.0,1500.0,1600.0,3000.0,800.0,1800.0,1200.0,2800.0,1700.0,1400.0,1600.0,1500.0,2500.0,750.0,500.0,1000.0,1500.0,3400.0,2000.0,1200.0,800.0,1700.0,1600.0,2000.0,1300.0,2200.0,1200.0,1000.0,1200.0,650.0,1400.0,1900.0,1000.0,1000.0,500.0,1200.0,650.0,1300.0,1700.0,1200.0,1300.0,1000.0,1100.0,750.0,1200.0,1700.0,2500.0,450.0,500.0,800.0,700.0,1100.0,800.0,900.0,1000.0,600.0,600.0,650.0,1400.0,750.0,700.0,400.0,900.0,700.0,700.0,800.0,750.0,800.0,500.0,1000.0,1000.0,400.0,650.0,1200.0,500.0,500.0,600.0,400.0,1000.0,500.0,600.0,800.0,350.0,1300.0,1100.0,750.0,1000.0,800.0,650.0,500.0,600.0,1200.0,500.0,300.0,200.0,500.0,450.0,400.0,600.0,800.0,300.0,500.0,300.0,650.0,600.0,200.0,400.0,400.0,350.0,750.0,500.0,800.0,500.0,300.0,800.0,800.0,1000.0,500.0,750.0,400.0,550.0,400.0,750.0,950.0,400.0,600.0,400.0,800.0,150.0,1500.0,450.0,200.0,250.0,300.0,750.0,400.0,800.0,250.0,700.0,150.0,800.0,650.0,400.0,1200.0,900.0,1200.0,300.0,1100.0,400.0,500.0,600.0,1400.0,650.0,900.0,400.0,1300.0,500.0,700.0,800.0,300.0,800.0,800.0,750.0,1500.0,400.0,700.0,350.0,850.0,1600.0,500.0,400.0,650.0,800.0,1700.0,500.0,1200.0,1300.0,500.0,500.0,700.0,400.0,350.0,400.0,600.0,1600.0,650.0,700.0,400.0,550.0,500.0,300.0,1000.0,1500.0,650.0,1300.0,600.0,1200.0,600.0,1100.0,500.0,1500.0,400.0,700.0,900.0,400.0,600.0,500.0,400.0,500.0,500.0,800.0,600.0,1600.0,400.0,250.0,3000.0,350.0,250.0,250.0,1700.0,900.0,350.0,400.0,600.0,300.0,200.0,800.0,200.0,300.0,550.0,750.0,600.0,450.0,600.0,100.0,350.0,600.0,1300.0,180.0,1700.0,500.0,2100.0,700.0,300.0,500.0,2000.0,1000.0,1500.0,300.0,150.0,800.0,1500.0,700.0,750.0,400.0,1300.0,600.0,400.0,1000.0,700.0,500.0,800.0,1300.0,500.0,450.0,500.0,750.0,500.0,400.0,1300.0,600.0,700.0,500.0,700.0,750.0,500.0,1000.0,1200.0,500.0,2100.0,1000.0,500.0,1900.0,400.0,450.0,300.0,1400.0,300.0,600.0,2000.0,400.0,1000.0,650.0,950.0,1000.0,500.0,300.0,1400.0,800.0,1200.0,1000.0,1000.0,150.0,700.0,700.0,700.0,750.0,500.0,1500.0,300.0,700.0,700.0,800.0,450.0,1200.0,1800.0,500.0,800.0,200.0,1500.0,500.0,200.0,700.0,700.0,400.0,500.0,400.0,450.0,1000.0,400.0,1400.0,800.0,600.0,700.0,350.0,1500.0,1500.0,200.0,500.0,300.0,600.0,400.0,700.0,300.0,1800.0,800.0,1800.0,1000.0,800.0,2000.0,1200.0,300.0,500.0,300.0,600.0,1200.0,1000.0,700.0,400.0,250.0,200.0,250.0,200.0,1700.0,300.0,1000.0,350.0,400.0,650.0,300.0,800.0,1000.0,800.0,750.0,2000.0,1700.0,850.0,1000.0,850.0,650.0,500.0,600.0,400.0,1200.0,800.0,350.0,300.0,1500.0,550.0,300.0,700.0,300.0,700.0,300.0,800.0,750.0,1000.0,550.0,2000.0,700.0,300.0,400.0,800.0,550.0,250.0,600.0,300.0,1700.0,500.0,1200.0,1300.0,700.0,1300.0,1000.0,1200.0,1000.0,1400.0,800.0,700.0,2100.0,800.0,900.0,550.0,400.0,750.0,400.0,500.0,900.0,500.0,800.0,500.0,800.0,600.0,800.0,150.0,750.0,600.0,1200.0,1300.0,600.0,500.0,650.0,500.0,400.0,500.0,200.0,800.0,350.0,1000.0,500.0,1100.0,500.0,500.0,200.0,500.0,300.0,450.0,100.0,600.0,500.0,1600.0,600.0,1600.0,450.0,500.0,800.0,900.0,300.0,800.0,2000.0,1000.0,600.0,550.0,400.0,1250.0,400.0,1400.0,700.0,300.0,300.0,700.0,500.0,300.0,400.0,2000.0,1000.0,700.0,400.0,450.0,300.0,350.0,400.0,300.0,400.0,400.0,250.0,450.0,400.0,300.0,150.0,250.0,200.0,180.0,400.0,150.0,500.0,400.0,200.0,300.0,300.0,500.0,350.0,600.0,1300.0,800.0,200.0,1100.0,750.0,500.0,2100.0,1800.0,1500.0,1700.0,2800.0,2100.0,3000.0,1200.0,1500.0,1500.0,1700.0,200.0,1500.0,1000.0,3000.0,1500.0,2500.0,2000.0,1500.0,600.0,2000.0,3000.0,1000.0,2800.0,3000.0,1800.0,500.0,1000.0,1600.0,3000.0,3000.0,3000.0,2500.0,800.0,800.0,1500.0,750.0,350.0,700.0,2500.0,2500.0,1000.0,700.0,450.0,500.0,400.0,500.0,200.0,250.0,1800.0,1500.0,1500.0,2500.0,2000.0,3000.0,2200.0,3000.0,800.0,700.0,1100.0,1500.0,1500.0,2000.0,1500.0,2500.0,3500.0,1700.0,1700.0,1500.0,1200.0,1200.0,1300.0,1500.0,1300.0,2800.0,2100.0,700.0,1700.0,1600.0,1000.0,3000.0,800.0,2000.0,1500.0,1000.0,1900.0,1700.0,2000.0,1100.0,1300.0,2200.0,1400.0,1500.0,600.0,900.0,1200.0,2500.0,1600.0,1400.0,1300.0,1500.0,1000.0,1000.0,600.0,2500.0,4000.0,550.0,750.0,1300.0,1500.0,3000.0,500.0,1000.0,1100.0,650.0,1200.0,1500.0,1400.0,1500.0,1100.0,600.0,1300.0,1000.0,1300.0,650.0,850.0,750.0,1800.0,1000.0,1500.0,750.0,1000.0,1200.0,3400.0,700.0,1800.0,2000.0,3000.0,1000.0,1400.0,3500.0,700.0,1600.0,400.0,900.0,1500.0,1200.0,1200.0,800.0,1200.0,4000.0,500.0,1300.0,700.0,4000.0,1200.0,800.0,600.0,1200.0,1100.0,1100.0,1000.0,1700.0,2000.0,550.0,2000.0,650.0,3000.0,1600.0,800.0,2000.0,2000.0,3500.0,1300.0,700.0,1000.0,750.0,800.0,1800.0,800.0,650.0,800.0,2000.0,2200.0,950.0,800.0,3000.0,750.0,1500.0,1000.0,1100.0,550.0,700.0,500.0,1000.0,600.0,700.0,800.0,2000.0,700.0,1200.0,300.0,700.0,500.0,1000.0,1000.0,450.0,1000.0,650.0,550.0,650.0,1200.0,1200.0,1000.0,2000.0,1500.0,350.0,300.0,400.0,400.0,1800.0,500.0,500.0,2500.0,650.0,800.0,1400.0,500.0,600.0,500.0,800.0,600.0,850.0,700.0,400.0,2400.0,1400.0,1900.0,1000.0,500.0,1300.0,250.0,1000.0,600.0,700.0,500.0,3000.0,600.0,500.0,800.0,600.0,500.0,800.0,1200.0,500.0,800.0,1200.0,800.0,600.0,800.0,2000.0,600.0,800.0,600.0,600.0,550.0,400.0,250.0,400.0,300.0,500.0,200.0,150.0,300.0,300.0,500.0,300.0,300.0,150.0,250.0,200.0,450.0,150.0,300.0,600.0,400.0,350.0,200.0,250.0,400.0,250.0,400.0,300.0,400.0,500.0,500.0,500.0,400.0,500.0,350.0,400.0,500.0,300.0,300.0,300.0,300.0,450.0,300.0,100.0,500.0,1300.0,800.0,1600.0,2500.0,1100.0,1100.0,750.0,700.0,1300.0,1700.0,600.0,1000.0,1200.0,550.0,600.0,500.0,800.0,650.0,200.0,700.0,650.0,200.0,750.0,1300.0,500.0,200.0,1000.0,650.0,300.0,400.0,500.0,500.0,300.0,300.0,500.0,300.0,250.0,700.0,400.0,350.0,300.0,1100.0,500.0,400.0,250.0,800.0,600.0,700.0,600.0,300.0,1300.0,2000.0,2000.0,1700.0,1500.0,1000.0,1500.0,2800.0,3000.0,1000.0,3000.0,1500.0,1500.0,2500.0,2000.0,3000.0,3000.0,1500.0,1500.0,1500.0,2500.0,1700.0,1700.0,1200.0,1300.0,1300.0,1700.0,2000.0,1500.0,1900.0,1300.0,1000.0,1300.0,1500.0,3000.0,1100.0,1200.0,1400.0,1100.0,1000.0,1000.0,1600.0,1200.0,1200.0,1100.0,1100.0,1000.0,2000.0,2000.0,1500.0,1100.0,600.0,1000.0,1000.0,2000.0,1500.0,2500.0,2400.0,1400.0,1300.0,2500.0,1200.0,1300.0,1300.0,1200.0,1500.0,1000.0,1500.0,2000.0,1800.0,1000.0,3000.0,1500.0,2000.0,1500.0,2500.0,1700.0,1200.0,1200.0,1300.0,2100.0,1700.0,1900.0,1700.0,1000.0,1500.0,1300.0,1000.0,1100.0,1200.0,1400.0,1100.0,1300.0,1000.0,1000.0,1000.0,1600.0,1200.0,1200.0,4000.0,1200.0,1100.0,1200.0,1100.0,1000.0,1700.0,2000.0,2000.0,3500.0,1300.0,1800.0,1100.0,600.0,1000.0,1200.0,1000.0,1800.0,1400.0,1300.0,800.0,1300.0,2500.0,1400.0,1100.0,1800.0,900.0,900.0,1200.0,700.0,650.0,800.0,600.0,600.0,800.0,1000.0,500.0,900.0,800.0,1100.0,700.0,900.0,700.0,250.0,400.0,600.0,500.0,650.0,650.0,300.0,350.0,400.0,300.0,450.0,400.0,800.0,500.0,600.0,300.0,600.0,1400.0,500.0,600.0,500.0,400.0,850.0,500.0,800.0,250.0,300.0,300.0,500.0,400.0,300.0,500.0,100.0,600.0,700.0,750.0,400.0,750.0,450.0,500.0,400.0,600.0,1700.0,800.0,200.0,300.0,500.0,600.0,300.0,700.0,400.0,650.0,500.0,500.0,300.0,1200.0,700.0,250.0,400.0,300.0,200.0,900.0,350.0,450.0,700.0,500.0,650.0,700.0,800.0,150.0,400.0,500.0,800.0,700.0,300.0,650.0,300.0,450.0,400.0,400.0,500.0,500.0,600.0,1000.0,400.0,900.0,1250.0,650.0,500.0,300.0,600.0,600.0,800.0,1000.0,600.0,400.0,400.0,1100.0,800.0,800.0,400.0,600.0,300.0,700.0,700.0,700.0,100.0,700.0,1100.0,400.0,900.0,900.0,400.0,350.0,500.0,400.0,200.0,600.0,150.0,800.0,350.0,200.0,1100.0,1400.0,450.0,450.0,400.0,700.0,800.0,250.0,600.0,650.0,400.0,700.0,400.0,400.0,300.0,600.0,500.0,600.0,900.0,700.0,400.0,500.0,400.0,300.0,200.0,400.0,500.0,400.0,300.0,400.0,200.0,500.0,350.0,1400.0,900.0,1200.0,1400.0,1200.0,600.0,500.0,1000.0,800.0,700.0,800.0,1000.0,700.0,700.0,650.0,1100.0,500.0,500.0,400.0,800.0,600.0,700.0,400.0,600.0,400.0,800.0,800.0,1400.0,600.0,750.0,600.0,700.0,650.0,1400.0,800.0,1000.0,500.0,1100.0,900.0,700.0,300.0,650.0,800.0,1100.0,750.0,1800.0,850.0,700.0,800.0,900.0,700.0,400.0,900.0,700.0,650.0,700.0,250.0,650.0,400.0,600.0,400.0,600.0,700.0,300.0,350.0,500.0,400.0,400.0,500.0,300.0,600.0,500.0,300.0,300.0,500.0,500.0,450.0,350.0,300.0,400.0,400.0,400.0,250.0,400.0,400.0,400.0,600.0,200.0,400.0,300.0,300.0,350.0,400.0,400.0,300.0,350.0,1400.0,1200.0,1400.0,1200.0,1400.0,1100.0,1200.0,1400.0,1400.0,1200.0,1000.0,1400.0,1100.0,1800.0,1200.0,3000.0,3500.0,2200.0,1400.0,1500.0,1600.0,1900.0,1400.0,1700.0,1500.0,1200.0,1300.0,600.0,750.0,800.0,1000.0,1200.0,1200.0,1500.0,1700.0,1000.0,1100.0,700.0,450.0,700.0,500.0,800.0,900.0,1000.0,1000.0,1600.0,200.0,700.0,500.0,1000.0,700.0,800.0,650.0,400.0,400.0,700.0,700.0,450.0,800.0,500.0,800.0,750.0,600.0,700.0,500.0,500.0,200.0,600.0,500.0,500.0,600.0,500.0,500.0,300.0,200.0,800.0,450.0,450.0,300.0,400.0,400.0,150.0,200.0,400.0,600.0,300.0,750.0,600.0,250.0,400.0,200.0,300.0,400.0,400.0,300.0,600.0,700.0,250.0,700.0,400.0,500.0,400.0,650.0,350.0,1000.0,300.0,450.0,400.0,600.0,1000.0,500.0,500.0,800.0,1000.0,350.0,800.0,800.0,1000.0,600.0,400.0,500.0,800.0,400.0,650.0,850.0,700.0,300.0,300.0,950.0,800.0,500.0,350.0,600.0,350.0,600.0,250.0,800.0,600.0,400.0,1500.0,600.0,200.0,600.0,600.0,300.0,300.0,500.0,200.0,700.0,800.0,600.0,300.0,250.0,600.0,700.0,750.0,800.0,300.0,500.0,500.0,500.0,1200.0,750.0,300.0,300.0,500.0,1200.0,400.0,1200.0,300.0,800.0,1200.0,1600.0,1100.0,400.0,250.0,500.0,650.0,600.0,400.0,900.0,500.0,100.0,700.0,500.0,400.0,300.0,500.0,600.0,1700.0,500.0,600.0,400.0,800.0,1200.0,800.0,1500.0,600.0,1300.0,400.0,750.0,350.0,450.0,500.0,500.0,1500.0,500.0,650.0,150.0,800.0,1400.0,500.0,350.0,350.0,400.0,600.0,500.0,300.0,650.0,400.0,550.0,450.0,600.0,400.0,500.0,300.0,1200.0,1500.0,1800.0,800.0,400.0,200.0,800.0,900.0,1100.0,600.0,500.0,500.0,500.0,450.0,800.0,250.0,600.0,1600.0,600.0,300.0,350.0,400.0,800.0,800.0,550.0,550.0,900.0,350.0,400.0,600.0,400.0,450.0,200.0,200.0,300.0,1500.0,550.0,200.0,750.0,450.0,600.0,500.0,650.0,300.0,300.0,600.0,800.0,1400.0,600.0,200.0,500.0,500.0,800.0,600.0,1000.0,600.0,400.0,350.0,350.0,700.0,400.0,500.0,400.0,500.0,700.0,300.0,800.0,500.0,1200.0,250.0,500.0,400.0,400.0,300.0,600.0,700.0,1200.0,450.0,200.0,600.0,1000.0,300.0,500.0,150.0,700.0,250.0,1500.0,700.0,300.0,1000.0,450.0,200.0,500.0,750.0,500.0,450.0,500.0,1400.0,1200.0,400.0,300.0,550.0,500.0,500.0,150.0,400.0,450.0,450.0,400.0,300.0,1200.0,750.0,300.0,300.0,1000.0,450.0,250.0,200.0,300.0,250.0,1900.0,750.0,400.0,200.0,500.0,1200.0,150.0,1500.0,900.0,400.0,800.0,700.0,700.0,600.0,800.0,2000.0,500.0,350.0,700.0,800.0,300.0,400.0,400.0,200.0,200.0,600.0,500.0,500.0,1700.0,1500.0,1600.0,400.0,1400.0,900.0,700.0,800.0,800.0,900.0,1500.0,650.0,700.0,500.0,800.0,300.0,600.0,350.0,600.0,400.0,200.0,700.0,150.0,500.0,400.0,700.0,400.0,450.0,250.0,1100.0,400.0,300.0,200.0,500.0,500.0,300.0,500.0,500.0,500.0,500.0,1500.0,600.0,600.0,500.0,400.0,400.0,1200.0,700.0,200.0,400.0,200.0,250.0,300.0,200.0,1200.0,400.0,800.0,900.0,1000.0,200.0,700.0,400.0,300.0,400.0,400.0,400.0,300.0,300.0,450.0,800.0,400.0,500.0,400.0,400.0,400.0,800.0,800.0,750.0,300.0,500.0,300.0,600.0,350.0,400.0,300.0,200.0,300.0,200.0,200.0,300.0,500.0,450.0,600.0,1800.0,3500.0,4000.0,1000.0,1000.0,2200.0,1400.0,2000.0,700.0,6000.0,3500.0,2400.0,900.0,1500.0,700.0,450.0,800.0,300.0,600.0,550.0,400.0,750.0,1900.0,3000.0,500.0,200.0,400.0,250.0,400.0,350.0,150.0,300.0,400.0,400.0,700.0,500.0,500.0,400.0,400.0,500.0,400.0,450.0,250.0,600.0,600.0,850.0,700.0,500.0,750.0,500.0,800.0,500.0,600.0,750.0,650.0,600.0,500.0,400.0,700.0,500.0,500.0,600.0,500.0,500.0,800.0,400.0,350.0,300.0,150.0,250.0,200.0,150.0,200.0,550.0,250.0,450.0,300.0,500.0,350.0,150.0,450.0,350.0,450.0,500.0,400.0,200.0,250.0,400.0,350.0,1600.0,1000.0,800.0,1500.0,1800.0,1400.0,2000.0,1200.0,1500.0,1900.0,1500.0,1500.0,1200.0,1600.0,1400.0,1500.0,2500.0,1300.0,1000.0,1400.0,1700.0,1700.0,900.0,1500.0,1500.0,1200.0,1300.0,1400.0,700.0,1300.0,1600.0,1000.0,1000.0,1200.0,1100.0,1000.0,3000.0,1500.0,600.0,2000.0,800.0,1700.0,750.0,1200.0,600.0,800.0,800.0,1200.0,1600.0,800.0,200.0,1000.0,1100.0,900.0,700.0,1500.0,700.0,1100.0,1300.0,1500.0,1500.0,450.0,650.0,500.0,1000.0,1000.0,1800.0,1500.0,700.0,800.0,650.0,1100.0,1200.0,1200.0,1500.0,800.0,500.0,1400.0,1800.0,1500.0,700.0,1800.0,800.0,500.0,1200.0,1700.0,2000.0,1300.0,1600.0,800.0,500.0,450.0,300.0,1000.0,800.0,300.0,800.0,600.0,800.0,300.0,600.0,3000.0,1000.0,600.0,400.0,350.0,300.0,400.0,700.0,400.0,400.0,200.0,300.0,700.0,150.0,600.0,600.0,300.0,600.0,400.0,500.0,250.0,1800.0,1300.0,350.0,400.0,500.0,350.0,600.0,300.0,500.0,450.0,500.0,250.0,1100.0,600.0,1200.0,500.0,500.0,300.0,250.0,500.0,200.0,600.0,1500.0,1800.0,1000.0,1800.0,2400.0,3000.0,1400.0,2000.0,1900.0,1500.0,1400.0,1300.0,1400.0,1300.0,1300.0,1400.0,1000.0,1500.0,2000.0,1700.0,1600.0,1100.0,1100.0,1500.0,1500.0,1800.0,1500.0,1100.0,1400.0,1800.0,1200.0,1300.0,1600.0,1000.0,1300.0,1300.0,1000.0,1800.0,1000.0,1400.0,1800.0,900.0,1000.0,1400.0,2000.0,1200.0,1500.0,1500.0,2500.0,1300.0,1500.0,1300.0,1400.0,1700.0,800.0,1100.0,1100.0,1500.0,1500.0,1800.0,1100.0,1400.0,1500.0,1200.0,1700.0,2000.0,1300.0,1000.0,1300.0,1200.0,1600.0,800.0,1800.0,750.0,1000.0,600.0,900.0,600.0,2000.0,1200.0,1700.0,1500.0,1100.0,1000.0,1000.0,600.0,600.0,500.0,600.0,500.0,700.0,500.0,700.0,350.0,500.0,400.0,500.0,450.0,500.0,450.0,400.0,750.0,400.0,400.0,300.0,850.0,700.0,250.0,400.0,500.0,450.0,1100.0,250.0,1000.0,350.0,600.0,300.0,250.0,400.0,400.0,800.0,250.0,500.0,400.0,150.0,650.0,500.0,200.0,600.0,350.0,750.0,450.0,450.0,500.0,800.0,300.0,600.0,500.0,400.0,600.0,800.0,600.0,600.0,1400.0,700.0,2000.0,1700.0,1200.0,350.0,500.0,600.0,600.0,1100.0,600.0,450.0,400.0,300.0,800.0,600.0,400.0,1000.0,650.0,600.0,800.0,700.0,500.0,400.0,150.0,250.0,200.0,350.0,400.0,1000.0,300.0,450.0,500.0,1100.0,500.0,1500.0,300.0,1200.0,500.0,500.0,300.0,400.0,250.0,300.0,300.0,500.0,900.0,350.0,600.0,800.0,1100.0,300.0,400.0,600.0,700.0,800.0,800.0,1400.0,600.0,120.0,1000.0,400.0,250.0,400.0,400.0,150.0,100.0,800.0,900.0,500.0,150.0,1000.0,400.0,750.0,150.0,150.0,200.0,350.0,600.0,300.0,150.0,900.0,300.0,100.0,350.0,600.0,600.0,1500.0,500.0,1100.0,200.0,400.0,600.0,750.0,800.0,250.0,500.0,500.0,600.0,200.0,500.0,400.0,500.0,600.0,250.0,200.0,500.0,100.0,500.0,600.0,350.0,250.0,200.0,500.0,400.0,700.0,250.0,250.0,300.0,100.0,250.0,200.0,450.0,300.0,400.0,1650.0,1100.0,1600.0,400.0,600.0,800.0,700.0,1800.0,700.0,750.0,900.0,1100.0,450.0,800.0,900.0,800.0,1000.0,600.0,700.0,700.0,600.0,350.0,500.0,900.0,1000.0,600.0,600.0,1200.0,400.0,300.0,400.0,400.0,400.0,350.0,600.0,450.0,300.0,300.0,450.0,750.0,450.0,800.0,600.0,600.0,350.0,300.0,500.0,500.0,1200.0,800.0,750.0,750.0,600.0,500.0,800.0,250.0,400.0,400.0,500.0,600.0,200.0,400.0,2600.0,2000.0,1800.0,2000.0,1200.0,1300.0,2500.0,1700.0,1400.0,1000.0,1000.0,1500.0,1400.0,800.0,150.0,1400.0,1400.0,1200.0,1200.0,600.0,500.0,1500.0,1100.0,1500.0,1500.0,250.0,1100.0,650.0,1000.0,700.0,500.0,100.0,500.0,600.0,500.0,300.0,1100.0,850.0,2500.0,250.0,600.0,1500.0,150.0,700.0,1100.0,200.0,600.0,350.0,450.0,200.0,150.0,600.0,600.0,200.0,250.0,300.0,300.0,400.0,350.0,2000.0,200.0,250.0,400.0,600.0,1000.0,200.0,500.0,400.0,250.0,500.0,200.0,300.0,500.0,200.0,300.0,300.0,300.0,400.0,400.0,500.0,450.0,800.0,550.0,500.0,150.0,300.0,500.0,1200.0,1650.0,1000.0,2600.0,1800.0,1400.0,1400.0,1200.0,1500.0,1500.0,1100.0,1100.0,800.0,2000.0,1200.0,1650.0,1100.0,1800.0,800.0,900.0,1200.0,800.0,1400.0,1400.0,1400.0,1200.0,1500.0,1100.0,1100.0,800.0,2000.0,1200.0,1500.0,500.0,3400.0,2000.0,1900.0,1800.0,1500.0,2200.0,2100.0,3000.0,1200.0,1700.0,1400.0,2500.0,750.0,3000.0,1500.0,1000.0,1500.0,1500.0,2000.0,1200.0,800.0,1200.0,1700.0,1600.0,1300.0,1600.0,3000.0,1000.0,1200.0,1000.0,650.0,1400.0,800.0,1000.0,1000.0,500.0,1200.0,650.0,2800.0,1600.0,1300.0,1700.0,1300.0,1800.0,1600.0,1000.0,1100.0,750.0,1200.0,800.0,400.0,400.0,600.0,1100.0,900.0,1700.0,1000.0,600.0,600.0,2500.0,650.0,1400.0,700.0,900.0,450.0,700.0,800.0,750.0,650.0,500.0,500.0,1000.0,1200.0,650.0,500.0,800.0,1000.0,500.0,700.0,800.0,350.0,1300.0,750.0,1100.0,750.0,1000.0,750.0,1000.0,600.0,500.0,450.0,300.0,500.0,500.0,650.0,200.0,350.0,500.0,500.0,200.0,650.0,300.0,400.0,600.0,750.0,500.0,550.0,500.0,1200.0,150.0,250.0,600.0,600.0,800.0,750.0,400.0,450.0,300.0,400.0,800.0,650.0,900.0,500.0,600.0,1300.0,400.0,800.0,400.0,550.0,750.0,1400.0,1600.0,400.0,400.0,350.0,500.0,1500.0,300.0,1300.0,400.0,600.0,600.0,300.0,1100.0,1300.0,250.0,850.0,300.0,500.0,400.0,400.0,1700.0,1200.0,1500.0,200.0,400.0,1600.0,800.0,700.0,1200.0,300.0,300.0,500.0,250.0,450.0,700.0,600.0,400.0,700.0,700.0,600.0,400.0,500.0,450.0,550.0,500.0,1000.0,400.0,1000.0,700.0,400.0,750.0,700.0,400.0,300.0,800.0,1300.0,650.0,400.0,750.0,1500.0,350.0,800.0,1000.0,1400.0,500.0,800.0,500.0,1300.0,700.0,600.0,600.0,450.0,500.0,1500.0,800.0,180.0,2100.0,400.0,300.0,400.0,1700.0,400.0,150.0,1000.0,3000.0,200.0,1700.0,1000.0,200.0,1000.0,300.0,600.0,1300.0,2000.0,1300.0,650.0,950.0,200.0,300.0,700.0,800.0,300.0,400.0,600.0,500.0,1400.0,400.0,700.0,300.0,400.0,500.0,600.0,700.0,250.0,200.0,700.0,1500.0,750.0,800.0,900.0,700.0,2000.0,1500.0,1500.0,700.0,1000.0,500.0,350.0,1000.0,1000.0,1000.0,250.0,1000.0,700.0,1900.0,800.0,550.0,2100.0,600.0,750.0,1400.0,1000.0,1200.0,300.0,350.0,300.0,2000.0,300.0,500.0,400.0,1200.0,750.0,700.0,800.0,2000.0,1800.0,850.0,1500.0,200.0,600.0,400.0,800.0,300.0,600.0,1800.0,850.0,1800.0,800.0,500.0,1000.0,750.0,1200.0,650.0,700.0,800.0,100.0,800.0,600.0,1000.0,650.0,500.0,1300.0,700.0,400.0,200.0,1000.0,800.0,300.0,500.0,1700.0,250.0,1200.0,400.0,1200.0,1000.0,1500.0,1600.0,700.0,2100.0,800.0,900.0,1700.0,1400.0,600.0,400.0,750.0,500.0,900.0,450.0,500.0,150.0,450.0,600.0,1200.0,500.0,500.0,550.0,400.0,450.0,500.0,200.0,800.0,800.0,800.0,1000.0,500.0,1100.0,200.0,800.0,500.0,550.0,300.0,450.0,350.0,300.0,250.0,1300.0,600.0,500.0,400.0,600.0,1600.0,1300.0,550.0,800.0,2000.0,400.0,400.0,150.0,400.0,500.0,500.0,350.0,600.0,800.0,1000.0,600.0,550.0,1250.0,400.0,1400.0,300.0,700.0,450.0,300.0,500.0,1000.0,500.0,450.0,300.0,400.0,300.0,800.0,250.0,450.0,400.0,900.0,150.0,250.0,180.0,400.0,500.0,200.0,300.0,300.0,300.0,1300.0,750.0,1100.0,300.0,2000.0,700.0,350.0,400.0,300.0,300.0,400.0,2000.0,1500.0,800.0,3500.0,1700.0,800.0,2000.0,600.0,1200.0,1400.0,550.0,3000.0,500.0,400.0,3400.0,1000.0,800.0,4000.0,1000.0,2000.0,3500.0,1000.0,800.0,550.0,700.0,1000.0,2000.0,600.0,1900.0,250.0,500.0,600.0,300.0,200.0,500.0,400.0,500.0,100.0,500.0,1700.0,1800.0,1500.0,1500.0,2500.0,2000.0,3000.0,2200.0,3000.0,2800.0,700.0,1500.0,1100.0,2100.0,1500.0,1500.0,2000.0,3000.0,2500.0,1700.0,1500.0,1200.0,1200.0,1300.0,1500.0,1300.0,2100.0,1200.0,1600.0,800.0,1700.0,1600.0,1000.0,3000.0,1500.0,1500.0,700.0,1500.0,2500.0,1000.0,2100.0,1900.0,1100.0,1300.0,1700.0,2200.0,1400.0,1500.0,900.0,1700.0,1300.0,1000.0,1000.0,600.0,2500.0,1400.0,200.0,1500.0,4000.0,750.0,1500.0,3000.0,1500.0,1000.0,1100.0,650.0,1200.0,2500.0,1500.0,1500.0,2000.0,1000.0,1400.0,1500.0,1100.0,1300.0,650.0,750.0,850.0,1800.0,1000.0,1500.0,1000.0,1200.0,2000.0,1400.0,3500.0,700.0,1600.0,1500.0,1200.0,1200.0,1500.0,1200.0,4000.0,700.0,1300.0,1200.0,800.0,600.0,1100.0,1100.0,900.0,2000.0,1200.0,1700.0,1600.0,800.0,2000.0,3000.0,2000.0,1200.0,1000.0,700.0,800.0,500.0,2800.0,1800.0,650.0,3000.0,750.0,650.0,1800.0,950.0,3000.0,750.0,500.0,750.0,1500.0,1000.0,1100.0,500.0,600.0,800.0,1200.0,1000.0,700.0,300.0,1300.0,1000.0,500.0,1600.0,500.0,3000.0,1000.0,1000.0,400.0,550.0,1200.0,650.0,1200.0,1000.0,350.0,400.0,3000.0,1200.0,3000.0,400.0,500.0,1800.0,2500.0,650.0,800.0,2500.0,700.0,1400.0,800.0,500.0,800.0,600.0,850.0,700.0,500.0,800.0,1000.0,500.0,1300.0,1500.0,1000.0,700.0,500.0,3000.0,600.0,800.0,600.0,500.0,800.0,1200.0,500.0,550.0,800.0,800.0,1200.0,350.0,650.0,800.0,2000.0,700.0,600.0,2500.0,800.0,600.0,1000.0,600.0,550.0,400.0,250.0,700.0,400.0,500.0,200.0,300.0,150.0,450.0,300.0,500.0,300.0,300.0,150.0,300.0,450.0,500.0,300.0,400.0,250.0,400.0,250.0,350.0,300.0,400.0,500.0,500.0,400.0,200.0,500.0,400.0,350.0,250.0,250.0,300.0,300.0,450.0,600.0,1300.0,2800.0,2500.0,1600.0,1100.0,1300.0,600.0,600.0,1300.0,1000.0,750.0,1100.0,1800.0,3000.0,750.0,1300.0,1700.0,500.0,600.0,1200.0,1000.0,2000.0,750.0,3000.0,1300.0,750.0,800.0,2000.0,850.0,700.0,700.0,600.0,750.0,700.0,1800.0,300.0,1600.0,150.0,900.0,450.0,1000.0,400.0,450.0,300.0,150.0,2200.0,200.0,200.0,500.0,1000.0,2400.0,150.0,350.0,400.0,400.0,400.0,1000.0,600.0,450.0,1100.0,450.0,300.0,800.0,150.0,300.0,300.0,600.0,2000.0,1700.0,1500.0,1500.0,1700.0,1200.0,3000.0,1000.0,1000.0,1000.0,2000.0,2500.0,3000.0,3000.0,1500.0,1500.0,2000.0,1500.0,2500.0,1700.0,1200.0,1300.0,1300.0,1700.0,1500.0,1500.0,2500.0,1900.0,1300.0,1300.0,1000.0,1500.0,1100.0,1200.0,1000.0,1400.0,1100.0,1000.0,1600.0,1200.0,1200.0,1500.0,1100.0,1100.0,2000.0,2000.0,1200.0,2800.0,3000.0,1500.0,1100.0,600.0,1000.0,1000.0,3000.0,1200.0,2500.0,1500.0,1300.0,1300.0,1000.0,2200.0,2400.0,1500.0,2000.0,1400.0,1600.0,1300.0,1800.0,1100.0,1500.0,1500.0,500.0,700.0,1900.0,1000.0,1400.0,1500.0,1200.0,2500.0,1500.0,1500.0,1100.0,1500.0,1000.0,700.0,800.0,500.0,600.0,800.0,600.0,500.0,200.0,600.0,800.0,400.0,600.0,500.0,1000.0,500.0,400.0,650.0,500.0,450.0,200.0,450.0,400.0,300.0,400.0,500.0,200.0,500.0,500.0,400.0,400.0,400.0,600.0,300.0,600.0,250.0,400.0,650.0,450.0,600.0,400.0,950.0,650.0,500.0,200.0,400.0,200.0,600.0,350.0,600.0,1200.0,800.0,150.0,500.0,1500.0,300.0,500.0,400.0,700.0,800.0,400.0,400.0,100.0,800.0,600.0,300.0,100.0,600.0,500.0,400.0,500.0,450.0,1200.0,600.0,700.0,800.0,200.0,600.0,500.0,250.0,200.0,450.0,450.0,500.0,400.0,800.0,800.0,1400.0,600.0,300.0,500.0,200.0,400.0,250.0,900.0,300.0,200.0,500.0,750.0,600.0,400.0,500.0,300.0,350.0,400.0,350.0,450.0,200.0,700.0,400.0,800.0,900.0,750.0,400.0,600.0,700.0,650.0,1000.0,500.0,300.0,200.0,500.0,300.0,800.0,800.0,150.0,500.0,400.0,300.0,600.0,300.0,600.0,750.0,300.0,500.0,400.0,750.0,450.0,400.0,800.0,450.0,750.0,600.0,1300.0,400.0,1400.0,1200.0,800.0,1300.0,1600.0,1800.0,500.0,450.0,400.0,600.0,600.0,1500.0,700.0,600.0,800.0,1500.0,600.0,250.0,1500.0,800.0,850.0,500.0,1800.0,1000.0,1100.0,500.0,900.0,1500.0,600.0,500.0,1000.0,1500.0,500.0,700.0,250.0,500.0,1000.0,700.0,550.0,1100.0,1200.0,600.0,600.0,500.0,1500.0,1700.0,900.0,600.0,400.0,1200.0,800.0,1400.0,1400.0,800.0,300.0,400.0,1400.0,1700.0,500.0,1000.0,1500.0,1000.0,550.0,200.0,700.0,300.0,400.0,500.0,600.0,500.0,700.0,500.0,1500.0,500.0,500.0,400.0,800.0,300.0,400.0,500.0,250.0,600.0,800.0,750.0,500.0,300.0,700.0,500.0,400.0,200.0,800.0,500.0,700.0,450.0,150.0,800.0,550.0,600.0,550.0,300.0,600.0,300.0,100.0,150.0,600.0,330.0,600.0,600.0,400.0,400.0,500.0,400.0,750.0,600.0,200.0,500.0,300.0,200.0,800.0,300.0,500.0,400.0,400.0,350.0,400.0,500.0,500.0,300.0,200.0,500.0,250.0,500.0,600.0,600.0,900.0,300.0,1400.0,1500.0,1500.0,1600.0,1400.0,1500.0,1900.0,1600.0,1400.0,1300.0,1300.0,1800.0,1400.0,600.0,1100.0,1500.0,1500.0,1500.0,2000.0,600.0,700.0,700.0,800.0,800.0,500.0,500.0,850.0,800.0,1200.0,900.0,700.0,800.0,1000.0,600.0,800.0,600.0,700.0,400.0,200.0,800.0,900.0,600.0,600.0,800.0,700.0,500.0,400.0,1000.0,1200.0,1900.0,550.0,500.0,550.0,600.0,500.0,450.0,800.0,300.0,150.0,500.0,500.0,400.0,450.0,200.0,600.0,100.0,250.0,300.0,400.0,500.0,250.0,300.0,200.0,350.0,400.0,400.0,500.0,250.0,600.0,300.0,500.0,400.0,750.0,300.0,300.0,1000.0,1800.0,1700.0,1800.0,1400.0,1500.0,750.0,1200.0,800.0,2000.0,1200.0,950.0,2000.0,600.0,2500.0,400.0,700.0,600.0,750.0,1500.0,1500.0,1100.0,1200.0,600.0,900.0,400.0,500.0,650.0,500.0,1500.0,800.0,1800.0,450.0,1400.0,600.0,500.0,200.0,800.0,300.0,500.0,300.0,550.0,400.0,800.0,500.0,200.0,1000.0,400.0,250.0,500.0,300.0,400.0,600.0,2500.0,200.0,500.0,450.0,800.0,350.0,200.0,700.0,330.0,200.0,400.0,600.0,250.0,400.0,200.0,500.0,450.0,500.0,400.0,800.0,550.0,400.0,400.0,600.0,1000.0,450.0,400.0,800.0,1500.0,1400.0,1400.0,1600.0,1400.0,1500.0,1900.0,1500.0,1300.0,1500.0,1200.0,900.0,1000.0,1700.0,1500.0,1500.0,1800.0,1400.0,2500.0,1500.0,1400.0,1800.0,1400.0,1400.0,1500.0,1900.0,1300.0,1800.0,1200.0,900.0,1700.0,1800.0,1400.0,1500.0,1100.0,700.0,900.0,550.0,600.0,1400.0,500.0,900.0,1100.0,700.0,2000.0,600.0,600.0,1000.0,900.0,700.0,350.0,400.0,650.0,400.0,400.0,700.0,1000.0,800.0,500.0,300.0,400.0,750.0,600.0,250.0,400.0,700.0,600.0,400.0,400.0,400.0,200.0,300.0,400.0,250.0,500.0,500.0,700.0,500.0,400.0,300.0,600.0,800.0,450.0,800.0,350.0,450.0,750.0,550.0,200.0,800.0,600.0,750.0,450.0,400.0,300.0,500.0,400.0,800.0,650.0,1000.0,600.0,500.0,400.0,500.0,500.0,300.0,350.0,600.0,550.0,600.0,1100.0,900.0,300.0,250.0,350.0,150.0,800.0,200.0,400.0,400.0,200.0,750.0,450.0,200.0,900.0,550.0,500.0,300.0,500.0,250.0,600.0,900.0,1000.0,1700.0,1200.0,2000.0,400.0,400.0,400.0,1400.0,450.0,300.0,600.0,400.0,600.0,500.0,650.0,300.0,600.0,500.0,300.0,500.0,300.0,300.0,450.0,1000.0,850.0,2000.0,300.0,700.0,300.0,750.0,500.0,400.0,400.0,300.0,250.0,400.0,300.0,500.0,400.0,1500.0,300.0,400.0,700.0,400.0,500.0,1500.0,400.0,1400.0,400.0,500.0,500.0,1800.0,450.0,400.0,1500.0,1600.0,1500.0,1500.0,900.0,500.0,200.0,600.0,500.0,400.0,1600.0,1000.0,550.0,250.0,600.0,500.0,550.0,500.0,1400.0,800.0,300.0,600.0,1200.0,400.0,600.0,400.0,500.0,1500.0,500.0,450.0,800.0,150.0,1000.0,600.0,300.0,650.0,300.0,200.0,500.0,700.0,300.0,450.0,1500.0,400.0,150.0,300.0,800.0,700.0,700.0,900.0,200.0,350.0,900.0,1200.0,750.0,700.0,700.0,500.0,200.0,600.0,2000.0,700.0,800.0,200.0,300.0,1200.0,400.0,500.0,750.0,1000.0,800.0,1400.0,300.0,800.0,800.0,800.0,350.0,500.0,350.0,400.0,400.0,350.0,1000.0,1400.0,750.0,1100.0,800.0,600.0,350.0,1100.0,750.0,900.0,400.0,700.0,1700.0,600.0,600.0,1200.0,800.0,350.0,1000.0,300.0,500.0,700.0,500.0,650.0,700.0,300.0,300.0,500.0,600.0,400.0,400.0,400.0,450.0,450.0,1500.0,1200.0,800.0,400.0,500.0,1100.0,500.0,800.0,800.0,600.0,400.0,600.0,300.0,750.0,800.0,500.0,900.0,700.0,600.0,700.0,1000.0,500.0,1700.0,500.0,1000.0,450.0,800.0,900.0,550.0,600.0,400.0,400.0,500.0,700.0,150.0,500.0,400.0,600.0,1500.0,450.0,500.0,450.0,400.0,1000.0,200.0,300.0,300.0,150.0,800.0,250.0,500.0,1500.0,400.0,600.0,400.0,400.0,200.0,250.0,300.0,300.0,500.0,1000.0,2000.0,2500.0,2400.0,2500.0,1600.0,1600.0,1400.0,1600.0,1700.0,1700.0,1700.0,1100.0,2000.0,1000.0,1500.0,1900.0,1500.0,1600.0,1800.0,1800.0,1700.0,1200.0,1500.0,2000.0,1000.0,1500.0,900.0,550.0,1600.0,2500.0,650.0,800.0,800.0,800.0,1700.0,1400.0,1000.0,1800.0,2000.0,1400.0,800.0,750.0,1500.0,2000.0,700.0,1000.0,850.0,1200.0,900.0,1400.0,700.0,800.0,1200.0,1500.0,750.0,1700.0,2000.0,800.0,550.0,1400.0,2000.0,1500.0,900.0,1100.0,700.0,2500.0,1100.0,900.0,400.0,1000.0,3000.0,1000.0,700.0,800.0,1450.0,300.0,2000.0,800.0,1000.0,1400.0,700.0,600.0,750.0,1500.0,1500.0,1500.0,1000.0,700.0,2000.0,900.0,2500.0,800.0,600.0,900.0,2100.0,800.0,400.0,1200.0,600.0,1200.0,800.0,700.0,1000.0,1500.0,600.0,3000.0,300.0,300.0,350.0,400.0,500.0,800.0,800.0,700.0,1700.0,750.0,400.0,1200.0,500.0,2000.0,350.0,1500.0,600.0,750.0,2000.0,400.0,3000.0,650.0,500.0,800.0,1900.0,450.0,1200.0,750.0,1000.0,800.0,2000.0,700.0,1200.0,600.0,700.0,400.0,700.0,1800.0,700.0,700.0,250.0,700.0,600.0,600.0,800.0,150.0,650.0,550.0,1100.0,1600.0,900.0,500.0,350.0,450.0,500.0,600.0,700.0,600.0,500.0,200.0,600.0,350.0,400.0,300.0,350.0,600.0,400.0,500.0,300.0,350.0,400.0,300.0,400.0,450.0,250.0,500.0,300.0,400.0,500.0,400.0,200.0,200.0,400.0,400.0,300.0,300.0,600.0,400.0,350.0,400.0,400.0,350.0,400.0,400.0,400.0,600.0,450.0,300.0,300.0,400.0,200.0,300.0,550.0,350.0,500.0,600.0,550.0,400.0,450.0,500.0,300.0,400.0,400.0,450.0,500.0,500.0,600.0,300.0,500.0,400.0,400.0,450.0,400.0,400.0,350.0,700.0,500.0,500.0,300.0,400.0,1500.0,2500.0,1000.0,800.0,500.0,500.0,300.0,500.0,600.0,1800.0,400.0,300.0,1700.0,1200.0,1600.0,2400.0,2500.0,1700.0,1000.0,1900.0,1500.0,1000.0,1500.0,1600.0,1700.0,1800.0,1200.0,1500.0,1400.0,1450.0,1500.0,1500.0,2100.0,1700.0,1200.0,2000.0,1800.0,800.0,2500.0,1600.0,1900.0,1700.0,2400.0,2500.0,1700.0,1100.0,1000.0,1500.0,1800.0,1000.0,1200.0,1500.0,1600.0,1700.0,1800.0,1200.0,1200.0,1500.0,1400.0,1450.0,1500.0,1500.0,1200.0,2000.0,1200.0,800.0,2500.0],\"type\":\"box\"}],                        {\"height\":300,\"template\":{\"data\":{\"barpolar\":[{\"marker\":{\"line\":{\"color\":\"#E5ECF6\",\"width\":0.5},\"pattern\":{\"fillmode\":\"overlay\",\"size\":10,\"solidity\":0.2}},\"type\":\"barpolar\"}],\"bar\":[{\"error_x\":{\"color\":\"#2a3f5f\"},\"error_y\":{\"color\":\"#2a3f5f\"},\"marker\":{\"line\":{\"color\":\"#E5ECF6\",\"width\":0.5},\"pattern\":{\"fillmode\":\"overlay\",\"size\":10,\"solidity\":0.2}},\"type\":\"bar\"}],\"carpet\":[{\"aaxis\":{\"endlinecolor\":\"#2a3f5f\",\"gridcolor\":\"white\",\"linecolor\":\"white\",\"minorgridcolor\":\"white\",\"startlinecolor\":\"#2a3f5f\"},\"baxis\":{\"endlinecolor\":\"#2a3f5f\",\"gridcolor\":\"white\",\"linecolor\":\"white\",\"minorgridcolor\":\"white\",\"startlinecolor\":\"#2a3f5f\"},\"type\":\"carpet\"}],\"choropleth\":[{\"colorbar\":{\"outlinewidth\":0,\"ticks\":\"\"},\"type\":\"choropleth\"}],\"contourcarpet\":[{\"colorbar\":{\"outlinewidth\":0,\"ticks\":\"\"},\"type\":\"contourcarpet\"}],\"contour\":[{\"colorbar\":{\"outlinewidth\":0,\"ticks\":\"\"},\"colorscale\":[[0.0,\"#0d0887\"],[0.1111111111111111,\"#46039f\"],[0.2222222222222222,\"#7201a8\"],[0.3333333333333333,\"#9c179e\"],[0.4444444444444444,\"#bd3786\"],[0.5555555555555556,\"#d8576b\"],[0.6666666666666666,\"#ed7953\"],[0.7777777777777778,\"#fb9f3a\"],[0.8888888888888888,\"#fdca26\"],[1.0,\"#f0f921\"]],\"type\":\"contour\"}],\"heatmapgl\":[{\"colorbar\":{\"outlinewidth\":0,\"ticks\":\"\"},\"colorscale\":[[0.0,\"#0d0887\"],[0.1111111111111111,\"#46039f\"],[0.2222222222222222,\"#7201a8\"],[0.3333333333333333,\"#9c179e\"],[0.4444444444444444,\"#bd3786\"],[0.5555555555555556,\"#d8576b\"],[0.6666666666666666,\"#ed7953\"],[0.7777777777777778,\"#fb9f3a\"],[0.8888888888888888,\"#fdca26\"],[1.0,\"#f0f921\"]],\"type\":\"heatmapgl\"}],\"heatmap\":[{\"colorbar\":{\"outlinewidth\":0,\"ticks\":\"\"},\"colorscale\":[[0.0,\"#0d0887\"],[0.1111111111111111,\"#46039f\"],[0.2222222222222222,\"#7201a8\"],[0.3333333333333333,\"#9c179e\"],[0.4444444444444444,\"#bd3786\"],[0.5555555555555556,\"#d8576b\"],[0.6666666666666666,\"#ed7953\"],[0.7777777777777778,\"#fb9f3a\"],[0.8888888888888888,\"#fdca26\"],[1.0,\"#f0f921\"]],\"type\":\"heatmap\"}],\"histogram2dcontour\":[{\"colorbar\":{\"outlinewidth\":0,\"ticks\":\"\"},\"colorscale\":[[0.0,\"#0d0887\"],[0.1111111111111111,\"#46039f\"],[0.2222222222222222,\"#7201a8\"],[0.3333333333333333,\"#9c179e\"],[0.4444444444444444,\"#bd3786\"],[0.5555555555555556,\"#d8576b\"],[0.6666666666666666,\"#ed7953\"],[0.7777777777777778,\"#fb9f3a\"],[0.8888888888888888,\"#fdca26\"],[1.0,\"#f0f921\"]],\"type\":\"histogram2dcontour\"}],\"histogram2d\":[{\"colorbar\":{\"outlinewidth\":0,\"ticks\":\"\"},\"colorscale\":[[0.0,\"#0d0887\"],[0.1111111111111111,\"#46039f\"],[0.2222222222222222,\"#7201a8\"],[0.3333333333333333,\"#9c179e\"],[0.4444444444444444,\"#bd3786\"],[0.5555555555555556,\"#d8576b\"],[0.6666666666666666,\"#ed7953\"],[0.7777777777777778,\"#fb9f3a\"],[0.8888888888888888,\"#fdca26\"],[1.0,\"#f0f921\"]],\"type\":\"histogram2d\"}],\"histogram\":[{\"marker\":{\"pattern\":{\"fillmode\":\"overlay\",\"size\":10,\"solidity\":0.2}},\"type\":\"histogram\"}],\"mesh3d\":[{\"colorbar\":{\"outlinewidth\":0,\"ticks\":\"\"},\"type\":\"mesh3d\"}],\"parcoords\":[{\"line\":{\"colorbar\":{\"outlinewidth\":0,\"ticks\":\"\"}},\"type\":\"parcoords\"}],\"pie\":[{\"automargin\":true,\"type\":\"pie\"}],\"scatter3d\":[{\"line\":{\"colorbar\":{\"outlinewidth\":0,\"ticks\":\"\"}},\"marker\":{\"colorbar\":{\"outlinewidth\":0,\"ticks\":\"\"}},\"type\":\"scatter3d\"}],\"scattercarpet\":[{\"marker\":{\"colorbar\":{\"outlinewidth\":0,\"ticks\":\"\"}},\"type\":\"scattercarpet\"}],\"scattergeo\":[{\"marker\":{\"colorbar\":{\"outlinewidth\":0,\"ticks\":\"\"}},\"type\":\"scattergeo\"}],\"scattergl\":[{\"marker\":{\"colorbar\":{\"outlinewidth\":0,\"ticks\":\"\"}},\"type\":\"scattergl\"}],\"scattermapbox\":[{\"marker\":{\"colorbar\":{\"outlinewidth\":0,\"ticks\":\"\"}},\"type\":\"scattermapbox\"}],\"scatterpolargl\":[{\"marker\":{\"colorbar\":{\"outlinewidth\":0,\"ticks\":\"\"}},\"type\":\"scatterpolargl\"}],\"scatterpolar\":[{\"marker\":{\"colorbar\":{\"outlinewidth\":0,\"ticks\":\"\"}},\"type\":\"scatterpolar\"}],\"scatter\":[{\"marker\":{\"colorbar\":{\"outlinewidth\":0,\"ticks\":\"\"}},\"type\":\"scatter\"}],\"scatterternary\":[{\"marker\":{\"colorbar\":{\"outlinewidth\":0,\"ticks\":\"\"}},\"type\":\"scatterternary\"}],\"surface\":[{\"colorbar\":{\"outlinewidth\":0,\"ticks\":\"\"},\"colorscale\":[[0.0,\"#0d0887\"],[0.1111111111111111,\"#46039f\"],[0.2222222222222222,\"#7201a8\"],[0.3333333333333333,\"#9c179e\"],[0.4444444444444444,\"#bd3786\"],[0.5555555555555556,\"#d8576b\"],[0.6666666666666666,\"#ed7953\"],[0.7777777777777778,\"#fb9f3a\"],[0.8888888888888888,\"#fdca26\"],[1.0,\"#f0f921\"]],\"type\":\"surface\"}],\"table\":[{\"cells\":{\"fill\":{\"color\":\"#EBF0F8\"},\"line\":{\"color\":\"white\"}},\"header\":{\"fill\":{\"color\":\"#C8D4E3\"},\"line\":{\"color\":\"white\"}},\"type\":\"table\"}]},\"layout\":{\"annotationdefaults\":{\"arrowcolor\":\"#2a3f5f\",\"arrowhead\":0,\"arrowwidth\":1},\"autotypenumbers\":\"strict\",\"coloraxis\":{\"colorbar\":{\"outlinewidth\":0,\"ticks\":\"\"}},\"colorscale\":{\"diverging\":[[0,\"#8e0152\"],[0.1,\"#c51b7d\"],[0.2,\"#de77ae\"],[0.3,\"#f1b6da\"],[0.4,\"#fde0ef\"],[0.5,\"#f7f7f7\"],[0.6,\"#e6f5d0\"],[0.7,\"#b8e186\"],[0.8,\"#7fbc41\"],[0.9,\"#4d9221\"],[1,\"#276419\"]],\"sequential\":[[0.0,\"#0d0887\"],[0.1111111111111111,\"#46039f\"],[0.2222222222222222,\"#7201a8\"],[0.3333333333333333,\"#9c179e\"],[0.4444444444444444,\"#bd3786\"],[0.5555555555555556,\"#d8576b\"],[0.6666666666666666,\"#ed7953\"],[0.7777777777777778,\"#fb9f3a\"],[0.8888888888888888,\"#fdca26\"],[1.0,\"#f0f921\"]],\"sequentialminus\":[[0.0,\"#0d0887\"],[0.1111111111111111,\"#46039f\"],[0.2222222222222222,\"#7201a8\"],[0.3333333333333333,\"#9c179e\"],[0.4444444444444444,\"#bd3786\"],[0.5555555555555556,\"#d8576b\"],[0.6666666666666666,\"#ed7953\"],[0.7777777777777778,\"#fb9f3a\"],[0.8888888888888888,\"#fdca26\"],[1.0,\"#f0f921\"]]},\"colorway\":[\"#636efa\",\"#EF553B\",\"#00cc96\",\"#ab63fa\",\"#FFA15A\",\"#19d3f3\",\"#FF6692\",\"#B6E880\",\"#FF97FF\",\"#FECB52\"],\"font\":{\"color\":\"#2a3f5f\"},\"geo\":{\"bgcolor\":\"white\",\"lakecolor\":\"white\",\"landcolor\":\"#E5ECF6\",\"showlakes\":true,\"showland\":true,\"subunitcolor\":\"white\"},\"hoverlabel\":{\"align\":\"left\"},\"hovermode\":\"closest\",\"mapbox\":{\"style\":\"light\"},\"paper_bgcolor\":\"white\",\"plot_bgcolor\":\"#E5ECF6\",\"polar\":{\"angularaxis\":{\"gridcolor\":\"white\",\"linecolor\":\"white\",\"ticks\":\"\"},\"bgcolor\":\"#E5ECF6\",\"radialaxis\":{\"gridcolor\":\"white\",\"linecolor\":\"white\",\"ticks\":\"\"}},\"scene\":{\"xaxis\":{\"backgroundcolor\":\"#E5ECF6\",\"gridcolor\":\"white\",\"gridwidth\":2,\"linecolor\":\"white\",\"showbackground\":true,\"ticks\":\"\",\"zerolinecolor\":\"white\"},\"yaxis\":{\"backgroundcolor\":\"#E5ECF6\",\"gridcolor\":\"white\",\"gridwidth\":2,\"linecolor\":\"white\",\"showbackground\":true,\"ticks\":\"\",\"zerolinecolor\":\"white\"},\"zaxis\":{\"backgroundcolor\":\"#E5ECF6\",\"gridcolor\":\"white\",\"gridwidth\":2,\"linecolor\":\"white\",\"showbackground\":true,\"ticks\":\"\",\"zerolinecolor\":\"white\"}},\"shapedefaults\":{\"line\":{\"color\":\"#2a3f5f\"}},\"ternary\":{\"aaxis\":{\"gridcolor\":\"white\",\"linecolor\":\"white\",\"ticks\":\"\"},\"baxis\":{\"gridcolor\":\"white\",\"linecolor\":\"white\",\"ticks\":\"\"},\"bgcolor\":\"#E5ECF6\",\"caxis\":{\"gridcolor\":\"white\",\"linecolor\":\"white\",\"ticks\":\"\"}},\"title\":{\"x\":0.05},\"xaxis\":{\"automargin\":true,\"gridcolor\":\"white\",\"linecolor\":\"white\",\"ticks\":\"\",\"title\":{\"standoff\":15},\"zerolinecolor\":\"white\",\"zerolinewidth\":2},\"yaxis\":{\"automargin\":true,\"gridcolor\":\"white\",\"linecolor\":\"white\",\"ticks\":\"\",\"title\":{\"standoff\":15},\"zerolinecolor\":\"white\",\"zerolinewidth\":2}}},\"title\":{\"text\":\"Box plot of approximate cost\"},\"width\":300,\"yaxis\":{\"title\":{\"text\":\"Price\"}}},                        {\"responsive\": true}                    ).then(function(){\n",
              "                            \n",
              "var gd = document.getElementById('eb940238-87cb-499d-a305-1987291376cd');\n",
              "var x = new MutationObserver(function (mutations, observer) {{\n",
              "        var display = window.getComputedStyle(gd).display;\n",
              "        if (!display || display === 'none') {{\n",
              "            console.log([gd, 'removed!']);\n",
              "            Plotly.purge(gd);\n",
              "            observer.disconnect();\n",
              "        }}\n",
              "}});\n",
              "\n",
              "// Listen for the removal of the full notebook cells\n",
              "var notebookContainer = gd.closest('#notebook-container');\n",
              "if (notebookContainer) {{\n",
              "    x.observe(notebookContainer, {childList: true});\n",
              "}}\n",
              "\n",
              "// Listen for the clearing of the current output cell\n",
              "var outputEl = gd.closest('.output');\n",
              "if (outputEl) {{\n",
              "    x.observe(outputEl, {childList: true});\n",
              "}}\n",
              "\n",
              "                        })                };                            </script>        </div>\n",
              "</body>\n",
              "</html>"
            ]
          },
          "metadata": {}
        }
      ]
    },
    {
      "cell_type": "code",
      "source": [
        "#Distribution of charges\n",
        "\n",
        "plt.figure(figsize=(8,8))\n",
        "sns.distplot(df['cost'])\n",
        "plt.show()"
      ],
      "metadata": {
        "colab": {
          "base_uri": "https://localhost:8080/",
          "height": 496
        },
        "id": "f_DLQBki468B",
        "outputId": "f904e4cf-a2fa-4be8-b81a-d8545aa53769"
      },
      "execution_count": null,
      "outputs": [
        {
          "output_type": "display_data",
          "data": {
            "text/plain": [
              "<Figure size 576x576 with 1 Axes>"
            ],
            "image/png": "[encoded data removed]"
          },
          "metadata": {
            "needs_background": "light"
          }
        }
      ]
    },
    {
      "cell_type": "code",
      "source": [
        "#re=regular expression (use for splitting words)\n",
        "\n",
        "import re\n",
        "\n",
        "df.index=range(df.shape[0])\n",
        "likes=[]\n",
        "for i in range(df.shape[0]):\n",
        "    array_split=re.split(',',df['dish_liked'][i])\n",
        "    for item in array_split:\n",
        "        likes.append(item)"
      ],
      "metadata": {
        "id": "qDYomQlO5JpJ"
      },
      "execution_count": null,
      "outputs": []
    },
    {
      "cell_type": "code",
      "source": [
        "df.index=range(df.shape[0])"
      ],
      "metadata": {
        "id": "8huYIPmC5QjD"
      },
      "execution_count": null,
      "outputs": []
    },
    {
      "cell_type": "code",
      "source": [
        "df.index"
      ],
      "metadata": {
        "colab": {
          "base_uri": "https://localhost:8080/"
        },
        "id": "f8HgXZHJ5UI0",
        "outputId": "634a2e8a-abf9-45eb-8c1a-c6aeffd8971a"
      },
      "execution_count": null,
      "outputs": [
        {
          "output_type": "execute_result",
          "data": {
            "text/plain": [
              "RangeIndex(start=0, stop=23248, step=1)"
            ]
          },
          "metadata": {},
          "execution_count": 153
        }
      ]
    },
    {
      "cell_type": "code",
      "source": [
        "print(\"Count of Most liked dishes in Bangalore\")\n",
        "favourite_food = pd.Series(likes).value_counts()\n",
        "favourite_food.head(30)"
      ],
      "metadata": {
        "colab": {
          "base_uri": "https://localhost:8080/"
        },
        "id": "54jrq5gO5Yn1",
        "outputId": "6bcbeac5-d471-4171-fd47-945f05516f66"
      },
      "execution_count": null,
      "outputs": [
        {
          "output_type": "stream",
          "name": "stdout",
          "text": [
            "Count of Most liked dishes in Bangalore\n"
          ]
        },
        {
          "output_type": "execute_result",
          "data": {
            "text/plain": [
              " Pasta              2692\n",
              " Pizza              1915\n",
              " Cocktails          1880\n",
              " Burgers            1736\n",
              " Mocktails          1623\n",
              " Biryani            1307\n",
              " Sandwiches         1287\n",
              "Burgers             1256\n",
              " Coffee             1184\n",
              " Nachos             1170\n",
              " Fish               1116\n",
              " Paratha            1107\n",
              " Salads             1055\n",
              " Chicken Biryani    1004\n",
              "Cocktails            891\n",
              " Fries               876\n",
              " Noodles             854\n",
              " Beer                835\n",
              " Mutton Biryani      832\n",
              " Tea                 819\n",
              "Coffee               801\n",
              " Sandwich            788\n",
              " Butter Chicken      782\n",
              " Thali               770\n",
              "Biryani              749\n",
              "Pizza                747\n",
              " Roti                729\n",
              " Brownie             726\n",
              " Salad               677\n",
              " Hot Chocolate       672\n",
              "dtype: int64"
            ]
          },
          "metadata": {},
          "execution_count": 154
        }
      ]
    },
    {
      "cell_type": "code",
      "source": [
        "ax = favourite_food.nlargest(n=20, keep='first').plot(kind='bar',figsize=(12,10),title = 'Top 30 Favourite Food counts ')\n",
        "\n",
        "for i in ax.patches:\n",
        "    ax.annotate(str(i.get_height()), (i.get_x() * 1.005, i.get_height() * 1.005))"
      ],
      "metadata": {
        "colab": {
          "base_uri": "https://localhost:8080/",
          "height": 676
        },
        "id": "AHfjOccT5d-d",
        "outputId": "3e601876-2d09-4e01-bf0b-34edd4fe3a1a"
      },
      "execution_count": null,
      "outputs": [
        {
          "output_type": "display_data",
          "data": {
            "text/plain": [
              "<Figure size 864x720 with 1 Axes>"
            ],
            "image/png": "[encoded data removed]"
          },
          "metadata": {
            "needs_background": "light"
          }
        }
      ]
    },
    {
      "cell_type": "code",
      "source": [
        "#Restaurant and their counts\n",
        "\n",
        "plt.figure(figsize=(15,7))\n",
        "rest=df['rest_type'].value_counts()[:20]\n",
        "sns.barplot(rest,rest.index)\n",
        "plt.title(\"Restaurant types\")\n",
        "plt.xlabel(\"count\")"
      ],
      "metadata": {
        "colab": {
          "base_uri": "https://localhost:8080/",
          "height": 438
        },
        "id": "zD7P3sKr5oPO",
        "outputId": "8c181499-b048-4eab-d5d6-da53c3068b21"
      },
      "execution_count": null,
      "outputs": [
        {
          "output_type": "execute_result",
          "data": {
            "text/plain": [
              "Text(0.5, 0, 'count')"
            ]
          },
          "metadata": {},
          "execution_count": 156
        },
        {
          "output_type": "display_data",
          "data": {
            "text/plain": [
              "<Figure size 1080x504 with 1 Axes>"
            ],
            "image/png": "[encoded data removed]"
          },
          "metadata": {
            "needs_background": "light"
          }
        }
      ]
    },
    {
      "cell_type": "code",
      "source": [
        "###MACHINE LEARNING \n",
        "##decision tree based on rating of a restaurant i.e automatic rating for future values found"
      ],
      "metadata": {
        "id": "HlLYuJEq53ai"
      },
      "execution_count": null,
      "outputs": []
    },
    {
      "cell_type": "code",
      "source": [
        "#Convert the online 'categorical variables' into a numeric format\n",
        "\n",
        "df.online_order[df.online_order == 'Yes'] = 1 \n",
        "df.online_order[df.online_order == 'No'] = 0"
      ],
      "metadata": {
        "id": "5p9eImpD6F9H"
      },
      "execution_count": null,
      "outputs": []
    },
    {
      "cell_type": "code",
      "source": [
        "df.online_order.value_counts()"
      ],
      "metadata": {
        "colab": {
          "base_uri": "https://localhost:8080/"
        },
        "id": "56pLRj9V6KON",
        "outputId": "6c035c0d-6f65-4d9f-bcf5-7f2496fd040a"
      },
      "execution_count": null,
      "outputs": [
        {
          "output_type": "execute_result",
          "data": {
            "text/plain": [
              "1    2072\n",
              "0     787\n",
              "Name: online_order, dtype: int64"
            ]
          },
          "metadata": {},
          "execution_count": 65
        }
      ]
    },
    {
      "cell_type": "code",
      "source": [
        "df.online_order = pd.to_numeric(df.online_order)"
      ],
      "metadata": {
        "id": "U996z5b66NSY"
      },
      "execution_count": null,
      "outputs": []
    },
    {
      "cell_type": "code",
      "source": [
        "#change the string categorical into to a  int i.e numeric format\n",
        "df.book_table[df.book_table == 'Yes'] = 1 \n",
        "df.book_table[df.book_table == 'No'] = 0\n",
        "\n",
        "df.book_table = pd.to_numeric(df.book_table)\n",
        "\n",
        "df.book_table.value_counts()\n",
        "\n"
      ],
      "metadata": {
        "colab": {
          "base_uri": "https://localhost:8080/"
        },
        "id": "v3Jx9Fs06SxX",
        "outputId": "642bec0e-df1d-4e64-ff5f-725fb15e1a90"
      },
      "execution_count": null,
      "outputs": [
        {
          "output_type": "execute_result",
          "data": {
            "text/plain": [
              "0    2218\n",
              "1     641\n",
              "Name: book_table, dtype: int64"
            ]
          },
          "metadata": {},
          "execution_count": 67
        }
      ]
    },
    {
      "cell_type": "code",
      "source": [
        "#Label encode the categorical variables to make it easier to build algorithm\n",
        "\n",
        "from sklearn.preprocessing import LabelEncoder\n",
        "le = LabelEncoder()"
      ],
      "metadata": {
        "id": "qbH_JUTE6q0i"
      },
      "execution_count": null,
      "outputs": []
    },
    {
      "cell_type": "code",
      "source": [
        "df.location = le.fit_transform(df.location)\n",
        "df.rest_type = le.fit_transform(df.rest_type)\n",
        "df.cuisines = le.fit_transform(df.cuisines)\n",
        "df.menu_item = le.fit_transform(df.menu_item)"
      ],
      "metadata": {
        "id": "A1lhe-a764bY"
      },
      "execution_count": null,
      "outputs": []
    },
    {
      "cell_type": "code",
      "source": [
        "df.head()"
      ],
      "metadata": {
        "colab": {
          "base_uri": "https://localhost:8080/",
          "height": 635
        },
        "id": "sUKK-XVS65jo",
        "outputId": "12e5dafa-e53d-4d50-d3c2-3d5c5dac70de"
      },
      "execution_count": null,
      "outputs": [
        {
          "output_type": "execute_result",
          "data": {
            "text/plain": [
              "                                             address                   name  \\\n",
              "0  942, 21st Main Road, 2nd Stage, Banashankari, ...                  Jalsa   \n",
              "1  2nd Floor, 80 Feet Road, Near Big Bazaar, 6th ...         Spice Elephant   \n",
              "2  1112, Next to KIMS Medical College, 17th Cross...        San Churro Cafe   \n",
              "3  1st Floor, Annakuteera, 3rd Stage, Banashankar...  Addhuri Udupi Bhojana   \n",
              "4  10, 3rd Floor, Lakshmi Associates, Gandhi Baza...          Grand Village   \n",
              "\n",
              "   online_order  book_table  rate  votes  location  rest_type  \\\n",
              "0             1           1   4.1    775         1         16   \n",
              "1             1           0   4.1    787         1         16   \n",
              "2             1           0   3.8    918         1         13   \n",
              "3             0           0   3.7     88         1         49   \n",
              "4             0           0   3.8    166         3         16   \n",
              "\n",
              "                                          dish_liked  cuisines   cost  \\\n",
              "0  Pasta, Lunch Buffet, Masala Papad, Paneer Laja...       619  800.0   \n",
              "1  Momos, Lunch Buffet, Chocolate Nirvana, Thai G...       275  800.0   \n",
              "2  Churros, Cannelloni, Minestrone Soup, Hot Choc...       237  800.0   \n",
              "3                                        Masala Dosa       720  300.0   \n",
              "4                                Panipuri, Gol Gappe       629  600.0   \n",
              "\n",
              "                                        reviews_list  menu_item    type  \\\n",
              "0  [('Rated 4.0', 'RATED\\n  A beautiful place to ...        551  Buffet   \n",
              "1  [('Rated 4.0', 'RATED\\n  Had been here for din...        551  Buffet   \n",
              "2  [('Rated 3.0', \"RATED\\n  Ambience is not that ...        551  Buffet   \n",
              "3  [('Rated 4.0', \"RATED\\n  Great food and proper...        551  Buffet   \n",
              "4  [('Rated 4.0', 'RATED\\n  Very good restaurant ...        551  Buffet   \n",
              "\n",
              "           city  \n",
              "0  Banashankari  \n",
              "1  Banashankari  \n",
              "2  Banashankari  \n",
              "3  Banashankari  \n",
              "4  Banashankari  "
            ],
            "text/html": [
              "\n",
              "  <div id=\"df-62cf18d8-90fc-415e-a9e5-cbc6d024bb61\">\n",
              "    <div class=\"colab-df-container\">\n",
              "      <div>\n",
              "<style scoped>\n",
              "    .dataframe tbody tr th:only-of-type {\n",
              "        vertical-align: middle;\n",
              "    }\n",
              "\n",
              "    .dataframe tbody tr th {\n",
              "        vertical-align: top;\n",
              "    }\n",
              "\n",
              "    .dataframe thead th {\n",
              "        text-align: right;\n",
              "    }\n",
              "</style>\n",
              "<table border=\"1\" class=\"dataframe\">\n",
              "  <thead>\n",
              "    <tr style=\"text-align: right;\">\n",
              "      <th></th>\n",
              "      <th>address</th>\n",
              "      <th>name</th>\n",
              "      <th>online_order</th>\n",
              "      <th>book_table</th>\n",
              "      <th>rate</th>\n",
              "      <th>votes</th>\n",
              "      <th>location</th>\n",
              "      <th>rest_type</th>\n",
              "      <th>dish_liked</th>\n",
              "      <th>cuisines</th>\n",
              "      <th>cost</th>\n",
              "      <th>reviews_list</th>\n",
              "      <th>menu_item</th>\n",
              "      <th>type</th>\n",
              "      <th>city</th>\n",
              "    </tr>\n",
              "  </thead>\n",
              "  <tbody>\n",
              "    <tr>\n",
              "      <th>0</th>\n",
              "      <td>942, 21st Main Road, 2nd Stage, Banashankari, ...</td>\n",
              "      <td>Jalsa</td>\n",
              "      <td>1</td>\n",
              "      <td>1</td>\n",
              "      <td>4.1</td>\n",
              "      <td>775</td>\n",
              "      <td>1</td>\n",
              "      <td>16</td>\n",
              "      <td>Pasta, Lunch Buffet, Masala Papad, Paneer Laja...</td>\n",
              "      <td>619</td>\n",
              "      <td>800.0</td>\n",
              "      <td>[('Rated 4.0', 'RATED\\n  A beautiful place to ...</td>\n",
              "      <td>551</td>\n",
              "      <td>Buffet</td>\n",
              "      <td>Banashankari</td>\n",
              "    </tr>\n",
              "    <tr>\n",
              "      <th>1</th>\n",
              "      <td>2nd Floor, 80 Feet Road, Near Big Bazaar, 6th ...</td>\n",
              "      <td>Spice Elephant</td>\n",
              "      <td>1</td>\n",
              "      <td>0</td>\n",
              "      <td>4.1</td>\n",
              "      <td>787</td>\n",
              "      <td>1</td>\n",
              "      <td>16</td>\n",
              "      <td>Momos, Lunch Buffet, Chocolate Nirvana, Thai G...</td>\n",
              "      <td>275</td>\n",
              "      <td>800.0</td>\n",
              "      <td>[('Rated 4.0', 'RATED\\n  Had been here for din...</td>\n",
              "      <td>551</td>\n",
              "      <td>Buffet</td>\n",
              "      <td>Banashankari</td>\n",
              "    </tr>\n",
              "    <tr>\n",
              "      <th>2</th>\n",
              "      <td>1112, Next to KIMS Medical College, 17th Cross...</td>\n",
              "      <td>San Churro Cafe</td>\n",
              "      <td>1</td>\n",
              "      <td>0</td>\n",
              "      <td>3.8</td>\n",
              "      <td>918</td>\n",
              "      <td>1</td>\n",
              "      <td>13</td>\n",
              "      <td>Churros, Cannelloni, Minestrone Soup, Hot Choc...</td>\n",
              "      <td>237</td>\n",
              "      <td>800.0</td>\n",
              "      <td>[('Rated 3.0', \"RATED\\n  Ambience is not that ...</td>\n",
              "      <td>551</td>\n",
              "      <td>Buffet</td>\n",
              "      <td>Banashankari</td>\n",
              "    </tr>\n",
              "    <tr>\n",
              "      <th>3</th>\n",
              "      <td>1st Floor, Annakuteera, 3rd Stage, Banashankar...</td>\n",
              "      <td>Addhuri Udupi Bhojana</td>\n",
              "      <td>0</td>\n",
              "      <td>0</td>\n",
              "      <td>3.7</td>\n",
              "      <td>88</td>\n",
              "      <td>1</td>\n",
              "      <td>49</td>\n",
              "      <td>Masala Dosa</td>\n",
              "      <td>720</td>\n",
              "      <td>300.0</td>\n",
              "      <td>[('Rated 4.0', \"RATED\\n  Great food and proper...</td>\n",
              "      <td>551</td>\n",
              "      <td>Buffet</td>\n",
              "      <td>Banashankari</td>\n",
              "    </tr>\n",
              "    <tr>\n",
              "      <th>4</th>\n",
              "      <td>10, 3rd Floor, Lakshmi Associates, Gandhi Baza...</td>\n",
              "      <td>Grand Village</td>\n",
              "      <td>0</td>\n",
              "      <td>0</td>\n",
              "      <td>3.8</td>\n",
              "      <td>166</td>\n",
              "      <td>3</td>\n",
              "      <td>16</td>\n",
              "      <td>Panipuri, Gol Gappe</td>\n",
              "      <td>629</td>\n",
              "      <td>600.0</td>\n",
              "      <td>[('Rated 4.0', 'RATED\\n  Very good restaurant ...</td>\n",
              "      <td>551</td>\n",
              "      <td>Buffet</td>\n",
              "      <td>Banashankari</td>\n",
              "    </tr>\n",
              "  </tbody>\n",
              "</table>\n",
              "</div>\n",
              "      <button class=\"colab-df-convert\" onclick=\"convertToInteractive('df-62cf18d8-90fc-415e-a9e5-cbc6d024bb61')\"\n",
              "              title=\"Convert this dataframe to an interactive table.\"\n",
              "              style=\"display:none;\">\n",
              "        \n",
              "  <svg xmlns=\"http://www.w3.org/2000/svg\" height=\"24px\"viewBox=\"0 0 24 24\"\n",
              "       width=\"24px\">\n",
              "    <path d=\"M0 0h24v24H0V0z\" fill=\"none\"/>\n",
              "    <path d=\"M18.56 5.44l.94 2.06.94-2.06 2.06-.94-2.06-.94-.94-2.06-.94 2.06-2.06.94zm-11 1L8.5 8.5l.94-2.06 2.06-.94-2.06-.94L8.5 2.5l-.94 2.06-2.06.94zm10 10l.94 2.06.94-2.06 2.06-.94-2.06-.94-.94-2.06-.94 2.06-2.06.94z\"/><path d=\"M17.41 7.96l-1.37-1.37c-.4-.4-.92-.59-1.43-.59-.52 0-1.04.2-1.43.59L10.3 9.45l-7.72 7.72c-.78.78-.78 2.05 0 2.83L4 21.41c.39.39.9.59 1.41.59.51 0 1.02-.2 1.41-.59l7.78-7.78 2.81-2.81c.8-.78.8-2.07 0-2.86zM5.41 20L4 18.59l7.72-7.72 1.47 1.35L5.41 20z\"/>\n",
              "  </svg>\n",
              "      </button>\n",
              "      \n",
              "  <style>\n",
              "    .colab-df-container {\n",
              "      display:flex;\n",
              "      flex-wrap:wrap;\n",
              "      gap: 12px;\n",
              "    }\n",
              "\n",
              "    .colab-df-convert {\n",
              "      background-color: #E8F0FE;\n",
              "      border: none;\n",
              "      border-radius: 50%;\n",
              "      cursor: pointer;\n",
              "      display: none;\n",
              "      fill: #1967D2;\n",
              "      height: 32px;\n",
              "      padding: 0 0 0 0;\n",
              "      width: 32px;\n",
              "    }\n",
              "\n",
              "    .colab-df-convert:hover {\n",
              "      background-color: #E2EBFA;\n",
              "      box-shadow: 0px 1px 2px rgba(60, 64, 67, 0.3), 0px 1px 3px 1px rgba(60, 64, 67, 0.15);\n",
              "      fill: #174EA6;\n",
              "    }\n",
              "\n",
              "    [theme=dark] .colab-df-convert {\n",
              "      background-color: #3B4455;\n",
              "      fill: #D2E3FC;\n",
              "    }\n",
              "\n",
              "    [theme=dark] .colab-df-convert:hover {\n",
              "      background-color: #434B5C;\n",
              "      box-shadow: 0px 1px 3px 1px rgba(0, 0, 0, 0.15);\n",
              "      filter: drop-shadow(0px 1px 2px rgba(0, 0, 0, 0.3));\n",
              "      fill: #FFFFFF;\n",
              "    }\n",
              "  </style>\n",
              "\n",
              "      <script>\n",
              "        const buttonEl =\n",
              "          document.querySelector('#df-62cf18d8-90fc-415e-a9e5-cbc6d024bb61 button.colab-df-convert');\n",
              "        buttonEl.style.display =\n",
              "          google.colab.kernel.accessAllowed ? 'block' : 'none';\n",
              "\n",
              "        async function convertToInteractive(key) {\n",
              "          const element = document.querySelector('#df-62cf18d8-90fc-415e-a9e5-cbc6d024bb61');\n",
              "          const dataTable =\n",
              "            await google.colab.kernel.invokeFunction('convertToInteractive',\n",
              "                                                     [key], {});\n",
              "          if (!dataTable) return;\n",
              "\n",
              "          const docLinkHtml = 'Like what you see? Visit the ' +\n",
              "            '<a target=\"_blank\" href=https://colab.research.google.com/notebooks/data_table.ipynb>data table notebook</a>'\n",
              "            + ' to learn more about interactive tables.';\n",
              "          element.innerHTML = '';\n",
              "          dataTable['output_type'] = 'display_data';\n",
              "          await google.colab.output.renderOutput(dataTable, element);\n",
              "          const docLink = document.createElement('div');\n",
              "          docLink.innerHTML = docLinkHtml;\n",
              "          element.appendChild(docLink);\n",
              "        }\n",
              "      </script>\n",
              "    </div>\n",
              "  </div>\n",
              "  "
            ]
          },
          "metadata": {},
          "execution_count": 70
        }
      ]
    },
    {
      "cell_type": "code",
      "source": [
        "#STEP 1 initialize x and y\n",
        "x = df.iloc[:,[2,3,5,6,7,9,10,12]]\n",
        "x.head()"
      ],
      "metadata": {
        "colab": {
          "base_uri": "https://localhost:8080/",
          "height": 206
        },
        "id": "Lbp5x51-67VX",
        "outputId": "32f1e72b-8e2d-4b92-c1a8-5f2375b81519"
      },
      "execution_count": null,
      "outputs": [
        {
          "output_type": "execute_result",
          "data": {
            "text/plain": [
              "   online_order  book_table  votes  location  rest_type  cuisines   cost  \\\n",
              "0             1           1    775         1         16       619  800.0   \n",
              "1             1           0    787         1         16       275  800.0   \n",
              "2             1           0    918         1         13       237  800.0   \n",
              "3             0           0     88         1         49       720  300.0   \n",
              "4             0           0    166         3         16       629  600.0   \n",
              "\n",
              "   menu_item  \n",
              "0        551  \n",
              "1        551  \n",
              "2        551  \n",
              "3        551  \n",
              "4        551  "
            ],
            "text/html": [
              "\n",
              "  <div id=\"df-3d60a05e-a9af-4a4b-b013-3dc180334902\">\n",
              "    <div class=\"colab-df-container\">\n",
              "      <div>\n",
              "<style scoped>\n",
              "    .dataframe tbody tr th:only-of-type {\n",
              "        vertical-align: middle;\n",
              "    }\n",
              "\n",
              "    .dataframe tbody tr th {\n",
              "        vertical-align: top;\n",
              "    }\n",
              "\n",
              "    .dataframe thead th {\n",
              "        text-align: right;\n",
              "    }\n",
              "</style>\n",
              "<table border=\"1\" class=\"dataframe\">\n",
              "  <thead>\n",
              "    <tr style=\"text-align: right;\">\n",
              "      <th></th>\n",
              "      <th>online_order</th>\n",
              "      <th>book_table</th>\n",
              "      <th>votes</th>\n",
              "      <th>location</th>\n",
              "      <th>rest_type</th>\n",
              "      <th>cuisines</th>\n",
              "      <th>cost</th>\n",
              "      <th>menu_item</th>\n",
              "    </tr>\n",
              "  </thead>\n",
              "  <tbody>\n",
              "    <tr>\n",
              "      <th>0</th>\n",
              "      <td>1</td>\n",
              "      <td>1</td>\n",
              "      <td>775</td>\n",
              "      <td>1</td>\n",
              "      <td>16</td>\n",
              "      <td>619</td>\n",
              "      <td>800.0</td>\n",
              "      <td>551</td>\n",
              "    </tr>\n",
              "    <tr>\n",
              "      <th>1</th>\n",
              "      <td>1</td>\n",
              "      <td>0</td>\n",
              "      <td>787</td>\n",
              "      <td>1</td>\n",
              "      <td>16</td>\n",
              "      <td>275</td>\n",
              "      <td>800.0</td>\n",
              "      <td>551</td>\n",
              "    </tr>\n",
              "    <tr>\n",
              "      <th>2</th>\n",
              "      <td>1</td>\n",
              "      <td>0</td>\n",
              "      <td>918</td>\n",
              "      <td>1</td>\n",
              "      <td>13</td>\n",
              "      <td>237</td>\n",
              "      <td>800.0</td>\n",
              "      <td>551</td>\n",
              "    </tr>\n",
              "    <tr>\n",
              "      <th>3</th>\n",
              "      <td>0</td>\n",
              "      <td>0</td>\n",
              "      <td>88</td>\n",
              "      <td>1</td>\n",
              "      <td>49</td>\n",
              "      <td>720</td>\n",
              "      <td>300.0</td>\n",
              "      <td>551</td>\n",
              "    </tr>\n",
              "    <tr>\n",
              "      <th>4</th>\n",
              "      <td>0</td>\n",
              "      <td>0</td>\n",
              "      <td>166</td>\n",
              "      <td>3</td>\n",
              "      <td>16</td>\n",
              "      <td>629</td>\n",
              "      <td>600.0</td>\n",
              "      <td>551</td>\n",
              "    </tr>\n",
              "  </tbody>\n",
              "</table>\n",
              "</div>\n",
              "      <button class=\"colab-df-convert\" onclick=\"convertToInteractive('df-3d60a05e-a9af-4a4b-b013-3dc180334902')\"\n",
              "              title=\"Convert this dataframe to an interactive table.\"\n",
              "              style=\"display:none;\">\n",
              "        \n",
              "  <svg xmlns=\"http://www.w3.org/2000/svg\" height=\"24px\"viewBox=\"0 0 24 24\"\n",
              "       width=\"24px\">\n",
              "    <path d=\"M0 0h24v24H0V0z\" fill=\"none\"/>\n",
              "    <path d=\"M18.56 5.44l.94 2.06.94-2.06 2.06-.94-2.06-.94-.94-2.06-.94 2.06-2.06.94zm-11 1L8.5 8.5l.94-2.06 2.06-.94-2.06-.94L8.5 2.5l-.94 2.06-2.06.94zm10 10l.94 2.06.94-2.06 2.06-.94-2.06-.94-.94-2.06-.94 2.06-2.06.94z\"/><path d=\"M17.41 7.96l-1.37-1.37c-.4-.4-.92-.59-1.43-.59-.52 0-1.04.2-1.43.59L10.3 9.45l-7.72 7.72c-.78.78-.78 2.05 0 2.83L4 21.41c.39.39.9.59 1.41.59.51 0 1.02-.2 1.41-.59l7.78-7.78 2.81-2.81c.8-.78.8-2.07 0-2.86zM5.41 20L4 18.59l7.72-7.72 1.47 1.35L5.41 20z\"/>\n",
              "  </svg>\n",
              "      </button>\n",
              "      \n",
              "  <style>\n",
              "    .colab-df-container {\n",
              "      display:flex;\n",
              "      flex-wrap:wrap;\n",
              "      gap: 12px;\n",
              "    }\n",
              "\n",
              "    .colab-df-convert {\n",
              "      background-color: #E8F0FE;\n",
              "      border: none;\n",
              "      border-radius: 50%;\n",
              "      cursor: pointer;\n",
              "      display: none;\n",
              "      fill: #1967D2;\n",
              "      height: 32px;\n",
              "      padding: 0 0 0 0;\n",
              "      width: 32px;\n",
              "    }\n",
              "\n",
              "    .colab-df-convert:hover {\n",
              "      background-color: #E2EBFA;\n",
              "      box-shadow: 0px 1px 2px rgba(60, 64, 67, 0.3), 0px 1px 3px 1px rgba(60, 64, 67, 0.15);\n",
              "      fill: #174EA6;\n",
              "    }\n",
              "\n",
              "    [theme=dark] .colab-df-convert {\n",
              "      background-color: #3B4455;\n",
              "      fill: #D2E3FC;\n",
              "    }\n",
              "\n",
              "    [theme=dark] .colab-df-convert:hover {\n",
              "      background-color: #434B5C;\n",
              "      box-shadow: 0px 1px 3px 1px rgba(0, 0, 0, 0.15);\n",
              "      filter: drop-shadow(0px 1px 2px rgba(0, 0, 0, 0.3));\n",
              "      fill: #FFFFFF;\n",
              "    }\n",
              "  </style>\n",
              "\n",
              "      <script>\n",
              "        const buttonEl =\n",
              "          document.querySelector('#df-3d60a05e-a9af-4a4b-b013-3dc180334902 button.colab-df-convert');\n",
              "        buttonEl.style.display =\n",
              "          google.colab.kernel.accessAllowed ? 'block' : 'none';\n",
              "\n",
              "        async function convertToInteractive(key) {\n",
              "          const element = document.querySelector('#df-3d60a05e-a9af-4a4b-b013-3dc180334902');\n",
              "          const dataTable =\n",
              "            await google.colab.kernel.invokeFunction('convertToInteractive',\n",
              "                                                     [key], {});\n",
              "          if (!dataTable) return;\n",
              "\n",
              "          const docLinkHtml = 'Like what you see? Visit the ' +\n",
              "            '<a target=\"_blank\" href=https://colab.research.google.com/notebooks/data_table.ipynb>data table notebook</a>'\n",
              "            + ' to learn more about interactive tables.';\n",
              "          element.innerHTML = '';\n",
              "          dataTable['output_type'] = 'display_data';\n",
              "          await google.colab.output.renderOutput(dataTable, element);\n",
              "          const docLink = document.createElement('div');\n",
              "          docLink.innerHTML = docLinkHtml;\n",
              "          element.appendChild(docLink);\n",
              "        }\n",
              "      </script>\n",
              "    </div>\n",
              "  </div>\n",
              "  "
            ]
          },
          "metadata": {},
          "execution_count": 71
        }
      ]
    },
    {
      "cell_type": "code",
      "source": [
        "y = df['rate']\n",
        "y"
      ],
      "metadata": {
        "colab": {
          "base_uri": "https://localhost:8080/"
        },
        "id": "7fQxK0au7OwX",
        "outputId": "ee95e148-7ee4-4d76-f4db-928c6bb1d94a"
      },
      "execution_count": null,
      "outputs": [
        {
          "output_type": "execute_result",
          "data": {
            "text/plain": [
              "0       4.1\n",
              "1       4.1\n",
              "2       3.8\n",
              "3       3.7\n",
              "4       3.8\n",
              "       ... \n",
              "2854    4.5\n",
              "2855    4.5\n",
              "2856    4.4\n",
              "2857    4.2\n",
              "2858    4.3\n",
              "Name: rate, Length: 2859, dtype: float64"
            ]
          },
          "metadata": {},
          "execution_count": 72
        }
      ]
    },
    {
      "cell_type": "code",
      "source": [
        "#STEP 2 -split train and test data\n",
        "x_train,x_test,y_train,y_test=train_test_split(x,y,test_size=.3,random_state=10)"
      ],
      "metadata": {
        "id": "uAownkEP72yM"
      },
      "execution_count": null,
      "outputs": []
    },
    {
      "cell_type": "code",
      "source": [
        "#Linear Regression \n",
        "\n",
        "lr_model=LinearRegression()\n",
        "lr_model.fit(x_train,y_train)\n"
      ],
      "metadata": {
        "colab": {
          "base_uri": "https://localhost:8080/"
        },
        "id": "gVmDuuwf7U98",
        "outputId": "3cc7fc9f-9895-483e-af5b-fd2a355add5b"
      },
      "execution_count": null,
      "outputs": [
        {
          "output_type": "execute_result",
          "data": {
            "text/plain": [
              "LinearRegression()"
            ]
          },
          "metadata": {},
          "execution_count": 74
        }
      ]
    },
    {
      "cell_type": "code",
      "source": [
        "#predicting test results \n",
        "from sklearn.metrics import r2_score\n",
        "y_pred=lr_model.predict(x_test)\n",
        "r2_score(y_test,y_pred)"
      ],
      "metadata": {
        "colab": {
          "base_uri": "https://localhost:8080/"
        },
        "id": "KgvjzZVT7slR",
        "outputId": "0cad9c74-eb8d-4406-8e74-30ef84431e81"
      },
      "execution_count": null,
      "outputs": [
        {
          "output_type": "execute_result",
          "data": {
            "text/plain": [
              "0.20012049218132388"
            ]
          },
          "metadata": {},
          "execution_count": 75
        }
      ]
    },
    {
      "cell_type": "code",
      "source": [
        "#Random Forest\n",
        "\n",
        "#from sklearn.tree import DecisionTreeRegressor\n",
        "\n",
        "from sklearn.ensemble import RandomForestRegressor\n",
        "RF_Model=RandomForestRegressor(n_estimators=650,random_state=245,min_samples_leaf=.0001)\n",
        "RF_Model.fit(x_train,y_train)\n",
        "y_predict=RF_Model.predict(x_test)   #predicting just test set output here \n",
        "r2_score(y_test,y_predict)\n",
        "\n"
      ],
      "metadata": {
        "colab": {
          "base_uri": "https://localhost:8080/"
        },
        "id": "g5DCcpvq8EPO",
        "outputId": "8bbe2ceb-7c8c-4410-ca92-c8a287e57baf"
      },
      "execution_count": null,
      "outputs": [
        {
          "output_type": "execute_result",
          "data": {
            "text/plain": [
              "0.6209932222874577"
            ]
          },
          "metadata": {},
          "execution_count": 76
        }
      ]
    },
    {
      "cell_type": "code",
      "source": [
        "#predicting random forest using new input\n",
        "RF_Model.predict([[1,0,250,1,5,25,700.0,11]])"
      ],
      "metadata": {
        "colab": {
          "base_uri": "https://localhost:8080/"
        },
        "id": "40EamxhYALAE",
        "outputId": "14032cb5-5ce0-47a9-b304-e266ba4b3b7b"
      },
      "execution_count": null,
      "outputs": [
        {
          "output_type": "execute_result",
          "data": {
            "text/plain": [
              "array([4.03923077])"
            ]
          },
          "metadata": {},
          "execution_count": 77
        }
      ]
    },
    {
      "cell_type": "code",
      "source": [
        "#ExtraTree Regressor\n",
        "\n",
        "#Preparing Extra Tree Regression\n",
        "from sklearn.ensemble import  ExtraTreesRegressor\n",
        "ET_Model=ExtraTreesRegressor(n_estimators = 120)\n",
        "ET_Model.fit(x_train,y_train)\n",
        "y_predict=ET_Model.predict(x_test)\n",
        "\n",
        "\n",
        "from sklearn.metrics import r2_score\n",
        "r2_score(y_test,y_predict)\n",
        "\n"
      ],
      "metadata": {
        "colab": {
          "base_uri": "https://localhost:8080/"
        },
        "id": "foATDpwX8Rol",
        "outputId": "882dacdb-e8e4-4bd2-a7fd-ed4e480924b8"
      },
      "execution_count": null,
      "outputs": [
        {
          "output_type": "execute_result",
          "data": {
            "text/plain": [
              "0.6771967181435903"
            ]
          },
          "metadata": {},
          "execution_count": 78
        }
      ]
    },
    {
      "cell_type": "code",
      "source": [
        "#### TASK -1  PREDICTING THE RATINGS OF NEW RESTAURANT BASED ON DECISION TREE "
      ],
      "metadata": {
        "id": "p6noKj7m_M0F"
      },
      "execution_count": null,
      "outputs": []
    },
    {
      "cell_type": "code",
      "source": [
        "#decision tree regression\n",
        "from sklearn.tree import DecisionTreeRegressor\n",
        "regressor = DecisionTreeRegressor(random_state = 0)\n",
        "regressor.fit(x, y)"
      ],
      "metadata": {
        "colab": {
          "base_uri": "https://localhost:8080/"
        },
        "id": "PuUfz2hh8ZSJ",
        "outputId": "d6e11187-9df4-4a25-8943-e9823f04f64e"
      },
      "execution_count": null,
      "outputs": [
        {
          "output_type": "execute_result",
          "data": {
            "text/plain": [
              "DecisionTreeRegressor(random_state=0)"
            ]
          },
          "metadata": {},
          "execution_count": 80
        }
      ]
    },
    {
      "cell_type": "code",
      "source": [
        "#predicting new result--input is given by me (8 input here ) and it finds the new y i.e ratings here \n",
        "regressor.predict([[1,0,250,1,5,25,700.0,11]])"
      ],
      "metadata": {
        "colab": {
          "base_uri": "https://localhost:8080/"
        },
        "id": "CF3G3j0Z9eOo",
        "outputId": "8790c7d0-b449-4b3d-9171-3599d025ea0b"
      },
      "execution_count": null,
      "outputs": [
        {
          "output_type": "execute_result",
          "data": {
            "text/plain": [
              "array([4.2])"
            ]
          },
          "metadata": {},
          "execution_count": 81
        }
      ]
    },
    {
      "cell_type": "code",
      "source": [
        "from sklearn.metrics import accuracy_score\n",
        "    print(accuracy_score(predict,y_test))\n",
        "    print('\\n')"
      ],
      "metadata": {
        "id": "g1w-lXA9K57Q"
      },
      "execution_count": null,
      "outputs": []
    },
    {
      "cell_type": "code",
      "source": [
        "#### TASK -2   classification models"
      ],
      "metadata": {
        "id": "2hgcr4OX9vMZ"
      },
      "execution_count": null,
      "outputs": []
    },
    {
      "cell_type": "code",
      "source": [
        "## PREPARING THE DATA FOR MODELLING PURPOSE\n",
        "#1 preparing the data for ML modelling\n",
        "#2 create target variable\n",
        "\n",
        "# Imbalance data --outliers cause imbalance data\n",
        "# outliers -- large deviations in the values of training data which causes less accurate models and poor results\n",
        "# --if a data is trained w.r.t any ML algo and consist of outliers; \n",
        "# --then if new data is to be predicted on the basis of trained data, it will give poor and less accurate results.\n",
        "\n"
      ],
      "metadata": {
        "id": "Q9zJa5kp-zMu"
      },
      "execution_count": null,
      "outputs": []
    },
    {
      "cell_type": "code",
      "source": [
        "# splitting the data in two parts;\n",
        "# 1st for the new restaurants-- rating--0\n",
        "# 2nd for training purpose-- rating>0 for ML model\n",
        "\n",
        "# created a function which distinguish between new restaurants and the restaurants that are already rated(for ML --training)\n",
        "def assign(x):\n",
        "    if x>0:\n",
        "        return 1  # for training\n",
        "    else:\n",
        "        return 0  # for new restaurants\n",
        "df['rated']=df['rate'].apply(assign)\n",
        "\n"
      ],
      "metadata": {
        "id": "oNMX3QLXDqdr"
      },
      "execution_count": null,
      "outputs": []
    },
    {
      "cell_type": "code",
      "source": [
        "# splitting the data frames\n",
        "new_restaurants = df[df['rated'] == 0]\n",
        "train_val_restaurants = df.query('rated == 1')\n",
        "\n"
      ],
      "metadata": {
        "id": "7YLzLp5jGO2i"
      },
      "execution_count": null,
      "outputs": []
    },
    {
      "cell_type": "code",
      "source": [
        "train_val_restaurants.head()  # this is the entire data frame required for the training"
      ],
      "metadata": {
        "colab": {
          "base_uri": "https://localhost:8080/",
          "height": 635
        },
        "id": "wKMAOI3mGcAO",
        "outputId": "8109ac5c-12e5-4f61-ca59-449f1ce47ea4"
      },
      "execution_count": null,
      "outputs": [
        {
          "output_type": "execute_result",
          "data": {
            "text/plain": [
              "                                             address                   name  \\\n",
              "0  942, 21st Main Road, 2nd Stage, Banashankari, ...                  Jalsa   \n",
              "1  2nd Floor, 80 Feet Road, Near Big Bazaar, 6th ...         Spice Elephant   \n",
              "2  1112, Next to KIMS Medical College, 17th Cross...        San Churro Cafe   \n",
              "3  1st Floor, Annakuteera, 3rd Stage, Banashankar...  Addhuri Udupi Bhojana   \n",
              "4  10, 3rd Floor, Lakshmi Associates, Gandhi Baza...          Grand Village   \n",
              "\n",
              "  online_order book_table  rate  votes      location            rest_type  \\\n",
              "0          Yes        Yes   4.1    775  Banashankari        Casual Dining   \n",
              "1          Yes         No   4.1    787  Banashankari        Casual Dining   \n",
              "2          Yes         No   3.8    918  Banashankari  Cafe, Casual Dining   \n",
              "3           No         No   3.7     88  Banashankari          Quick Bites   \n",
              "4           No         No   3.8    166  Basavanagudi        Casual Dining   \n",
              "\n",
              "                                          dish_liked  \\\n",
              "0  Pasta, Lunch Buffet, Masala Papad, Paneer Laja...   \n",
              "1  Momos, Lunch Buffet, Chocolate Nirvana, Thai G...   \n",
              "2  Churros, Cannelloni, Minestrone Soup, Hot Choc...   \n",
              "3                                        Masala Dosa   \n",
              "4                                Panipuri, Gol Gappe   \n",
              "\n",
              "                         cuisines   cost  \\\n",
              "0  North Indian, Mughlai, Chinese  800.0   \n",
              "1     Chinese, North Indian, Thai  800.0   \n",
              "2          Cafe, Mexican, Italian  800.0   \n",
              "3      South Indian, North Indian  300.0   \n",
              "4        North Indian, Rajasthani  600.0   \n",
              "\n",
              "                                        reviews_list menu_item    type  \\\n",
              "0  [('Rated 4.0', 'RATED\\n  A beautiful place to ...        []  Buffet   \n",
              "1  [('Rated 4.0', 'RATED\\n  Had been here for din...        []  Buffet   \n",
              "2  [('Rated 3.0', \"RATED\\n  Ambience is not that ...        []  Buffet   \n",
              "3  [('Rated 4.0', \"RATED\\n  Great food and proper...        []  Buffet   \n",
              "4  [('Rated 4.0', 'RATED\\n  Very good restaurant ...        []  Buffet   \n",
              "\n",
              "           city  rated  \n",
              "0  Banashankari      1  \n",
              "1  Banashankari      1  \n",
              "2  Banashankari      1  \n",
              "3  Banashankari      1  \n",
              "4  Banashankari      1  "
            ],
            "text/html": [
              "\n",
              "  <div id=\"df-0b17c83e-3f72-481f-a212-a92f8a2c42e9\">\n",
              "    <div class=\"colab-df-container\">\n",
              "      <div>\n",
              "<style scoped>\n",
              "    .dataframe tbody tr th:only-of-type {\n",
              "        vertical-align: middle;\n",
              "    }\n",
              "\n",
              "    .dataframe tbody tr th {\n",
              "        vertical-align: top;\n",
              "    }\n",
              "\n",
              "    .dataframe thead th {\n",
              "        text-align: right;\n",
              "    }\n",
              "</style>\n",
              "<table border=\"1\" class=\"dataframe\">\n",
              "  <thead>\n",
              "    <tr style=\"text-align: right;\">\n",
              "      <th></th>\n",
              "      <th>address</th>\n",
              "      <th>name</th>\n",
              "      <th>online_order</th>\n",
              "      <th>book_table</th>\n",
              "      <th>rate</th>\n",
              "      <th>votes</th>\n",
              "      <th>location</th>\n",
              "      <th>rest_type</th>\n",
              "      <th>dish_liked</th>\n",
              "      <th>cuisines</th>\n",
              "      <th>cost</th>\n",
              "      <th>reviews_list</th>\n",
              "      <th>menu_item</th>\n",
              "      <th>type</th>\n",
              "      <th>city</th>\n",
              "      <th>rated</th>\n",
              "    </tr>\n",
              "  </thead>\n",
              "  <tbody>\n",
              "    <tr>\n",
              "      <th>0</th>\n",
              "      <td>942, 21st Main Road, 2nd Stage, Banashankari, ...</td>\n",
              "      <td>Jalsa</td>\n",
              "      <td>Yes</td>\n",
              "      <td>Yes</td>\n",
              "      <td>4.1</td>\n",
              "      <td>775</td>\n",
              "      <td>Banashankari</td>\n",
              "      <td>Casual Dining</td>\n",
              "      <td>Pasta, Lunch Buffet, Masala Papad, Paneer Laja...</td>\n",
              "      <td>North Indian, Mughlai, Chinese</td>\n",
              "      <td>800.0</td>\n",
              "      <td>[('Rated 4.0', 'RATED\\n  A beautiful place to ...</td>\n",
              "      <td>[]</td>\n",
              "      <td>Buffet</td>\n",
              "      <td>Banashankari</td>\n",
              "      <td>1</td>\n",
              "    </tr>\n",
              "    <tr>\n",
              "      <th>1</th>\n",
              "      <td>2nd Floor, 80 Feet Road, Near Big Bazaar, 6th ...</td>\n",
              "      <td>Spice Elephant</td>\n",
              "      <td>Yes</td>\n",
              "      <td>No</td>\n",
              "      <td>4.1</td>\n",
              "      <td>787</td>\n",
              "      <td>Banashankari</td>\n",
              "      <td>Casual Dining</td>\n",
              "      <td>Momos, Lunch Buffet, Chocolate Nirvana, Thai G...</td>\n",
              "      <td>Chinese, North Indian, Thai</td>\n",
              "      <td>800.0</td>\n",
              "      <td>[('Rated 4.0', 'RATED\\n  Had been here for din...</td>\n",
              "      <td>[]</td>\n",
              "      <td>Buffet</td>\n",
              "      <td>Banashankari</td>\n",
              "      <td>1</td>\n",
              "    </tr>\n",
              "    <tr>\n",
              "      <th>2</th>\n",
              "      <td>1112, Next to KIMS Medical College, 17th Cross...</td>\n",
              "      <td>San Churro Cafe</td>\n",
              "      <td>Yes</td>\n",
              "      <td>No</td>\n",
              "      <td>3.8</td>\n",
              "      <td>918</td>\n",
              "      <td>Banashankari</td>\n",
              "      <td>Cafe, Casual Dining</td>\n",
              "      <td>Churros, Cannelloni, Minestrone Soup, Hot Choc...</td>\n",
              "      <td>Cafe, Mexican, Italian</td>\n",
              "      <td>800.0</td>\n",
              "      <td>[('Rated 3.0', \"RATED\\n  Ambience is not that ...</td>\n",
              "      <td>[]</td>\n",
              "      <td>Buffet</td>\n",
              "      <td>Banashankari</td>\n",
              "      <td>1</td>\n",
              "    </tr>\n",
              "    <tr>\n",
              "      <th>3</th>\n",
              "      <td>1st Floor, Annakuteera, 3rd Stage, Banashankar...</td>\n",
              "      <td>Addhuri Udupi Bhojana</td>\n",
              "      <td>No</td>\n",
              "      <td>No</td>\n",
              "      <td>3.7</td>\n",
              "      <td>88</td>\n",
              "      <td>Banashankari</td>\n",
              "      <td>Quick Bites</td>\n",
              "      <td>Masala Dosa</td>\n",
              "      <td>South Indian, North Indian</td>\n",
              "      <td>300.0</td>\n",
              "      <td>[('Rated 4.0', \"RATED\\n  Great food and proper...</td>\n",
              "      <td>[]</td>\n",
              "      <td>Buffet</td>\n",
              "      <td>Banashankari</td>\n",
              "      <td>1</td>\n",
              "    </tr>\n",
              "    <tr>\n",
              "      <th>4</th>\n",
              "      <td>10, 3rd Floor, Lakshmi Associates, Gandhi Baza...</td>\n",
              "      <td>Grand Village</td>\n",
              "      <td>No</td>\n",
              "      <td>No</td>\n",
              "      <td>3.8</td>\n",
              "      <td>166</td>\n",
              "      <td>Basavanagudi</td>\n",
              "      <td>Casual Dining</td>\n",
              "      <td>Panipuri, Gol Gappe</td>\n",
              "      <td>North Indian, Rajasthani</td>\n",
              "      <td>600.0</td>\n",
              "      <td>[('Rated 4.0', 'RATED\\n  Very good restaurant ...</td>\n",
              "      <td>[]</td>\n",
              "      <td>Buffet</td>\n",
              "      <td>Banashankari</td>\n",
              "      <td>1</td>\n",
              "    </tr>\n",
              "  </tbody>\n",
              "</table>\n",
              "</div>\n",
              "      <button class=\"colab-df-convert\" onclick=\"convertToInteractive('df-0b17c83e-3f72-481f-a212-a92f8a2c42e9')\"\n",
              "              title=\"Convert this dataframe to an interactive table.\"\n",
              "              style=\"display:none;\">\n",
              "        \n",
              "  <svg xmlns=\"http://www.w3.org/2000/svg\" height=\"24px\"viewBox=\"0 0 24 24\"\n",
              "       width=\"24px\">\n",
              "    <path d=\"M0 0h24v24H0V0z\" fill=\"none\"/>\n",
              "    <path d=\"M18.56 5.44l.94 2.06.94-2.06 2.06-.94-2.06-.94-.94-2.06-.94 2.06-2.06.94zm-11 1L8.5 8.5l.94-2.06 2.06-.94-2.06-.94L8.5 2.5l-.94 2.06-2.06.94zm10 10l.94 2.06.94-2.06 2.06-.94-2.06-.94-.94-2.06-.94 2.06-2.06.94z\"/><path d=\"M17.41 7.96l-1.37-1.37c-.4-.4-.92-.59-1.43-.59-.52 0-1.04.2-1.43.59L10.3 9.45l-7.72 7.72c-.78.78-.78 2.05 0 2.83L4 21.41c.39.39.9.59 1.41.59.51 0 1.02-.2 1.41-.59l7.78-7.78 2.81-2.81c.8-.78.8-2.07 0-2.86zM5.41 20L4 18.59l7.72-7.72 1.47 1.35L5.41 20z\"/>\n",
              "  </svg>\n",
              "      </button>\n",
              "      \n",
              "  <style>\n",
              "    .colab-df-container {\n",
              "      display:flex;\n",
              "      flex-wrap:wrap;\n",
              "      gap: 12px;\n",
              "    }\n",
              "\n",
              "    .colab-df-convert {\n",
              "      background-color: #E8F0FE;\n",
              "      border: none;\n",
              "      border-radius: 50%;\n",
              "      cursor: pointer;\n",
              "      display: none;\n",
              "      fill: #1967D2;\n",
              "      height: 32px;\n",
              "      padding: 0 0 0 0;\n",
              "      width: 32px;\n",
              "    }\n",
              "\n",
              "    .colab-df-convert:hover {\n",
              "      background-color: #E2EBFA;\n",
              "      box-shadow: 0px 1px 2px rgba(60, 64, 67, 0.3), 0px 1px 3px 1px rgba(60, 64, 67, 0.15);\n",
              "      fill: #174EA6;\n",
              "    }\n",
              "\n",
              "    [theme=dark] .colab-df-convert {\n",
              "      background-color: #3B4455;\n",
              "      fill: #D2E3FC;\n",
              "    }\n",
              "\n",
              "    [theme=dark] .colab-df-convert:hover {\n",
              "      background-color: #434B5C;\n",
              "      box-shadow: 0px 1px 3px 1px rgba(0, 0, 0, 0.15);\n",
              "      filter: drop-shadow(0px 1px 2px rgba(0, 0, 0, 0.3));\n",
              "      fill: #FFFFFF;\n",
              "    }\n",
              "  </style>\n",
              "\n",
              "      <script>\n",
              "        const buttonEl =\n",
              "          document.querySelector('#df-0b17c83e-3f72-481f-a212-a92f8a2c42e9 button.colab-df-convert');\n",
              "        buttonEl.style.display =\n",
              "          google.colab.kernel.accessAllowed ? 'block' : 'none';\n",
              "\n",
              "        async function convertToInteractive(key) {\n",
              "          const element = document.querySelector('#df-0b17c83e-3f72-481f-a212-a92f8a2c42e9');\n",
              "          const dataTable =\n",
              "            await google.colab.kernel.invokeFunction('convertToInteractive',\n",
              "                                                     [key], {});\n",
              "          if (!dataTable) return;\n",
              "\n",
              "          const docLinkHtml = 'Like what you see? Visit the ' +\n",
              "            '<a target=\"_blank\" href=https://colab.research.google.com/notebooks/data_table.ipynb>data table notebook</a>'\n",
              "            + ' to learn more about interactive tables.';\n",
              "          element.innerHTML = '';\n",
              "          dataTable['output_type'] = 'display_data';\n",
              "          await google.colab.output.renderOutput(dataTable, element);\n",
              "          const docLink = document.createElement('div');\n",
              "          docLink.innerHTML = docLinkHtml;\n",
              "          element.appendChild(docLink);\n",
              "        }\n",
              "      </script>\n",
              "    </div>\n",
              "  </div>\n",
              "  "
            ]
          },
          "metadata": {},
          "execution_count": 159
        }
      ]
    },
    {
      "cell_type": "code",
      "source": [
        "#2 Create a target variable --on the basis of which prediction is done...\n",
        "\n",
        "train_val_restaurants['rate'].unique()  # on the basis of which target varible is created\n",
        "\n"
      ],
      "metadata": {
        "colab": {
          "base_uri": "https://localhost:8080/"
        },
        "id": "joaDhxsCGft5",
        "outputId": "2a093cb2-7249-4b21-fd61-d02837a0695f"
      },
      "execution_count": null,
      "outputs": [
        {
          "output_type": "execute_result",
          "data": {
            "text/plain": [
              "array([4.1, 3.8, 3.7, 4.6, 4. , 4.2, 3.9, 3. , 3.6, 2.8, 4.4, 3.1, 4.3,\n",
              "       2.6, 3.3, 3.5, 3.2, 4.5, 2.5, 2.9, 3.4, 2.7, 4.7, 2.4, 2.2, 2.3,\n",
              "       4.8, 4.9, 2.1, 2. , 1.8])"
            ]
          },
          "metadata": {},
          "execution_count": 160
        }
      ]
    },
    {
      "cell_type": "code",
      "source": [
        "# By now we've already splitted our original data into new_restaurants and train_val_restaurants using pandas DataFrames.\n",
        "# The main point here is to define a fair threshold(rating) for splitting the restaurants into good and bad ones.\n",
        "# Taking 3.75 as the threshold value... Good restaurants>=3.75 rating ; Bad restaurants<3.75 rating\n",
        "# Defining a custom threshold for splitting restaurants into good and bad ; storing in new column 'target'\n",
        "# Good restaurants-1\n",
        "# Bad restaurants-0\n",
        "threshold = 3.75\n",
        "train_val_restaurants['target'] = train_val_restaurants['rate'].apply(lambda x: 1 if x >= threshold else 0)"
      ],
      "metadata": {
        "id": "UgjFgMlmGmqY"
      },
      "execution_count": null,
      "outputs": []
    },
    {
      "cell_type": "code",
      "source": [
        "train_val_restaurants.head()"
      ],
      "metadata": {
        "colab": {
          "base_uri": "https://localhost:8080/",
          "height": 635
        },
        "id": "8arpejUjGwUh",
        "outputId": "ca80e4a7-561c-4a0f-ed4e-584c7b0c7576"
      },
      "execution_count": null,
      "outputs": [
        {
          "output_type": "execute_result",
          "data": {
            "text/plain": [
              "                                             address                   name  \\\n",
              "0  942, 21st Main Road, 2nd Stage, Banashankari, ...                  Jalsa   \n",
              "1  2nd Floor, 80 Feet Road, Near Big Bazaar, 6th ...         Spice Elephant   \n",
              "2  1112, Next to KIMS Medical College, 17th Cross...        San Churro Cafe   \n",
              "3  1st Floor, Annakuteera, 3rd Stage, Banashankar...  Addhuri Udupi Bhojana   \n",
              "4  10, 3rd Floor, Lakshmi Associates, Gandhi Baza...          Grand Village   \n",
              "\n",
              "  online_order book_table  rate  votes      location            rest_type  \\\n",
              "0          Yes        Yes   4.1    775  Banashankari        Casual Dining   \n",
              "1          Yes         No   4.1    787  Banashankari        Casual Dining   \n",
              "2          Yes         No   3.8    918  Banashankari  Cafe, Casual Dining   \n",
              "3           No         No   3.7     88  Banashankari          Quick Bites   \n",
              "4           No         No   3.8    166  Basavanagudi        Casual Dining   \n",
              "\n",
              "                                          dish_liked  \\\n",
              "0  Pasta, Lunch Buffet, Masala Papad, Paneer Laja...   \n",
              "1  Momos, Lunch Buffet, Chocolate Nirvana, Thai G...   \n",
              "2  Churros, Cannelloni, Minestrone Soup, Hot Choc...   \n",
              "3                                        Masala Dosa   \n",
              "4                                Panipuri, Gol Gappe   \n",
              "\n",
              "                         cuisines   cost  \\\n",
              "0  North Indian, Mughlai, Chinese  800.0   \n",
              "1     Chinese, North Indian, Thai  800.0   \n",
              "2          Cafe, Mexican, Italian  800.0   \n",
              "3      South Indian, North Indian  300.0   \n",
              "4        North Indian, Rajasthani  600.0   \n",
              "\n",
              "                                        reviews_list menu_item    type  \\\n",
              "0  [('Rated 4.0', 'RATED\\n  A beautiful place to ...        []  Buffet   \n",
              "1  [('Rated 4.0', 'RATED\\n  Had been here for din...        []  Buffet   \n",
              "2  [('Rated 3.0', \"RATED\\n  Ambience is not that ...        []  Buffet   \n",
              "3  [('Rated 4.0', \"RATED\\n  Great food and proper...        []  Buffet   \n",
              "4  [('Rated 4.0', 'RATED\\n  Very good restaurant ...        []  Buffet   \n",
              "\n",
              "           city  rated  target  \n",
              "0  Banashankari      1       1  \n",
              "1  Banashankari      1       1  \n",
              "2  Banashankari      1       1  \n",
              "3  Banashankari      1       0  \n",
              "4  Banashankari      1       1  "
            ],
            "text/html": [
              "\n",
              "  <div id=\"df-484130fe-6d7e-41b2-9221-cd59d69b00a4\">\n",
              "    <div class=\"colab-df-container\">\n",
              "      <div>\n",
              "<style scoped>\n",
              "    .dataframe tbody tr th:only-of-type {\n",
              "        vertical-align: middle;\n",
              "    }\n",
              "\n",
              "    .dataframe tbody tr th {\n",
              "        vertical-align: top;\n",
              "    }\n",
              "\n",
              "    .dataframe thead th {\n",
              "        text-align: right;\n",
              "    }\n",
              "</style>\n",
              "<table border=\"1\" class=\"dataframe\">\n",
              "  <thead>\n",
              "    <tr style=\"text-align: right;\">\n",
              "      <th></th>\n",
              "      <th>address</th>\n",
              "      <th>name</th>\n",
              "      <th>online_order</th>\n",
              "      <th>book_table</th>\n",
              "      <th>rate</th>\n",
              "      <th>votes</th>\n",
              "      <th>location</th>\n",
              "      <th>rest_type</th>\n",
              "      <th>dish_liked</th>\n",
              "      <th>cuisines</th>\n",
              "      <th>cost</th>\n",
              "      <th>reviews_list</th>\n",
              "      <th>menu_item</th>\n",
              "      <th>type</th>\n",
              "      <th>city</th>\n",
              "      <th>rated</th>\n",
              "      <th>target</th>\n",
              "    </tr>\n",
              "  </thead>\n",
              "  <tbody>\n",
              "    <tr>\n",
              "      <th>0</th>\n",
              "      <td>942, 21st Main Road, 2nd Stage, Banashankari, ...</td>\n",
              "      <td>Jalsa</td>\n",
              "      <td>Yes</td>\n",
              "      <td>Yes</td>\n",
              "      <td>4.1</td>\n",
              "      <td>775</td>\n",
              "      <td>Banashankari</td>\n",
              "      <td>Casual Dining</td>\n",
              "      <td>Pasta, Lunch Buffet, Masala Papad, Paneer Laja...</td>\n",
              "      <td>North Indian, Mughlai, Chinese</td>\n",
              "      <td>800.0</td>\n",
              "      <td>[('Rated 4.0', 'RATED\\n  A beautiful place to ...</td>\n",
              "      <td>[]</td>\n",
              "      <td>Buffet</td>\n",
              "      <td>Banashankari</td>\n",
              "      <td>1</td>\n",
              "      <td>1</td>\n",
              "    </tr>\n",
              "    <tr>\n",
              "      <th>1</th>\n",
              "      <td>2nd Floor, 80 Feet Road, Near Big Bazaar, 6th ...</td>\n",
              "      <td>Spice Elephant</td>\n",
              "      <td>Yes</td>\n",
              "      <td>No</td>\n",
              "      <td>4.1</td>\n",
              "      <td>787</td>\n",
              "      <td>Banashankari</td>\n",
              "      <td>Casual Dining</td>\n",
              "      <td>Momos, Lunch Buffet, Chocolate Nirvana, Thai G...</td>\n",
              "      <td>Chinese, North Indian, Thai</td>\n",
              "      <td>800.0</td>\n",
              "      <td>[('Rated 4.0', 'RATED\\n  Had been here for din...</td>\n",
              "      <td>[]</td>\n",
              "      <td>Buffet</td>\n",
              "      <td>Banashankari</td>\n",
              "      <td>1</td>\n",
              "      <td>1</td>\n",
              "    </tr>\n",
              "    <tr>\n",
              "      <th>2</th>\n",
              "      <td>1112, Next to KIMS Medical College, 17th Cross...</td>\n",
              "      <td>San Churro Cafe</td>\n",
              "      <td>Yes</td>\n",
              "      <td>No</td>\n",
              "      <td>3.8</td>\n",
              "      <td>918</td>\n",
              "      <td>Banashankari</td>\n",
              "      <td>Cafe, Casual Dining</td>\n",
              "      <td>Churros, Cannelloni, Minestrone Soup, Hot Choc...</td>\n",
              "      <td>Cafe, Mexican, Italian</td>\n",
              "      <td>800.0</td>\n",
              "      <td>[('Rated 3.0', \"RATED\\n  Ambience is not that ...</td>\n",
              "      <td>[]</td>\n",
              "      <td>Buffet</td>\n",
              "      <td>Banashankari</td>\n",
              "      <td>1</td>\n",
              "      <td>1</td>\n",
              "    </tr>\n",
              "    <tr>\n",
              "      <th>3</th>\n",
              "      <td>1st Floor, Annakuteera, 3rd Stage, Banashankar...</td>\n",
              "      <td>Addhuri Udupi Bhojana</td>\n",
              "      <td>No</td>\n",
              "      <td>No</td>\n",
              "      <td>3.7</td>\n",
              "      <td>88</td>\n",
              "      <td>Banashankari</td>\n",
              "      <td>Quick Bites</td>\n",
              "      <td>Masala Dosa</td>\n",
              "      <td>South Indian, North Indian</td>\n",
              "      <td>300.0</td>\n",
              "      <td>[('Rated 4.0', \"RATED\\n  Great food and proper...</td>\n",
              "      <td>[]</td>\n",
              "      <td>Buffet</td>\n",
              "      <td>Banashankari</td>\n",
              "      <td>1</td>\n",
              "      <td>0</td>\n",
              "    </tr>\n",
              "    <tr>\n",
              "      <th>4</th>\n",
              "      <td>10, 3rd Floor, Lakshmi Associates, Gandhi Baza...</td>\n",
              "      <td>Grand Village</td>\n",
              "      <td>No</td>\n",
              "      <td>No</td>\n",
              "      <td>3.8</td>\n",
              "      <td>166</td>\n",
              "      <td>Basavanagudi</td>\n",
              "      <td>Casual Dining</td>\n",
              "      <td>Panipuri, Gol Gappe</td>\n",
              "      <td>North Indian, Rajasthani</td>\n",
              "      <td>600.0</td>\n",
              "      <td>[('Rated 4.0', 'RATED\\n  Very good restaurant ...</td>\n",
              "      <td>[]</td>\n",
              "      <td>Buffet</td>\n",
              "      <td>Banashankari</td>\n",
              "      <td>1</td>\n",
              "      <td>1</td>\n",
              "    </tr>\n",
              "  </tbody>\n",
              "</table>\n",
              "</div>\n",
              "      <button class=\"colab-df-convert\" onclick=\"convertToInteractive('df-484130fe-6d7e-41b2-9221-cd59d69b00a4')\"\n",
              "              title=\"Convert this dataframe to an interactive table.\"\n",
              "              style=\"display:none;\">\n",
              "        \n",
              "  <svg xmlns=\"http://www.w3.org/2000/svg\" height=\"24px\"viewBox=\"0 0 24 24\"\n",
              "       width=\"24px\">\n",
              "    <path d=\"M0 0h24v24H0V0z\" fill=\"none\"/>\n",
              "    <path d=\"M18.56 5.44l.94 2.06.94-2.06 2.06-.94-2.06-.94-.94-2.06-.94 2.06-2.06.94zm-11 1L8.5 8.5l.94-2.06 2.06-.94-2.06-.94L8.5 2.5l-.94 2.06-2.06.94zm10 10l.94 2.06.94-2.06 2.06-.94-2.06-.94-.94-2.06-.94 2.06-2.06.94z\"/><path d=\"M17.41 7.96l-1.37-1.37c-.4-.4-.92-.59-1.43-.59-.52 0-1.04.2-1.43.59L10.3 9.45l-7.72 7.72c-.78.78-.78 2.05 0 2.83L4 21.41c.39.39.9.59 1.41.59.51 0 1.02-.2 1.41-.59l7.78-7.78 2.81-2.81c.8-.78.8-2.07 0-2.86zM5.41 20L4 18.59l7.72-7.72 1.47 1.35L5.41 20z\"/>\n",
              "  </svg>\n",
              "      </button>\n",
              "      \n",
              "  <style>\n",
              "    .colab-df-container {\n",
              "      display:flex;\n",
              "      flex-wrap:wrap;\n",
              "      gap: 12px;\n",
              "    }\n",
              "\n",
              "    .colab-df-convert {\n",
              "      background-color: #E8F0FE;\n",
              "      border: none;\n",
              "      border-radius: 50%;\n",
              "      cursor: pointer;\n",
              "      display: none;\n",
              "      fill: #1967D2;\n",
              "      height: 32px;\n",
              "      padding: 0 0 0 0;\n",
              "      width: 32px;\n",
              "    }\n",
              "\n",
              "    .colab-df-convert:hover {\n",
              "      background-color: #E2EBFA;\n",
              "      box-shadow: 0px 1px 2px rgba(60, 64, 67, 0.3), 0px 1px 3px 1px rgba(60, 64, 67, 0.15);\n",
              "      fill: #174EA6;\n",
              "    }\n",
              "\n",
              "    [theme=dark] .colab-df-convert {\n",
              "      background-color: #3B4455;\n",
              "      fill: #D2E3FC;\n",
              "    }\n",
              "\n",
              "    [theme=dark] .colab-df-convert:hover {\n",
              "      background-color: #434B5C;\n",
              "      box-shadow: 0px 1px 3px 1px rgba(0, 0, 0, 0.15);\n",
              "      filter: drop-shadow(0px 1px 2px rgba(0, 0, 0, 0.3));\n",
              "      fill: #FFFFFF;\n",
              "    }\n",
              "  </style>\n",
              "\n",
              "      <script>\n",
              "        const buttonEl =\n",
              "          document.querySelector('#df-484130fe-6d7e-41b2-9221-cd59d69b00a4 button.colab-df-convert');\n",
              "        buttonEl.style.display =\n",
              "          google.colab.kernel.accessAllowed ? 'block' : 'none';\n",
              "\n",
              "        async function convertToInteractive(key) {\n",
              "          const element = document.querySelector('#df-484130fe-6d7e-41b2-9221-cd59d69b00a4');\n",
              "          const dataTable =\n",
              "            await google.colab.kernel.invokeFunction('convertToInteractive',\n",
              "                                                     [key], {});\n",
              "          if (!dataTable) return;\n",
              "\n",
              "          const docLinkHtml = 'Like what you see? Visit the ' +\n",
              "            '<a target=\"_blank\" href=https://colab.research.google.com/notebooks/data_table.ipynb>data table notebook</a>'\n",
              "            + ' to learn more about interactive tables.';\n",
              "          element.innerHTML = '';\n",
              "          dataTable['output_type'] = 'display_data';\n",
              "          await google.colab.output.renderOutput(dataTable, element);\n",
              "          const docLink = document.createElement('div');\n",
              "          docLink.innerHTML = docLinkHtml;\n",
              "          element.appendChild(docLink);\n",
              "        }\n",
              "      </script>\n",
              "    </div>\n",
              "  </div>\n",
              "  "
            ]
          },
          "metadata": {},
          "execution_count": 162
        }
      ]
    },
    {
      "cell_type": "code",
      "source": [
        "import plotly.graph_objs as go\n",
        "from plotly.offline import iplot\n",
        "x=train_val_restaurants['target'].value_counts()  # to check if there is imbalance data or not (outliers)\n",
        "labels=['Good Restaurants(1)','Bad Restaurants(0)']\n",
        "print(x)\n",
        "trace=go.Pie(labels=labels,values=x,hoverinfo='label+percent',textinfo='percent',textfont=dict(size=25),\n",
        "              pull=[0, 0, 0,0.2, 0])\n",
        "iplot([trace])"
      ],
      "metadata": {
        "colab": {
          "base_uri": "https://localhost:8080/",
          "height": 596
        },
        "id": "akzQw5JKGysW",
        "outputId": "6fe93431-c5fb-45dc-ce53-bfdca163f7db"
      },
      "execution_count": null,
      "outputs": [
        {
          "output_type": "stream",
          "name": "stdout",
          "text": [
            "1    17640\n",
            "0     5608\n",
            "Name: target, dtype: int64\n"
          ]
        },
        {
          "output_type": "display_data",
          "data": {
            "text/html": [
              "<html>\n",
              "<head><meta charset=\"utf-8\" /></head>\n",
              "<body>\n",
              "    <div>            <script src=\"https://cdnjs.cloudflare.com/ajax/libs/mathjax/2.7.5/MathJax.js?config=TeX-AMS-MML_SVG\"></script><script type=\"text/javascript\">if (window.MathJax) {MathJax.Hub.Config({SVG: {font: \"STIX-Web\"}});}</script>                <script type=\"text/javascript\">window.PlotlyConfig = {MathJaxConfig: 'local'};</script>\n",
              "        <script src=\"https://cdn.plot.ly/plotly-2.8.3.min.js\"></script>                <div id=\"929a2f29-0832-442f-9aa0-db34f63594ab\" class=\"plotly-graph-div\" style=\"height:525px; width:100%;\"></div>            <script type=\"text/javascript\">                                    window.PLOTLYENV=window.PLOTLYENV || {};                                    if (document.getElementById(\"929a2f29-0832-442f-9aa0-db34f63594ab\")) {                    Plotly.newPlot(                        \"929a2f29-0832-442f-9aa0-db34f63594ab\",                        [{\"hoverinfo\":\"label+percent\",\"labels\":[\"Good Restaurants(1)\",\"Bad Restaurants(0)\"],\"pull\":[0,0,0,0.2,0],\"textfont\":{\"size\":25},\"textinfo\":\"percent\",\"values\":[17640,5608],\"type\":\"pie\"}],                        {\"template\":{\"data\":{\"barpolar\":[{\"marker\":{\"line\":{\"color\":\"#E5ECF6\",\"width\":0.5},\"pattern\":{\"fillmode\":\"overlay\",\"size\":10,\"solidity\":0.2}},\"type\":\"barpolar\"}],\"bar\":[{\"error_x\":{\"color\":\"#2a3f5f\"},\"error_y\":{\"color\":\"#2a3f5f\"},\"marker\":{\"line\":{\"color\":\"#E5ECF6\",\"width\":0.5},\"pattern\":{\"fillmode\":\"overlay\",\"size\":10,\"solidity\":0.2}},\"type\":\"bar\"}],\"carpet\":[{\"aaxis\":{\"endlinecolor\":\"#2a3f5f\",\"gridcolor\":\"white\",\"linecolor\":\"white\",\"minorgridcolor\":\"white\",\"startlinecolor\":\"#2a3f5f\"},\"baxis\":{\"endlinecolor\":\"#2a3f5f\",\"gridcolor\":\"white\",\"linecolor\":\"white\",\"minorgridcolor\":\"white\",\"startlinecolor\":\"#2a3f5f\"},\"type\":\"carpet\"}],\"choropleth\":[{\"colorbar\":{\"outlinewidth\":0,\"ticks\":\"\"},\"type\":\"choropleth\"}],\"contourcarpet\":[{\"colorbar\":{\"outlinewidth\":0,\"ticks\":\"\"},\"type\":\"contourcarpet\"}],\"contour\":[{\"colorbar\":{\"outlinewidth\":0,\"ticks\":\"\"},\"colorscale\":[[0.0,\"#0d0887\"],[0.1111111111111111,\"#46039f\"],[0.2222222222222222,\"#7201a8\"],[0.3333333333333333,\"#9c179e\"],[0.4444444444444444,\"#bd3786\"],[0.5555555555555556,\"#d8576b\"],[0.6666666666666666,\"#ed7953\"],[0.7777777777777778,\"#fb9f3a\"],[0.8888888888888888,\"#fdca26\"],[1.0,\"#f0f921\"]],\"type\":\"contour\"}],\"heatmapgl\":[{\"colorbar\":{\"outlinewidth\":0,\"ticks\":\"\"},\"colorscale\":[[0.0,\"#0d0887\"],[0.1111111111111111,\"#46039f\"],[0.2222222222222222,\"#7201a8\"],[0.3333333333333333,\"#9c179e\"],[0.4444444444444444,\"#bd3786\"],[0.5555555555555556,\"#d8576b\"],[0.6666666666666666,\"#ed7953\"],[0.7777777777777778,\"#fb9f3a\"],[0.8888888888888888,\"#fdca26\"],[1.0,\"#f0f921\"]],\"type\":\"heatmapgl\"}],\"heatmap\":[{\"colorbar\":{\"outlinewidth\":0,\"ticks\":\"\"},\"colorscale\":[[0.0,\"#0d0887\"],[0.1111111111111111,\"#46039f\"],[0.2222222222222222,\"#7201a8\"],[0.3333333333333333,\"#9c179e\"],[0.4444444444444444,\"#bd3786\"],[0.5555555555555556,\"#d8576b\"],[0.6666666666666666,\"#ed7953\"],[0.7777777777777778,\"#fb9f3a\"],[0.8888888888888888,\"#fdca26\"],[1.0,\"#f0f921\"]],\"type\":\"heatmap\"}],\"histogram2dcontour\":[{\"colorbar\":{\"outlinewidth\":0,\"ticks\":\"\"},\"colorscale\":[[0.0,\"#0d0887\"],[0.1111111111111111,\"#46039f\"],[0.2222222222222222,\"#7201a8\"],[0.3333333333333333,\"#9c179e\"],[0.4444444444444444,\"#bd3786\"],[0.5555555555555556,\"#d8576b\"],[0.6666666666666666,\"#ed7953\"],[0.7777777777777778,\"#fb9f3a\"],[0.8888888888888888,\"#fdca26\"],[1.0,\"#f0f921\"]],\"type\":\"histogram2dcontour\"}],\"histogram2d\":[{\"colorbar\":{\"outlinewidth\":0,\"ticks\":\"\"},\"colorscale\":[[0.0,\"#0d0887\"],[0.1111111111111111,\"#46039f\"],[0.2222222222222222,\"#7201a8\"],[0.3333333333333333,\"#9c179e\"],[0.4444444444444444,\"#bd3786\"],[0.5555555555555556,\"#d8576b\"],[0.6666666666666666,\"#ed7953\"],[0.7777777777777778,\"#fb9f3a\"],[0.8888888888888888,\"#fdca26\"],[1.0,\"#f0f921\"]],\"type\":\"histogram2d\"}],\"histogram\":[{\"marker\":{\"pattern\":{\"fillmode\":\"overlay\",\"size\":10,\"solidity\":0.2}},\"type\":\"histogram\"}],\"mesh3d\":[{\"colorbar\":{\"outlinewidth\":0,\"ticks\":\"\"},\"type\":\"mesh3d\"}],\"parcoords\":[{\"line\":{\"colorbar\":{\"outlinewidth\":0,\"ticks\":\"\"}},\"type\":\"parcoords\"}],\"pie\":[{\"automargin\":true,\"type\":\"pie\"}],\"scatter3d\":[{\"line\":{\"colorbar\":{\"outlinewidth\":0,\"ticks\":\"\"}},\"marker\":{\"colorbar\":{\"outlinewidth\":0,\"ticks\":\"\"}},\"type\":\"scatter3d\"}],\"scattercarpet\":[{\"marker\":{\"colorbar\":{\"outlinewidth\":0,\"ticks\":\"\"}},\"type\":\"scattercarpet\"}],\"scattergeo\":[{\"marker\":{\"colorbar\":{\"outlinewidth\":0,\"ticks\":\"\"}},\"type\":\"scattergeo\"}],\"scattergl\":[{\"marker\":{\"colorbar\":{\"outlinewidth\":0,\"ticks\":\"\"}},\"type\":\"scattergl\"}],\"scattermapbox\":[{\"marker\":{\"colorbar\":{\"outlinewidth\":0,\"ticks\":\"\"}},\"type\":\"scattermapbox\"}],\"scatterpolargl\":[{\"marker\":{\"colorbar\":{\"outlinewidth\":0,\"ticks\":\"\"}},\"type\":\"scatterpolargl\"}],\"scatterpolar\":[{\"marker\":{\"colorbar\":{\"outlinewidth\":0,\"ticks\":\"\"}},\"type\":\"scatterpolar\"}],\"scatter\":[{\"marker\":{\"colorbar\":{\"outlinewidth\":0,\"ticks\":\"\"}},\"type\":\"scatter\"}],\"scatterternary\":[{\"marker\":{\"colorbar\":{\"outlinewidth\":0,\"ticks\":\"\"}},\"type\":\"scatterternary\"}],\"surface\":[{\"colorbar\":{\"outlinewidth\":0,\"ticks\":\"\"},\"colorscale\":[[0.0,\"#0d0887\"],[0.1111111111111111,\"#46039f\"],[0.2222222222222222,\"#7201a8\"],[0.3333333333333333,\"#9c179e\"],[0.4444444444444444,\"#bd3786\"],[0.5555555555555556,\"#d8576b\"],[0.6666666666666666,\"#ed7953\"],[0.7777777777777778,\"#fb9f3a\"],[0.8888888888888888,\"#fdca26\"],[1.0,\"#f0f921\"]],\"type\":\"surface\"}],\"table\":[{\"cells\":{\"fill\":{\"color\":\"#EBF0F8\"},\"line\":{\"color\":\"white\"}},\"header\":{\"fill\":{\"color\":\"#C8D4E3\"},\"line\":{\"color\":\"white\"}},\"type\":\"table\"}]},\"layout\":{\"annotationdefaults\":{\"arrowcolor\":\"#2a3f5f\",\"arrowhead\":0,\"arrowwidth\":1},\"autotypenumbers\":\"strict\",\"coloraxis\":{\"colorbar\":{\"outlinewidth\":0,\"ticks\":\"\"}},\"colorscale\":{\"diverging\":[[0,\"#8e0152\"],[0.1,\"#c51b7d\"],[0.2,\"#de77ae\"],[0.3,\"#f1b6da\"],[0.4,\"#fde0ef\"],[0.5,\"#f7f7f7\"],[0.6,\"#e6f5d0\"],[0.7,\"#b8e186\"],[0.8,\"#7fbc41\"],[0.9,\"#4d9221\"],[1,\"#276419\"]],\"sequential\":[[0.0,\"#0d0887\"],[0.1111111111111111,\"#46039f\"],[0.2222222222222222,\"#7201a8\"],[0.3333333333333333,\"#9c179e\"],[0.4444444444444444,\"#bd3786\"],[0.5555555555555556,\"#d8576b\"],[0.6666666666666666,\"#ed7953\"],[0.7777777777777778,\"#fb9f3a\"],[0.8888888888888888,\"#fdca26\"],[1.0,\"#f0f921\"]],\"sequentialminus\":[[0.0,\"#0d0887\"],[0.1111111111111111,\"#46039f\"],[0.2222222222222222,\"#7201a8\"],[0.3333333333333333,\"#9c179e\"],[0.4444444444444444,\"#bd3786\"],[0.5555555555555556,\"#d8576b\"],[0.6666666666666666,\"#ed7953\"],[0.7777777777777778,\"#fb9f3a\"],[0.8888888888888888,\"#fdca26\"],[1.0,\"#f0f921\"]]},\"colorway\":[\"#636efa\",\"#EF553B\",\"#00cc96\",\"#ab63fa\",\"#FFA15A\",\"#19d3f3\",\"#FF6692\",\"#B6E880\",\"#FF97FF\",\"#FECB52\"],\"font\":{\"color\":\"#2a3f5f\"},\"geo\":{\"bgcolor\":\"white\",\"lakecolor\":\"white\",\"landcolor\":\"#E5ECF6\",\"showlakes\":true,\"showland\":true,\"subunitcolor\":\"white\"},\"hoverlabel\":{\"align\":\"left\"},\"hovermode\":\"closest\",\"mapbox\":{\"style\":\"light\"},\"paper_bgcolor\":\"white\",\"plot_bgcolor\":\"#E5ECF6\",\"polar\":{\"angularaxis\":{\"gridcolor\":\"white\",\"linecolor\":\"white\",\"ticks\":\"\"},\"bgcolor\":\"#E5ECF6\",\"radialaxis\":{\"gridcolor\":\"white\",\"linecolor\":\"white\",\"ticks\":\"\"}},\"scene\":{\"xaxis\":{\"backgroundcolor\":\"#E5ECF6\",\"gridcolor\":\"white\",\"gridwidth\":2,\"linecolor\":\"white\",\"showbackground\":true,\"ticks\":\"\",\"zerolinecolor\":\"white\"},\"yaxis\":{\"backgroundcolor\":\"#E5ECF6\",\"gridcolor\":\"white\",\"gridwidth\":2,\"linecolor\":\"white\",\"showbackground\":true,\"ticks\":\"\",\"zerolinecolor\":\"white\"},\"zaxis\":{\"backgroundcolor\":\"#E5ECF6\",\"gridcolor\":\"white\",\"gridwidth\":2,\"linecolor\":\"white\",\"showbackground\":true,\"ticks\":\"\",\"zerolinecolor\":\"white\"}},\"shapedefaults\":{\"line\":{\"color\":\"#2a3f5f\"}},\"ternary\":{\"aaxis\":{\"gridcolor\":\"white\",\"linecolor\":\"white\",\"ticks\":\"\"},\"baxis\":{\"gridcolor\":\"white\",\"linecolor\":\"white\",\"ticks\":\"\"},\"bgcolor\":\"#E5ECF6\",\"caxis\":{\"gridcolor\":\"white\",\"linecolor\":\"white\",\"ticks\":\"\"}},\"title\":{\"x\":0.05},\"xaxis\":{\"automargin\":true,\"gridcolor\":\"white\",\"linecolor\":\"white\",\"ticks\":\"\",\"title\":{\"standoff\":15},\"zerolinecolor\":\"white\",\"zerolinewidth\":2},\"yaxis\":{\"automargin\":true,\"gridcolor\":\"white\",\"linecolor\":\"white\",\"ticks\":\"\",\"title\":{\"standoff\":15},\"zerolinecolor\":\"white\",\"zerolinewidth\":2}}}},                        {\"responsive\": true}                    ).then(function(){\n",
              "                            \n",
              "var gd = document.getElementById('929a2f29-0832-442f-9aa0-db34f63594ab');\n",
              "var x = new MutationObserver(function (mutations, observer) {{\n",
              "        var display = window.getComputedStyle(gd).display;\n",
              "        if (!display || display === 'none') {{\n",
              "            console.log([gd, 'removed!']);\n",
              "            Plotly.purge(gd);\n",
              "            observer.disconnect();\n",
              "        }}\n",
              "}});\n",
              "\n",
              "// Listen for the removal of the full notebook cells\n",
              "var notebookContainer = gd.closest('#notebook-container');\n",
              "if (notebookContainer) {{\n",
              "    x.observe(notebookContainer, {childList: true});\n",
              "}}\n",
              "\n",
              "// Listen for the clearing of the current output cell\n",
              "var outputEl = gd.closest('.output');\n",
              "if (outputEl) {{\n",
              "    x.observe(outputEl, {childList: true});\n",
              "}}\n",
              "\n",
              "                        })                };                            </script>        </div>\n",
              "</body>\n",
              "</html>"
            ]
          },
          "metadata": {}
        }
      ]
    },
    {
      "cell_type": "code",
      "source": [
        "## PERFORM FEATURE IMPORTANCE/EXTRACTION ON DATA\n",
        "\n",
        "# Define the features to be used on training. (important features)\n",
        "# Here we will take a look at the raw data to select valuable features and apply some steps to create another ones.\n",
        "\n",
        "# the main idea is to get the length of the list of cuisine and rest_type feature so that we can create a new column.\n",
        "def count(x):\n",
        "    return len(x.split(','))\n",
        "\n"
      ],
      "metadata": {
        "id": "lXluIOi-G2TM"
      },
      "execution_count": null,
      "outputs": []
    },
    {
      "cell_type": "code",
      "source": [
        "# as it have some NAN values, that's why very firstly; have to convert into str  &  then apply count function\n",
        "train_val_restaurants['total_cuisines']=train_val_restaurants['cuisines'].astype(str).apply(count)\n",
        "train_val_restaurants['multiple_types']=train_val_restaurants['rest_type'].astype(str).apply(count)\n",
        "\n",
        "# from these features, will choose the important features which will play important role in the prediction\n",
        "train_val_restaurants.columns\n",
        "\n"
      ],
      "metadata": {
        "colab": {
          "base_uri": "https://localhost:8080/"
        },
        "id": "7noPAjksG92Z",
        "outputId": "f93d8d65-e434-4589-ca15-94d4e426db58"
      },
      "execution_count": null,
      "outputs": [
        {
          "output_type": "execute_result",
          "data": {
            "text/plain": [
              "Index(['address', 'name', 'online_order', 'book_table', 'rate', 'votes',\n",
              "       'location', 'rest_type', 'dish_liked', 'cuisines', 'cost',\n",
              "       'reviews_list', 'menu_item', 'type', 'city', 'rated', 'target',\n",
              "       'total_cuisines', 'multiple_types'],\n",
              "      dtype='object')"
            ]
          },
          "metadata": {},
          "execution_count": 165
        }
      ]
    },
    {
      "cell_type": "code",
      "source": [
        "# important features...\n",
        "imp_features=['online_order','book_table','location','rest_type',\n",
        "              'multiple_types','total_cuisines','type', \n",
        "              'city','cost','target']\n",
        "\n",
        "data = train_val_restaurants[imp_features]\n",
        "data.head()\n",
        "\n"
      ],
      "metadata": {
        "colab": {
          "base_uri": "https://localhost:8080/",
          "height": 250
        },
        "id": "Q_T1da1sHDhL",
        "outputId": "3fb25589-adcf-4334-8c7a-7d147396cd0a"
      },
      "execution_count": null,
      "outputs": [
        {
          "output_type": "execute_result",
          "data": {
            "text/plain": [
              "  online_order book_table      location            rest_type  multiple_types  \\\n",
              "0          Yes        Yes  Banashankari        Casual Dining               1   \n",
              "1          Yes         No  Banashankari        Casual Dining               1   \n",
              "2          Yes         No  Banashankari  Cafe, Casual Dining               2   \n",
              "3           No         No  Banashankari          Quick Bites               1   \n",
              "4           No         No  Basavanagudi        Casual Dining               1   \n",
              "\n",
              "   total_cuisines    type          city   cost  target  \n",
              "0               3  Buffet  Banashankari  800.0       1  \n",
              "1               3  Buffet  Banashankari  800.0       1  \n",
              "2               3  Buffet  Banashankari  800.0       1  \n",
              "3               2  Buffet  Banashankari  300.0       0  \n",
              "4               2  Buffet  Banashankari  600.0       1  "
            ],
            "text/html": [
              "\n",
              "  <div id=\"df-7167976c-a073-41e5-b95e-916f0c91ad31\">\n",
              "    <div class=\"colab-df-container\">\n",
              "      <div>\n",
              "<style scoped>\n",
              "    .dataframe tbody tr th:only-of-type {\n",
              "        vertical-align: middle;\n",
              "    }\n",
              "\n",
              "    .dataframe tbody tr th {\n",
              "        vertical-align: top;\n",
              "    }\n",
              "\n",
              "    .dataframe thead th {\n",
              "        text-align: right;\n",
              "    }\n",
              "</style>\n",
              "<table border=\"1\" class=\"dataframe\">\n",
              "  <thead>\n",
              "    <tr style=\"text-align: right;\">\n",
              "      <th></th>\n",
              "      <th>online_order</th>\n",
              "      <th>book_table</th>\n",
              "      <th>location</th>\n",
              "      <th>rest_type</th>\n",
              "      <th>multiple_types</th>\n",
              "      <th>total_cuisines</th>\n",
              "      <th>type</th>\n",
              "      <th>city</th>\n",
              "      <th>cost</th>\n",
              "      <th>target</th>\n",
              "    </tr>\n",
              "  </thead>\n",
              "  <tbody>\n",
              "    <tr>\n",
              "      <th>0</th>\n",
              "      <td>Yes</td>\n",
              "      <td>Yes</td>\n",
              "      <td>Banashankari</td>\n",
              "      <td>Casual Dining</td>\n",
              "      <td>1</td>\n",
              "      <td>3</td>\n",
              "      <td>Buffet</td>\n",
              "      <td>Banashankari</td>\n",
              "      <td>800.0</td>\n",
              "      <td>1</td>\n",
              "    </tr>\n",
              "    <tr>\n",
              "      <th>1</th>\n",
              "      <td>Yes</td>\n",
              "      <td>No</td>\n",
              "      <td>Banashankari</td>\n",
              "      <td>Casual Dining</td>\n",
              "      <td>1</td>\n",
              "      <td>3</td>\n",
              "      <td>Buffet</td>\n",
              "      <td>Banashankari</td>\n",
              "      <td>800.0</td>\n",
              "      <td>1</td>\n",
              "    </tr>\n",
              "    <tr>\n",
              "      <th>2</th>\n",
              "      <td>Yes</td>\n",
              "      <td>No</td>\n",
              "      <td>Banashankari</td>\n",
              "      <td>Cafe, Casual Dining</td>\n",
              "      <td>2</td>\n",
              "      <td>3</td>\n",
              "      <td>Buffet</td>\n",
              "      <td>Banashankari</td>\n",
              "      <td>800.0</td>\n",
              "      <td>1</td>\n",
              "    </tr>\n",
              "    <tr>\n",
              "      <th>3</th>\n",
              "      <td>No</td>\n",
              "      <td>No</td>\n",
              "      <td>Banashankari</td>\n",
              "      <td>Quick Bites</td>\n",
              "      <td>1</td>\n",
              "      <td>2</td>\n",
              "      <td>Buffet</td>\n",
              "      <td>Banashankari</td>\n",
              "      <td>300.0</td>\n",
              "      <td>0</td>\n",
              "    </tr>\n",
              "    <tr>\n",
              "      <th>4</th>\n",
              "      <td>No</td>\n",
              "      <td>No</td>\n",
              "      <td>Basavanagudi</td>\n",
              "      <td>Casual Dining</td>\n",
              "      <td>1</td>\n",
              "      <td>2</td>\n",
              "      <td>Buffet</td>\n",
              "      <td>Banashankari</td>\n",
              "      <td>600.0</td>\n",
              "      <td>1</td>\n",
              "    </tr>\n",
              "  </tbody>\n",
              "</table>\n",
              "</div>\n",
              "      <button class=\"colab-df-convert\" onclick=\"convertToInteractive('df-7167976c-a073-41e5-b95e-916f0c91ad31')\"\n",
              "              title=\"Convert this dataframe to an interactive table.\"\n",
              "              style=\"display:none;\">\n",
              "        \n",
              "  <svg xmlns=\"http://www.w3.org/2000/svg\" height=\"24px\"viewBox=\"0 0 24 24\"\n",
              "       width=\"24px\">\n",
              "    <path d=\"M0 0h24v24H0V0z\" fill=\"none\"/>\n",
              "    <path d=\"M18.56 5.44l.94 2.06.94-2.06 2.06-.94-2.06-.94-.94-2.06-.94 2.06-2.06.94zm-11 1L8.5 8.5l.94-2.06 2.06-.94-2.06-.94L8.5 2.5l-.94 2.06-2.06.94zm10 10l.94 2.06.94-2.06 2.06-.94-2.06-.94-.94-2.06-.94 2.06-2.06.94z\"/><path d=\"M17.41 7.96l-1.37-1.37c-.4-.4-.92-.59-1.43-.59-.52 0-1.04.2-1.43.59L10.3 9.45l-7.72 7.72c-.78.78-.78 2.05 0 2.83L4 21.41c.39.39.9.59 1.41.59.51 0 1.02-.2 1.41-.59l7.78-7.78 2.81-2.81c.8-.78.8-2.07 0-2.86zM5.41 20L4 18.59l7.72-7.72 1.47 1.35L5.41 20z\"/>\n",
              "  </svg>\n",
              "      </button>\n",
              "      \n",
              "  <style>\n",
              "    .colab-df-container {\n",
              "      display:flex;\n",
              "      flex-wrap:wrap;\n",
              "      gap: 12px;\n",
              "    }\n",
              "\n",
              "    .colab-df-convert {\n",
              "      background-color: #E8F0FE;\n",
              "      border: none;\n",
              "      border-radius: 50%;\n",
              "      cursor: pointer;\n",
              "      display: none;\n",
              "      fill: #1967D2;\n",
              "      height: 32px;\n",
              "      padding: 0 0 0 0;\n",
              "      width: 32px;\n",
              "    }\n",
              "\n",
              "    .colab-df-convert:hover {\n",
              "      background-color: #E2EBFA;\n",
              "      box-shadow: 0px 1px 2px rgba(60, 64, 67, 0.3), 0px 1px 3px 1px rgba(60, 64, 67, 0.15);\n",
              "      fill: #174EA6;\n",
              "    }\n",
              "\n",
              "    [theme=dark] .colab-df-convert {\n",
              "      background-color: #3B4455;\n",
              "      fill: #D2E3FC;\n",
              "    }\n",
              "\n",
              "    [theme=dark] .colab-df-convert:hover {\n",
              "      background-color: #434B5C;\n",
              "      box-shadow: 0px 1px 3px 1px rgba(0, 0, 0, 0.15);\n",
              "      filter: drop-shadow(0px 1px 2px rgba(0, 0, 0, 0.3));\n",
              "      fill: #FFFFFF;\n",
              "    }\n",
              "  </style>\n",
              "\n",
              "      <script>\n",
              "        const buttonEl =\n",
              "          document.querySelector('#df-7167976c-a073-41e5-b95e-916f0c91ad31 button.colab-df-convert');\n",
              "        buttonEl.style.display =\n",
              "          google.colab.kernel.accessAllowed ? 'block' : 'none';\n",
              "\n",
              "        async function convertToInteractive(key) {\n",
              "          const element = document.querySelector('#df-7167976c-a073-41e5-b95e-916f0c91ad31');\n",
              "          const dataTable =\n",
              "            await google.colab.kernel.invokeFunction('convertToInteractive',\n",
              "                                                     [key], {});\n",
              "          if (!dataTable) return;\n",
              "\n",
              "          const docLinkHtml = 'Like what you see? Visit the ' +\n",
              "            '<a target=\"_blank\" href=https://colab.research.google.com/notebooks/data_table.ipynb>data table notebook</a>'\n",
              "            + ' to learn more about interactive tables.';\n",
              "          element.innerHTML = '';\n",
              "          dataTable['output_type'] = 'display_data';\n",
              "          await google.colab.output.renderOutput(dataTable, element);\n",
              "          const docLink = document.createElement('div');\n",
              "          docLink.innerHTML = docLinkHtml;\n",
              "          element.appendChild(docLink);\n",
              "        }\n",
              "      </script>\n",
              "    </div>\n",
              "  </div>\n",
              "  "
            ]
          },
          "metadata": {},
          "execution_count": 167
        }
      ]
    },
    {
      "cell_type": "code",
      "source": [
        "#1 removing all the missing values\n",
        "# checking how many missing values are there\n",
        "data.isnull().sum()  "
      ],
      "metadata": {
        "colab": {
          "base_uri": "https://localhost:8080/"
        },
        "id": "TQP-NuHBHJ3z",
        "outputId": "33c1e6ef-8972-4014-b0f1-c3609e03e187"
      },
      "execution_count": null,
      "outputs": [
        {
          "output_type": "execute_result",
          "data": {
            "text/plain": [
              "online_order      0\n",
              "book_table        0\n",
              "location          0\n",
              "rest_type         0\n",
              "multiple_types    0\n",
              "total_cuisines    0\n",
              "type              0\n",
              "city              0\n",
              "cost              0\n",
              "target            0\n",
              "dtype: int64"
            ]
          },
          "metadata": {},
          "execution_count": 168
        }
      ]
    },
    {
      "cell_type": "code",
      "source": [
        "#2 separate catagorical and numerical values (-- separate objects from int and float)\n",
        "data.dtypes"
      ],
      "metadata": {
        "colab": {
          "base_uri": "https://localhost:8080/"
        },
        "id": "x69IDSBjHZR_",
        "outputId": "0f98c332-45d0-4514-a7ce-04ec513c27f6"
      },
      "execution_count": null,
      "outputs": [
        {
          "output_type": "execute_result",
          "data": {
            "text/plain": [
              "online_order       object\n",
              "book_table         object\n",
              "location           object\n",
              "rest_type          object\n",
              "multiple_types      int64\n",
              "total_cuisines      int64\n",
              "type               object\n",
              "city               object\n",
              "cost              float64\n",
              "target              int64\n",
              "dtype: object"
            ]
          },
          "metadata": {},
          "execution_count": 169
        }
      ]
    },
    {
      "cell_type": "code",
      "source": [
        "cat_features=[col for col in data.columns if data[col].dtype=='O']  # if dtype is object, store it in a cat_features list\n",
        "num_features=[col for col in data.columns if data[col].dtype!='O']  # if dtype is int/float, store it in a num_features list"
      ],
      "metadata": {
        "id": "rg4g9zgpHgyW"
      },
      "execution_count": null,
      "outputs": []
    },
    {
      "cell_type": "code",
      "source": [
        "# for each cat_feature we found the total no. of unique values \n",
        "for feature in cat_features:\n",
        "    print('{} has total {} unique features'.format(feature, data[feature].nunique()))"
      ],
      "metadata": {
        "colab": {
          "base_uri": "https://localhost:8080/"
        },
        "id": "KTFR3__xHlrg",
        "outputId": "60e785e5-578f-4313-e730-7082cdfb5ab4"
      },
      "execution_count": null,
      "outputs": [
        {
          "output_type": "stream",
          "name": "stdout",
          "text": [
            "online_order has total 2 unique features\n",
            "book_table has total 2 unique features\n",
            "location has total 88 unique features\n",
            "rest_type has total 73 unique features\n",
            "type has total 7 unique features\n",
            "city has total 30 unique features\n"
          ]
        }
      ]
    },
    {
      "cell_type": "code",
      "source": [
        "## PERFORM FEATURE ENCODING ON THE DATA\n",
        "#1 reducing the unique no. of features\n",
        "#2 feature encoding --converting catagorical values into numerical values\n",
        "\n",
        "#1 reducing the unique no. of features\n",
        "# checking the % contibution of each location --if contribution is greater than threshold, keeping them(imp) and rest as others.\n",
        "# location and rest_type has max features; so reducing the less important ones\n",
        "\n",
        "cols=['location','rest_type']\n",
        "for col in cols:\n",
        "    print('Total feature in {} are {}'.format(col,data[col].nunique()))\n",
        "\n"
      ],
      "metadata": {
        "colab": {
          "base_uri": "https://localhost:8080/"
        },
        "id": "gHWziydkHsLR",
        "outputId": "a5974437-c6f2-441b-8492-5b76930807f8"
      },
      "execution_count": null,
      "outputs": [
        {
          "output_type": "stream",
          "name": "stdout",
          "text": [
            "Total feature in location are 88\n",
            "Total feature in rest_type are 73\n"
          ]
        }
      ]
    },
    {
      "cell_type": "code",
      "source": [
        "# for location, setting threshold=0.4 for selecting important, and less important to others.\n",
        "values=data['location'].value_counts()/len(data)*100\n",
        "values\n",
        "\n",
        "threshold=0.4\n",
        "imp=values[values>threshold]\n",
        "imp"
      ],
      "metadata": {
        "colab": {
          "base_uri": "https://localhost:8080/"
        },
        "id": "mM3dma2THydi",
        "outputId": "80c682ce-6d1d-41f4-cdab-eef983a32eb4"
      },
      "execution_count": null,
      "outputs": [
        {
          "output_type": "execute_result",
          "data": {
            "text/plain": [
              "Koramangala 5th Block    7.639367\n",
              "BTM                      6.331727\n",
              "Indiranagar              5.828458\n",
              "HSR                      5.032691\n",
              "Jayanagar                4.559532\n",
              "JP Nagar                 4.271335\n",
              "Whitefield               3.578802\n",
              "Koramangala 7th Block    3.165864\n",
              "Koramangala 6th Block    3.122849\n",
              "Marathahalli             2.929284\n",
              "Koramangala 4th Block    2.804542\n",
              "MG Road                  2.563661\n",
              "Brigade Road             2.443221\n",
              "Church Street            2.202340\n",
              "Bannerghatta Road        2.142120\n",
              "Ulsoor                   2.034584\n",
              "Bellandur                2.025981\n",
              "Kalyan Nagar             2.004474\n",
              "Koramangala 1st Block    2.004474\n",
              "Sarjapur Road            1.948555\n",
              "Lavelle Road             1.909842\n",
              "Residency Road           1.896937\n",
              "Banashankari             1.664659\n",
              "Malleshwaram             1.600138\n",
              "Richmond Road            1.509807\n",
              "Cunningham Road          1.428080\n",
              "Electronic City          1.376462\n",
              "Brookefield              1.320544\n",
              "New BEL Road             1.316242\n",
              "St. Marks Road           1.307639\n",
              "Frazer Town              1.260323\n",
              "Basavanagudi             1.230213\n",
              "Kammanahalli             1.105471\n",
              "Domlur                   0.886098\n",
              "Old Airport Road         0.868892\n",
              "Banaswadi                0.843083\n",
              "Jeevan Bhima Nagar       0.748451\n",
              "Shanti Nagar             0.714040\n",
              "Koramangala 3rd Block    0.696834\n",
              "Rajajinagar              0.683930\n",
              "Commercial Street        0.606504\n",
              "Koramangala 8th Block    0.524776\n",
              "Vasanth Nagar            0.464556\n",
              "Infantry Road            0.404336\n",
              "Name: location, dtype: float64"
            ]
          },
          "metadata": {},
          "execution_count": 173
        }
      ]
    },
    {
      "cell_type": "code",
      "source": [
        "# if value<threshold, assign it to others else keep the important ones\n",
        "data['location']=np.where(data['location'].isin(imp.index),data['location'],'other')\n",
        "data['location']"
      ],
      "metadata": {
        "colab": {
          "base_uri": "https://localhost:8080/"
        },
        "id": "Xnhx6dmFH30w",
        "outputId": "6dd98eca-f51c-4a5c-aa0e-8ed8f3aa1a39"
      },
      "execution_count": null,
      "outputs": [
        {
          "output_type": "execute_result",
          "data": {
            "text/plain": [
              "0        Banashankari\n",
              "1        Banashankari\n",
              "2        Banashankari\n",
              "3        Banashankari\n",
              "4        Basavanagudi\n",
              "             ...     \n",
              "23243      Whitefield\n",
              "23244      Whitefield\n",
              "23245      Whitefield\n",
              "23246      Whitefield\n",
              "23247           other\n",
              "Name: location, Length: 23248, dtype: object"
            ]
          },
          "metadata": {},
          "execution_count": 174
        }
      ]
    },
    {
      "cell_type": "code",
      "source": [
        "# for rest_type, setting threshold=1.5 for selecting important, and less important to others.\n",
        "values2=data['rest_type'].value_counts()/len(data)*100\n",
        "values2\n",
        "\n",
        "threshold=1.5\n",
        "imp2=values2[values2>threshold]\n",
        "imp2"
      ],
      "metadata": {
        "colab": {
          "base_uri": "https://localhost:8080/"
        },
        "id": "Vx0liy9DH96z",
        "outputId": "405799b4-d7c8-4b2b-d6cd-5c294e6d8604"
      },
      "execution_count": null,
      "outputs": [
        {
          "output_type": "execute_result",
          "data": {
            "text/plain": [
              "Casual Dining         31.512388\n",
              "Quick Bites           22.582588\n",
              "Cafe                  10.215933\n",
              "Dessert Parlor         4.658465\n",
              "Casual Dining, Bar     4.236924\n",
              "Delivery               3.028217\n",
              "Bar                    1.539917\n",
              "Name: rest_type, dtype: float64"
            ]
          },
          "metadata": {},
          "execution_count": 175
        }
      ]
    },
    {
      "cell_type": "code",
      "source": [
        "# if value<threshold, assign it to others else keep the important ones\n",
        "data['rest_type']=np.where(data['rest_type'].isin(imp2.index),data['rest_type'],'other')\n",
        "data['rest_type']"
      ],
      "metadata": {
        "colab": {
          "base_uri": "https://localhost:8080/"
        },
        "id": "g6p9YRtjICOK",
        "outputId": "06a8627b-e475-4aa1-8fa1-f5184358b701"
      },
      "execution_count": null,
      "outputs": [
        {
          "output_type": "execute_result",
          "data": {
            "text/plain": [
              "0             Casual Dining\n",
              "1             Casual Dining\n",
              "2                     other\n",
              "3               Quick Bites\n",
              "4             Casual Dining\n",
              "                ...        \n",
              "23243                 other\n",
              "23244                 other\n",
              "23245    Casual Dining, Bar\n",
              "23246    Casual Dining, Bar\n",
              "23247                   Bar\n",
              "Name: rest_type, Length: 23248, dtype: object"
            ]
          },
          "metadata": {},
          "execution_count": 176
        }
      ]
    },
    {
      "cell_type": "code",
      "source": [
        "# after applying feature reduction, we will observe less number of features\n",
        "for feature in cat_features:\n",
        "    print('{} has total {} unique features'.format(feature, data[feature].nunique()))"
      ],
      "metadata": {
        "colab": {
          "base_uri": "https://localhost:8080/"
        },
        "id": "iHI5tvEMIHth",
        "outputId": "f223bbe0-b2fc-4f24-b1af-131bae877309"
      },
      "execution_count": null,
      "outputs": [
        {
          "output_type": "stream",
          "name": "stdout",
          "text": [
            "online_order has total 2 unique features\n",
            "book_table has total 2 unique features\n",
            "location has total 45 unique features\n",
            "rest_type has total 8 unique features\n",
            "type has total 7 unique features\n",
            "city has total 30 unique features\n"
          ]
        }
      ]
    },
    {
      "cell_type": "code",
      "source": [
        "#2 feature encoding --converting catagorical values into numerical values (ML works on numeric data)\n",
        "# one-hot encoding \n",
        "\n",
        "cat_features\n",
        "\n"
      ],
      "metadata": {
        "colab": {
          "base_uri": "https://localhost:8080/"
        },
        "id": "Konfqv6UIM43",
        "outputId": "cad8a631-e60f-4334-a88d-10ef254de46a"
      },
      "execution_count": null,
      "outputs": [
        {
          "output_type": "execute_result",
          "data": {
            "text/plain": [
              "['online_order', 'book_table', 'location', 'rest_type', 'type', 'city']"
            ]
          },
          "metadata": {},
          "execution_count": 178
        }
      ]
    },
    {
      "cell_type": "code",
      "source": [
        "data_cat = data[cat_features]\n",
        "for col in cat_features:\n",
        "    col_encoded = pd.get_dummies(data_cat[col],prefix=col,drop_first=True)\n",
        "    data_cat=pd.concat([data_cat,col_encoded],axis=1)\n",
        "    data_cat.drop(col, axis=1, inplace=True)\n",
        "\n",
        "data_cat.head()  # after applying feature encoding, all the data is converted into numerical values.\n",
        "\n"
      ],
      "metadata": {
        "colab": {
          "base_uri": "https://localhost:8080/",
          "height": 334
        },
        "id": "Qsjnrxn0IRBB",
        "outputId": "ea1604ec-6792-4179-8a96-deff6151c4e2"
      },
      "execution_count": null,
      "outputs": [
        {
          "output_type": "execute_result",
          "data": {
            "text/plain": [
              "   online_order_Yes  book_table_Yes  location_Banashankari  \\\n",
              "0                 1               1                      1   \n",
              "1                 1               0                      1   \n",
              "2                 1               0                      1   \n",
              "3                 0               0                      1   \n",
              "4                 0               0                      0   \n",
              "\n",
              "   location_Banaswadi  location_Bannerghatta Road  location_Basavanagudi  \\\n",
              "0                   0                           0                      0   \n",
              "1                   0                           0                      0   \n",
              "2                   0                           0                      0   \n",
              "3                   0                           0                      0   \n",
              "4                   0                           0                      1   \n",
              "\n",
              "   location_Bellandur  location_Brigade Road  location_Brookefield  \\\n",
              "0                   0                      0                     0   \n",
              "1                   0                      0                     0   \n",
              "2                   0                      0                     0   \n",
              "3                   0                      0                     0   \n",
              "4                   0                      0                     0   \n",
              "\n",
              "   location_Church Street  ...  city_Lavelle Road  city_MG Road  \\\n",
              "0                       0  ...                  0             0   \n",
              "1                       0  ...                  0             0   \n",
              "2                       0  ...                  0             0   \n",
              "3                       0  ...                  0             0   \n",
              "4                       0  ...                  0             0   \n",
              "\n",
              "   city_Malleshwaram  city_Marathahalli  city_New BEL Road  \\\n",
              "0                  0                  0                  0   \n",
              "1                  0                  0                  0   \n",
              "2                  0                  0                  0   \n",
              "3                  0                  0                  0   \n",
              "4                  0                  0                  0   \n",
              "\n",
              "   city_Old Airport Road  city_Rajajinagar  city_Residency Road  \\\n",
              "0                      0                 0                    0   \n",
              "1                      0                 0                    0   \n",
              "2                      0                 0                    0   \n",
              "3                      0                 0                    0   \n",
              "4                      0                 0                    0   \n",
              "\n",
              "   city_Sarjapur Road  city_Whitefield  \n",
              "0                   0                0  \n",
              "1                   0                0  \n",
              "2                   0                0  \n",
              "3                   0                0  \n",
              "4                   0                0  \n",
              "\n",
              "[5 rows x 88 columns]"
            ],
            "text/html": [
              "\n",
              "  <div id=\"df-097a4e2a-9888-458a-96c7-d0dc6c281dbc\">\n",
              "    <div class=\"colab-df-container\">\n",
              "      <div>\n",
              "<style scoped>\n",
              "    .dataframe tbody tr th:only-of-type {\n",
              "        vertical-align: middle;\n",
              "    }\n",
              "\n",
              "    .dataframe tbody tr th {\n",
              "        vertical-align: top;\n",
              "    }\n",
              "\n",
              "    .dataframe thead th {\n",
              "        text-align: right;\n",
              "    }\n",
              "</style>\n",
              "<table border=\"1\" class=\"dataframe\">\n",
              "  <thead>\n",
              "    <tr style=\"text-align: right;\">\n",
              "      <th></th>\n",
              "      <th>online_order_Yes</th>\n",
              "      <th>book_table_Yes</th>\n",
              "      <th>location_Banashankari</th>\n",
              "      <th>location_Banaswadi</th>\n",
              "      <th>location_Bannerghatta Road</th>\n",
              "      <th>location_Basavanagudi</th>\n",
              "      <th>location_Bellandur</th>\n",
              "      <th>location_Brigade Road</th>\n",
              "      <th>location_Brookefield</th>\n",
              "      <th>location_Church Street</th>\n",
              "      <th>...</th>\n",
              "      <th>city_Lavelle Road</th>\n",
              "      <th>city_MG Road</th>\n",
              "      <th>city_Malleshwaram</th>\n",
              "      <th>city_Marathahalli</th>\n",
              "      <th>city_New BEL Road</th>\n",
              "      <th>city_Old Airport Road</th>\n",
              "      <th>city_Rajajinagar</th>\n",
              "      <th>city_Residency Road</th>\n",
              "      <th>city_Sarjapur Road</th>\n",
              "      <th>city_Whitefield</th>\n",
              "    </tr>\n",
              "  </thead>\n",
              "  <tbody>\n",
              "    <tr>\n",
              "      <th>0</th>\n",
              "      <td>1</td>\n",
              "      <td>1</td>\n",
              "      <td>1</td>\n",
              "      <td>0</td>\n",
              "      <td>0</td>\n",
              "      <td>0</td>\n",
              "      <td>0</td>\n",
              "      <td>0</td>\n",
              "      <td>0</td>\n",
              "      <td>0</td>\n",
              "      <td>...</td>\n",
              "      <td>0</td>\n",
              "      <td>0</td>\n",
              "      <td>0</td>\n",
              "      <td>0</td>\n",
              "      <td>0</td>\n",
              "      <td>0</td>\n",
              "      <td>0</td>\n",
              "      <td>0</td>\n",
              "      <td>0</td>\n",
              "      <td>0</td>\n",
              "    </tr>\n",
              "    <tr>\n",
              "      <th>1</th>\n",
              "      <td>1</td>\n",
              "      <td>0</td>\n",
              "      <td>1</td>\n",
              "      <td>0</td>\n",
              "      <td>0</td>\n",
              "      <td>0</td>\n",
              "      <td>0</td>\n",
              "      <td>0</td>\n",
              "      <td>0</td>\n",
              "      <td>0</td>\n",
              "      <td>...</td>\n",
              "      <td>0</td>\n",
              "      <td>0</td>\n",
              "      <td>0</td>\n",
              "      <td>0</td>\n",
              "      <td>0</td>\n",
              "      <td>0</td>\n",
              "      <td>0</td>\n",
              "      <td>0</td>\n",
              "      <td>0</td>\n",
              "      <td>0</td>\n",
              "    </tr>\n",
              "    <tr>\n",
              "      <th>2</th>\n",
              "      <td>1</td>\n",
              "      <td>0</td>\n",
              "      <td>1</td>\n",
              "      <td>0</td>\n",
              "      <td>0</td>\n",
              "      <td>0</td>\n",
              "      <td>0</td>\n",
              "      <td>0</td>\n",
              "      <td>0</td>\n",
              "      <td>0</td>\n",
              "      <td>...</td>\n",
              "      <td>0</td>\n",
              "      <td>0</td>\n",
              "      <td>0</td>\n",
              "      <td>0</td>\n",
              "      <td>0</td>\n",
              "      <td>0</td>\n",
              "      <td>0</td>\n",
              "      <td>0</td>\n",
              "      <td>0</td>\n",
              "      <td>0</td>\n",
              "    </tr>\n",
              "    <tr>\n",
              "      <th>3</th>\n",
              "      <td>0</td>\n",
              "      <td>0</td>\n",
              "      <td>1</td>\n",
              "      <td>0</td>\n",
              "      <td>0</td>\n",
              "      <td>0</td>\n",
              "      <td>0</td>\n",
              "      <td>0</td>\n",
              "      <td>0</td>\n",
              "      <td>0</td>\n",
              "      <td>...</td>\n",
              "      <td>0</td>\n",
              "      <td>0</td>\n",
              "      <td>0</td>\n",
              "      <td>0</td>\n",
              "      <td>0</td>\n",
              "      <td>0</td>\n",
              "      <td>0</td>\n",
              "      <td>0</td>\n",
              "      <td>0</td>\n",
              "      <td>0</td>\n",
              "    </tr>\n",
              "    <tr>\n",
              "      <th>4</th>\n",
              "      <td>0</td>\n",
              "      <td>0</td>\n",
              "      <td>0</td>\n",
              "      <td>0</td>\n",
              "      <td>0</td>\n",
              "      <td>1</td>\n",
              "      <td>0</td>\n",
              "      <td>0</td>\n",
              "      <td>0</td>\n",
              "      <td>0</td>\n",
              "      <td>...</td>\n",
              "      <td>0</td>\n",
              "      <td>0</td>\n",
              "      <td>0</td>\n",
              "      <td>0</td>\n",
              "      <td>0</td>\n",
              "      <td>0</td>\n",
              "      <td>0</td>\n",
              "      <td>0</td>\n",
              "      <td>0</td>\n",
              "      <td>0</td>\n",
              "    </tr>\n",
              "  </tbody>\n",
              "</table>\n",
              "<p>5 rows × 88 columns</p>\n",
              "</div>\n",
              "      <button class=\"colab-df-convert\" onclick=\"convertToInteractive('df-097a4e2a-9888-458a-96c7-d0dc6c281dbc')\"\n",
              "              title=\"Convert this dataframe to an interactive table.\"\n",
              "              style=\"display:none;\">\n",
              "        \n",
              "  <svg xmlns=\"http://www.w3.org/2000/svg\" height=\"24px\"viewBox=\"0 0 24 24\"\n",
              "       width=\"24px\">\n",
              "    <path d=\"M0 0h24v24H0V0z\" fill=\"none\"/>\n",
              "    <path d=\"M18.56 5.44l.94 2.06.94-2.06 2.06-.94-2.06-.94-.94-2.06-.94 2.06-2.06.94zm-11 1L8.5 8.5l.94-2.06 2.06-.94-2.06-.94L8.5 2.5l-.94 2.06-2.06.94zm10 10l.94 2.06.94-2.06 2.06-.94-2.06-.94-.94-2.06-.94 2.06-2.06.94z\"/><path d=\"M17.41 7.96l-1.37-1.37c-.4-.4-.92-.59-1.43-.59-.52 0-1.04.2-1.43.59L10.3 9.45l-7.72 7.72c-.78.78-.78 2.05 0 2.83L4 21.41c.39.39.9.59 1.41.59.51 0 1.02-.2 1.41-.59l7.78-7.78 2.81-2.81c.8-.78.8-2.07 0-2.86zM5.41 20L4 18.59l7.72-7.72 1.47 1.35L5.41 20z\"/>\n",
              "  </svg>\n",
              "      </button>\n",
              "      \n",
              "  <style>\n",
              "    .colab-df-container {\n",
              "      display:flex;\n",
              "      flex-wrap:wrap;\n",
              "      gap: 12px;\n",
              "    }\n",
              "\n",
              "    .colab-df-convert {\n",
              "      background-color: #E8F0FE;\n",
              "      border: none;\n",
              "      border-radius: 50%;\n",
              "      cursor: pointer;\n",
              "      display: none;\n",
              "      fill: #1967D2;\n",
              "      height: 32px;\n",
              "      padding: 0 0 0 0;\n",
              "      width: 32px;\n",
              "    }\n",
              "\n",
              "    .colab-df-convert:hover {\n",
              "      background-color: #E2EBFA;\n",
              "      box-shadow: 0px 1px 2px rgba(60, 64, 67, 0.3), 0px 1px 3px 1px rgba(60, 64, 67, 0.15);\n",
              "      fill: #174EA6;\n",
              "    }\n",
              "\n",
              "    [theme=dark] .colab-df-convert {\n",
              "      background-color: #3B4455;\n",
              "      fill: #D2E3FC;\n",
              "    }\n",
              "\n",
              "    [theme=dark] .colab-df-convert:hover {\n",
              "      background-color: #434B5C;\n",
              "      box-shadow: 0px 1px 3px 1px rgba(0, 0, 0, 0.15);\n",
              "      filter: drop-shadow(0px 1px 2px rgba(0, 0, 0, 0.3));\n",
              "      fill: #FFFFFF;\n",
              "    }\n",
              "  </style>\n",
              "\n",
              "      <script>\n",
              "        const buttonEl =\n",
              "          document.querySelector('#df-097a4e2a-9888-458a-96c7-d0dc6c281dbc button.colab-df-convert');\n",
              "        buttonEl.style.display =\n",
              "          google.colab.kernel.accessAllowed ? 'block' : 'none';\n",
              "\n",
              "        async function convertToInteractive(key) {\n",
              "          const element = document.querySelector('#df-097a4e2a-9888-458a-96c7-d0dc6c281dbc');\n",
              "          const dataTable =\n",
              "            await google.colab.kernel.invokeFunction('convertToInteractive',\n",
              "                                                     [key], {});\n",
              "          if (!dataTable) return;\n",
              "\n",
              "          const docLinkHtml = 'Like what you see? Visit the ' +\n",
              "            '<a target=\"_blank\" href=https://colab.research.google.com/notebooks/data_table.ipynb>data table notebook</a>'\n",
              "            + ' to learn more about interactive tables.';\n",
              "          element.innerHTML = '';\n",
              "          dataTable['output_type'] = 'display_data';\n",
              "          await google.colab.output.renderOutput(dataTable, element);\n",
              "          const docLink = document.createElement('div');\n",
              "          docLink.innerHTML = docLinkHtml;\n",
              "          element.appendChild(docLink);\n",
              "        }\n",
              "      </script>\n",
              "    </div>\n",
              "  </div>\n",
              "  "
            ]
          },
          "metadata": {},
          "execution_count": 179
        }
      ]
    },
    {
      "cell_type": "code",
      "source": [
        "### PREPARE ENTIRE DATA FOR MODELLING\n",
        "#1 concatenate both the datas numerical-catagorical data and numerical data\n",
        "#2 Apply Random Forest on the data\n",
        "\n",
        "data_final=pd.concat([data.loc[:,['multiple_types','total_cuisines','cost','target']],data_cat],axis=1)\n",
        "\n",
        "data_final.head()\n",
        "\n"
      ],
      "metadata": {
        "colab": {
          "base_uri": "https://localhost:8080/",
          "height": 334
        },
        "id": "gE-WYQL5IWPd",
        "outputId": "adee0d31-190a-4179-882b-4051b7ed880b"
      },
      "execution_count": null,
      "outputs": [
        {
          "output_type": "execute_result",
          "data": {
            "text/plain": [
              "   multiple_types  total_cuisines   cost  target  online_order_Yes  \\\n",
              "0               1               3  800.0       1                 1   \n",
              "1               1               3  800.0       1                 1   \n",
              "2               2               3  800.0       1                 1   \n",
              "3               1               2  300.0       0                 0   \n",
              "4               1               2  600.0       1                 0   \n",
              "\n",
              "   book_table_Yes  location_Banashankari  location_Banaswadi  \\\n",
              "0               1                      1                   0   \n",
              "1               0                      1                   0   \n",
              "2               0                      1                   0   \n",
              "3               0                      1                   0   \n",
              "4               0                      0                   0   \n",
              "\n",
              "   location_Bannerghatta Road  location_Basavanagudi  ...  city_Lavelle Road  \\\n",
              "0                           0                      0  ...                  0   \n",
              "1                           0                      0  ...                  0   \n",
              "2                           0                      0  ...                  0   \n",
              "3                           0                      0  ...                  0   \n",
              "4                           0                      1  ...                  0   \n",
              "\n",
              "   city_MG Road  city_Malleshwaram  city_Marathahalli  city_New BEL Road  \\\n",
              "0             0                  0                  0                  0   \n",
              "1             0                  0                  0                  0   \n",
              "2             0                  0                  0                  0   \n",
              "3             0                  0                  0                  0   \n",
              "4             0                  0                  0                  0   \n",
              "\n",
              "   city_Old Airport Road  city_Rajajinagar  city_Residency Road  \\\n",
              "0                      0                 0                    0   \n",
              "1                      0                 0                    0   \n",
              "2                      0                 0                    0   \n",
              "3                      0                 0                    0   \n",
              "4                      0                 0                    0   \n",
              "\n",
              "   city_Sarjapur Road  city_Whitefield  \n",
              "0                   0                0  \n",
              "1                   0                0  \n",
              "2                   0                0  \n",
              "3                   0                0  \n",
              "4                   0                0  \n",
              "\n",
              "[5 rows x 92 columns]"
            ],
            "text/html": [
              "\n",
              "  <div id=\"df-a6c884e6-c758-443a-aa43-c1f1e666fc82\">\n",
              "    <div class=\"colab-df-container\">\n",
              "      <div>\n",
              "<style scoped>\n",
              "    .dataframe tbody tr th:only-of-type {\n",
              "        vertical-align: middle;\n",
              "    }\n",
              "\n",
              "    .dataframe tbody tr th {\n",
              "        vertical-align: top;\n",
              "    }\n",
              "\n",
              "    .dataframe thead th {\n",
              "        text-align: right;\n",
              "    }\n",
              "</style>\n",
              "<table border=\"1\" class=\"dataframe\">\n",
              "  <thead>\n",
              "    <tr style=\"text-align: right;\">\n",
              "      <th></th>\n",
              "      <th>multiple_types</th>\n",
              "      <th>total_cuisines</th>\n",
              "      <th>cost</th>\n",
              "      <th>target</th>\n",
              "      <th>online_order_Yes</th>\n",
              "      <th>book_table_Yes</th>\n",
              "      <th>location_Banashankari</th>\n",
              "      <th>location_Banaswadi</th>\n",
              "      <th>location_Bannerghatta Road</th>\n",
              "      <th>location_Basavanagudi</th>\n",
              "      <th>...</th>\n",
              "      <th>city_Lavelle Road</th>\n",
              "      <th>city_MG Road</th>\n",
              "      <th>city_Malleshwaram</th>\n",
              "      <th>city_Marathahalli</th>\n",
              "      <th>city_New BEL Road</th>\n",
              "      <th>city_Old Airport Road</th>\n",
              "      <th>city_Rajajinagar</th>\n",
              "      <th>city_Residency Road</th>\n",
              "      <th>city_Sarjapur Road</th>\n",
              "      <th>city_Whitefield</th>\n",
              "    </tr>\n",
              "  </thead>\n",
              "  <tbody>\n",
              "    <tr>\n",
              "      <th>0</th>\n",
              "      <td>1</td>\n",
              "      <td>3</td>\n",
              "      <td>800.0</td>\n",
              "      <td>1</td>\n",
              "      <td>1</td>\n",
              "      <td>1</td>\n",
              "      <td>1</td>\n",
              "      <td>0</td>\n",
              "      <td>0</td>\n",
              "      <td>0</td>\n",
              "      <td>...</td>\n",
              "      <td>0</td>\n",
              "      <td>0</td>\n",
              "      <td>0</td>\n",
              "      <td>0</td>\n",
              "      <td>0</td>\n",
              "      <td>0</td>\n",
              "      <td>0</td>\n",
              "      <td>0</td>\n",
              "      <td>0</td>\n",
              "      <td>0</td>\n",
              "    </tr>\n",
              "    <tr>\n",
              "      <th>1</th>\n",
              "      <td>1</td>\n",
              "      <td>3</td>\n",
              "      <td>800.0</td>\n",
              "      <td>1</td>\n",
              "      <td>1</td>\n",
              "      <td>0</td>\n",
              "      <td>1</td>\n",
              "      <td>0</td>\n",
              "      <td>0</td>\n",
              "      <td>0</td>\n",
              "      <td>...</td>\n",
              "      <td>0</td>\n",
              "      <td>0</td>\n",
              "      <td>0</td>\n",
              "      <td>0</td>\n",
              "      <td>0</td>\n",
              "      <td>0</td>\n",
              "      <td>0</td>\n",
              "      <td>0</td>\n",
              "      <td>0</td>\n",
              "      <td>0</td>\n",
              "    </tr>\n",
              "    <tr>\n",
              "      <th>2</th>\n",
              "      <td>2</td>\n",
              "      <td>3</td>\n",
              "      <td>800.0</td>\n",
              "      <td>1</td>\n",
              "      <td>1</td>\n",
              "      <td>0</td>\n",
              "      <td>1</td>\n",
              "      <td>0</td>\n",
              "      <td>0</td>\n",
              "      <td>0</td>\n",
              "      <td>...</td>\n",
              "      <td>0</td>\n",
              "      <td>0</td>\n",
              "      <td>0</td>\n",
              "      <td>0</td>\n",
              "      <td>0</td>\n",
              "      <td>0</td>\n",
              "      <td>0</td>\n",
              "      <td>0</td>\n",
              "      <td>0</td>\n",
              "      <td>0</td>\n",
              "    </tr>\n",
              "    <tr>\n",
              "      <th>3</th>\n",
              "      <td>1</td>\n",
              "      <td>2</td>\n",
              "      <td>300.0</td>\n",
              "      <td>0</td>\n",
              "      <td>0</td>\n",
              "      <td>0</td>\n",
              "      <td>1</td>\n",
              "      <td>0</td>\n",
              "      <td>0</td>\n",
              "      <td>0</td>\n",
              "      <td>...</td>\n",
              "      <td>0</td>\n",
              "      <td>0</td>\n",
              "      <td>0</td>\n",
              "      <td>0</td>\n",
              "      <td>0</td>\n",
              "      <td>0</td>\n",
              "      <td>0</td>\n",
              "      <td>0</td>\n",
              "      <td>0</td>\n",
              "      <td>0</td>\n",
              "    </tr>\n",
              "    <tr>\n",
              "      <th>4</th>\n",
              "      <td>1</td>\n",
              "      <td>2</td>\n",
              "      <td>600.0</td>\n",
              "      <td>1</td>\n",
              "      <td>0</td>\n",
              "      <td>0</td>\n",
              "      <td>0</td>\n",
              "      <td>0</td>\n",
              "      <td>0</td>\n",
              "      <td>1</td>\n",
              "      <td>...</td>\n",
              "      <td>0</td>\n",
              "      <td>0</td>\n",
              "      <td>0</td>\n",
              "      <td>0</td>\n",
              "      <td>0</td>\n",
              "      <td>0</td>\n",
              "      <td>0</td>\n",
              "      <td>0</td>\n",
              "      <td>0</td>\n",
              "      <td>0</td>\n",
              "    </tr>\n",
              "  </tbody>\n",
              "</table>\n",
              "<p>5 rows × 92 columns</p>\n",
              "</div>\n",
              "      <button class=\"colab-df-convert\" onclick=\"convertToInteractive('df-a6c884e6-c758-443a-aa43-c1f1e666fc82')\"\n",
              "              title=\"Convert this dataframe to an interactive table.\"\n",
              "              style=\"display:none;\">\n",
              "        \n",
              "  <svg xmlns=\"http://www.w3.org/2000/svg\" height=\"24px\"viewBox=\"0 0 24 24\"\n",
              "       width=\"24px\">\n",
              "    <path d=\"M0 0h24v24H0V0z\" fill=\"none\"/>\n",
              "    <path d=\"M18.56 5.44l.94 2.06.94-2.06 2.06-.94-2.06-.94-.94-2.06-.94 2.06-2.06.94zm-11 1L8.5 8.5l.94-2.06 2.06-.94-2.06-.94L8.5 2.5l-.94 2.06-2.06.94zm10 10l.94 2.06.94-2.06 2.06-.94-2.06-.94-.94-2.06-.94 2.06-2.06.94z\"/><path d=\"M17.41 7.96l-1.37-1.37c-.4-.4-.92-.59-1.43-.59-.52 0-1.04.2-1.43.59L10.3 9.45l-7.72 7.72c-.78.78-.78 2.05 0 2.83L4 21.41c.39.39.9.59 1.41.59.51 0 1.02-.2 1.41-.59l7.78-7.78 2.81-2.81c.8-.78.8-2.07 0-2.86zM5.41 20L4 18.59l7.72-7.72 1.47 1.35L5.41 20z\"/>\n",
              "  </svg>\n",
              "      </button>\n",
              "      \n",
              "  <style>\n",
              "    .colab-df-container {\n",
              "      display:flex;\n",
              "      flex-wrap:wrap;\n",
              "      gap: 12px;\n",
              "    }\n",
              "\n",
              "    .colab-df-convert {\n",
              "      background-color: #E8F0FE;\n",
              "      border: none;\n",
              "      border-radius: 50%;\n",
              "      cursor: pointer;\n",
              "      display: none;\n",
              "      fill: #1967D2;\n",
              "      height: 32px;\n",
              "      padding: 0 0 0 0;\n",
              "      width: 32px;\n",
              "    }\n",
              "\n",
              "    .colab-df-convert:hover {\n",
              "      background-color: #E2EBFA;\n",
              "      box-shadow: 0px 1px 2px rgba(60, 64, 67, 0.3), 0px 1px 3px 1px rgba(60, 64, 67, 0.15);\n",
              "      fill: #174EA6;\n",
              "    }\n",
              "\n",
              "    [theme=dark] .colab-df-convert {\n",
              "      background-color: #3B4455;\n",
              "      fill: #D2E3FC;\n",
              "    }\n",
              "\n",
              "    [theme=dark] .colab-df-convert:hover {\n",
              "      background-color: #434B5C;\n",
              "      box-shadow: 0px 1px 3px 1px rgba(0, 0, 0, 0.15);\n",
              "      filter: drop-shadow(0px 1px 2px rgba(0, 0, 0, 0.3));\n",
              "      fill: #FFFFFF;\n",
              "    }\n",
              "  </style>\n",
              "\n",
              "      <script>\n",
              "        const buttonEl =\n",
              "          document.querySelector('#df-a6c884e6-c758-443a-aa43-c1f1e666fc82 button.colab-df-convert');\n",
              "        buttonEl.style.display =\n",
              "          google.colab.kernel.accessAllowed ? 'block' : 'none';\n",
              "\n",
              "        async function convertToInteractive(key) {\n",
              "          const element = document.querySelector('#df-a6c884e6-c758-443a-aa43-c1f1e666fc82');\n",
              "          const dataTable =\n",
              "            await google.colab.kernel.invokeFunction('convertToInteractive',\n",
              "                                                     [key], {});\n",
              "          if (!dataTable) return;\n",
              "\n",
              "          const docLinkHtml = 'Like what you see? Visit the ' +\n",
              "            '<a target=\"_blank\" href=https://colab.research.google.com/notebooks/data_table.ipynb>data table notebook</a>'\n",
              "            + ' to learn more about interactive tables.';\n",
              "          element.innerHTML = '';\n",
              "          dataTable['output_type'] = 'display_data';\n",
              "          await google.colab.output.renderOutput(dataTable, element);\n",
              "          const docLink = document.createElement('div');\n",
              "          docLink.innerHTML = docLinkHtml;\n",
              "          element.appendChild(docLink);\n",
              "        }\n",
              "      </script>\n",
              "    </div>\n",
              "  </div>\n",
              "  "
            ]
          },
          "metadata": {},
          "execution_count": 181
        }
      ]
    },
    {
      "cell_type": "code",
      "source": [
        "#STEP 1 INITIALIZE X AND Y \n",
        "X = data_final.drop('target', axis=1)  # independent data\n",
        "y = data_final['target'].values  # dependent data (prediction)\n",
        "\n",
        "data_final.shape\n",
        "\n"
      ],
      "metadata": {
        "colab": {
          "base_uri": "https://localhost:8080/"
        },
        "id": "q4dtOI28IcFy",
        "outputId": "327d26f2-941c-4fbc-ae41-6f60f9ba617b"
      },
      "execution_count": null,
      "outputs": [
        {
          "output_type": "execute_result",
          "data": {
            "text/plain": [
              "(23248, 92)"
            ]
          },
          "metadata": {},
          "execution_count": 182
        }
      ]
    },
    {
      "cell_type": "code",
      "source": [
        "#STEP 2 --split into train and test data\n",
        "# 20% data is used for testing and 80% for training\n",
        "from sklearn.model_selection import train_test_split\n",
        "X_train, X_test, y_train, y_test = train_test_split(X, y, test_size=.20, random_state=42)\n",
        "\n",
        "X_train.shape  # 80% data for training\n",
        "\n"
      ],
      "metadata": {
        "colab": {
          "base_uri": "https://localhost:8080/"
        },
        "id": "POPSF5T1IqTW",
        "outputId": "75db67a9-7968-4929-d86b-ebb4b74f0581"
      },
      "execution_count": null,
      "outputs": [
        {
          "output_type": "execute_result",
          "data": {
            "text/plain": [
              "(18598, 91)"
            ]
          },
          "metadata": {},
          "execution_count": 183
        }
      ]
    },
    {
      "cell_type": "code",
      "source": [
        "#2 Apply RANDOM FOREST (ensemble ML algo) on data\n",
        "# Import the random forest model.\n",
        "from sklearn.ensemble import RandomForestClassifier\n",
        "\n",
        "# Initialize the model with some parameters.\n",
        "model = RandomForestClassifier(n_estimators=100, min_samples_leaf=10, random_state=1)\n",
        "\n",
        "# Fit the training data into the model.\n",
        "model.fit(X_train, y_train)\n",
        "\n",
        "# Make predictions.\n",
        "predictions = model.predict(X_test)"
      ],
      "metadata": {
        "id": "nUYQh43hI3bS"
      },
      "execution_count": null,
      "outputs": []
    },
    {
      "cell_type": "code",
      "source": [
        "# Confusion matrix.\n",
        "from sklearn.metrics import confusion_matrix,accuracy_score\n",
        "confusion_matrix(predictions, y_test)\n",
        "\n"
      ],
      "metadata": {
        "colab": {
          "base_uri": "https://localhost:8080/"
        },
        "id": "r1aAsZD-I9Nq",
        "outputId": "9d05a9fc-8b6f-40be-9a3e-4b1f04da5d98"
      },
      "execution_count": null,
      "outputs": [
        {
          "output_type": "execute_result",
          "data": {
            "text/plain": [
              "array([[ 279,  115],\n",
              "       [ 851, 3405]])"
            ]
          },
          "metadata": {},
          "execution_count": 185
        }
      ]
    },
    {
      "cell_type": "code",
      "source": [
        "#accuracy_score.\n",
        "accuracy_score(predictions,y_test)"
      ],
      "metadata": {
        "colab": {
          "base_uri": "https://localhost:8080/"
        },
        "id": "q4F2nAzCJB3F",
        "outputId": "a7aaf584-e717-440c-9f89-fd51780caeb0"
      },
      "execution_count": null,
      "outputs": [
        {
          "output_type": "execute_result",
          "data": {
            "text/plain": [
              "0.792258064516129"
            ]
          },
          "metadata": {},
          "execution_count": 186
        }
      ]
    },
    {
      "cell_type": "code",
      "source": [
        "#fit naive bayes\n",
        "from sklearn.naive_bayes import GaussianNB\n",
        "from sklearn.linear_model import LogisticRegression\n",
        "from sklearn.neighbors import KNeighborsClassifier\n",
        "from xgboost import XGBClassifier\n",
        "from sklearn.tree import DecisionTreeClassifier"
      ],
      "metadata": {
        "id": "1IMwZPyhJEq3"
      },
      "execution_count": null,
      "outputs": []
    },
    {
      "cell_type": "code",
      "source": [
        "### classifier models\n",
        "models = []\n",
        "models.append(('LogisticRegression', LogisticRegression()))\n",
        "models.append(('Naive Bayes',GaussianNB()))\n",
        "models.append(('RandomForest', RandomForestClassifier()))\n",
        "models.append(('Decision Tree', DecisionTreeClassifier()))\n",
        "models.append(('KNN', KNeighborsClassifier(n_neighbors = 5)))\n",
        "\n"
      ],
      "metadata": {
        "id": "B9MwajHSJJeO"
      },
      "execution_count": null,
      "outputs": []
    },
    {
      "cell_type": "code",
      "source": [
        "for name,model in models:\n",
        "    print(name)\n",
        "    print(models)"
      ],
      "metadata": {
        "colab": {
          "base_uri": "https://localhost:8080/"
        },
        "id": "_Vwc1v1gJM8f",
        "outputId": "e846b79e-f29e-4794-ab21-3affcd5264f1"
      },
      "execution_count": null,
      "outputs": [
        {
          "output_type": "stream",
          "name": "stdout",
          "text": [
            "LogisticRegression\n",
            "[('LogisticRegression', LogisticRegression()), ('Naive Bayes', GaussianNB()), ('RandomForest', RandomForestClassifier()), ('Decision Tree', DecisionTreeClassifier()), ('KNN', KNeighborsClassifier())]\n",
            "Naive Bayes\n",
            "[('LogisticRegression', LogisticRegression()), ('Naive Bayes', GaussianNB()), ('RandomForest', RandomForestClassifier()), ('Decision Tree', DecisionTreeClassifier()), ('KNN', KNeighborsClassifier())]\n",
            "RandomForest\n",
            "[('LogisticRegression', LogisticRegression()), ('Naive Bayes', GaussianNB()), ('RandomForest', RandomForestClassifier()), ('Decision Tree', DecisionTreeClassifier()), ('KNN', KNeighborsClassifier())]\n",
            "Decision Tree\n",
            "[('LogisticRegression', LogisticRegression()), ('Naive Bayes', GaussianNB()), ('RandomForest', RandomForestClassifier()), ('Decision Tree', DecisionTreeClassifier()), ('KNN', KNeighborsClassifier())]\n",
            "KNN\n",
            "[('LogisticRegression', LogisticRegression()), ('Naive Bayes', GaussianNB()), ('RandomForest', RandomForestClassifier()), ('Decision Tree', DecisionTreeClassifier()), ('KNN', KNeighborsClassifier())]\n"
          ]
        }
      ]
    },
    {
      "cell_type": "code",
      "source": [
        "# Make predictions on validation dataset\n",
        "\n",
        "for name, model in models:\n",
        "    print(name)\n",
        "    model.fit(X_train, y_train)\n",
        "    \n",
        "    # Make predictions.\n",
        "    predictions = model.predict(X_test)\n",
        "\n",
        "    # Compute the error.\n",
        "    from sklearn.metrics import confusion_matrix\n",
        "    print(confusion_matrix(predictions, y_test))\n",
        "\n",
        "    from sklearn.metrics import accuracy_score\n",
        "    print(accuracy_score(predictions,y_test))\n",
        "    print('\\n')"
      ],
      "metadata": {
        "colab": {
          "base_uri": "https://localhost:8080/"
        },
        "id": "enxMqeIPJQeM",
        "outputId": "049817ce-5240-473b-b6a4-6871b1aad745"
      },
      "execution_count": null,
      "outputs": [
        {
          "output_type": "stream",
          "name": "stdout",
          "text": [
            "LogisticRegression\n",
            "[[ 231  174]\n",
            " [ 899 3346]]\n",
            "0.769247311827957\n",
            "\n",
            "\n",
            "Naive Bayes\n",
            "[[ 783 1312]\n",
            " [ 347 2208]]\n",
            "0.6432258064516129\n",
            "\n",
            "\n",
            "RandomForest\n",
            "[[ 667  283]\n",
            " [ 463 3237]]\n",
            "0.8395698924731183\n",
            "\n",
            "\n",
            "Decision Tree\n",
            "[[ 878  305]\n",
            " [ 252 3215]]\n",
            "0.8802150537634409\n",
            "\n",
            "\n",
            "KNN\n",
            "[[ 728  241]\n",
            " [ 402 3279]]\n",
            "0.8617204301075269\n",
            "\n",
            "\n"
          ]
        }
      ]
    },
    {
      "cell_type": "code",
      "source": [],
      "metadata": {
        "id": "2C3huInxJUol"
      },
      "execution_count": null,
      "outputs": []
    }
  ]
}